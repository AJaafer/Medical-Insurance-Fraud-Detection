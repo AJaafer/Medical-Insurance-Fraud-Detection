{
 "cells": [
  {
   "cell_type": "markdown",
   "metadata": {},
   "source": [
    "[Article](https://www.analyticsvidhya.com/blog/2016/03/complete-guide-parameter-tuning-xgboost-with-codes-python/)\n",
    "# Parameters in XGBoost\n",
    "**参数分为3类**：\n",
    "1. **General Parameters**: Guide the overall functioning  \n",
    "2. **Booster Parameters**: Guide the individual booster (tree/regerssion) at each step\n",
    "3. **Learning Task Parameters**: Guide the optimization performed\n",
    "\n",
    "**General Parameters**\n",
    "These define the overall functionality of XGBoost.\n",
    "1. **booster [default=gbtree]**\n",
    "    - Select the type model to run at each iteration. Two options:\n",
    "        * gbtree: tree-based models\n",
    "        * gblinear: linear models  \n",
    "2. **silent [default=0]**  \n",
    "    - Silent mode is activated is set to 1, i.e. no runing messages will be printed  \n",
    "    - **It is generally good to keep it 0, as the messages might help in understanding the model.** \n",
    "3. **nthread [default to maximum number of threads available if not set]**\n",
    "\n",
    "**Booster Parameters** (tree booster)\n",
    "1. **eta [default=0.3]**\n",
    "    - 类似于GBM中的学习率\n",
    "    - 通过减少每一迭代步的权重（学习率）使得模型更加鲁棒\n",
    "    - 经验最佳取值范围[0.01,0.2]\n",
    "2. **min_child_weight [default=1]**\n",
    "    - 限定叶子节点中所划分到的各样本权值和的最小值\n",
    "    - 类似于GBM中参数min_child_leaf. 但XGBoost中指的是叶子节点中样本的权重和，GBM中指的是叶子节点中最小样本数量\n",
    "    - 用于控制过拟合,取值增大过拟合可能性降低; 取值过大，会导致欠拟合. 通过CV获取最佳参数\n",
    "3. **max_depth [defalut=6]**\n",
    "    - 树的最大深度\n",
    "    - 用于控制过拟合，取值增大过拟合可能性降低\n",
    "    - 通过CV获取最佳参数. 经验最佳取值3-10\n",
    "4. **max_leaf_nodes**\n",
    "    - 树的最大叶节点数量\n",
    "    - 可与参数max_depth相互替代（给定二叉树深度n, 叶节点数目为$2^n$)\n",
    "    - 定义最大叶节点数参数,XGBoost将会忽略最大深度参数\n",
    "5. **gamma [default=0]**\n",
    "    - 在树的某节点处是否对数据进行划分的基本准则是划分后损失函数减小, 而gamma规定了划分后损失函数的最小减小量\n",
    "    - 该参数使得模型趋于保守. 参数值的变化依赖于特定的损失函数.\n",
    "6. **max_delta_step [default=0]**\n",
    "    - In maximum delta step we allow each tree’s weight estimation to be. If the value is set to 0, it means there is no constraint. If it is set to a positive value, it can help making the update step more conservative\n",
    "    - 通常这个参数不必设置, 但采用logistic regression处理类别极不平衡分类问题时,该参数可能有用\n",
    "    - [ ] 不太懂???\n",
    "7. **subsample [default=1]**\n",
    "    - 用于每一个棵树训练的随机子样本数量\n",
    "    - 较小值使模型更保守，防止过拟合;过小导致欠拟合\n",
    "    - 经验最佳取值: 0.5-1\n",
    "8. **colsample_bytree [default=1]**\n",
    "    - 用于每一个树训练的最大特征子集\n",
    "    - 经验最佳取值: 0.5-1\n",
    "9. **colsample_bylevel [default=1]**\n",
    "    - 用于树分支节点划分数据集的备选特征子集\n",
    "    - 不常使用，因为subsample, colsample_bytree参数包含此功能\n",
    "10. **lambda [default=1]**\n",
    "    - L2正则化参数\n",
    "    - 许多数据科学家不调节该参数\n",
    "11. **alpha [default=0]**\n",
    "    - L1正则化参数\n",
    "    - 在特征维度很高时使用，可以加快算法的运行速度\n",
    "12. **scale_pos_weight [default=1]**\n",
    "    - 在类别不平衡问题中使用，可能会加快算法的收敛\n",
    "13. **num_boosting_rounds**\n",
    "    - 定义树的棵树\n",
    "    \n",
    "**Learning Task Parameters**  \n",
    "通常定义优化目标函数\n",
    "1. **objective [default=reg:linear]**\n",
    "    - 定义损失函数,常用的参数：\n",
    "        * **binary:logistic** -logistic regression for binary classification, return **predicted probability** (not class)\n",
    "        * **multi:softmax** -multiclass classification using the softmax objective, returns **predicted class** (not probabilities)\n",
    "            - 还要设置类别数num_class\n",
    "        * **multi:softprob** -same as softmax, but returns predicted probability of each sample belonging to each class\n",
    "2. **eval_metric [default according to objective]**\n",
    "    - 用于学习算法评估的测量函数\n",
    "    - 对于回归问题默认为rmse,对于分类问题默认为错分类error\n",
    "    - 可以设置为：\n",
    "        * **rmse** -root mean square error\n",
    "        * **mae** -mean absolute error\n",
    "        * **logloss** -negative log-likehood\n",
    "        * **error** - binary classification error rate\n",
    "        * **merror** - multiclass classification error rate\n",
    "        * **mlogloss** -muliclass logloss\n",
    "        * **auc** -area under the curve\n",
    "3. **seed [default=0]**  \n",
    "    -随机种子，用于产生可重复的结果\n",
    "    \n",
    "**xgboost module in python has an sklearn wrapper: XGBClassifier.**  \n",
    "参数名称对应为：  \n",
    "1. eta -> learing_rate\n",
    "2. lambda -> reg_lambda\n",
    "3. alpha -> reg_alpha\n",
    "\n",
    "详细说明可进一步参考：   \n",
    "[XGBoost Parameters (official guide)](http://xgboost.readthedocs.io/en/latest/parameter.html#general-parameters)  \n",
    "[XGBoost Demo Codes (xgboost GitHub repository)](https://github.com/dmlc/xgboost/tree/master/demo/guide-python)  \n",
    "[Python API Reference (official guide)](http://xgboost.readthedocs.io/en/latest/python/python_api.html#module-xgboost.sklearn)  "
   ]
  },
  {
   "cell_type": "markdown",
   "metadata": {},
   "source": []
  },
  {
   "cell_type": "markdown",
   "metadata": {},
   "source": [
    "#  Fruad Detection\n",
    ">**[Problem](https://discuss.analyticsvidhya.com/t/hackathon-3-x-predict-customer-worth-for-happy-customer-bank/3802)**:  \n",
    "Digital arms of banks today face challenges with lead conversion, they source leads through mediums like search, display, email campaigns and via affiliate partners. Here Happy Customer Bank faces same challenge of low conversion ratio. They have given a problem to identify the customers segments having higher conversion ratio for a specific loan product so that they can specifically target these customers, here they have provided a partial data set for salaried customers only from the last 3 months. They also capture basic details about customers like gender, DOB, existing EMI, employer Name, Loan Amount Required, Monthly Income, City, Interaction data and many others. Let’s look at the process at Happy Customer Bank.\n",
    "<img src=\"./images/Process_at_Happy_Customer_Bank.png\" />\n",
    "In above process, customer applications can drop majorly at two stages, at login and approval/ rejection by bank. Here we need to identify the segment of customers having higher disbursal rate in next 30 days.  \n",
    "\n",
    ">**Data Set**  \n",
    "We have train and test data set, train data set has both input and output variable(s). Need to predict probability of disbursal for test data set.  \n",
    "\n",
    ">**Input variables**:  \n",
    "ID -\tUnique ID (can not be used for predictions)  \n",
    "Gender-\tSex  \n",
    "City -\tCurrent City  \n",
    "Monthly_Income - Monthly Income in rupees  \n",
    "DOB -\tDate of Birth  \n",
    "Lead_Creation_Date -\tLead Created on date  \n",
    "Loan_Amount_Applied -\tLoan Amount Requested (INR)  \n",
    "Loan_Tenure_Applied -\tLoan Tenure Requested (in years)  \n",
    "Existing_EMI -\tEMI of Existing Loans (INR)  \n",
    "Employer_Name - Employer Name  \n",
    "Salary_Account- Salary account with Bank  \n",
    "Mobile_Verified - Mobile Verified (Y/N)  \n",
    "Var5- Continuous classified variable  \n",
    "Var1- Categorical variable with multiple levels  \n",
    "Loan_Amount_Submitted- Loan Amount Revised and Selected after seeing Eligibility  \n",
    "Loan_Tenure_Submitted-\tLoan Tenure Revised and Selected after seeing Eligibility (Years)  \n",
    "Interest_Rate-\tInterest Rate of Submitted Loan Amount  \n",
    "Processing_Fee- Processing Fee of Submitted Loan Amount (INR)  \n",
    "EMI_Loan_Submitted- EMI of Submitted Loan Amount (INR)  \n",
    "Filled_Form- Filled Application form post quote   \n",
    "Device_Type- Device from which application was made (Browser/ Mobile)  \n",
    "Var2- Categorical Variable with multiple Levels  \n",
    "Source-\tCategorical Variable with multiple Levels  \n",
    "Var4-\tCategorical Variable with multiple Levels  \n",
    "\n",
    ">**Outcomes**:  \n",
    "LoggedIn-\tApplication Logged (Variable for understanding the problem – cannot be used in prediction)  \n",
    "Disbursed-\tLoan Disbursed (Target Variable)  \n",
    "\n",
    ">**Evaluation Cirteria**:  \n",
    "Evaluation metrics of this challenge is ROC_AUC. "
   ]
  },
  {
   "cell_type": "markdown",
   "metadata": {},
   "source": [
    "## Import libraries"
   ]
  },
  {
   "cell_type": "code",
   "execution_count": 1,
   "metadata": {
    "collapsed": false
   },
   "outputs": [
    {
     "name": "stderr",
     "output_type": "stream",
     "text": [
      "D:\\Program Files\\Anaconda\\lib\\site-packages\\sklearn\\cross_validation.py:44: DeprecationWarning: This module was deprecated in version 0.18 in favor of the model_selection module into which all the refactored classes and functions are moved. Also note that the interface of the new CV iterators are different from that of this module. This module will be removed in 0.20.\n",
      "  \"This module will be removed in 0.20.\", DeprecationWarning)\n",
      "D:\\Program Files\\Anaconda\\lib\\site-packages\\sklearn\\grid_search.py:43: DeprecationWarning: This module was deprecated in version 0.18 in favor of the model_selection module into which all the refactored classes and functions are moved. This module will be removed in 0.20.\n",
      "  DeprecationWarning)\n"
     ]
    }
   ],
   "source": [
    "# Import libraries:\n",
    "import pandas as pd\n",
    "import numpy as np\n",
    "import xgboost as xgb\n",
    "from xgboost.sklearn import XGBClassifier\n",
    "from sklearn import cross_validation, metrics\n",
    "from sklearn.grid_search import GridSearchCV\n",
    "\n",
    "import matplotlib.pyplot as plt\n",
    "%matplotlib inline\n",
    "from matplotlib.pylab import rcParams\n",
    "rcParams['figure.figsize'] = 12,4\n",
    "\n",
    "# 为显示中文\n",
    "from pylab import *  \n",
    "mpl.rcParams['font.sans-serif'] = ['SimHei']"
   ]
  },
  {
   "cell_type": "markdown",
   "metadata": {},
   "source": [
    "## Load data"
   ]
  },
  {
   "cell_type": "code",
   "execution_count": 139,
   "metadata": {
    "collapsed": false
   },
   "outputs": [],
   "source": [
    "df_train_test = pd.read_csv('df_data_train_clean_sparse.csv',index_col='个人编码').fillna(0)"
   ]
  },
  {
   "cell_type": "code",
   "execution_count": 140,
   "metadata": {
    "collapsed": false
   },
   "outputs": [],
   "source": [
    "features = df_train_test.columns.difference(['target'])"
   ]
  },
  {
   "cell_type": "code",
   "execution_count": 141,
   "metadata": {
    "collapsed": false
   },
   "outputs": [
    {
     "data": {
      "text/plain": [
       "797"
      ]
     },
     "execution_count": 141,
     "metadata": {},
     "output_type": "execute_result"
    }
   ],
   "source": [
    "features.size"
   ]
  },
  {
   "cell_type": "markdown",
   "metadata": {},
   "source": [
    "### Sparse Predictors and Data\n",
    "\n",
    "Sparse 特征包括every_period_30以上，去各个医院的频率，到各个医院的交易频率三类特征"
   ]
  },
  {
   "cell_type": "code",
   "execution_count": 142,
   "metadata": {
    "collapsed": false
   },
   "outputs": [],
   "source": [
    "non_sparse_features = pd.read_csv('df_data_train_clean.csv',index_col='个人编码').fillna(0).columns.difference(['target'])"
   ]
  },
  {
   "cell_type": "code",
   "execution_count": 143,
   "metadata": {
    "collapsed": true
   },
   "outputs": [
    {
     "data": {
      "text/plain": [
       "Index([u'every_period_0', u'every_period_1', u'every_period_10',\n",
       "       u'every_period_11', u'every_period_12', u'every_period_13',\n",
       "       u'every_period_14', u'every_period_15', u'every_period_16',\n",
       "       u'every_period_17', u'every_period_18', u'every_period_19',\n",
       "       u'every_period_2', u'every_period_20', u'every_period_21',\n",
       "       u'every_period_22', u'every_period_23', u'every_period_24',\n",
       "       u'every_period_25', u'every_period_26', u'every_period_27',\n",
       "       u'every_period_28', u'every_period_29', u'every_period_3',\n",
       "       u'every_period_30', u'every_period_4', u'every_period_5',\n",
       "       u'every_period_6', u'every_period_7', u'every_period_8',\n",
       "       u'every_period_9', u'every_periods_31plus'],\n",
       "      dtype='object')"
      ]
     },
     "execution_count": 143,
     "metadata": {},
     "output_type": "execute_result"
    }
   ],
   "source": [
    "non_sparse_features[non_sparse_features.str.startswith('every_perio')]"
   ]
  },
  {
   "cell_type": "code",
   "execution_count": 144,
   "metadata": {
    "collapsed": true
   },
   "outputs": [
    {
     "data": {
      "text/plain": [
       "Index([u'every_period_0.1', u'every_period_1.1', u'every_period_10.1',\n",
       "       u'every_period_102', u'every_period_107', u'every_period_11.1',\n",
       "       u'every_period_116', u'every_period_119', u'every_period_12.1',\n",
       "       u'every_period_120',\n",
       "       ...\n",
       "       u'freq_hospital_932', u'freq_hospital_934', u'freq_hospital_935',\n",
       "       u'freq_hospital_938', u'freq_hospital_941', u'freq_hospital_942',\n",
       "       u'freq_hospital_95', u'freq_hospital_963', u'freq_hospital_97',\n",
       "       u'freq_hospital_98'],\n",
       "      dtype='object', length=444)"
      ]
     },
     "execution_count": 144,
     "metadata": {},
     "output_type": "execute_result"
    }
   ],
   "source": [
    "features.difference(non_sparse_features)"
   ]
  },
  {
   "cell_type": "markdown",
   "metadata": {},
   "source": [
    "### Drop Duplicated Columns\n",
    "- df = df.T.drop_duplicates().T；当数据量大时not work\n",
    "- [自定义函数dulicate_columns(df)](https://stackoverflow.com/questions/14984119/python-pandas-remove-duplicate-columns) \n",
    "    * step 1：dups = duplicate_columns(df)\n",
    "    * step 2：df = df.drop(dups, axis=1)\n",
    "- 去除重复的列名的列df = df.loc[:,~df.columns.duplicated()]"
   ]
  },
  {
   "cell_type": "code",
   "execution_count": 145,
   "metadata": {
    "collapsed": true
   },
   "outputs": [],
   "source": [
    "# 去除重复的列\n",
    "def duplicate_columns(frame):\n",
    "    groups = frame.columns.to_series().groupby(frame.dtypes).groups\n",
    "    dups = []\n",
    "    for t, v in groups.items():\n",
    "        dcols = frame[v].to_dict(orient=\"list\")\n",
    "\n",
    "        vs = dcols.values()\n",
    "        ks = dcols.keys()\n",
    "        lvs = len(vs)\n",
    "\n",
    "        for i in range(lvs):\n",
    "            for j in range(i+1,lvs):\n",
    "                if vs[i] == vs[j]: \n",
    "                    dups.append(ks[i])\n",
    "                    break\n",
    "\n",
    "    return dups "
   ]
  },
  {
   "cell_type": "code",
   "execution_count": 146,
   "metadata": {
    "collapsed": true
   },
   "outputs": [],
   "source": [
    "dups = duplicate_columns(df_train_test)"
   ]
  },
  {
   "cell_type": "code",
   "execution_count": 148,
   "metadata": {
    "collapsed": false
   },
   "outputs": [
    {
     "data": {
      "text/plain": [
       "Index([u'day_to_nhospitals', u'dayofweek_0', u'dayofweek_1', u'dayofweek_2',\n",
       "       u'dayofweek_3', u'dayofweek_4', u'dayofweek_5', u'dayofweek_6',\n",
       "       u'every_ave_period', u'every_max_period',\n",
       "       ...\n",
       "       u'非账户支付金额_q1', u'非账户支付金额_q2', u'非账户支付金额_q3', u'非账户支付金额_std',\n",
       "       u'非账户支付金额_sum', u'高价材料发生金额_max', u'高价材料发生金额_mean', u'高价材料发生金额_q3',\n",
       "       u'高价材料发生金额_std', u'高价材料发生金额_sum'],\n",
       "      dtype='object', length=760)"
      ]
     },
     "execution_count": 148,
     "metadata": {},
     "output_type": "execute_result"
    }
   ],
   "source": [
    "features.difference(dups)"
   ]
  },
  {
   "cell_type": "code",
   "execution_count": 149,
   "metadata": {
    "collapsed": true
   },
   "outputs": [],
   "source": [
    "# Sparse Predictors and data\n",
    "df_train_test = pd.concat([df_train_test[features.difference(dups).difference(non_sparse_features)],df_train_test['target']],axis=1)"
   ]
  },
  {
   "cell_type": "code",
   "execution_count": 153,
   "metadata": {
    "collapsed": false
   },
   "outputs": [],
   "source": [
    "df_train_test = df_train_test[df_train_test.columns.difference(['every_period_2.1', u'every_period_30.1'])]"
   ]
  },
  {
   "cell_type": "code",
   "execution_count": 155,
   "metadata": {
    "collapsed": true
   },
   "outputs": [
    {
     "data": {
      "text/plain": [
       "Index([u'every_period_102', u'every_period_107', u'every_period_116',\n",
       "       u'every_period_119', u'every_period_120', u'every_period_127',\n",
       "       u'every_period_141', u'every_period_31', u'every_period_32',\n",
       "       u'every_period_33', u'every_period_34', u'every_period_35',\n",
       "       u'every_period_36', u'every_period_37', u'every_period_38',\n",
       "       u'every_period_39', u'every_period_40', u'every_period_41',\n",
       "       u'every_period_42', u'every_period_43', u'every_period_44',\n",
       "       u'every_period_45', u'every_period_46', u'every_period_47',\n",
       "       u'every_period_48', u'every_period_49', u'every_period_50',\n",
       "       u'every_period_51', u'every_period_52', u'every_period_53',\n",
       "       u'every_period_54', u'every_period_55', u'every_period_56',\n",
       "       u'every_period_57', u'every_period_58', u'every_period_59',\n",
       "       u'every_period_60', u'every_period_61', u'every_period_62',\n",
       "       u'every_period_63', u'every_period_64', u'every_period_65',\n",
       "       u'every_period_66', u'every_period_67', u'every_period_68',\n",
       "       u'every_period_69', u'every_period_70', u'every_period_71',\n",
       "       u'every_period_72', u'every_period_73', u'every_period_74',\n",
       "       u'every_period_75', u'every_period_76', u'every_period_77',\n",
       "       u'every_period_78', u'every_period_79', u'every_period_80',\n",
       "       u'every_period_81', u'every_period_85', u'every_period_86',\n",
       "       u'every_period_87', u'every_period_88', u'every_period_91',\n",
       "       u'every_period_92', u'every_period_94', u'every_period_98'],\n",
       "      dtype='object')"
      ]
     },
     "execution_count": 155,
     "metadata": {},
     "output_type": "execute_result"
    }
   ],
   "source": [
    "df_train_test.columns[df_train_test.columns.str.startswith('every_')]"
   ]
  },
  {
   "cell_type": "markdown",
   "metadata": {},
   "source": [
    "### Data Cleaning"
   ]
  },
  {
   "cell_type": "code",
   "execution_count": 156,
   "metadata": {
    "collapsed": false
   },
   "outputs": [
    {
     "data": {
      "text/plain": [
       "(20000, 414)"
      ]
     },
     "execution_count": 156,
     "metadata": {},
     "output_type": "execute_result"
    }
   ],
   "source": [
    "predictors = df_train_test.columns.difference(['target'])\n",
    "predictors_std = df_train_test[predictors].std()\n",
    "# std 为0的特征（去除）\n",
    "zero_std_predictors = predictors_std[predictors_std == 0].index\n",
    "df_train_test = df_train_test.drop(zero_std_predictors,axis=1)\n",
    "df_train_test.shape"
   ]
  },
  {
   "cell_type": "markdown",
   "metadata": {},
   "source": [
    "### Sparse Predictors"
   ]
  },
  {
   "cell_type": "code",
   "execution_count": 157,
   "metadata": {
    "collapsed": false
   },
   "outputs": [],
   "source": [
    "predictors = df_train_test.columns.difference(['target','first_time'])\n",
    "target = 'target'"
   ]
  },
  {
   "cell_type": "code",
   "execution_count": 49,
   "metadata": {
    "collapsed": false
   },
   "outputs": [
    {
     "data": {
      "text/plain": [
       "0    19000\n",
       "1     1000\n",
       "Name: target, dtype: int64"
      ]
     },
     "execution_count": 49,
     "metadata": {},
     "output_type": "execute_result"
    }
   ],
   "source": [
    "df_train_test['target'].value_counts()"
   ]
  },
  {
   "cell_type": "markdown",
   "metadata": {},
   "source": [
    "## Spliting training and testing set"
   ]
  },
  {
   "cell_type": "code",
   "execution_count": 158,
   "metadata": {
    "collapsed": false
   },
   "outputs": [
    {
     "name": "stdout",
     "output_type": "stream",
     "text": [
      "train:  16000\n",
      "test:  4000\n",
      "ratio 0.2\n"
     ]
    }
   ],
   "source": [
    "from sklearn.model_selection import StratifiedShuffleSplit\n",
    "ss = StratifiedShuffleSplit(n_splits=1,test_size=0.2,random_state=0)\n",
    "idx_train, idx_test = ss.split(df_train_test[predictors],df_train_test[target]).next()\n",
    "print 'train: ',len(idx_train)\n",
    "print 'test: ',len(idx_test)\n",
    "print 'ratio',float(len(idx_test))/(len(idx_train)+len(idx_test))"
   ]
  },
  {
   "cell_type": "code",
   "execution_count": 159,
   "metadata": {
    "collapsed": true
   },
   "outputs": [],
   "source": [
    "df_train = df_train_test.iloc[idx_train,:]\n",
    "df_test = df_train_test.iloc[idx_test,:]"
   ]
  },
  {
   "cell_type": "code",
   "execution_count": null,
   "metadata": {
    "collapsed": true
   },
   "outputs": [],
   "source": []
  },
  {
   "cell_type": "markdown",
   "metadata": {},
   "source": [
    "## Define a function for modeling and cross-validation"
   ]
  },
  {
   "cell_type": "code",
   "execution_count": 160,
   "metadata": {
    "collapsed": false
   },
   "outputs": [],
   "source": [
    "def modelfit(alg, dtrain, dtest, predictors, useTrainCV=True, cv_folds=5, early_stopping_rounds=50):\n",
    "    '''  '''\n",
    "    if useTrainCV:  # 使用交叉验证选取最佳树棵树\n",
    "        xgb_param = alg.get_xgb_params()\n",
    "        xgtrain = xgb.DMatrix(dtrain[predictors].values, label=dtrain[target].values)\n",
    "        cvresult = xgb.cv(xgb_param, xgtrain, num_boost_round=alg.get_params()['n_estimators'],\\\n",
    "                          nfold=cv_folds,metrics='auc',early_stopping_rounds=early_stopping_rounds,verbose_eval=10)\n",
    "        alg.set_params(n_estimators=cvresult.shape[0])\n",
    "\n",
    "        \n",
    "    # fit the algorithm on the data:\n",
    "    alg.fit(dtrain[predictors], dtrain[target],eval_metric='auc')\n",
    "    \n",
    "    # predict training set:\n",
    "    dtrain_predictions = alg.predict(dtrain[predictors])\n",
    "    dtrain_predprob = alg.predict_proba(dtrain[predictors])[:,1]\n",
    "    \n",
    "    # print model report:\n",
    "    print \"\\nModel Report\"\n",
    "    print 'n_estimators: ',cvresult.shape[0]\n",
    "    print \"Training:\"\n",
    "    print \"Accuracy : %.4g\" % metrics.accuracy_score(dtrain[target], dtrain_predictions)\n",
    "    print \"F1 Score : %f\" % metrics.f1_score(dtrain[target],dtrain_predictions)\n",
    "    print \"AUC Score (Train): %f\" % metrics.roc_auc_score(dtrain[target],dtrain_predprob)\n",
    "    print \"Classification Report : \\n\", metrics.classification_report(dtrain[target],dtrain_predictions)\n",
    "    print \"\"\n",
    "    \n",
    "    # predict on testing data:\n",
    "    print \"Testing: \"\n",
    "    dtest_predictions = alg.predict(dtest[predictors])\n",
    "    dtest_predprob = alg.predict_proba(dtest[predictors])[:,1]\n",
    "    #results = test_results.merge(dtest[['ID','predprob']], on='ID')\n",
    "    print \"Accuracy : %.4g\" % metrics.accuracy_score(dtest[target], dtest_predictions)\n",
    "    print \"F1 Score : %f\" % metrics.f1_score(dtest[target],dtest_predictions)\n",
    "    print 'AUC Score (Test): %f' % metrics.roc_auc_score(dtest[target], dtest_predprob)\n",
    "    print \"Classification Report : \\n\", metrics.classification_report(dtest[target],dtest_predictions)\n",
    "    \n",
    "    feat_imp = pd.Series(alg.booster().get_fscore()).sort_values(ascending=False)\n",
    "    feat_imp[0:60].plot(kind='bar', title='Feature Importance')\n",
    "    plt.ylabel('Feature Importance Score')\n",
    "    \n",
    "    return feat_imp"
   ]
  },
  {
   "cell_type": "markdown",
   "metadata": {},
   "source": [
    "## Step 1-Find the number of estimators for a high learning rate\n",
    "**General Approach for Parameter Tuning**  \n",
    "- **step 1**: 选择一个相对较大的学习率learning_rate. 通常选取0.1，或者在0.05-0.3间. 在给定学习率下，通过xgboost提供的cv函数确定最优的树的数量\n",
    "- **step 2**: 在给定学习率，数的棵树下，调节关于树的参数(max_depth, min_child_weight, gamma, subsample, colsample_bytree)\n",
    "- **step 3**：然后，调节正则化参数(lambda,alpha),以减小模型复杂度、提高性能\n",
    "- **step 4**：减小学习率，确定最优参数"
   ]
  },
  {
   "cell_type": "code",
   "execution_count": 161,
   "metadata": {
    "collapsed": false
   },
   "outputs": [
    {
     "name": "stdout",
     "output_type": "stream",
     "text": [
      "[0]\ttrain-auc:0.548991+0.00782998\ttest-auc:0.532421+0.00427864\n",
      "[10]\ttrain-auc:0.660665+0.00416788\ttest-auc:0.631621+0.020043\n",
      "[20]\ttrain-auc:0.693295+0.00416718\ttest-auc:0.656423+0.0181108\n",
      "[30]\ttrain-auc:0.726994+0.0076397\ttest-auc:0.671597+0.0100745\n",
      "[40]\ttrain-auc:0.753482+0.00544797\ttest-auc:0.686407+0.01061\n",
      "[50]\ttrain-auc:0.772509+0.00221464\ttest-auc:0.695966+0.0108821\n",
      "[60]\ttrain-auc:0.786358+0.00555838\ttest-auc:0.696508+0.00928373\n",
      "[70]\ttrain-auc:0.799817+0.00558702\ttest-auc:0.69952+0.0108028\n",
      "[80]\ttrain-auc:0.810279+0.00388714\ttest-auc:0.702506+0.0115011\n",
      "[90]\ttrain-auc:0.818006+0.00260728\ttest-auc:0.70469+0.014277\n",
      "[100]\ttrain-auc:0.82577+0.00364082\ttest-auc:0.710696+0.0146012\n",
      "[110]\ttrain-auc:0.831004+0.00370887\ttest-auc:0.712763+0.0155674\n",
      "[120]\ttrain-auc:0.836617+0.00359472\ttest-auc:0.714868+0.0162335\n",
      "[130]\ttrain-auc:0.841075+0.00356436\ttest-auc:0.715614+0.0152081\n",
      "[140]\ttrain-auc:0.845127+0.00275346\ttest-auc:0.71732+0.0161821\n",
      "[150]\ttrain-auc:0.848806+0.00257865\ttest-auc:0.717889+0.0178216\n",
      "[160]\ttrain-auc:0.852047+0.00224388\ttest-auc:0.718268+0.0190702\n",
      "[170]\ttrain-auc:0.855244+0.00224791\ttest-auc:0.71871+0.0197104\n",
      "[180]\ttrain-auc:0.858209+0.00304875\ttest-auc:0.718699+0.0214516\n",
      "[190]\ttrain-auc:0.860742+0.00235157\ttest-auc:0.717919+0.0217762\n",
      "[200]\ttrain-auc:0.863406+0.00251179\ttest-auc:0.717686+0.0235974\n",
      "[210]\ttrain-auc:0.865087+0.00209719\ttest-auc:0.718518+0.0234134\n",
      "[220]\ttrain-auc:0.866953+0.00242915\ttest-auc:0.719133+0.022222\n",
      "[230]\ttrain-auc:0.868276+0.00226275\ttest-auc:0.719691+0.022364\n",
      "[240]\ttrain-auc:0.870131+0.00233242\ttest-auc:0.719715+0.022324\n",
      "[250]\ttrain-auc:0.871792+0.00254055\ttest-auc:0.719444+0.0228412\n",
      "[260]\ttrain-auc:0.873544+0.0021389\ttest-auc:0.719726+0.0223321\n",
      "[270]\ttrain-auc:0.875022+0.0020243\ttest-auc:0.720241+0.0208427\n",
      "[280]\ttrain-auc:0.876691+0.00205812\ttest-auc:0.719771+0.0216616\n",
      "[290]\ttrain-auc:0.878062+0.00220849\ttest-auc:0.720108+0.0208707\n",
      "[300]\ttrain-auc:0.879582+0.00210856\ttest-auc:0.719354+0.0197927\n",
      "[310]\ttrain-auc:0.880919+0.00202842\ttest-auc:0.719562+0.0199099\n",
      "\n",
      "Model Report\n",
      "n_estimators:  265\n",
      "Training:\n",
      "Accuracy : 0.9581\n",
      "F1 Score : 0.310380\n",
      "AUC Score (Train): 0.869558\n",
      "Classification Report : \n",
      "             precision    recall  f1-score   support\n",
      "\n",
      "          0       0.96      1.00      0.98     15200\n",
      "          1       0.87      0.19      0.31       800\n",
      "\n",
      "avg / total       0.95      0.96      0.94     16000\n",
      "\n",
      "\n",
      "Testing: \n",
      "Accuracy : 0.9557\n",
      "F1 Score : 0.265560\n",
      "AUC Score (Test): 0.758219\n",
      "Classification Report : \n",
      "             precision    recall  f1-score   support\n",
      "\n",
      "          0       0.96      1.00      0.98      3800\n",
      "          1       0.78      0.16      0.27       200\n",
      "\n",
      "avg / total       0.95      0.96      0.94      4000\n",
      "\n"
     ]
    },
    {
     "data": {
      "image/png": "[encoded data removed]",
      "text/plain": [
       "<matplotlib.figure.Figure at 0x12cc56d8>"
      ]
     },
     "metadata": {},
     "output_type": "display_data"
    }
   ],
   "source": [
    "# choose all predictors except target & IDcols\n",
    "# predictors = [x for x in train.columns if x not in [target]]\n",
    "xgb1 = XGBClassifier(learning_rate = 0.1,\n",
    "                    n_estimators=1000,\n",
    "                    max_depth=5,\n",
    "                    min_child_weight=1,\n",
    "                    gamma=0,\n",
    "                    subsample=0.9,\n",
    "                    colsample_bytree=0.9,\n",
    "                    objective='binary:logistic',\n",
    "                    nthread=4,\n",
    "                    scale_pos_weight=1,\n",
    "                    seed=27)\n",
    "feat_imp = modelfit(xgb1,df_train,df_test,predictors)"
   ]
  },
  {
   "cell_type": "code",
   "execution_count": 162,
   "metadata": {
    "collapsed": false
   },
   "outputs": [
    {
     "data": {
      "text/plain": [
       "<matplotlib.axes._subplots.AxesSubplot at 0xf74df28>"
      ]
     },
     "execution_count": 162,
     "metadata": {},
     "output_type": "execute_result"
    },
    {
     "data": {
      "image/png": "[encoded data removed]",
      "text/plain": [
       "<matplotlib.figure.Figure at 0xf734f98>"
      ]
     },
     "metadata": {},
     "output_type": "display_data"
    }
   ],
   "source": [
    "feat_imp[-60:].plot(kind='bar')"
   ]
  },
  {
   "cell_type": "markdown",
   "metadata": {},
   "source": [
    "## step 2-Tune max_depth and min_child_weight"
   ]
  },
  {
   "cell_type": "code",
   "execution_count": null,
   "metadata": {
    "collapsed": false
   },
   "outputs": [],
   "source": [
    "#Grid seach on subsample and max_features\n",
    "#Choose all predictors except target & IDcols\n",
    "param_test1 = {\n",
    "    'max_depth':range(3,10,2),\n",
    "    'min_child_weight':range(1,6,2)\n",
    "}\n",
    "gsearch1 = GridSearchCV(estimator = XGBClassifier( learning_rate =0.1, n_estimators=265, max_depth=5,\n",
    "                                        min_child_weight=1, gamma=0, subsample=0.8, colsample_bytree=0.8,\n",
    "                                        objective= 'binary:logistic', nthread=4, scale_pos_weight=1, seed=27), \n",
    "                       param_grid = param_test1, scoring='roc_auc',n_jobs=4,iid=False, cv=5)\n",
    "gsearch1.fit(df_train[predictors],df_train[target])"
   ]
  },
  {
   "cell_type": "code",
   "execution_count": 13,
   "metadata": {
    "collapsed": false
   },
   "outputs": [
    {
     "data": {
      "text/plain": [
       "([mean: 0.90992, std: 0.01171, params: {'max_depth': 3, 'min_child_weight': 1},\n",
       "  mean: 0.90811, std: 0.01250, params: {'max_depth': 3, 'min_child_weight': 3},\n",
       "  mean: 0.90805, std: 0.01181, params: {'max_depth': 3, 'min_child_weight': 5},\n",
       "  mean: 0.91300, std: 0.01061, params: {'max_depth': 5, 'min_child_weight': 1},\n",
       "  mean: 0.91235, std: 0.01124, params: {'max_depth': 5, 'min_child_weight': 3},\n",
       "  mean: 0.91334, std: 0.01047, params: {'max_depth': 5, 'min_child_weight': 5},\n",
       "  mean: 0.91356, std: 0.00851, params: {'max_depth': 7, 'min_child_weight': 1},\n",
       "  mean: 0.91273, std: 0.01146, params: {'max_depth': 7, 'min_child_weight': 3},\n",
       "  mean: 0.91512, std: 0.01086, params: {'max_depth': 7, 'min_child_weight': 5},\n",
       "  mean: 0.91418, std: 0.00938, params: {'max_depth': 9, 'min_child_weight': 1},\n",
       "  mean: 0.91050, std: 0.01176, params: {'max_depth': 9, 'min_child_weight': 3},\n",
       "  mean: 0.91279, std: 0.00974, params: {'max_depth': 9, 'min_child_weight': 5}],\n",
       " {'max_depth': 7, 'min_child_weight': 5},\n",
       " 0.9151200657894737)"
      ]
     },
     "execution_count": 13,
     "metadata": {},
     "output_type": "execute_result"
    }
   ],
   "source": [
    "gsearch1.grid_scores_, gsearch1.best_params_, gsearch1.best_score_"
   ]
  },
  {
   "cell_type": "code",
   "execution_count": 16,
   "metadata": {
    "collapsed": false
   },
   "outputs": [
    {
     "data": {
      "text/plain": [
       "GridSearchCV(cv=5, error_score='raise',\n",
       "       estimator=XGBClassifier(base_score=0.5, colsample_bylevel=1, colsample_bytree=0.8,\n",
       "       gamma=0, learning_rate=0.1, max_delta_step=0, max_depth=5,\n",
       "       min_child_weight=2, missing=None, n_estimators=110, nthread=4,\n",
       "       objective='binary:logistic', reg_alpha=0, reg_lambda=1,\n",
       "       scale_pos_weight=1, seed=27, silent=True, subsample=0.8),\n",
       "       fit_params={}, iid=False, n_jobs=4,\n",
       "       param_grid={'max_depth': [6, 7, 8], 'min_child_weight': [4, 5, 6]},\n",
       "       pre_dispatch='2*n_jobs', refit=True, scoring='roc_auc', verbose=0)"
      ]
     },
     "execution_count": 16,
     "metadata": {},
     "output_type": "execute_result"
    }
   ],
   "source": [
    "#Grid seach on subsample and max_features\n",
    "#Choose all predictors except target & IDcols\n",
    "param_test2 = {\n",
    "    'max_depth':[6,7,8],\n",
    "    'min_child_weight':[4,5,6] \n",
    "}\n",
    "gsearch2 = GridSearchCV(estimator = XGBClassifier( learning_rate=0.1, n_estimators=110, max_depth=5,\n",
    "                                        min_child_weight=2, gamma=0, subsample=0.8, colsample_bytree=0.8,\n",
    "                                        objective= 'binary:logistic', nthread=4, scale_pos_weight=1,seed=27), \n",
    "                       param_grid = param_test2, scoring='roc_auc',n_jobs=4,iid=False, cv=5)\n",
    "gsearch2.fit(df_train[predictors],df_train[target])"
   ]
  },
  {
   "cell_type": "code",
   "execution_count": 17,
   "metadata": {
    "collapsed": false
   },
   "outputs": [
    {
     "data": {
      "text/plain": [
       "([mean: 0.91345, std: 0.01278, params: {'max_depth': 6, 'min_child_weight': 4},\n",
       "  mean: 0.91239, std: 0.01110, params: {'max_depth': 6, 'min_child_weight': 5},\n",
       "  mean: 0.91483, std: 0.00929, params: {'max_depth': 6, 'min_child_weight': 6},\n",
       "  mean: 0.91460, std: 0.00945, params: {'max_depth': 7, 'min_child_weight': 4},\n",
       "  mean: 0.91512, std: 0.01086, params: {'max_depth': 7, 'min_child_weight': 5},\n",
       "  mean: 0.91448, std: 0.00960, params: {'max_depth': 7, 'min_child_weight': 6},\n",
       "  mean: 0.91615, std: 0.00929, params: {'max_depth': 8, 'min_child_weight': 4},\n",
       "  mean: 0.91352, std: 0.00849, params: {'max_depth': 8, 'min_child_weight': 5},\n",
       "  mean: 0.91352, std: 0.01174, params: {'max_depth': 8, 'min_child_weight': 6}],\n",
       " {'max_depth': 8, 'min_child_weight': 4},\n",
       " 0.9161533717105262)"
      ]
     },
     "execution_count": 17,
     "metadata": {},
     "output_type": "execute_result"
    }
   ],
   "source": [
    "gsearch2.grid_scores_, gsearch2.best_params_, gsearch2.best_score_"
   ]
  },
  {
   "cell_type": "markdown",
   "metadata": {},
   "source": [
    "## step 3-Tune gamma"
   ]
  },
  {
   "cell_type": "code",
   "execution_count": 18,
   "metadata": {
    "collapsed": false
   },
   "outputs": [
    {
     "data": {
      "text/plain": [
       "GridSearchCV(cv=5, error_score='raise',\n",
       "       estimator=XGBClassifier(base_score=0.5, colsample_bylevel=1, colsample_bytree=0.8,\n",
       "       gamma=0, learning_rate=0.1, max_delta_step=0, max_depth=8,\n",
       "       min_child_weight=4, missing=None, n_estimators=110, nthread=4,\n",
       "       objective='binary:logistic', reg_alpha=0, reg_lambda=1,\n",
       "       scale_pos_weight=1, seed=27, silent=True, subsample=0.8),\n",
       "       fit_params={}, iid=False, n_jobs=4,\n",
       "       param_grid={'gamma': [0, 0.05, 0.1]}, pre_dispatch='2*n_jobs',\n",
       "       refit=True, scoring='roc_auc', verbose=0)"
      ]
     },
     "execution_count": 18,
     "metadata": {},
     "output_type": "execute_result"
    }
   ],
   "source": [
    "#'gamma':[i/10.0 for i in range(0,2)]\n",
    "param_test3 = {\n",
    " 'gamma':[0,0.05,0.1]\n",
    "}\n",
    "gsearch3 = GridSearchCV(estimator = XGBClassifier( learning_rate=0.1, n_estimators=110, max_depth=8,\n",
    "                                        min_child_weight=4, gamma=0, subsample=0.8, colsample_bytree=0.8,\n",
    "                                        objective= 'binary:logistic', nthread=4, scale_pos_weight=1,seed=27), \n",
    "                       param_grid = param_test3, scoring='roc_auc',n_jobs=4,iid=False, cv=5)\n",
    "gsearch3.fit(df_train[predictors],df_train[target])"
   ]
  },
  {
   "cell_type": "code",
   "execution_count": 19,
   "metadata": {
    "collapsed": false
   },
   "outputs": [
    {
     "data": {
      "text/plain": [
       "([mean: 0.91615, std: 0.00929, params: {'gamma': 0},\n",
       "  mean: 0.91523, std: 0.01019, params: {'gamma': 0.05},\n",
       "  mean: 0.91701, std: 0.01140, params: {'gamma': 0.1}],\n",
       " {'gamma': 0.1},\n",
       " 0.9170143914473684)"
      ]
     },
     "execution_count": 19,
     "metadata": {},
     "output_type": "execute_result"
    }
   ],
   "source": [
    "gsearch3.grid_scores_, gsearch3.best_params_, gsearch3.best_score_"
   ]
  },
  {
   "cell_type": "code",
   "execution_count": 20,
   "metadata": {
    "collapsed": false
   },
   "outputs": [
    {
     "data": {
      "text/plain": [
       "([mean: 0.91701, std: 0.01140, params: {'gamma': 0.1},\n",
       "  mean: 0.91522, std: 0.01047, params: {'gamma': 0.15},\n",
       "  mean: 0.91303, std: 0.00925, params: {'gamma': 0.2}],\n",
       " {'gamma': 0.1},\n",
       " 0.9170143914473684)"
      ]
     },
     "execution_count": 20,
     "metadata": {},
     "output_type": "execute_result"
    }
   ],
   "source": [
    "#'gamma':[i/10.0 for i in range(0,2)]\n",
    "param_test3b = {\n",
    " 'gamma':[0.1,0.15,0.2]\n",
    "}\n",
    "gsearch3b = GridSearchCV(estimator = XGBClassifier( learning_rate=0.1, n_estimators=110, max_depth=8,\n",
    "                                        min_child_weight=4, gamma=0, subsample=0.8, colsample_bytree=0.8,\n",
    "                                        objective= 'binary:logistic', nthread=4, scale_pos_weight=1,seed=27), \n",
    "                       param_grid = param_test3b, scoring='roc_auc',n_jobs=4,iid=False, cv=5)\n",
    "gsearch3b.fit(df_train[predictors],df_train[target])\n",
    "gsearch3b.grid_scores_, gsearch3b.best_params_, gsearch3b.best_score_"
   ]
  },
  {
   "cell_type": "code",
   "execution_count": 21,
   "metadata": {
    "collapsed": false
   },
   "outputs": [
    {
     "name": "stdout",
     "output_type": "stream",
     "text": [
      "[0]\ttrain-auc:0.852251+0.0132401\ttest-auc:0.80892+0.0298528\n",
      "[10]\ttrain-auc:0.943573+0.00321037\ttest-auc:0.882565+0.0130454\n",
      "[20]\ttrain-auc:0.970305+0.00284899\ttest-auc:0.897077+0.0101041\n",
      "[30]\ttrain-auc:0.982632+0.00111647\ttest-auc:0.906225+0.00937864\n",
      "[40]\ttrain-auc:0.990436+0.000771175\ttest-auc:0.911092+0.00782767\n",
      "[50]\ttrain-auc:0.994755+0.00034379\ttest-auc:0.912635+0.00755735\n",
      "[60]\ttrain-auc:0.997123+0.000261251\ttest-auc:0.913497+0.00624337\n",
      "[70]\ttrain-auc:0.998425+0.000209796\ttest-auc:0.913824+0.00564253\n",
      "[80]\ttrain-auc:0.999187+0.000216432\ttest-auc:0.912574+0.00594892\n",
      "[90]\ttrain-auc:0.999596+0.000134852\ttest-auc:0.912892+0.00510949\n",
      "[100]\ttrain-auc:0.999815+8.04562e-05\ttest-auc:0.912273+0.00614257\n",
      "[110]\ttrain-auc:0.999911+5.18482e-05\ttest-auc:0.911704+0.00591394\n",
      "\n",
      "Model Report\n",
      "n_estimators:  68\n",
      "Training:\n",
      "Accuracy : 0.9838\n",
      "F1 Score : 0.807148\n",
      "AUC Score (Train): 0.997640\n",
      "Classification Report : \n",
      "             precision    recall  f1-score   support\n",
      "\n",
      "          0       0.98      1.00      0.99     15200\n",
      "          1       1.00      0.68      0.81       800\n",
      "\n",
      "avg / total       0.98      0.98      0.98     16000\n",
      "\n",
      "\n",
      "Testing: \n",
      "Accuracy : 0.964\n",
      "F1 Score : 0.496503\n",
      "AUC Score (Test): 0.918136\n",
      "Classification Report : \n",
      "             precision    recall  f1-score   support\n",
      "\n",
      "          0       0.97      1.00      0.98      3800\n",
      "          1       0.83      0.35      0.50       200\n",
      "\n",
      "avg / total       0.96      0.96      0.96      4000\n",
      "\n"
     ]
    },
    {
     "data": {
      "text/plain": [
       "trans_stat_sum          88\n",
       "total_trans_rate        69\n",
       "every_ave_period        64\n",
       "total_period            59\n",
       "起付标准以上自负比例金额_max        59\n",
       "every_max_period        55\n",
       "every_q3_period         52\n",
       "中成药费发生金额_max            49\n",
       "freq_to_hospital_max    45\n",
       "三目统计项目_std              43\n",
       "trans_stat_mean         42\n",
       "trans_stat_q3           40\n",
       "num_total_hospitals     40\n",
       "last_time               37\n",
       "trans_stat_std          37\n",
       "三目统计项目_sum              35\n",
       "total_rate              33\n",
       "fee_zifei_mean          33\n",
       "药品费自费金额_std             33\n",
       "中成药费发生金额_sum            32\n",
       "trans_stat_max          32\n",
       "非账户支付金额_max             30\n",
       "基本医疗保险统筹基金支付金额_q3       30\n",
       "起付标准以上自负比例金额_sum        30\n",
       "药品费自费金额_max             29\n",
       "基本医疗保险统筹基金支付金额_max      27\n",
       "药品费发生金额_max             27\n",
       "起付标准以上自负比例金额_q1         27\n",
       "中成药费发生金额_std            27\n",
       "药品费发生金额_sum             27\n",
       "                        ..\n",
       "其它发生金额_max               1\n",
       "床位费发生金额_std              1\n",
       "床位费发生金额_mean             1\n",
       "贵重药品发生金额_q3              1\n",
       "治疗费申报金额_q2               1\n",
       "医用材料发生金额_q1              1\n",
       "民政救助补助金额_q3              1\n",
       "fee_fasheng_sum          1\n",
       "三目统计项目_q3                1\n",
       "城乡救助补助金额_q1              1\n",
       "补助审批金额_std               1\n",
       "贵重检查费金额_std              1\n",
       "freq_hospital_160        1\n",
       "freq_hospital_161        1\n",
       "freq_hospital_170        1\n",
       "every_period_8.1         1\n",
       "freq_hospital_183        1\n",
       "every_period_7.1         1\n",
       "freq_hospital_201        1\n",
       "补助审批金额_q1                1\n",
       "药品费申报金额_q1               1\n",
       "检查费申报金额_q3               1\n",
       "城乡救助补助金额_std             1\n",
       "治疗费自费金额_sum              1\n",
       "every_period_22.1        1\n",
       "every_period_22          1\n",
       "every_period_20          1\n",
       "城乡救助补助金额_q2              1\n",
       "补助审批金额_q3                1\n",
       "本次审批金额_sum               1\n",
       "dtype: int64"
      ]
     },
     "execution_count": 21,
     "metadata": {},
     "output_type": "execute_result"
    },
    {
     "data": {
      "image/png": "[encoded data removed]",
      "text/plain": [
       "<matplotlib.figure.Figure at 0x15d220b8>"
      ]
     },
     "metadata": {},
     "output_type": "display_data"
    }
   ],
   "source": [
    "# Re-calibrate the number of boosting rounds for the updated parameters\n",
    "xgb2 = XGBClassifier(\n",
    " learning_rate =0.1,\n",
    " n_estimators=1000,\n",
    " max_depth=8,\n",
    " min_child_weight=4,\n",
    " gamma=0.1,\n",
    " subsample=0.8,\n",
    " colsample_bytree=0.8,\n",
    " objective= 'binary:logistic',\n",
    " nthread=4,\n",
    " scale_pos_weight=1,\n",
    " seed=27)\n",
    "modelfit(xgb2, df_train, df_test,predictors)"
   ]
  },
  {
   "cell_type": "markdown",
   "metadata": {},
   "source": [
    "Here, we can not see the improvement in score. So the final parameters are:\n",
    "\n",
    "max_depth: 4\n",
    "min_child_weight: 3\n",
    "gamma: 0"
   ]
  },
  {
   "cell_type": "markdown",
   "metadata": {},
   "source": [
    "## Tune subsample and colsample_bytree"
   ]
  },
  {
   "cell_type": "code",
   "execution_count": 22,
   "metadata": {
    "collapsed": false
   },
   "outputs": [
    {
     "data": {
      "text/plain": [
       "([mean: 0.91171, std: 0.01088, params: {'subsample': 0.7, 'colsample_bytree': 0.7},\n",
       "  mean: 0.91523, std: 0.01364, params: {'subsample': 0.8, 'colsample_bytree': 0.7},\n",
       "  mean: 0.91532, std: 0.01111, params: {'subsample': 0.9, 'colsample_bytree': 0.7},\n",
       "  mean: 0.91442, std: 0.01102, params: {'subsample': 0.7, 'colsample_bytree': 0.8},\n",
       "  mean: 0.91682, std: 0.01083, params: {'subsample': 0.8, 'colsample_bytree': 0.8},\n",
       "  mean: 0.91522, std: 0.01094, params: {'subsample': 0.9, 'colsample_bytree': 0.8},\n",
       "  mean: 0.91327, std: 0.01170, params: {'subsample': 0.7, 'colsample_bytree': 0.9},\n",
       "  mean: 0.91487, std: 0.01101, params: {'subsample': 0.8, 'colsample_bytree': 0.9},\n",
       "  mean: 0.91336, std: 0.01270, params: {'subsample': 0.9, 'colsample_bytree': 0.9}],\n",
       " {'colsample_bytree': 0.8, 'subsample': 0.8},\n",
       " 0.9168215460526316)"
      ]
     },
     "execution_count": 22,
     "metadata": {},
     "output_type": "execute_result"
    }
   ],
   "source": [
    "param_test4 = {\n",
    " 'subsample':[i/10.0 for i in range(7,10)],\n",
    " 'colsample_bytree':[i/10.0 for i in range(7,10)]\n",
    "}\n",
    "gsearch4 = GridSearchCV(estimator = XGBClassifier( learning_rate =0.1, n_estimators=68, max_depth=8,\n",
    " min_child_weight=4, gamma=0.1, subsample=0.8, colsample_bytree=0.8,\n",
    " objective= 'binary:logistic', nthread=4, scale_pos_weight=1,seed=27), \n",
    " param_grid = param_test4, scoring='roc_auc',n_jobs=4,iid=False, cv=5)\n",
    "gsearch4.fit(df_train[predictors],df_train[target])\n",
    "gsearch4.grid_scores_, gsearch4.best_params_, gsearch4.best_score_"
   ]
  },
  {
   "cell_type": "code",
   "execution_count": 21,
   "metadata": {
    "collapsed": false
   },
   "outputs": [
    {
     "data": {
      "text/plain": [
       "([mean: 0.91444, std: 0.01017, params: {'subsample': 0.75, 'colsample_bytree': 0.75},\n",
       "  mean: 0.91434, std: 0.01146, params: {'subsample': 0.8, 'colsample_bytree': 0.75},\n",
       "  mean: 0.91180, std: 0.01267, params: {'subsample': 0.85, 'colsample_bytree': 0.75},\n",
       "  mean: 0.91338, std: 0.01216, params: {'subsample': 0.75, 'colsample_bytree': 0.8},\n",
       "  mean: 0.91589, std: 0.00939, params: {'subsample': 0.8, 'colsample_bytree': 0.8},\n",
       "  mean: 0.91400, std: 0.01195, params: {'subsample': 0.85, 'colsample_bytree': 0.8},\n",
       "  mean: 0.91422, std: 0.00979, params: {'subsample': 0.75, 'colsample_bytree': 0.85},\n",
       "  mean: 0.91369, std: 0.01178, params: {'subsample': 0.8, 'colsample_bytree': 0.85},\n",
       "  mean: 0.91165, std: 0.01205, params: {'subsample': 0.85, 'colsample_bytree': 0.85}],\n",
       " {'colsample_bytree': 0.8, 'subsample': 0.8},\n",
       " 0.9158910361842105)"
      ]
     },
     "execution_count": 21,
     "metadata": {},
     "output_type": "execute_result"
    }
   ],
   "source": [
    "param_test5 = {\n",
    " 'subsample':[i/100.0 for i in range(75,90,5)],\n",
    " 'colsample_bytree':[i/100.0 for i in range(75,90,5)]\n",
    "}\n",
    "gsearch5 = GridSearchCV(estimator = XGBClassifier( learning_rate =0.1, n_estimators=97, max_depth=8,\n",
    " min_child_weight=2, gamma=0.1, subsample=0.8, colsample_bytree=0.8,\n",
    " objective= 'binary:logistic', nthread=4, scale_pos_weight=1,seed=27), \n",
    " param_grid = param_test5, scoring='roc_auc',n_jobs=4,iid=False, cv=5)\n",
    "gsearch5.fit(df_train[predictors],df_train[target])\n",
    "gsearch5.grid_scores_, gsearch4.best_params_, gsearch4.best_score_"
   ]
  },
  {
   "cell_type": "markdown",
   "metadata": {},
   "source": [
    "## Step 5: Tuning Regularization Parameters"
   ]
  },
  {
   "cell_type": "code",
   "execution_count": 23,
   "metadata": {
    "collapsed": false
   },
   "outputs": [
    {
     "data": {
      "text/plain": [
       "([mean: 0.91682, std: 0.01083, params: {'reg_alpha': 0},\n",
       "  mean: 0.91682, std: 0.01083, params: {'reg_alpha': 1e-05},\n",
       "  mean: 0.91481, std: 0.00877, params: {'reg_alpha': 0.01},\n",
       "  mean: 0.91507, std: 0.01055, params: {'reg_alpha': 0.1}],\n",
       " {'reg_alpha': 0},\n",
       " 0.9168215460526316)"
      ]
     },
     "execution_count": 23,
     "metadata": {},
     "output_type": "execute_result"
    }
   ],
   "source": [
    "# 'reg_alpha':[1e-5, 1e-2, 0.1, 1, 100]\n",
    "param_test6 = {\n",
    " 'reg_alpha':[0,1e-5, 1e-2, 0.1]\n",
    "}\n",
    "gsearch6 = GridSearchCV(estimator = XGBClassifier( learning_rate =0.1, n_estimators=68, max_depth=8,\n",
    " min_child_weight=4, gamma=0.1, subsample=0.8, colsample_bytree=0.8,\n",
    " objective= 'binary:logistic', nthread=4, scale_pos_weight=1,seed=27), \n",
    " param_grid = param_test6, scoring='roc_auc',n_jobs=4,iid=False, cv=5)\n",
    "gsearch6.fit(df_train[predictors],df_train[target])\n",
    "gsearch6.grid_scores_, gsearch6.best_params_, gsearch6.best_score_"
   ]
  },
  {
   "cell_type": "code",
   "execution_count": 27,
   "metadata": {
    "collapsed": false
   },
   "outputs": [
    {
     "data": {
      "text/plain": [
       "([mean: 0.91402, std: 0.01244, params: {'reg_alpha': 0},\n",
       "  mean: 0.91402, std: 0.01244, params: {'reg_alpha': 1e-06},\n",
       "  mean: 0.91402, std: 0.01244, params: {'reg_alpha': 1e-05}],\n",
       " {'reg_alpha': 0},\n",
       " 0.9140180921052631)"
      ]
     },
     "execution_count": 27,
     "metadata": {},
     "output_type": "execute_result"
    }
   ],
   "source": [
    "param_test6 = {\n",
    " 'reg_alpha':[0,1e-06,1e-05]\n",
    "}\n",
    "gsearch6 = GridSearchCV(estimator = XGBClassifier( learning_rate =0.1, n_estimators=55, max_depth=7,\n",
    " min_child_weight=1, gamma=0, subsample=0.9, colsample_bytree=0.9,\n",
    " objective= 'binary:logistic', nthread=4, scale_pos_weight=1,seed=27), \n",
    " param_grid = param_test6, scoring='roc_auc',n_jobs=4,iid=False, cv=5)\n",
    "gsearch6.fit(df_train[predictors],df_train[target])\n",
    "gsearch6.grid_scores_, gsearch6.best_params_, gsearch6.best_score_"
   ]
  },
  {
   "cell_type": "code",
   "execution_count": 24,
   "metadata": {
    "collapsed": false
   },
   "outputs": [
    {
     "name": "stdout",
     "output_type": "stream",
     "text": [
      "[0]\ttrain-auc:0.852251+0.0132401\ttest-auc:0.80892+0.0298528\n",
      "[10]\ttrain-auc:0.943573+0.00321037\ttest-auc:0.882565+0.0130454\n",
      "[20]\ttrain-auc:0.970305+0.00284899\ttest-auc:0.897077+0.0101041\n",
      "[30]\ttrain-auc:0.982632+0.00111647\ttest-auc:0.906225+0.00937864\n",
      "[40]\ttrain-auc:0.990436+0.000771175\ttest-auc:0.911092+0.00782767\n",
      "[50]\ttrain-auc:0.994755+0.00034379\ttest-auc:0.912635+0.00755735\n",
      "[60]\ttrain-auc:0.997123+0.000261251\ttest-auc:0.913497+0.00624337\n",
      "[70]\ttrain-auc:0.998425+0.000209796\ttest-auc:0.913824+0.00564253\n",
      "[80]\ttrain-auc:0.999187+0.000216432\ttest-auc:0.912574+0.00594892\n",
      "[90]\ttrain-auc:0.999596+0.000134852\ttest-auc:0.912892+0.00510949\n",
      "[100]\ttrain-auc:0.999815+8.04562e-05\ttest-auc:0.912273+0.00614257\n",
      "[110]\ttrain-auc:0.999911+5.18482e-05\ttest-auc:0.911704+0.00591394\n",
      "\n",
      "Model Report\n",
      "n_estimators:  68\n",
      "Training:\n",
      "Accuracy : 0.9838\n",
      "F1 Score : 0.807148\n",
      "AUC Score (Train): 0.997640\n",
      "Classification Report : \n",
      "             precision    recall  f1-score   support\n",
      "\n",
      "          0       0.98      1.00      0.99     15200\n",
      "          1       1.00      0.68      0.81       800\n",
      "\n",
      "avg / total       0.98      0.98      0.98     16000\n",
      "\n",
      "\n",
      "Testing: \n",
      "Accuracy : 0.964\n",
      "F1 Score : 0.496503\n",
      "AUC Score (Test): 0.918136\n",
      "Classification Report : \n",
      "             precision    recall  f1-score   support\n",
      "\n",
      "          0       0.97      1.00      0.98      3800\n",
      "          1       0.83      0.35      0.50       200\n",
      "\n",
      "avg / total       0.96      0.96      0.96      4000\n",
      "\n"
     ]
    },
    {
     "data": {
      "text/plain": [
       "trans_stat_sum          88\n",
       "total_trans_rate        69\n",
       "every_ave_period        64\n",
       "total_period            59\n",
       "起付标准以上自负比例金额_max        59\n",
       "every_max_period        55\n",
       "every_q3_period         52\n",
       "中成药费发生金额_max            49\n",
       "freq_to_hospital_max    45\n",
       "三目统计项目_std              43\n",
       "trans_stat_mean         42\n",
       "trans_stat_q3           40\n",
       "num_total_hospitals     40\n",
       "last_time               37\n",
       "trans_stat_std          37\n",
       "三目统计项目_sum              35\n",
       "total_rate              33\n",
       "fee_zifei_mean          33\n",
       "药品费自费金额_std             33\n",
       "中成药费发生金额_sum            32\n",
       "trans_stat_max          32\n",
       "非账户支付金额_max             30\n",
       "基本医疗保险统筹基金支付金额_q3       30\n",
       "起付标准以上自负比例金额_sum        30\n",
       "药品费自费金额_max             29\n",
       "基本医疗保险统筹基金支付金额_max      27\n",
       "药品费发生金额_max             27\n",
       "起付标准以上自负比例金额_q1         27\n",
       "中成药费发生金额_std            27\n",
       "药品费发生金额_sum             27\n",
       "                        ..\n",
       "其它发生金额_max               1\n",
       "床位费发生金额_std              1\n",
       "床位费发生金额_mean             1\n",
       "贵重药品发生金额_q3              1\n",
       "治疗费申报金额_q2               1\n",
       "医用材料发生金额_q1              1\n",
       "民政救助补助金额_q3              1\n",
       "fee_fasheng_sum          1\n",
       "三目统计项目_q3                1\n",
       "城乡救助补助金额_q1              1\n",
       "补助审批金额_std               1\n",
       "贵重检查费金额_std              1\n",
       "freq_hospital_160        1\n",
       "freq_hospital_161        1\n",
       "freq_hospital_170        1\n",
       "every_period_8.1         1\n",
       "freq_hospital_183        1\n",
       "every_period_7.1         1\n",
       "freq_hospital_201        1\n",
       "补助审批金额_q1                1\n",
       "药品费申报金额_q1               1\n",
       "检查费申报金额_q3               1\n",
       "城乡救助补助金额_std             1\n",
       "治疗费自费金额_sum              1\n",
       "every_period_22.1        1\n",
       "every_period_22          1\n",
       "every_period_20          1\n",
       "城乡救助补助金额_q2              1\n",
       "补助审批金额_q3                1\n",
       "本次审批金额_sum               1\n",
       "dtype: int64"
      ]
     },
     "execution_count": 24,
     "metadata": {},
     "output_type": "execute_result"
    },
    {
     "data": {
      "image/png": "[encoded data removed]",
      "text/plain": [
       "<matplotlib.figure.Figure at 0x140e8710>"
      ]
     },
     "metadata": {},
     "output_type": "display_data"
    }
   ],
   "source": [
    "xgb3 = XGBClassifier(\n",
    " learning_rate =0.1,\n",
    " n_estimators=1000,\n",
    " max_depth=8,\n",
    " min_child_weight=4,\n",
    " gamma=0.1,\n",
    " subsample=0.8,\n",
    " colsample_bytree=0.8,\n",
    " reg_alpha=0,\n",
    " objective= 'binary:logistic',\n",
    " nthread=4,\n",
    " scale_pos_weight=1,\n",
    " seed=27)\n",
    "modelfit(xgb3, df_train,df_test, predictors)"
   ]
  },
  {
   "cell_type": "markdown",
   "metadata": {},
   "source": [
    "方案1  \n",
    "- ** 最优参数1**  \n",
    "\n",
    "params = dict(learning_rate =0.1, n_estimators=60, max_depth=7, min_child_weight=1,gamma=0,subsample=0.9, colsample_bytree=0.9, reg_alpha=0, objective= 'binary:logistic', nthread=4, scale_pos_weight=1, seed=27)\n",
    "- ** 最优参数2** \n",
    "\n",
    "params = dict(learning_rate =0.01, n_estimators=725, max_depth=7, min_child_weight=1,gamma=0,subsample=0.9, colsample_bytree=0.9, reg_alpha=0, objective= 'binary:logistic', nthread=4, scale_pos_weight=1, seed=27)\n",
    "\n",
    "方案2  \n",
    "- ** 最优参数1**  \n",
    "\n",
    "XGBClassifier(learning_rate =0.1, n_estimators=97, max_depth=8, min_child_weight=2, gamma=0.1, subsample=0.8, colsample_bytree=0.8, reg_alpha=0, objective= 'binary:logistic', nthread=4, scale_pos_weight=1, seed=27)\n",
    "threhold = 0.17\n",
    "\n",
    "- ** 最优参数2**   \n",
    "\n",
    "XGBClassifier(learning_rate =0.01, n_estimators=872, max_depth=8, min_child_weight=2, gamma=0.1, subsample=0.8, colsample_bytree=0.8, reg_alpha=0, objective= 'binary:logistic', nthread=4, scale_pos_weight=1, seed=27)"
   ]
  },
  {
   "cell_type": "markdown",
   "metadata": {},
   "source": [
    "## Step 6: Reducing Learning Rate"
   ]
  },
  {
   "cell_type": "code",
   "execution_count": 25,
   "metadata": {
    "collapsed": false,
    "scrolled": false
   },
   "outputs": [
    {
     "name": "stdout",
     "output_type": "stream",
     "text": [
      "[0]\ttrain-auc:0.852251+0.0132401\ttest-auc:0.80892+0.0298528\n",
      "[10]\ttrain-auc:0.911634+0.00736422\ttest-auc:0.866361+0.0203764\n",
      "[20]\ttrain-auc:0.922419+0.00458052\ttest-auc:0.874039+0.0205834\n",
      "[30]\ttrain-auc:0.927604+0.00452565\ttest-auc:0.877392+0.0170199\n",
      "[40]\ttrain-auc:0.93189+0.00378426\ttest-auc:0.879785+0.0163939\n",
      "[50]\ttrain-auc:0.934922+0.00430957\ttest-auc:0.881593+0.0160101\n",
      "[60]\ttrain-auc:0.938952+0.00408904\ttest-auc:0.885417+0.0162541\n",
      "[70]\ttrain-auc:0.942674+0.00481798\ttest-auc:0.887565+0.0170856\n",
      "[80]\ttrain-auc:0.946186+0.0042887\ttest-auc:0.890119+0.0152958\n",
      "[90]\ttrain-auc:0.949836+0.00413682\ttest-auc:0.891078+0.0147841\n",
      "[100]\ttrain-auc:0.95266+0.00384433\ttest-auc:0.893363+0.0138311\n",
      "[110]\ttrain-auc:0.955451+0.00351533\ttest-auc:0.893965+0.014284\n",
      "[120]\ttrain-auc:0.957737+0.00349767\ttest-auc:0.896105+0.0134524\n",
      "[130]\ttrain-auc:0.960365+0.00290598\ttest-auc:0.897728+0.0121387\n",
      "[140]\ttrain-auc:0.962651+0.00273597\ttest-auc:0.899394+0.0113922\n",
      "[150]\ttrain-auc:0.964592+0.00231308\ttest-auc:0.899984+0.0106069\n",
      "[160]\ttrain-auc:0.966506+0.00231342\ttest-auc:0.900928+0.0106252\n",
      "[170]\ttrain-auc:0.968207+0.00212616\ttest-auc:0.901543+0.0105773\n",
      "[180]\ttrain-auc:0.969872+0.00196214\ttest-auc:0.902031+0.0104102\n",
      "[190]\ttrain-auc:0.971415+0.00178888\ttest-auc:0.902799+0.00955506\n",
      "[200]\ttrain-auc:0.972728+0.00158978\ttest-auc:0.903892+0.00924623\n",
      "[210]\ttrain-auc:0.974309+0.00137959\ttest-auc:0.904405+0.00900092\n",
      "[220]\ttrain-auc:0.975571+0.00118142\ttest-auc:0.905157+0.00835681\n",
      "[230]\ttrain-auc:0.976715+0.00119503\ttest-auc:0.905383+0.00845477\n",
      "[240]\ttrain-auc:0.977906+0.00113266\ttest-auc:0.906109+0.00833987\n",
      "[250]\ttrain-auc:0.979145+0.000992618\ttest-auc:0.906675+0.00823862\n",
      "[260]\ttrain-auc:0.980149+0.000830536\ttest-auc:0.907306+0.00779828\n",
      "[270]\ttrain-auc:0.981255+0.000866648\ttest-auc:0.907983+0.00778848\n",
      "[280]\ttrain-auc:0.982367+0.000835411\ttest-auc:0.908736+0.00771284\n",
      "[290]\ttrain-auc:0.983305+0.000757388\ttest-auc:0.909383+0.00762967\n",
      "[300]\ttrain-auc:0.9842+0.0007822\ttest-auc:0.909851+0.0075029\n",
      "[310]\ttrain-auc:0.985103+0.000748393\ttest-auc:0.910611+0.00732939\n",
      "[320]\ttrain-auc:0.985991+0.00065798\ttest-auc:0.911205+0.00722178\n",
      "[330]\ttrain-auc:0.986894+0.000575061\ttest-auc:0.911887+0.00736442\n",
      "[340]\ttrain-auc:0.98767+0.000536253\ttest-auc:0.91239+0.00724246\n",
      "[350]\ttrain-auc:0.988458+0.000539545\ttest-auc:0.913022+0.00725432\n",
      "[360]\ttrain-auc:0.989222+0.000474093\ttest-auc:0.913661+0.00723816\n",
      "[370]\ttrain-auc:0.98993+0.000387788\ttest-auc:0.914176+0.00738623\n",
      "[380]\ttrain-auc:0.990618+0.000288024\ttest-auc:0.914516+0.00761742\n",
      "[390]\ttrain-auc:0.9912+0.000263369\ttest-auc:0.914751+0.00755723\n",
      "[400]\ttrain-auc:0.991826+0.000172799\ttest-auc:0.915171+0.00756438\n",
      "[410]\ttrain-auc:0.992326+0.00013486\ttest-auc:0.915426+0.00755211\n",
      "[420]\ttrain-auc:0.992827+0.000146957\ttest-auc:0.915569+0.00729526\n",
      "[430]\ttrain-auc:0.993312+0.000116742\ttest-auc:0.915734+0.00728244\n",
      "[440]\ttrain-auc:0.993773+0.000108932\ttest-auc:0.916092+0.00723205\n",
      "[450]\ttrain-auc:0.994171+0.000117249\ttest-auc:0.91637+0.00705356\n",
      "[460]\ttrain-auc:0.994568+0.00011091\ttest-auc:0.916553+0.00698849\n",
      "[470]\ttrain-auc:0.994906+0.0001215\ttest-auc:0.916785+0.00696887\n",
      "[480]\ttrain-auc:0.99521+8.97316e-05\ttest-auc:0.917155+0.0069713\n",
      "[490]\ttrain-auc:0.995509+9.53864e-05\ttest-auc:0.917342+0.00708272\n",
      "[500]\ttrain-auc:0.995815+6.27171e-05\ttest-auc:0.91745+0.00712516\n",
      "[510]\ttrain-auc:0.99606+6.2192e-05\ttest-auc:0.917672+0.00702355\n",
      "[520]\ttrain-auc:0.996331+7.22424e-05\ttest-auc:0.917996+0.00703987\n",
      "[530]\ttrain-auc:0.996582+8.47335e-05\ttest-auc:0.918155+0.0070151\n",
      "[540]\ttrain-auc:0.99676+0.000112294\ttest-auc:0.918217+0.00699203\n",
      "[550]\ttrain-auc:0.996969+7.90099e-05\ttest-auc:0.918447+0.0070375\n",
      "[560]\ttrain-auc:0.997164+6.27165e-05\ttest-auc:0.91846+0.00704794\n",
      "[570]\ttrain-auc:0.997335+5.68415e-05\ttest-auc:0.918487+0.00704001\n",
      "[580]\ttrain-auc:0.997514+6.27841e-05\ttest-auc:0.918606+0.00711196\n",
      "[590]\ttrain-auc:0.997678+7.54151e-05\ttest-auc:0.918818+0.00707793\n",
      "[600]\ttrain-auc:0.997818+8.06786e-05\ttest-auc:0.9189+0.00713333\n",
      "[610]\ttrain-auc:0.99793+6.81393e-05\ttest-auc:0.918922+0.00711616\n",
      "[620]\ttrain-auc:0.998075+5.77699e-05\ttest-auc:0.918982+0.00707525\n",
      "[630]\ttrain-auc:0.998204+5.25319e-05\ttest-auc:0.919051+0.00716882\n",
      "[640]\ttrain-auc:0.998309+6.20535e-05\ttest-auc:0.919099+0.00712348\n",
      "[650]\ttrain-auc:0.998412+6.30194e-05\ttest-auc:0.919161+0.0070587\n",
      "[660]\ttrain-auc:0.998515+6.35956e-05\ttest-auc:0.919217+0.00701909\n",
      "[670]\ttrain-auc:0.998637+7.77879e-05\ttest-auc:0.919205+0.00704976\n",
      "[680]\ttrain-auc:0.998725+7.21598e-05\ttest-auc:0.919275+0.00700293\n",
      "[690]\ttrain-auc:0.998813+6.99554e-05\ttest-auc:0.919273+0.0069715\n",
      "[700]\ttrain-auc:0.9989+7.7685e-05\ttest-auc:0.919302+0.00703489\n",
      "[710]\ttrain-auc:0.998979+7.19461e-05\ttest-auc:0.919371+0.00706246\n",
      "[720]\ttrain-auc:0.999046+7.65496e-05\ttest-auc:0.919469+0.00707701\n",
      "[730]\ttrain-auc:0.999104+8.78963e-05\ttest-auc:0.919338+0.00706765\n",
      "[740]\ttrain-auc:0.999171+8.53417e-05\ttest-auc:0.919353+0.00701551\n",
      "[750]\ttrain-auc:0.999225+8.25712e-05\ttest-auc:0.919297+0.00700226\n",
      "[760]\ttrain-auc:0.999283+7.81348e-05\ttest-auc:0.919336+0.00708291\n",
      "\n",
      "Model Report\n",
      "n_estimators:  719\n",
      "Training:\n",
      "Accuracy : 0.9854\n",
      "F1 Score : 0.829554\n",
      "AUC Score (Train): 0.998552\n",
      "Classification Report : \n",
      "             precision    recall  f1-score   support\n",
      "\n",
      "          0       0.98      1.00      0.99     15200\n",
      "          1       1.00      0.71      0.83       800\n",
      "\n",
      "avg / total       0.99      0.99      0.98     16000\n",
      "\n",
      "\n",
      "Testing: \n",
      "Accuracy : 0.9657\n",
      "F1 Score : 0.515901\n",
      "AUC Score (Test): 0.926124\n",
      "Classification Report : \n",
      "             precision    recall  f1-score   support\n",
      "\n",
      "          0       0.97      1.00      0.98      3800\n",
      "          1       0.88      0.36      0.52       200\n",
      "\n",
      "avg / total       0.96      0.97      0.96      4000\n",
      "\n"
     ]
    },
    {
     "data": {
      "text/plain": [
       "trans_stat_sum          903\n",
       "total_trans_rate        770\n",
       "every_ave_period        696\n",
       "total_period            618\n",
       "every_q3_period         603\n",
       "every_max_period        532\n",
       "起付标准以上自负比例金额_max        491\n",
       "num_total_hospitals     491\n",
       "中成药费发生金额_max            477\n",
       "三目统计项目_sum              448\n",
       "trans_stat_q3           425\n",
       "last_time               409\n",
       "trans_stat_std          408\n",
       "freq_to_hospital_max    386\n",
       "三目统计项目_std              376\n",
       "非账户支付金额_max             371\n",
       "total_rate              355\n",
       "中成药费发生金额_sum            331\n",
       "药品费申报金额_max             323\n",
       "贵重药品发生金额_max            323\n",
       "trans_stat_mean         323\n",
       "三目统计项目_mean             321\n",
       "药品费自费金额_sum             320\n",
       "fee_zifei_mean          319\n",
       "基本医疗保险统筹基金支付金额_q3       313\n",
       "中成药费发生金额_std            302\n",
       "药品费发生金额_max             294\n",
       "trans_stat_max          292\n",
       "every_period_2          291\n",
       "起付标准以上自负比例金额_sum        277\n",
       "                       ... \n",
       "every_period_28           2\n",
       "freq_hospital_193         2\n",
       "every_period_37           2\n",
       "医疗救助个人按比例负担金额_q3          2\n",
       "公务员医疗补助基金支付金额_max         2\n",
       "公务员医疗补助基金支付金额_q2          2\n",
       "every_period_21.1         2\n",
       "freq_hospital_141         2\n",
       "freq_hospital_143         2\n",
       "freq_hospital_161         2\n",
       "公务员医疗补助基金支付金额_sum         1\n",
       "其它发生金额_q3                 1\n",
       "公务员医疗补助基金支付金额_std         1\n",
       "药品费自费金额_q2                1\n",
       "freq_hospital_723         1\n",
       "治疗费自费金额_q3                1\n",
       "一次性医用材料申报金额_q1            1\n",
       "freq_hospital_896         1\n",
       "every_period_20.1         1\n",
       "freq_hospital_571         1\n",
       "freq_hospital_558         1\n",
       "freq_hospital_201         1\n",
       "freq_hospital_154         1\n",
       "freq_hospital_153         1\n",
       "freq_hospital_140         1\n",
       "freq_hospital_127         1\n",
       "freq_hospital_1254        1\n",
       "every_period_28.1         1\n",
       "every_period_25.1         1\n",
       "高价材料发生金额_sum              1\n",
       "dtype: int64"
      ]
     },
     "execution_count": 25,
     "metadata": {},
     "output_type": "execute_result"
    },
    {
     "data": {
      "image/png": "[encoded data removed]",
      "text/plain": [
       "<matplotlib.figure.Figure at 0xf8e2080>"
      ]
     },
     "metadata": {},
     "output_type": "display_data"
    }
   ],
   "source": [
    "xgb4 = XGBClassifier(\n",
    " learning_rate =0.01,\n",
    " n_estimators=5000,\n",
    " max_depth=8,\n",
    " min_child_weight=4,\n",
    " gamma=0.1,\n",
    " subsample=0.8,\n",
    " colsample_bytree=0.8,\n",
    " reg_alpha=0,\n",
    " objective= 'binary:logistic',\n",
    " nthread=4,\n",
    " scale_pos_weight=1,\n",
    " seed=27)\n",
    "modelfit(xgb4, df_train,df_test, predictors)"
   ]
  },
  {
   "cell_type": "markdown",
   "metadata": {},
   "source": [
    "# Best Model Analysis"
   ]
  },
  {
   "cell_type": "markdown",
   "metadata": {},
   "source": [
    "## Training and Prediction"
   ]
  },
  {
   "cell_type": "code",
   "execution_count": 41,
   "metadata": {
    "collapsed": false
   },
   "outputs": [
    {
     "data": {
      "text/plain": [
       "XGBClassifier(base_score=0.5, colsample_bylevel=1, colsample_bytree=0.8,\n",
       "       gamma=0.1, learning_rate=0.01, max_delta_step=0, max_depth=8,\n",
       "       min_child_weight=2, missing=None, n_estimators=872, nthread=4,\n",
       "       objective='binary:logistic', reg_alpha=0, reg_lambda=1,\n",
       "       scale_pos_weight=1, seed=27, silent=True, subsample=0.8)"
      ]
     },
     "execution_count": 41,
     "metadata": {},
     "output_type": "execute_result"
    }
   ],
   "source": [
    "xgb = XGBClassifier(\n",
    " learning_rate =0.01,\n",
    " n_estimators=719,\n",
    " max_depth=8,\n",
    " min_child_weight=4,\n",
    " gamma=0.1,\n",
    " subsample=0.8,\n",
    " colsample_bytree=0.8,\n",
    " reg_alpha=0,\n",
    " objective= 'binary:logistic',\n",
    " nthread=4,\n",
    " scale_pos_weight=1,\n",
    " seed=27)\n",
    "xgb.fit(df_train[predictors],df_train[target])"
   ]
  },
  {
   "cell_type": "code",
   "execution_count": 42,
   "metadata": {
    "collapsed": false
   },
   "outputs": [
    {
     "name": "stdout",
     "output_type": "stream",
     "text": [
      "Accuracy : 0.9637\n",
      "F1 Score : 0.483986\n",
      "AUC Score (Test): 0.927057\n",
      "Classification Report : \n",
      "             precision    recall  f1-score   support\n",
      "\n",
      "          0       0.97      1.00      0.98      3800\n",
      "          1       0.84      0.34      0.48       200\n",
      "\n",
      "avg / total       0.96      0.96      0.96      4000\n",
      "\n"
     ]
    },
    {
     "data": {
      "text/plain": [
       "<matplotlib.text.Text at 0x113f5da0>"
      ]
     },
     "execution_count": 42,
     "metadata": {},
     "output_type": "execute_result"
    },
    {
     "data": {
      "image/png": "[encoded data removed]",
      "text/plain": [
       "<matplotlib.figure.Figure at 0xb6ab1d0>"
      ]
     },
     "metadata": {},
     "output_type": "display_data"
    }
   ],
   "source": [
    "# predict on testing data:\n",
    "df_test_predictions = xgb.predict(df_test[predictors])\n",
    "df_test_predprob = xgb.predict_proba(df_test[predictors])[:,1]\n",
    "\n",
    "print \"Accuracy : %.4g\" % metrics.accuracy_score(df_test[target], df_test_predictions)\n",
    "print \"F1 Score : %f\" % metrics.f1_score(df_test[target],df_test_predictions)\n",
    "print 'AUC Score (Test): %f' % metrics.roc_auc_score(df_test[target], df_test_predprob)\n",
    "print \"Classification Report : \\n\", metrics.classification_report(df_test[target],df_test_predictions)\n",
    "\n",
    "rcParams['figure.figsize'] = 12,4\n",
    "feat_imp = pd.Series(xgb.booster().get_fscore()).sort_values(ascending=False)\n",
    "feat_imp[0:60].plot(kind='bar', title='Feature Importance')\n",
    "plt.ylabel('Feature Importance Score')"
   ]
  },
  {
   "cell_type": "markdown",
   "metadata": {},
   "source": [
    "## Plotting confusion matrix"
   ]
  },
  {
   "cell_type": "code",
   "execution_count": 43,
   "metadata": {
    "collapsed": true
   },
   "outputs": [],
   "source": [
    "import itertools\n",
    "from sklearn.metrics import confusion_matrix\n",
    "import matplotlib.pyplot as plt\n",
    "plt.ion()\n",
    "\n",
    "def plot_confusion_matrix(cm, classes,\n",
    "                          normalize=False,\n",
    "                          title='Confusion matrix',\n",
    "                          cmap=plt.cm.Blues):\n",
    "    \"\"\"\n",
    "    This function prints and plots the confusion matrix.\n",
    "    Normalization can be applied by setting `normalize=True`.\n",
    "    \"\"\"\n",
    "    plt.imshow(cm, interpolation='nearest', cmap=cmap)\n",
    "    plt.title(title)\n",
    "    plt.colorbar()\n",
    "    tick_marks = np.arange(len(classes))\n",
    "    plt.xticks(tick_marks, classes, rotation=0)\n",
    "    plt.yticks(tick_marks, classes)\n",
    "\n",
    "    if normalize:\n",
    "        cm = cm.astype('float') / cm.sum(axis=1)[:, np.newaxis]\n",
    "        #print(\"Normalized confusion matrix\")\n",
    "    else:\n",
    "        1#print('Confusion matrix, without normalization')\n",
    "\n",
    "    #print(cm)\n",
    "\n",
    "    thresh = cm.max() / 2.\n",
    "    for i, j in itertools.product(range(cm.shape[0]), range(cm.shape[1])):\n",
    "        plt.text(j, i, cm[i, j],\n",
    "                 horizontalalignment=\"center\",\n",
    "                 color=\"white\" if cm[i, j] > thresh else \"black\")\n",
    "\n",
    "    plt.tight_layout()\n",
    "    plt.ylabel('True label')\n",
    "    plt.xlabel('Predicted label')"
   ]
  },
  {
   "cell_type": "markdown",
   "metadata": {},
   "source": [
    "### On Test Data Set"
   ]
  },
  {
   "cell_type": "code",
   "execution_count": 44,
   "metadata": {
    "collapsed": false
   },
   "outputs": [
    {
     "name": "stdout",
     "output_type": "stream",
     "text": [
      "F1 score:  0.483985765125\n",
      "Recall metric in testing dataset:  0.34\n"
     ]
    },
    {
     "data": {
      "image/png": "[encoded data removed]",
      "text/plain": [
       "<matplotlib.figure.Figure at 0x112eebe0>"
      ]
     },
     "metadata": {},
     "output_type": "display_data"
    }
   ],
   "source": [
    "#df_test_predictions = xgb.predict(dtest[predictors])\n",
    "#df_test_predprob = xgb.predict_proba(dtest[predictors])[:,1]\n",
    "\n",
    "#y_pred = np.zeros_like(y_pred_proba)\n",
    "#y_pred[y_pred_proba>0.03] = 1  # 大于0.03预测为正例\n",
    "\n",
    "print \"F1 score: \", metrics.f1_score(df_test[target], df_test_predictions)\n",
    "\n",
    "# confusion matrix\n",
    "cnf_matrix = confusion_matrix(df_test[target], df_test_predictions)\n",
    "np.set_printoptions(precision=2)\n",
    "\n",
    "print \"Recall metric in testing dataset: \", float(cnf_matrix[1,1])/(cnf_matrix[1,0]+cnf_matrix[1,1])\n",
    "\n",
    "# plot non_normalized confusion matrix\n",
    "class_names = [0,1]\n",
    "plt.figure()\n",
    "plot_confusion_matrix(cnf_matrix, classes = class_names, title='Confusion matrix - Test Set')\n",
    "plt.show()"
   ]
  },
  {
   "cell_type": "markdown",
   "metadata": {},
   "source": [
    "### On Whole Data Set"
   ]
  },
  {
   "cell_type": "code",
   "execution_count": 45,
   "metadata": {
    "collapsed": false
   },
   "outputs": [
    {
     "name": "stdout",
     "output_type": "stream",
     "text": [
      "F1 score:  0.883131201764\n",
      "Recall metric in testing dataset:  0.801\n"
     ]
    },
    {
     "data": {
      "image/png": "[encoded data removed]",
      "text/plain": [
       "<matplotlib.figure.Figure at 0xb8f6d68>"
      ]
     },
     "metadata": {},
     "output_type": "display_data"
    }
   ],
   "source": [
    "df_train_test_predictions = xgb.predict(df_train_test[predictors])\n",
    "df_train_test_predprob = xgb.predict_proba(df_train_test[predictors])[:,1]\n",
    "print \"F1 score: \", metrics.f1_score(df_train_test[target], df_train_test_predictions)\n",
    "\n",
    "# confusion matrix\n",
    "cnf_matrix = confusion_matrix(df_train_test[target], df_train_test_predictions)\n",
    "np.set_printoptions(precision=2)\n",
    "\n",
    "print \"Recall metric in testing dataset: \", float(cnf_matrix[1,1])/(cnf_matrix[1,0]+cnf_matrix[1,1])\n",
    "\n",
    "# plot non_normalized confusion matrix\n",
    "class_names = [0,1]\n",
    "plt.figure()\n",
    "plot_confusion_matrix(cnf_matrix, classes = class_names, title='Confusion matrix - Whole Set')\n",
    "plt.show()"
   ]
  },
  {
   "cell_type": "markdown",
   "metadata": {},
   "source": [
    "## ROC curve"
   ]
  },
  {
   "cell_type": "code",
   "execution_count": 46,
   "metadata": {
    "collapsed": false
   },
   "outputs": [
    {
     "data": {
      "image/png": "[encoded data removed]",
      "text/plain": [
       "<matplotlib.figure.Figure at 0x103e7160>"
      ]
     },
     "metadata": {},
     "output_type": "display_data"
    }
   ],
   "source": [
    "from sklearn.metrics import roc_curve, auc\n",
    "rcParams['figure.figsize'] = 6.4,4.8\n",
    "#df_test_predictions = xgb.predict(dtest[predictors])\n",
    "#df_test_predprob = xgb.predict_proba(dtest[predictors])[:,1]\n",
    "fpr, tpr, thresholds = roc_curve(df_test[target].values,df_test_predprob)\n",
    "# Plot Precision-Recall curve\n",
    "plt.plot(fpr, tpr, color='r')\n",
    "plt.xlabel('FPR')\n",
    "plt.ylabel('TPR-Recall')\n",
    "plt.ylim([0.0, 1.05])\n",
    "plt.xlim([0.0, 1.0])\n",
    "plt.title('ROC')\n",
    "plt.legend()"
   ]
  },
  {
   "cell_type": "markdown",
   "metadata": {},
   "source": [
    "## Precision-Recall curve"
   ]
  },
  {
   "cell_type": "code",
   "execution_count": 47,
   "metadata": {
    "collapsed": false
   },
   "outputs": [
    {
     "data": {
      "image/png": "[encoded data removed]",
      "text/plain": [
       "<matplotlib.figure.Figure at 0xad47940>"
      ]
     },
     "metadata": {},
     "output_type": "display_data"
    }
   ],
   "source": [
    "from sklearn.metrics import precision_recall_curve\n",
    "rcParams['figure.figsize'] = 6.4,4.8\n",
    "precision, recall, thresholds = precision_recall_curve(df_test[target].values,df_test_predprob)\n",
    "# Plot Precision-Recall curve\n",
    "plt.plot(recall, precision, color='r')\n",
    "plt.xlabel('Recall')\n",
    "plt.ylabel('Precision')\n",
    "plt.ylim([0.0, 1.05])\n",
    "plt.xlim([0.0, 1.0])\n",
    "plt.title('Precision-Recall example')\n",
    "plt.legend()"
   ]
  },
  {
   "cell_type": "markdown",
   "metadata": {},
   "source": [
    "# Optimization: Changing Threshold"
   ]
  },
  {
   "cell_type": "markdown",
   "metadata": {},
   "source": [
    "## Precision and Recall"
   ]
  },
  {
   "cell_type": "code",
   "execution_count": 48,
   "metadata": {
    "collapsed": false
   },
   "outputs": [
    {
     "name": "stdout",
     "output_type": "stream",
     "text": [
      "Threshold:  0.1 , F1 score: [ 0.1   0.53  0.  ]\n",
      "[ 0.05  0.45  1.  ] [ 1.    0.66  0.  ] [False  True]\n",
      "Threshold:  0.2 , F1 score: [ 0.1   0.61  0.  ]\n",
      "[ 0.05  0.63  1.  ] [ 1.    0.58  0.  ] [False  True]\n",
      "Threshold:  0.3 , F1 score: [ 0.1   0.58  0.  ]\n",
      "[ 0.05  0.77  1.  ] [ 1.    0.47  0.  ] [False  True]\n",
      "Threshold:  0.4 , F1 score: [ 0.1   0.54  0.  ]\n",
      "[ 0.05  0.83  1.  ] [ 1.    0.41  0.  ] [False  True]\n",
      "Threshold:  0.5 , F1 score: [ 0.1   0.48  0.  ]\n",
      "[ 0.05  0.84  1.  ] [ 1.    0.34  0.  ] [False  True]\n",
      "Threshold:  0.6 , F1 score: [ 0.1   0.46  0.  ]\n",
      "[ 0.05  0.92  1.  ] [ 1.   0.3  0. ] [False  True]\n",
      "Threshold:  0.7 , F1 score: [ 0.1   0.42  0.  ]\n",
      "[ 0.05  0.95  1.  ] [ 1.    0.27  0.  ] [False  True]\n",
      "Threshold:  0.8 , F1 score: [ 0.1   0.35  0.  ]\n",
      "[ 0.05  0.93  1.  ] [ 1.    0.21  0.  ] [False  True]\n",
      "Threshold:  0.9 , F1 score: [ 0.1   0.24  0.  ]\n",
      "[ 0.05  1.    1.  ] [ 1.    0.14  0.  ] [False  True]\n"
     ]
    },
    {
     "data": {
      "image/png": "[encoded data removed]",
      "text/plain": [
       "<matplotlib.figure.Figure at 0x12202710>"
      ]
     },
     "metadata": {},
     "output_type": "display_data"
    }
   ],
   "source": [
    "from itertools import cycle\n",
    "from sklearn.metrics import precision_recall_curve\n",
    "\n",
    "#df_test_predictions = xgb.predict(df_test[predictors])\n",
    "df_test_predprob = xgb.predict_proba(df_test[predictors])\n",
    "\n",
    "thresholds = np.arange(1,10)/10.0\n",
    "colors = cycle(['navy', 'turquoise', 'darkorange', 'cornflowerblue', 'teal', 'red', 'yellow', 'green', 'blue','black'])\n",
    "\n",
    "plt.figure(figsize=(5,5))\n",
    "\n",
    "j = 1\n",
    "for i,color in zip(thresholds,colors):\n",
    "    y_test_predictions_prob = df_test_predprob[:,1] > i\n",
    "    \n",
    "    #print \"Threshold: \",i,\", F1 score:\", f1_score(df_test[target],y_test_predictions_prob)\n",
    "    \n",
    "    precision, recall, thresholds = precision_recall_curve(df_test[target],y_test_predictions_prob)\n",
    "    print \"Threshold: \",i,\", F1 score:\", 2*precision*recall/(precision+recall)\n",
    "    print precision, recall, thresholds\n",
    "    \n",
    "    # Plot Precision-Recall curve\n",
    "    plt.plot(recall, precision, color=color,\n",
    "                 label='Threshold: %s'%i)\n",
    "    plt.xlabel('Recall')\n",
    "    plt.ylabel('Precision')\n",
    "    plt.ylim([0.0, 1.05])\n",
    "    plt.xlim([0.0, 1.0])\n",
    "    plt.title('Precision-Recall example')\n",
    "    plt.legend()"
   ]
  },
  {
   "cell_type": "markdown",
   "metadata": {},
   "source": [
    "## Confusion Matrix"
   ]
  },
  {
   "cell_type": "code",
   "execution_count": 49,
   "metadata": {
    "collapsed": false
   },
   "outputs": [
    {
     "name": "stdout",
     "output_type": "stream",
     "text": [
      "Threhold >= 0.1,  F1 score:  0.532258064516\n",
      "Threhold >= 0.2,  F1 score:  0.605744125326\n",
      "Threhold >= 0.3,  F1 score:  0.583850931677\n",
      "Threhold >= 0.4,  F1 score:  0.543624161074\n",
      "Threhold >= 0.5,  F1 score:  0.483985765125\n",
      "Threhold >= 0.6,  F1 score:  0.458646616541\n",
      "Threhold >= 0.7,  F1 score:  0.420233463035\n",
      "Threhold >= 0.8,  F1 score:  0.349593495935\n",
      "Threhold >= 0.9,  F1 score:  0.237885462555\n"
     ]
    },
    {
     "data": {
      "image/png": "[encoded data removed]",
      "text/plain": [
       "<matplotlib.figure.Figure at 0xb955438>"
      ]
     },
     "metadata": {},
     "output_type": "display_data"
    }
   ],
   "source": [
    "thresholds = np.arange(1,10)/10.0\n",
    "plt.figure(figsize=(12,12))\n",
    "j  = 1\n",
    "for i in thresholds:\n",
    "    y_test_predictions_high_recall = df_test_predprob[:,1] > i\n",
    "    plt.subplot(3,3,j)\n",
    "    j += 1\n",
    "    \n",
    "    # compute confusion matrix\n",
    "    cnf_matrix = confusion_matrix(df_test[target], y_test_predictions_high_recall)\n",
    "    #print \"Recall metric in the testing dataset: \", float(cnf_matrix[1,1])/(cnf_matrix[0,1]+cnf_matrix[1,1])\n",
    "    print \"Threhold >= %s, \"%i,\"F1 score: \", metrics.f1_score(df_test[target], y_test_predictions_high_recall)\n",
    "    \n",
    "    # plot non-normalized confusion matrix\n",
    "    class_names = [0,1]\n",
    "    plot_confusion_matrix(cnf_matrix,classes=class_names,title='Threhold >= %s'%i)"
   ]
  },
  {
   "cell_type": "markdown",
   "metadata": {},
   "source": [
    "## Threshold CV for F1 Score"
   ]
  },
  {
   "cell_type": "code",
   "execution_count": 50,
   "metadata": {
    "collapsed": true
   },
   "outputs": [],
   "source": [
    "from sklearn.model_selection import KFold\n",
    "from sklearn.model_selection import StratifiedKFold\n",
    "\n",
    "def threshold_search(estimator,thresholds,train,kf=5,random_state=27,stratify=False):\n",
    "    cv_result = [] \n",
    "    \n",
    "    if stratify:\n",
    "        kf = StratifiedKFold(n_splits=kf,random_state=random_state)\n",
    "    else:\n",
    "        kf = KFold(n_splits=kf,random_state=random_state)\n",
    "        \n",
    "    for threshold in thresholds:\n",
    "        score = []\n",
    "        for idx_train,idx_test in kf.split(train[predictors].values,train[target].values):  # 划分k折\n",
    "            estimator.fit(train[predictors].values[idx_train,:],train[target].values[idx_train])  # 这里predictors,target，作为全局参数\n",
    "            #pred = estimator.predict(train[predictors].values[idx_test,:])\n",
    "            predprob = estimator.predict_proba(train[predictors].values[idx_test,:])\n",
    "            pred = predprob[:,1] >= threshold\n",
    "            score.append(metrics.f1_score(train[target].values[idx_test],pred))  # f1 score\n",
    "        cv_result.append([np.array(score).mean(),np.array(score).std(),threshold])\n",
    "    return sorted(cv_result,reverse=True)"
   ]
  },
  {
   "cell_type": "code",
   "execution_count": 55,
   "metadata": {
    "collapsed": false
   },
   "outputs": [],
   "source": [
    "# Best model with threshold = 0.5\n",
    "thresholds = [0.17,0.18]\n",
    "\n",
    "xgb = XGBClassifier(\n",
    " learning_rate =0.01,\n",
    " n_estimators=872,\n",
    " max_depth=8,\n",
    " min_child_weight=2,\n",
    " gamma=0.1,\n",
    " subsample=0.8,\n",
    " colsample_bytree=0.8,\n",
    " reg_alpha=0,\n",
    " objective= 'binary:logistic',\n",
    " nthread=4,\n",
    " scale_pos_weight=1,\n",
    " seed=27)\n",
    "\n",
    "cv_result = threshold_search(xgb,thresholds,df_train,kf=5,random_state=27,stratify=False)"
   ]
  },
  {
   "cell_type": "code",
   "execution_count": 56,
   "metadata": {
    "collapsed": false
   },
   "outputs": [
    {
     "data": {
      "text/plain": [
       "[[0.48906596870909153, 0.01064908676639861, 0.17],\n",
       " [0.48404899659186251, 0.0098264116966037245, 0.18]]"
      ]
     },
     "execution_count": 56,
     "metadata": {},
     "output_type": "execute_result"
    }
   ],
   "source": [
    "best_threshold = cv_result[0][-1]\n",
    "cv_result   # [0.48692599096168082, 0.0082032694157471928, 0.15]\n",
    "            # [0.49062021225829094, 0.0082035229949767238, 0.16]"
   ]
  },
  {
   "cell_type": "code",
   "execution_count": 11,
   "metadata": {
    "collapsed": false
   },
   "outputs": [
    {
     "data": {
      "text/plain": [
       "XGBClassifier(base_score=0.5, colsample_bylevel=1, colsample_bytree=0.8,\n",
       "       gamma=0.1, learning_rate=0.005, max_delta_step=0, max_depth=8,\n",
       "       min_child_weight=2, missing=None, n_estimators=1550, nthread=4,\n",
       "       objective='binary:logistic', reg_alpha=0, reg_lambda=1,\n",
       "       scale_pos_weight=1, seed=27, silent=True, subsample=0.8)"
      ]
     },
     "execution_count": 11,
     "metadata": {},
     "output_type": "execute_result"
    }
   ],
   "source": [
    "xgb = XGBClassifier(\n",
    " learning_rate =0.005,\n",
    " n_estimators=1550,\n",
    " max_depth=8,\n",
    " min_child_weight=2,\n",
    " gamma=0.1,\n",
    " subsample=0.8,\n",
    " colsample_bytree=0.8,\n",
    " reg_alpha=0,\n",
    " objective= 'binary:logistic',\n",
    " nthread=4,\n",
    " scale_pos_weight=1,\n",
    " seed=27)\n",
    "xgb.fit(df_train[predictors],df_train[target])"
   ]
  },
  {
   "cell_type": "code",
   "execution_count": 20,
   "metadata": {
    "collapsed": false
   },
   "outputs": [
    {
     "name": "stdout",
     "output_type": "stream",
     "text": [
      "Accuracy : 0.9637\n",
      "F1 Score : 0.611260\n",
      "AUC Score (Test): 0.925714\n",
      "Classification Report : \n",
      "             precision    recall  f1-score   support\n",
      "\n",
      "          0       0.98      0.98      0.98      3800\n",
      "          1       0.66      0.57      0.61       200\n",
      "\n",
      "avg / total       0.96      0.96      0.96      4000\n",
      "\n"
     ]
    }
   ],
   "source": [
    "# predict on testing data:\n",
    "#df_test_predictions = xgb.predict(df_test[predictors])\n",
    "df_test_predprob = xgb.predict_proba(df_test[predictors])[:,1]\n",
    "df_test_predictions = df_test_predprob>= 0.21\n",
    "\n",
    "print \"Accuracy : %.4g\" % metrics.accuracy_score(df_test[target], df_test_predictions)\n",
    "print \"F1 Score : %f\" % metrics.f1_score(df_test[target],df_test_predictions)\n",
    "print 'AUC Score (Test): %f' % metrics.roc_auc_score(df_test[target], df_test_predprob)\n",
    "print \"Classification Report : \\n\", metrics.classification_report(df_test[target],df_test_predictions)"
   ]
  },
  {
   "cell_type": "markdown",
   "metadata": {},
   "source": [
    "## Opimal Models"
   ]
  },
  {
   "cell_type": "markdown",
   "metadata": {},
   "source": [
    "发现当scal_pos_weight=1时，f1最值对于threshold非常敏感，可保留到小数点后3位。  \n",
    "也许设置scal_pos_weight>1,会降低f1对threshold的敏感性？  \n",
    "\n",
    "**基于新的（稀疏特征被丢弃）未处理的特征数据（std==0未处理）**  \n",
    "- **（1）scale_pos_weight=1；新的未处理的特征数据（std==0未处理）[完成]**   \n",
    "    - **模型参数1**  - f1_score：0.567442  \n",
    "params = dict(learning_rate =0.1, n_estimators=60, max_depth=7, min_child_weight=1,gamma=0,subsample=0.9, colsample_bytree=0.9, reg_alpha=0, objective= 'binary:logistic', nthread=4, scale_pos_weight=1, seed=27)  \n",
    "threhold = 0.16\n",
    "    - **模型参数2**  \n",
    "params = dict(learning_rate =0.01, n_estimators=725, max_depth=7, min_child_weight=1,gamma=0,subsample=0.9, colsample_bytree=0.9, reg_alpha=0, objective= 'binary:logistic', nthread=4, scale_pos_weight=1, seed=27)  \n",
    "threhold = 0.15\n",
    "- **（2）scale_pos_weight=1；特征数据清洗（std==0删除）[完成]** \n",
    "    - **模型参数1**  - f1_score：0.583756  \n",
    "XGBClassifier(learning_rate =0.1, n_estimators=97, max_depth=8, min_child_weight=2, gamma=0.1, subsample=0.8, colsample_bytree=0.8, reg_alpha=0, objective= 'binary:logistic', nthread=4, scale_pos_weight=1, seed=27)  \n",
    "threhold = 0.17  \n",
    "\n",
    "    - **模型参数2**   -f1_score：0.584270；  调节threshold能达到0.5892  \n",
    "XGBClassifier(learning_rate =0.01, n_estimators=872, max_depth=8, min_child_weight=2, gamma=0.1, subsample=0.8, colsample_bytree=0.8, reg_alpha=0, objective= 'binary:logistic', nthread=4, scale_pos_weight=1, seed=27)  \n",
    "threhold = 0.16  \n",
    "n_estimators=1550, learning_rate=0.005, threhold=0.21，f1_score=0.61\n",
    "- **（3）scale_pos_weight=1；特征数据清洗（std==0删除）+额外构造的fee特征**   \n",
    "今天实验！！\n",
    "\n",
    "- **（4）scale_pos_weight=1；特征数据清洗（std==0删除）+额外构造的fee特征-最不重要的特征（出现一二次）** \n",
    "- **（5）scale_pos_weight=1；特征数据清洗（std==0删除）+额外构造的fee特征+稀疏特征** \n",
    "\n",
    "  \n",
    "\n",
    "**试验方案：** first_time，last_time都去掉,这两个特征毫无逻辑？？  \n",
    "但last_time似乎还很重要？why？？也许绝大多数正常者，不常去医院，亦或者年底比较好fraud？还是先保留last_time  \n",
    "删除first_time是因为在测试数据集中first_time都在年中开始！数据分布不一致！！  \n",
    "\n",
    "（1）scale_pos_weight=1；新的未处理的特征数据（std==0）[完成]  \n",
    "（3）scale_pos_weight=1；去除std==0特征数据  \n",
    "（5）scale_pos_weight=1；去除不重要特征，如first_time等（去除只出现一次的特征）  \n",
    "\n",
    "（2）scale_pos_weight=3；新的未处理的特征数据（std==0）    \n",
    "（4）scale_pos_weight=3；去除std==0特征数据   \n",
    "（6）scale_pos_weight=3；去除不重要特征，如first_time等（去除只出现一次的特征）   "
   ]
  },
  {
   "cell_type": "markdown",
   "metadata": {},
   "source": [
    "# Drop Unimportant Features"
   ]
  },
  {
   "cell_type": "code",
   "execution_count": 40,
   "metadata": {
    "collapsed": false
   },
   "outputs": [
    {
     "data": {
      "text/plain": [
       "every_q2_period       2\n",
       "治疗费申报金额_q2            2\n",
       "医用材料费自费金额_max         2\n",
       "every_period_9        2\n",
       "药品费发生金额_q1            2\n",
       "every_period_23       2\n",
       "every_period_17       2\n",
       "every_period_16       2\n",
       "every_period_15       2\n",
       "every_period_0        2\n",
       "补助审批金额_q3             2\n",
       "贵重检查费金额_max           2\n",
       "dayofweek_5           2\n",
       "贵重检查费金额_sum           2\n",
       "治疗费发生金额_q2            2\n",
       "治疗费发生金额_q1            2\n",
       "医疗救助医院申请_std          2\n",
       "三目统计项目_max            2\n",
       "中草药费发生金额_q3           2\n",
       "医疗救助医院申请_max          2\n",
       "医用材料费自费金额_sum         2\n",
       "医用材料费自费金额_std         2\n",
       "医用材料费自费金额_mean        2\n",
       "贵重检查费金额_mean          1\n",
       "every_period_10       1\n",
       "贵重药品发生金额_q3           1\n",
       "补助审批金额_max            1\n",
       "补助审批金额_mean           1\n",
       "补助审批金额_q1             1\n",
       "公务员医疗补助基金支付金额_q2      1\n",
       "                     ..\n",
       "医用材料发生金额_q2           1\n",
       "医疗救助个人按比例负担金额_mean    1\n",
       "医用材料发生金额_q3           1\n",
       "every_period_18       1\n",
       "贵重检查费金额_std           1\n",
       "补助审批金额_std            1\n",
       "医用材料发生金额_q1           1\n",
       "中草药费发生金额_q2           1\n",
       "民政救助补助金额_sum          1\n",
       "民政救助补助金额_q2           1\n",
       "床位费发生金额_std           1\n",
       "民政救助补助金额_q1           1\n",
       "民政救助补助金额_mean         1\n",
       "检查费自费金额_sum           1\n",
       "治疗费申报金额_q3            1\n",
       "检查费发生金额_q2            1\n",
       "治疗费自费金额_mean          1\n",
       "床位费申报金额_sum           1\n",
       "治疗费自费金额_q3            1\n",
       "治疗费自费金额_std           1\n",
       "城乡救助补助金额_max          1\n",
       "三目统计项目_q2             1\n",
       "床位费发生金额_max           1\n",
       "药品费申报金额_q1            1\n",
       "城乡救助补助金额_sum          1\n",
       "城乡救助补助金额_q3           1\n",
       "中成药费发生金额_q2           1\n",
       "every_period_22       1\n",
       "every_period_21       1\n",
       "城乡救助补助金额_q2           1\n",
       "dtype: int64"
      ]
     },
     "execution_count": 40,
     "metadata": {},
     "output_type": "execute_result"
    }
   ],
   "source": [
    "feat_imp[feat_imp<=2]"
   ]
  },
  {
   "cell_type": "code",
   "execution_count": 15,
   "metadata": {
    "collapsed": false,
    "scrolled": true
   },
   "outputs": [],
   "source": [
    "feat_droped = feat_imp[feat_imp<=2].reset_index()['index'].str.encode('utf-8')"
   ]
  },
  {
   "cell_type": "code",
   "execution_count": 16,
   "metadata": {
    "collapsed": false
   },
   "outputs": [],
   "source": [
    "df_train_test_new = df_train_test.drop(feat_droped,axis=1)"
   ]
  },
  {
   "cell_type": "code",
   "execution_count": 17,
   "metadata": {
    "collapsed": false
   },
   "outputs": [],
   "source": [
    "df_train_test_new.to_csv('df_data_feaure_dropped.csv')"
   ]
  }
 ],
 "metadata": {
  "kernelspec": {
   "display_name": "Python 2",
   "language": "python",
   "name": "python2"
  },
  "language_info": {
   "codemirror_mode": {
    "name": "ipython",
    "version": 2
   },
   "file_extension": ".py",
   "mimetype": "text/x-python",
   "name": "python",
   "nbconvert_exporter": "python",
   "pygments_lexer": "ipython2",
   "version": "2.7.13"
  },
  "toc": {
   "colors": {
    "hover_highlight": "#DAA520",
    "navigate_num": "#000000",
    "navigate_text": "#333333",
    "running_highlight": "#FF0000",
    "selected_highlight": "#FFD700",
    "sidebar_border": "#EEEEEE",
    "wrapper_background": "#FFFFFF"
   },
   "moveMenuLeft": true,
   "nav_menu": {
    "height": "191px",
    "width": "252px"
   },
   "navigate_menu": true,
   "number_sections": true,
   "sideBar": true,
   "threshold": 4,
   "toc_cell": false,
   "toc_position": {
    "height": "406px",
    "left": "0px",
    "right": "1099.46px",
    "top": "106px",
    "width": "132px"
   },
   "toc_section_display": "block",
   "toc_window_display": true,
   "widenNotebook": false
  }
 },
 "nbformat": 4,
 "nbformat_minor": 2
}
