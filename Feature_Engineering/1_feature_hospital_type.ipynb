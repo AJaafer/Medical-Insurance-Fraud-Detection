{
 "cells": [
  {
   "cell_type": "code",
   "execution_count": 1,
   "metadata": {
    "collapsed": true
   },
   "outputs": [],
   "source": [
    "import pandas as pd\n",
    "import numpy as np"
   ]
  },
  {
   "cell_type": "markdown",
   "metadata": {},
   "source": [
    "# 标称属性特征提取\n",
    "- 报销剂型频次？\n",
    "- 去的不同医院等级频次？\n",
    "- 服务名称？"
   ]
  },
  {
   "cell_type": "markdown",
   "metadata": {},
   "source": [
    "## 数据准备\n",
    "提取辅表，以便获构建医院编号与类型的字典  \n",
    "pd.read_hdf(\"data/df_train_time1.h5\", key = \"df_train_time1\")"
   ]
  },
  {
   "cell_type": "code",
   "execution_count": 12,
   "metadata": {
    "collapsed": true
   },
   "outputs": [],
   "source": [
    "df_fee_detail = pd.read_hdf(\"data/df_fee_detail.h5\", key = \"df_fee_detail\")"
   ]
  },
  {
   "cell_type": "code",
   "execution_count": 8,
   "metadata": {
    "collapsed": false
   },
   "outputs": [
    {
     "data": {
      "text/plain": [
       "顺序号           0.000000\n",
       "医院编码          0.000000\n",
       "三目统计项目        0.000000\n",
       "三目服务项目名称      0.881171\n",
       "三目医院服务项目名称    0.873052\n",
       "剂型            0.000000\n",
       "规格            0.000000\n",
       "单价            0.000000\n",
       "数量            0.000000\n",
       "拒付原因编码        0.999988\n",
       "拒付原因          0.999988\n",
       "费用发生时间        0.000000\n",
       "dtype: float64"
      ]
     },
     "execution_count": 8,
     "metadata": {},
     "output_type": "execute_result"
    }
   ],
   "source": [
    "df_fee_detail.isnull().sum()/float(len(df_fee_detail))"
   ]
  },
  {
   "cell_type": "code",
   "execution_count": 13,
   "metadata": {
    "collapsed": true
   },
   "outputs": [],
   "source": [
    "category_cols = ['医院编码','三目服务项目名称','三目医院服务项目名称','剂型','规格']\n",
    "df_fee_detail.drop(df_fee_detail.columns.difference(category_cols),axis=1,inplace=True)"
   ]
  },
  {
   "cell_type": "code",
   "execution_count": 19,
   "metadata": {
    "collapsed": true
   },
   "outputs": [
    {
     "data": {
      "text/plain": [
       "                               5.087175e-01\n",
       "片剂                             1.450977e-01\n",
       "胶囊剂                            5.818334e-02\n",
       "饮片                             5.242235e-02\n",
       "注射剂                            4.610555e-02\n",
       "其他                             3.696765e-02\n",
       "0                              3.507890e-02\n",
       "汤剂                             3.103277e-02\n",
       "滴丸                             1.565706e-02\n",
       "薄膜衣片                           9.502823e-03\n",
       "肠溶片                            8.456733e-03\n",
       "颗粒剂                            5.470617e-03\n",
       "/                              3.880206e-03\n",
       "注射液                            3.387928e-03\n",
       "中药颗粒剂                          3.334813e-03\n",
       "软胶囊                            3.114849e-03\n",
       "乳剂                             2.749162e-03\n",
       "丸剂                             2.158000e-03\n",
       "中饮片颗粒剂                         1.875277e-03\n",
       "糖衣片                            1.763688e-03\n",
       "中草药                            1.647966e-03\n",
       "素片                             1.340446e-03\n",
       "冻干粉针                           1.301413e-03\n",
       "缓释片                            1.253654e-03\n",
       "其它                             1.136861e-03\n",
       "硬胶囊                            1.105022e-03\n",
       "分散片                            1.045324e-03\n",
       "干粉吸入剂                          1.024813e-03\n",
       "颗粒                             8.989881e-04\n",
       "气雾剂                            8.201563e-04\n",
       "                                   ...     \n",
       "眼膏剂                            6.122854e-07\n",
       "果实                             4.592141e-07\n",
       "注射液（笔心）                        4.592141e-07\n",
       "输液剂                            4.592141e-07\n",
       "一次性注射笔用针头                      4.592141e-07\n",
       "口服                             3.061427e-07\n",
       "口服散剂                           3.061427e-07\n",
       "胶浆剂                            3.061427e-07\n",
       "01                             1.530714e-07\n",
       "膏剂                             1.530714e-07\n",
       "器材                             1.530714e-07\n",
       "注射液(软袋)                        1.530714e-07\n",
       "外用冻干制剂                         1.530714e-07\n",
       "医疗器械                           1.530714e-07\n",
       "雾化溶液剂                          1.530714e-07\n",
       "雾化溶液                           1.530714e-07\n",
       "口服常释剂                          1.530714e-07\n",
       "异型片                            1.530714e-07\n",
       "合剂(含口服液)                       1.530714e-07\n",
       "喷雾                             1.530714e-07\n",
       "口服常释剂型,片剂,肠溶片,包衣片,薄膜衣片,糖衣片,    1.530714e-07\n",
       "胶丸剂                            1.530714e-07\n",
       "酒剂                             1.530714e-07\n",
       "水蜜                             1.530714e-07\n",
       "试纸                             1.530714e-07\n",
       "索片                             1.530714e-07\n",
       "干混悬剂                           1.530714e-07\n",
       "冻干                             1.530714e-07\n",
       "注射液（塑瓶）                        1.530714e-07\n",
       "丸                              1.530714e-07\n",
       "Name: 剂型, dtype: float64"
      ]
     },
     "execution_count": 19,
     "metadata": {},
     "output_type": "execute_result"
    }
   ],
   "source": [
    "df_fee_detail['剂型'].value_counts()/float(len(df_fee_detail))"
   ]
  },
  {
   "cell_type": "code",
   "execution_count": 20,
   "metadata": {
    "collapsed": true
   },
   "outputs": [
    {
     "data": {
      "text/plain": [
       "普通门诊挂号费---一级医院          4.711215e-02\n",
       "糖尿病门诊诊察费（门特加收）          4.535703e-02\n",
       "脑心通胶囊                   4.570098e-03\n",
       "多导心电图检查自动分析             3.410430e-03\n",
       "通心络胶囊                   2.781766e-03\n",
       "肾炎康复片                   1.865940e-03\n",
       "速效救心丸                   1.814967e-03\n",
       "依诺肝素钠注射液                1.432289e-03\n",
       "低分子量肝素钙注射液              1.196559e-03\n",
       "普通门诊挂号费---二级医院          1.090940e-03\n",
       "肝素钠注射液                  9.421542e-04\n",
       "肺力咳合剂                   9.277655e-04\n",
       "牛黄清心丸                   7.082612e-04\n",
       "低分子肝素钠注射液               6.294294e-04\n",
       "低分子量肝素钠注射液              5.536591e-04\n",
       "注射用低分子量肝素钠              3.266543e-04\n",
       "地奥心血康软胶囊                3.168577e-04\n",
       "丹芪偏瘫胶囊                  2.755284e-04\n",
       "多导心电图                   2.680279e-04\n",
       "达肝素钠注射液                 1.810834e-04\n",
       "那屈肝素钙注射液                1.767974e-04\n",
       "病床紫外线消毒                 1.717461e-04\n",
       "清肺消炎丸                   1.673070e-04\n",
       "专家门诊挂号费---主任医师          1.665416e-04\n",
       "癌胚抗原（电化学发光法）            1.653171e-04\n",
       "稳心颗粒                    1.549082e-04\n",
       "血栓心脉宁片                  1.388357e-04\n",
       "专家门诊挂号费---副主任医师         1.201610e-04\n",
       "参松养心胶囊                  1.137320e-04\n",
       "通脉养心丸                   1.076092e-04\n",
       "                            ...     \n",
       "抗心肌抗体                   1.530714e-07\n",
       "短波深部加热治疗肿瘤              1.530714e-07\n",
       "海昆肾喜胶囊                  1.530714e-07\n",
       "抗心磷脂抗体（免疫）              1.530714e-07\n",
       "补肺活血胶囊                  1.530714e-07\n",
       "多功能血管病变诊断PVL            1.530714e-07\n",
       "养阴清肺颗粒                  1.530714e-07\n",
       "醒脑降压丸                   1.530714e-07\n",
       "心脑欣胶囊                   1.530714e-07\n",
       "牛黄降压胶囊                  1.530714e-07\n",
       "空气压缩物化泵                 1.530714e-07\n",
       "牛痘疫苗接种家兔炎症皮肤提取物片        1.530714e-07\n",
       "冠心丹参胶囊                  1.530714e-07\n",
       "急诊室重症监护                 1.530714e-07\n",
       "心肺功能自动分析                1.530714e-07\n",
       "急诊挂号费---二、三级医院          1.530714e-07\n",
       "益肾液                     1.530714e-07\n",
       "特染及每组化学染色（AGNOR检查特染）    1.530714e-07\n",
       "肾舒颗粒                    1.530714e-07\n",
       "β—癌胚抗原（含药盒）             1.530714e-07\n",
       "通宣理肺胶囊                  1.530714e-07\n",
       "心脑舒通胶囊                  1.530714e-07\n",
       "组织化学染色---碱性磷酸酶          1.530714e-07\n",
       "中耳分析检查鼓室压图              1.530714e-07\n",
       "柏子养心丸                   1.530714e-07\n",
       "癌胚抗原（放免试验）（含药盒）         1.530714e-07\n",
       "更换负压引流瓶（袋）              1.530714e-07\n",
       "十二导动态心电图                1.530714e-07\n",
       "革兰氏染色镜检                 1.530714e-07\n",
       "胃功能、肺功能                 1.530714e-07\n",
       "Name: 三目服务项目名称, dtype: float64"
      ]
     },
     "execution_count": 20,
     "metadata": {},
     "output_type": "execute_result"
    }
   ],
   "source": [
    "df_fee_detail['三目服务项目名称'].value_counts()/float(len(df_fee_detail))"
   ]
  },
  {
   "cell_type": "code",
   "execution_count": 21,
   "metadata": {
    "collapsed": true
   },
   "outputs": [
    {
     "data": {
      "text/plain": [
       "普通门诊挂号费---一级医院         4.494757e-02\n",
       "糖尿病门诊诊察费（门特加收）         2.055090e-02\n",
       "糖尿病门诊诊察费               1.507493e-02\n",
       "挂号                     5.103093e-03\n",
       "普通门诊挂号费                3.611872e-03\n",
       "脑心通胶囊                  3.479465e-03\n",
       "三级医院-普通门诊挂号费           2.193359e-03\n",
       "通心络胶囊                  2.064626e-03\n",
       "糖尿病门诊诊察费加收             1.810987e-03\n",
       "门诊诊查费糖尿病加收             1.787261e-03\n",
       "肾炎康复片                  1.490915e-03\n",
       "多导心电图检查自动分析            1.424635e-03\n",
       "速效救心丸                  1.377948e-03\n",
       "糖尿病门诊诊查费（门特加收）         1.252583e-03\n",
       "依诺肝素钠注射液               1.109308e-03\n",
       "普通门诊挂号费---二级医院         8.607202e-04\n",
       "多导心电图检查自动分析*           8.056145e-04\n",
       "糖尿病加收                  7.857153e-04\n",
       "肺力咳合剂                  7.794393e-04\n",
       "肝素钠注射液                 7.740818e-04\n",
       "通心络胶囊*                 6.629520e-04\n",
       "多导心电图                  5.120237e-04\n",
       "低分子肝素钠注射液[意大利]<*5%>    4.915121e-04\n",
       "低分子量肝素钙注射液             4.096189e-04\n",
       "挂号诊查费                  3.990570e-04\n",
       "牛黄清心丸                  3.880359e-04\n",
       "低分子量肝素钠注射液             3.805354e-04\n",
       "糖尿病门诊诊查费加收             3.672182e-04\n",
       "脑心通胶囊*                 3.662997e-04\n",
       "注射用低分子量肝素钠             3.085918e-04\n",
       "                           ...     \n",
       "乙型肝炎e抗原测定（电化学发光）       1.530714e-07\n",
       "多导心电图*                 1.530714e-07\n",
       "联合会诊5挂号费               1.530714e-07\n",
       "乙肝E抗原                  1.530714e-07\n",
       "心脑舒通胶囊5*               1.530714e-07\n",
       "高压注射管路                 1.530714e-07\n",
       "乙肝e抗体(含试剂材料费）          1.530714e-07\n",
       "挂号费（体检）                1.530714e-07\n",
       "一次性使用高压造影注射器（无锡宇寿）     1.530714e-07\n",
       "急诊室重症监护                1.530714e-07\n",
       ",莲子心                   1.530714e-07\n",
       "（社）牛黄降压丸               1.530714e-07\n",
       "灶心土3                   1.530714e-07\n",
       "益肾液                    1.530714e-07\n",
       "麻仁滋脾丸*                 1.530714e-07\n",
       "肾舒颗粒                   1.530714e-07\n",
       "癌胚抗原CEA                1.530714e-07\n",
       "▽心脑欣胶囊*                1.530714e-07\n",
       "牛黄降压丸（新）               1.530714e-07\n",
       "多导心电图检查自动分析.*          1.530714e-07\n",
       "连翘心*                   1.530714e-07\n",
       "乙肝E抗体（含材料费）            1.530714e-07\n",
       "乙型肝炎表面抗原测定（电化学发光）      1.530714e-07\n",
       "通宣理肺胶囊                 1.530714e-07\n",
       "空气压缩物化泵                1.530714e-07\n",
       "鼓室压图                   1.530714e-07\n",
       "病人出院带引流袋（螺旋型）圣达#       1.530714e-07\n",
       "柏子养心丸*                 1.530714e-07\n",
       "彩色多普勒——肾               1.530714e-07\n",
       "多导心电图自动分析*             1.530714e-07\n",
       "Name: 三目医院服务项目名称, dtype: float64"
      ]
     },
     "execution_count": 21,
     "metadata": {},
     "output_type": "execute_result"
    }
   ],
   "source": [
    "df_fee_detail['三目医院服务项目名称'].value_counts()/float(len(df_fee_detail))"
   ]
  },
  {
   "cell_type": "markdown",
   "metadata": {},
   "source": [
    "## 医院类型字典"
   ]
  },
  {
   "cell_type": "code",
   "execution_count": 30,
   "metadata": {
    "collapsed": false
   },
   "outputs": [],
   "source": [
    "df_fee_detail['三目医院服务项目名称'] = df_fee_detail['三目医院服务项目名称'].fillna('')"
   ]
  },
  {
   "cell_type": "code",
   "execution_count": 36,
   "metadata": {
    "collapsed": true
   },
   "outputs": [
    {
     "data": {
      "text/plain": [
       "97         [普通门诊挂号费, , , 一级医院]\n",
       "99         [普通门诊挂号费, , , 一级医院]\n",
       "120        [普通门诊挂号费, , , 一级医院]\n",
       "122        [普通门诊挂号费, , , 一级医院]\n",
       "124        [普通门诊挂号费, , , 一级医院]\n",
       "161        [普通门诊挂号费, , , 一级医院]\n",
       "206        [普通门诊挂号费, , , 一级医院]\n",
       "215        [普通门诊挂号费, , , 一级医院]\n",
       "275        [普通门诊挂号费, , , 一级医院]\n",
       "302        [普通门诊挂号费, , , 一级医院]\n",
       "319        [普通门诊挂号费, , , 一级医院]\n",
       "340        [普通门诊挂号费, , , 一级医院]\n",
       "409        [普通门诊挂号费, , , 一级医院]\n",
       "421        [普通门诊挂号费, , , 一级医院]\n",
       "422        [普通门诊挂号费, , , 一级医院]\n",
       "431        [普通门诊挂号费, , , 一级医院]\n",
       "433        [普通门诊挂号费, , , 一级医院]\n",
       "440        [普通门诊挂号费, , , 一级医院]\n",
       "460        [普通门诊挂号费, , , 一级医院]\n",
       "465        [普通门诊挂号费, , , 一级医院]\n",
       "530        [普通门诊挂号费, , , 一级医院]\n",
       "535        [普通门诊挂号费, , , 一级医院]\n",
       "611        [普通门诊挂号费, , , 一级医院]\n",
       "614        [普通门诊挂号费, , , 一级医院]\n",
       "733        [普通门诊挂号费, , , 二级医院]\n",
       "773        [普通门诊挂号费, , , 一级医院]\n",
       "831        [普通门诊挂号费, , , 一级医院]\n",
       "835            [三级医院, 普通门诊挂号费]\n",
       "840        [普通门诊挂号费, , , 二级医院]\n",
       "842        [普通门诊挂号费, , , 一级医院]\n",
       "                  ...         \n",
       "6532052        [三级医院, 普通门诊挂号费]\n",
       "6532087    [普通门诊挂号费, , , 一级医院]\n",
       "6532105    [普通门诊挂号费, , , 一级医院]\n",
       "6532122    [普通门诊挂号费, , , 一级医院]\n",
       "6532129    [普通门诊挂号费, , , 一级医院]\n",
       "6532156    [普通门诊挂号费, , , 一级医院]\n",
       "6532213    [普通门诊挂号费, , , 一级医院]\n",
       "6532343    [普通门诊挂号费, , , 一级医院]\n",
       "6532371    [普通门诊挂号费, , , 一级医院]\n",
       "6532374    [普通门诊挂号费, , , 一级医院]\n",
       "6532383    [普通门诊挂号费, , , 一级医院]\n",
       "6532397    [普通门诊挂号费, , , 一级医院]\n",
       "6532405    [普通门诊挂号费, , , 一级医院]\n",
       "6532417    [普通门诊挂号费, , , 一级医院]\n",
       "6532419    [普通门诊挂号费, , , 一级医院]\n",
       "6532461        [三级医院, 普通门诊挂号费]\n",
       "6532473    [普通门诊挂号费, , , 一级医院]\n",
       "6532508    [普通门诊挂号费, , , 一级医院]\n",
       "6532510    [普通门诊挂号费, , , 一级医院]\n",
       "6532528    [普通门诊挂号费, , , 一级医院]\n",
       "6532540    [普通门诊挂号费, , , 一级医院]\n",
       "6532550    [普通门诊挂号费, , , 一级医院]\n",
       "6532566    [普通门诊挂号费, , , 一级医院]\n",
       "6532568    [普通门诊挂号费, , , 一级医院]\n",
       "6532571    [普通门诊挂号费, , , 一级医院]\n",
       "6532618    [普通门诊挂号费, , , 一级医院]\n",
       "6532622    [普通门诊挂号费, , , 一级医院]\n",
       "6532644    [普通门诊挂号费, , , 一级医院]\n",
       "6532815    [普通门诊挂号费, , , 一级医院]\n",
       "6532841    [普通门诊挂号费, , , 一级医院]\n",
       "Name: 三目医院服务项目名称, dtype: object"
      ]
     },
     "execution_count": 36,
     "metadata": {},
     "output_type": "execute_result"
    }
   ],
   "source": [
    "df_fee_detail['三目医院服务项目名称'][df_fee_detail['三目医院服务项目名称'].str.find('级') != -1].str.split('-')"
   ]
  },
  {
   "cell_type": "code",
   "execution_count": 47,
   "metadata": {
    "collapsed": false
   },
   "outputs": [
    {
     "name": "stdout",
     "output_type": "stream",
     "text": [
      "六级医院\n"
     ]
    }
   ],
   "source": [
    "l = ['六级医院', '普通门诊挂号费','']\n",
    "l.sort()\n",
    "print l[1]"
   ]
  },
  {
   "cell_type": "code",
   "execution_count": 52,
   "metadata": {
    "collapsed": true
   },
   "outputs": [],
   "source": [
    "df_hospital_type = df_fee_detail[['医院编码','三目医院服务项目名称']][df_fee_detail['三目医院服务项目名称'].str.find('医院')!= -1]"
   ]
  },
  {
   "cell_type": "markdown",
   "metadata": {},
   "source": []
  },
  {
   "cell_type": "code",
   "execution_count": 65,
   "metadata": {
    "collapsed": true
   },
   "outputs": [],
   "source": [
    "def type_hospital1(x):\n",
    "    x = sorted(x.split('-'))\n",
    "    try:\n",
    "        return x[-2]\n",
    "    except:\n",
    "        return x[-1]\n",
    "def type_hospital2(x):\n",
    "    x = sorted(x.split('—'))\n",
    "    try:\n",
    "        return x[-2]\n",
    "    except:\n",
    "        return x[-1]\n",
    "def type_hospital3(x):\n",
    "    x = sorted(x.split('┄'))\n",
    "    try:\n",
    "        return x[-2]\n",
    "    except:\n",
    "        return x[-1]"
   ]
  },
  {
   "cell_type": "code",
   "execution_count": 66,
   "metadata": {
    "collapsed": true
   },
   "outputs": [
    {
     "data": {
      "text/plain": [
       "一级医院              294332\n",
       "三级医院               14345\n",
       "二级医院                5623\n",
       "（偏瘫）床位费一级医院观察床        16\n",
       "Name: 三目医院服务项目名称, dtype: int64"
      ]
     },
     "execution_count": 66,
     "metadata": {},
     "output_type": "execute_result"
    }
   ],
   "source": [
    "df_hospital_type['三目医院服务项目名称'] = df_hospital_type['三目医院服务项目名称'].apply(type_hospital1).apply(type_hospital2).apply(type_hospital3).value_counts()"
   ]
  },
  {
   "cell_type": "code",
   "execution_count": 67,
   "metadata": {
    "collapsed": true
   },
   "outputs": [],
   "source": [
    "df_hospital_type['三目医院服务项目名称'] = df_hospital_type['三目医院服务项目名称'].apply(type_hospital1).apply(type_hospital2).apply(type_hospital3)"
   ]
  },
  {
   "cell_type": "code",
   "execution_count": 72,
   "metadata": {
    "collapsed": false
   },
   "outputs": [],
   "source": [
    "df_hospital_type[df_hospital_type['三目医院服务项目名称'] =='（偏瘫）床位费一级医院观察床'] = '一级医院'"
   ]
  },
  {
   "cell_type": "code",
   "execution_count": 73,
   "metadata": {
    "collapsed": false
   },
   "outputs": [
    {
     "data": {
      "text/plain": [
       "一级医院    294348\n",
       "三级医院     14345\n",
       "二级医院      5623\n",
       "Name: 三目医院服务项目名称, dtype: int64"
      ]
     },
     "execution_count": 73,
     "metadata": {},
     "output_type": "execute_result"
    }
   ],
   "source": [
    "df_hospital_type['三目医院服务项目名称'].value_counts()"
   ]
  },
  {
   "cell_type": "code",
   "execution_count": 78,
   "metadata": {
    "collapsed": false
   },
   "outputs": [],
   "source": [
    "df_hospital_type = df_hospital_type.drop_duplicates('医院编码').sort_values('医院编码').rename(columns={'三目医院服务项目名称':'医院类型'})"
   ]
  },
  {
   "cell_type": "code",
   "execution_count": 97,
   "metadata": {
    "collapsed": false
   },
   "outputs": [
    {
     "data": {
      "text/plain": [
       "一级医院    346\n",
       "二级医院     15\n",
       "三级医院      1\n",
       "Name: 医院类型, dtype: int64"
      ]
     },
     "execution_count": 97,
     "metadata": {},
     "output_type": "execute_result"
    }
   ],
   "source": [
    "df_hospital_type['医院类型'].value_counts()"
   ]
  },
  {
   "cell_type": "code",
   "execution_count": 83,
   "metadata": {
    "collapsed": false
   },
   "outputs": [
    {
     "name": "stdout",
     "output_type": "stream",
     "text": [
      "一级医院\n"
     ]
    }
   ],
   "source": [
    "print '\\xe4\\xb8\\x80\\xe7\\xba\\xa7\\xe5\\x8c\\xbb\\xe9\\x99\\xa2'"
   ]
  },
  {
   "cell_type": "code",
   "execution_count": 85,
   "metadata": {
    "collapsed": false
   },
   "outputs": [],
   "source": [
    "hospital_type_map = dict(list(df_hospital_type.groupby('医院类型')['医院编码']))"
   ]
  },
  {
   "cell_type": "code",
   "execution_count": 90,
   "metadata": {
    "collapsed": false
   },
   "outputs": [],
   "source": [
    "import pickle\n",
    "pickle.dump(hospital_type_map,open('data/hospital_type_map.pkl','w'))"
   ]
  },
  {
   "cell_type": "code",
   "execution_count": 93,
   "metadata": {
    "collapsed": false
   },
   "outputs": [],
   "source": [
    "hospital_type_map = pickle.load(open('data/hospital_type_map.pkl','r'))"
   ]
  },
  {
   "cell_type": "code",
   "execution_count": 94,
   "metadata": {
    "collapsed": false
   },
   "outputs": [
    {
     "data": {
      "text/plain": [
       "{'\\xe4\\xb8\\x80\\xe7\\xba\\xa7\\xe5\\x8c\\xbb\\xe9\\x99\\xa2': 453678        2\n",
       " 488586        3\n",
       " 1023          5\n",
       " 3495          7\n",
       " 11735         8\n",
       " 14055         9\n",
       " 17588        10\n",
       " 7681         11\n",
       " 23366        14\n",
       " 4822         16\n",
       " 3671         18\n",
       " 12272        19\n",
       " 12206        20\n",
       " 811156       24\n",
       " 5182         25\n",
       " 6330         26\n",
       " 14768        27\n",
       " 9285         28\n",
       " 2213         29\n",
       " 2899         30\n",
       " 10264        31\n",
       " 122          32\n",
       " 14919        34\n",
       " 527142       35\n",
       " 629648       36\n",
       " 452424       37\n",
       " 7385         38\n",
       " 467480       41\n",
       " 489530       42\n",
       " 422631       43\n",
       "            ... \n",
       " 4759323    1368\n",
       " 351886     1386\n",
       " 138056     1393\n",
       " 436307     1403\n",
       " 388459     1412\n",
       " 1973160    1415\n",
       " 73478      1416\n",
       " 6078       1426\n",
       " 215        1431\n",
       " 6434712    1437\n",
       " 43377      1441\n",
       " 548279     1442\n",
       " 29188      1444\n",
       " 389043     1447\n",
       " 64898      1451\n",
       " 1382       1468\n",
       " 1559704    1485\n",
       " 449627     1488\n",
       " 377675     1490\n",
       " 458400     1507\n",
       " 15917      1513\n",
       " 2400814    1536\n",
       " 1455501    1537\n",
       " 357242     1558\n",
       " 2779329    1597\n",
       " 800450     1623\n",
       " 394211     1631\n",
       " 6236300    1649\n",
       " 623942     1688\n",
       " 2893889    一级医院\n",
       " Name: 医院编码, dtype: object,\n",
       " '\\xe4\\xb8\\x89\\xe7\\xba\\xa7\\xe5\\x8c\\xbb\\xe9\\x99\\xa2': 835    149\n",
       " Name: 医院编码, dtype: object,\n",
       " '\\xe4\\xba\\x8c\\xe7\\xba\\xa7\\xe5\\x8c\\xbb\\xe9\\x99\\xa2': 212653       12\n",
       " 227721      101\n",
       " 646548      103\n",
       " 661811      107\n",
       " 83061       135\n",
       " 14451       136\n",
       " 23948       140\n",
       " 7355        419\n",
       " 42089       484\n",
       " 11090       488\n",
       " 831089      572\n",
       " 5420576     580\n",
       " 840         620\n",
       " 733        1392\n",
       " 4663446    1538\n",
       " Name: 医院编码, dtype: object}"
      ]
     },
     "execution_count": 94,
     "metadata": {},
     "output_type": "execute_result"
    }
   ],
   "source": [
    "hospital_type_map"
   ]
  }
 ],
 "metadata": {
  "kernelspec": {
   "display_name": "Python 2",
   "language": "python",
   "name": "python2"
  },
  "language_info": {
   "codemirror_mode": {
    "name": "ipython",
    "version": 2
   },
   "file_extension": ".py",
   "mimetype": "text/x-python",
   "name": "python",
   "nbconvert_exporter": "python",
   "pygments_lexer": "ipython2",
   "version": "2.7.13"
  },
  "toc": {
   "colors": {
    "hover_highlight": "#DAA520",
    "navigate_num": "#000000",
    "navigate_text": "#333333",
    "running_highlight": "#FF0000",
    "selected_highlight": "#FFD700",
    "sidebar_border": "#EEEEEE",
    "wrapper_background": "#FFFFFF"
   },
   "moveMenuLeft": true,
   "nav_menu": {
    "height": "67px",
    "width": "252px"
   },
   "navigate_menu": true,
   "number_sections": true,
   "sideBar": true,
   "threshold": 4,
   "toc_cell": false,
   "toc_section_display": "block",
   "toc_window_display": true,
   "widenNotebook": false
  }
 },
 "nbformat": 4,
 "nbformat_minor": 2
}
