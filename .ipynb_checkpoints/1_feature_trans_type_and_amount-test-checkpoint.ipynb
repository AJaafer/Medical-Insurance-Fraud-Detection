{
 "cells": [
  {
   "cell_type": "markdown",
   "metadata": {},
   "source": [
    "# 总纲\n",
    "- 按三大医院类型（一级，二级，三级+ohter）分别统计各项频次和金额，各种统计量\n",
    "统计各项总频次和金额，各种统计量\n",
    "- 按时间段分别统计各项频次和金额，各种统计量"
   ]
  },
  {
   "cell_type": "code",
   "execution_count": 1,
   "metadata": {
    "collapsed": true
   },
   "outputs": [],
   "source": [
    "import pandas as pd\n",
    "import numpy as np\n",
    "import pickle"
   ]
  },
  {
   "cell_type": "markdown",
   "metadata": {},
   "source": [
    "## 获取数据\n",
    "这是训练数据与辅助表合成的,经过清洗的(见0_Explore)数据表"
   ]
  },
  {
   "cell_type": "code",
   "execution_count": 2,
   "metadata": {
    "collapsed": false
   },
   "outputs": [],
   "source": [
    "df_items = pd.read_hdf(\"df_train_clean.h5\", key = \"df_train_clean\")"
   ]
  },
  {
   "cell_type": "code",
   "execution_count": 4,
   "metadata": {
    "collapsed": false
   },
   "outputs": [
    {
     "data": {
      "text/plain": [
       "count                 5449121\n",
       "unique                    189\n",
       "top       2016-10-10 00:00:00\n",
       "freq                    44749\n",
       "first     2016-01-13 00:00:00\n",
       "last      2016-12-31 00:00:00\n",
       "Name: 交易时间, dtype: object"
      ]
     },
     "execution_count": 4,
     "metadata": {},
     "output_type": "execute_result"
    }
   ],
   "source": [
    "df_items['交易时间'].describe()"
   ]
  },
  {
   "cell_type": "code",
   "execution_count": 3,
   "metadata": {
    "collapsed": false
   },
   "outputs": [
    {
     "name": "stdout",
     "output_type": "stream",
     "text": [
      "<class 'pandas.core.frame.DataFrame'>\n",
      "Index: 5449121 entries, MT00021607015838544 to MT16911612298183475\n",
      "Data columns (total 47 columns):\n",
      "个人编码              int64\n",
      "医院编码              int64\n",
      "药品费发生金额           float64\n",
      "贵重药品发生金额          float64\n",
      "中成药费发生金额          float64\n",
      "中草药费发生金额          float64\n",
      "药品费自费金额           float64\n",
      "药品费拒付金额           float64\n",
      "药品费申报金额           float64\n",
      "检查费发生金额           float64\n",
      "贵重检查费金额           float64\n",
      "检查费自费金额           float64\n",
      "检查费申报金额           float64\n",
      "治疗费发生金额           float64\n",
      "治疗费自费金额           float64\n",
      "治疗费申报金额           float64\n",
      "手术费发生金额           float64\n",
      "手术费自费金额           float64\n",
      "手术费申报金额           float64\n",
      "床位费发生金额           float64\n",
      "床位费申报金额           float64\n",
      "医用材料发生金额          float64\n",
      "高价材料发生金额          float64\n",
      "医用材料费自费金额         float64\n",
      "成分输血申报金额          float64\n",
      "其它发生金额            float64\n",
      "其它申报金额            float64\n",
      "一次性医用材料申报金额       float64\n",
      "输全血按比例自负金额        float64\n",
      "起付线标准金额           float64\n",
      "起付标准以上自负比例金额      float64\n",
      "医疗救助个人按比例负担金额     float64\n",
      "最高限额以上金额          float64\n",
      "基本医疗保险统筹基金支付金额    float64\n",
      "交易时间              datetime64[ns]\n",
      "公务员医疗补助基金支付金额     float64\n",
      "城乡救助补助金额          float64\n",
      "可用账户报销金额          float64\n",
      "基本医疗保险个人账户支付金额    float64\n",
      "非账户支付金额           float64\n",
      "本次审批金额            float64\n",
      "补助审批金额            float64\n",
      "医疗救助医院申请          float64\n",
      "残疾军人医疗补助基金支付金额    float64\n",
      "民政救助补助金额          float64\n",
      "城乡优抚补助金额          float64\n",
      "三目统计项目            float64\n",
      "dtypes: datetime64[ns](1), float64(44), int64(2)\n",
      "memory usage: 1.9+ GB\n"
     ]
    }
   ],
   "source": [
    "df_items.info()"
   ]
  },
  {
   "cell_type": "markdown",
   "metadata": {},
   "source": [
    "# 总金额统计\n",
    "- 不分医院，统计2016年内，每个人在各项上的金额或数量"
   ]
  },
  {
   "cell_type": "code",
   "execution_count": 3,
   "metadata": {
    "collapsed": true
   },
   "outputs": [],
   "source": [
    "df_items.drop(['医院编码','交易时间'],axis=1,inplace=True)"
   ]
  },
  {
   "cell_type": "markdown",
   "metadata": {},
   "source": [
    "## 总数"
   ]
  },
  {
   "cell_type": "code",
   "execution_count": 4,
   "metadata": {
    "collapsed": false
   },
   "outputs": [],
   "source": [
    "df_sum = df_items.groupby('个人编码').sum()\n",
    "df_sum.columns = [\"{}_{}\".format(col,'sum') for col in df_sum.columns]"
   ]
  },
  {
   "cell_type": "code",
   "execution_count": 5,
   "metadata": {
    "collapsed": true
   },
   "outputs": [
    {
     "data": {
      "text/html": [
       "<div>\n",
       "<table border=\"1\" class=\"dataframe\">\n",
       "  <thead>\n",
       "    <tr style=\"text-align: right;\">\n",
       "      <th></th>\n",
       "      <th>药品费发生金额_sum</th>\n",
       "      <th>贵重药品发生金额_sum</th>\n",
       "      <th>中成药费发生金额_sum</th>\n",
       "      <th>中草药费发生金额_sum</th>\n",
       "      <th>药品费自费金额_sum</th>\n",
       "      <th>药品费拒付金额_sum</th>\n",
       "      <th>药品费申报金额_sum</th>\n",
       "      <th>检查费发生金额_sum</th>\n",
       "      <th>贵重检查费金额_sum</th>\n",
       "      <th>检查费自费金额_sum</th>\n",
       "      <th>...</th>\n",
       "      <th>可用账户报销金额_sum</th>\n",
       "      <th>基本医疗保险个人账户支付金额_sum</th>\n",
       "      <th>非账户支付金额_sum</th>\n",
       "      <th>本次审批金额_sum</th>\n",
       "      <th>补助审批金额_sum</th>\n",
       "      <th>医疗救助医院申请_sum</th>\n",
       "      <th>残疾军人医疗补助基金支付金额_sum</th>\n",
       "      <th>民政救助补助金额_sum</th>\n",
       "      <th>城乡优抚补助金额_sum</th>\n",
       "      <th>三目统计项目_sum</th>\n",
       "    </tr>\n",
       "    <tr>\n",
       "      <th>个人编码</th>\n",
       "      <th></th>\n",
       "      <th></th>\n",
       "      <th></th>\n",
       "      <th></th>\n",
       "      <th></th>\n",
       "      <th></th>\n",
       "      <th></th>\n",
       "      <th></th>\n",
       "      <th></th>\n",
       "      <th></th>\n",
       "      <th></th>\n",
       "      <th></th>\n",
       "      <th></th>\n",
       "      <th></th>\n",
       "      <th></th>\n",
       "      <th></th>\n",
       "      <th></th>\n",
       "      <th></th>\n",
       "      <th></th>\n",
       "      <th></th>\n",
       "      <th></th>\n",
       "    </tr>\n",
       "  </thead>\n",
       "  <tbody>\n",
       "    <tr>\n",
       "      <th>352120000000231</th>\n",
       "      <td>70372.25</td>\n",
       "      <td>9724.54</td>\n",
       "      <td>19721.85</td>\n",
       "      <td>0.0</td>\n",
       "      <td>226.33</td>\n",
       "      <td>0.0</td>\n",
       "      <td>69334.81</td>\n",
       "      <td>7010.0</td>\n",
       "      <td>0.0</td>\n",
       "      <td>0.0</td>\n",
       "      <td>...</td>\n",
       "      <td>8487.23</td>\n",
       "      <td>1127.37</td>\n",
       "      <td>7654.19</td>\n",
       "      <td>76757.31</td>\n",
       "      <td>0.0</td>\n",
       "      <td>0.0</td>\n",
       "      <td>0.0</td>\n",
       "      <td>0.0</td>\n",
       "      <td>0.0</td>\n",
       "      <td>452.0</td>\n",
       "    </tr>\n",
       "    <tr>\n",
       "      <th>352120000000386</th>\n",
       "      <td>33943.06</td>\n",
       "      <td>5617.30</td>\n",
       "      <td>2105.74</td>\n",
       "      <td>0.0</td>\n",
       "      <td>71.73</td>\n",
       "      <td>0.0</td>\n",
       "      <td>33086.74</td>\n",
       "      <td>570.0</td>\n",
       "      <td>0.0</td>\n",
       "      <td>0.0</td>\n",
       "      <td>...</td>\n",
       "      <td>4166.25</td>\n",
       "      <td>569.33</td>\n",
       "      <td>3668.65</td>\n",
       "      <td>33815.94</td>\n",
       "      <td>0.0</td>\n",
       "      <td>0.0</td>\n",
       "      <td>0.0</td>\n",
       "      <td>0.0</td>\n",
       "      <td>0.0</td>\n",
       "      <td>229.0</td>\n",
       "    </tr>\n",
       "    <tr>\n",
       "      <th>352120000000408</th>\n",
       "      <td>50264.76</td>\n",
       "      <td>0.00</td>\n",
       "      <td>18577.27</td>\n",
       "      <td>0.0</td>\n",
       "      <td>11.08</td>\n",
       "      <td>0.0</td>\n",
       "      <td>49456.12</td>\n",
       "      <td>0.0</td>\n",
       "      <td>0.0</td>\n",
       "      <td>0.0</td>\n",
       "      <td>...</td>\n",
       "      <td>7953.47</td>\n",
       "      <td>686.80</td>\n",
       "      <td>7300.15</td>\n",
       "      <td>58141.05</td>\n",
       "      <td>0.0</td>\n",
       "      <td>0.0</td>\n",
       "      <td>0.0</td>\n",
       "      <td>0.0</td>\n",
       "      <td>0.0</td>\n",
       "      <td>621.0</td>\n",
       "    </tr>\n",
       "    <tr>\n",
       "      <th>352120000000409</th>\n",
       "      <td>17915.90</td>\n",
       "      <td>0.00</td>\n",
       "      <td>15227.55</td>\n",
       "      <td>0.0</td>\n",
       "      <td>1.16</td>\n",
       "      <td>0.0</td>\n",
       "      <td>17914.74</td>\n",
       "      <td>0.0</td>\n",
       "      <td>0.0</td>\n",
       "      <td>0.0</td>\n",
       "      <td>...</td>\n",
       "      <td>2540.83</td>\n",
       "      <td>217.97</td>\n",
       "      <td>2324.02</td>\n",
       "      <td>25406.24</td>\n",
       "      <td>0.0</td>\n",
       "      <td>0.0</td>\n",
       "      <td>0.0</td>\n",
       "      <td>0.0</td>\n",
       "      <td>0.0</td>\n",
       "      <td>309.0</td>\n",
       "    </tr>\n",
       "    <tr>\n",
       "      <th>352120000000511</th>\n",
       "      <td>41459.28</td>\n",
       "      <td>6706.12</td>\n",
       "      <td>10400.12</td>\n",
       "      <td>0.0</td>\n",
       "      <td>13.41</td>\n",
       "      <td>0.0</td>\n",
       "      <td>41165.99</td>\n",
       "      <td>0.0</td>\n",
       "      <td>0.0</td>\n",
       "      <td>0.0</td>\n",
       "      <td>...</td>\n",
       "      <td>4444.57</td>\n",
       "      <td>161.00</td>\n",
       "      <td>4296.98</td>\n",
       "      <td>41645.99</td>\n",
       "      <td>0.0</td>\n",
       "      <td>0.0</td>\n",
       "      <td>0.0</td>\n",
       "      <td>0.0</td>\n",
       "      <td>0.0</td>\n",
       "      <td>252.0</td>\n",
       "    </tr>\n",
       "  </tbody>\n",
       "</table>\n",
       "<p>5 rows × 44 columns</p>\n",
       "</div>"
      ],
      "text/plain": [
       "                 药品费发生金额_sum  贵重药品发生金额_sum  中成药费发生金额_sum  中草药费发生金额_sum  \\\n",
       "个人编码                                                                     \n",
       "352120000000231     70372.25       9724.54      19721.85           0.0   \n",
       "352120000000386     33943.06       5617.30       2105.74           0.0   \n",
       "352120000000408     50264.76          0.00      18577.27           0.0   \n",
       "352120000000409     17915.90          0.00      15227.55           0.0   \n",
       "352120000000511     41459.28       6706.12      10400.12           0.0   \n",
       "\n",
       "                 药品费自费金额_sum  药品费拒付金额_sum  药品费申报金额_sum  检查费发生金额_sum  \\\n",
       "个人编码                                                                  \n",
       "352120000000231       226.33          0.0     69334.81       7010.0   \n",
       "352120000000386        71.73          0.0     33086.74        570.0   \n",
       "352120000000408        11.08          0.0     49456.12          0.0   \n",
       "352120000000409         1.16          0.0     17914.74          0.0   \n",
       "352120000000511        13.41          0.0     41165.99          0.0   \n",
       "\n",
       "                 贵重检查费金额_sum  检查费自费金额_sum     ...      可用账户报销金额_sum  \\\n",
       "个人编码                                          ...                     \n",
       "352120000000231          0.0          0.0     ...           8487.23   \n",
       "352120000000386          0.0          0.0     ...           4166.25   \n",
       "352120000000408          0.0          0.0     ...           7953.47   \n",
       "352120000000409          0.0          0.0     ...           2540.83   \n",
       "352120000000511          0.0          0.0     ...           4444.57   \n",
       "\n",
       "                 基本医疗保险个人账户支付金额_sum  非账户支付金额_sum  本次审批金额_sum  补助审批金额_sum  \\\n",
       "个人编码                                                                       \n",
       "352120000000231             1127.37      7654.19    76757.31         0.0   \n",
       "352120000000386              569.33      3668.65    33815.94         0.0   \n",
       "352120000000408              686.80      7300.15    58141.05         0.0   \n",
       "352120000000409              217.97      2324.02    25406.24         0.0   \n",
       "352120000000511              161.00      4296.98    41645.99         0.0   \n",
       "\n",
       "                 医疗救助医院申请_sum  残疾军人医疗补助基金支付金额_sum  民政救助补助金额_sum  城乡优抚补助金额_sum  \\\n",
       "个人编码                                                                            \n",
       "352120000000231           0.0                 0.0           0.0           0.0   \n",
       "352120000000386           0.0                 0.0           0.0           0.0   \n",
       "352120000000408           0.0                 0.0           0.0           0.0   \n",
       "352120000000409           0.0                 0.0           0.0           0.0   \n",
       "352120000000511           0.0                 0.0           0.0           0.0   \n",
       "\n",
       "                 三目统计项目_sum  \n",
       "个人编码                         \n",
       "352120000000231       452.0  \n",
       "352120000000386       229.0  \n",
       "352120000000408       621.0  \n",
       "352120000000409       309.0  \n",
       "352120000000511       252.0  \n",
       "\n",
       "[5 rows x 44 columns]"
      ]
     },
     "execution_count": 5,
     "metadata": {},
     "output_type": "execute_result"
    }
   ],
   "source": [
    "df_sum.head()"
   ]
  },
  {
   "cell_type": "markdown",
   "metadata": {},
   "source": [
    "## 四分位数"
   ]
  },
  {
   "cell_type": "code",
   "execution_count": 22,
   "metadata": {
    "collapsed": false
   },
   "outputs": [],
   "source": [
    "def q1(g):\n",
    "    return g.quantile(0.25)\n",
    "def q3(g):\n",
    "    return g.quantile(0.75)"
   ]
  },
  {
   "cell_type": "code",
   "execution_count": 7,
   "metadata": {
    "collapsed": false
   },
   "outputs": [],
   "source": [
    "g = df_items.groupby('个人编码')"
   ]
  },
  {
   "cell_type": "code",
   "execution_count": 9,
   "metadata": {
    "collapsed": true
   },
   "outputs": [
    {
     "data": {
      "text/plain": [
       "药品费发生金额           0.0\n",
       "贵重药品发生金额          0.0\n",
       "中成药费发生金额          0.0\n",
       "中草药费发生金额          0.0\n",
       "药品费自费金额           0.0\n",
       "药品费拒付金额           0.0\n",
       "药品费申报金额           0.0\n",
       "检查费发生金额           0.0\n",
       "贵重检查费金额           0.0\n",
       "检查费自费金额           0.0\n",
       "检查费申报金额           0.0\n",
       "治疗费发生金额           0.0\n",
       "治疗费自费金额           0.0\n",
       "治疗费申报金额           0.0\n",
       "手术费发生金额           0.0\n",
       "手术费自费金额           0.0\n",
       "手术费申报金额           0.0\n",
       "床位费发生金额           0.0\n",
       "床位费申报金额           0.0\n",
       "医用材料发生金额          0.0\n",
       "高价材料发生金额          0.0\n",
       "医用材料费自费金额         0.0\n",
       "成分输血申报金额          0.0\n",
       "其它发生金额            0.0\n",
       "其它申报金额            0.0\n",
       "一次性医用材料申报金额       0.0\n",
       "输全血按比例自负金额        0.0\n",
       "起付线标准金额           0.0\n",
       "起付标准以上自负比例金额      0.3\n",
       "医疗救助个人按比例负担金额     0.0\n",
       "最高限额以上金额          0.0\n",
       "基本医疗保险统筹基金支付金额    2.7\n",
       "公务员医疗补助基金支付金额     0.0\n",
       "城乡救助补助金额          0.0\n",
       "可用账户报销金额          0.3\n",
       "基本医疗保险个人账户支付金额    0.0\n",
       "非账户支付金额           2.3\n",
       "本次审批金额            3.0\n",
       "补助审批金额            0.0\n",
       "医疗救助医院申请          0.0\n",
       "残疾军人医疗补助基金支付金额    0.0\n",
       "民政救助补助金额          0.0\n",
       "城乡优抚补助金额          0.0\n",
       "三目统计项目            1.0\n",
       "Name: 0.25, dtype: float64"
      ]
     },
     "execution_count": 9,
     "metadata": {},
     "output_type": "execute_result"
    }
   ],
   "source": [
    "g.get_group(352120000000231).drop('个人编码',axis=1).quantile(0.25)"
   ]
  },
  {
   "cell_type": "code",
   "execution_count": 14,
   "metadata": {
    "collapsed": true
   },
   "outputs": [
    {
     "data": {
      "text/plain": [
       "Index([u'个人编码', u'药品费发生金额', u'贵重药品发生金额', u'中成药费发生金额', u'中草药费发生金额', u'药品费自费金额',\n",
       "       u'药品费拒付金额', u'药品费申报金额', u'检查费发生金额', u'贵重检查费金额', u'检查费自费金额', u'检查费申报金额',\n",
       "       u'治疗费发生金额', u'治疗费自费金额', u'治疗费申报金额', u'手术费发生金额', u'手术费自费金额', u'手术费申报金额',\n",
       "       u'床位费发生金额', u'床位费申报金额', u'医用材料发生金额', u'高价材料发生金额', u'医用材料费自费金额',\n",
       "       u'成分输血申报金额', u'其它发生金额', u'其它申报金额', u'一次性医用材料申报金额', u'输全血按比例自负金额',\n",
       "       u'起付线标准金额', u'起付标准以上自负比例金额', u'医疗救助个人按比例负担金额', u'最高限额以上金额',\n",
       "       u'基本医疗保险统筹基金支付金额', u'公务员医疗补助基金支付金额', u'城乡救助补助金额', u'可用账户报销金额',\n",
       "       u'基本医疗保险个人账户支付金额', u'非账户支付金额', u'本次审批金额', u'补助审批金额', u'医疗救助医院申请',\n",
       "       u'残疾军人医疗补助基金支付金额', u'民政救助补助金额', u'城乡优抚补助金额', u'三目统计项目'],\n",
       "      dtype='object')"
      ]
     },
     "execution_count": 14,
     "metadata": {},
     "output_type": "execute_result"
    }
   ],
   "source": [
    "g.get_group(352120000000231).columns"
   ]
  },
  {
   "cell_type": "code",
   "execution_count": 15,
   "metadata": {
    "collapsed": false
   },
   "outputs": [],
   "source": [
    "df_q1 = df_items.groupby('个人编码')['药品费发生金额', '贵重药品发生金额', '中成药费发生金额', '中草药费发生金额', '药品费自费金额'].quantile(0.25)\n",
    "df_q1.columns = [\"{}_{}\".format(col,'q1') for col in df_q1.columns]"
   ]
  },
  {
   "cell_type": "code",
   "execution_count": 18,
   "metadata": {
    "collapsed": false
   },
   "outputs": [],
   "source": [
    "df_q11 = df_items.groupby('个人编码')['药品费拒付金额', '药品费申报金额', '检查费发生金额', '贵重检查费金额', '检查费自费金额', '检查费申报金额'].quantile(0.25)\n",
    "df_q11.columns = [\"{}_{}\".format(col,'q1') for col in df_q11.columns]"
   ]
  },
  {
   "cell_type": "code",
   "execution_count": 19,
   "metadata": {
    "collapsed": true
   },
   "outputs": [],
   "source": [
    "df_q12 = df_items.groupby('个人编码')['治疗费发生金额', '治疗费自费金额', '治疗费申报金额', '手术费发生金额', '手术费自费金额', '手术费申报金额'].quantile(0.25)\n",
    "df_q12.columns = [\"{}_{}\".format(col,'q1') for col in df_q12.columns]"
   ]
  },
  {
   "cell_type": "code",
   "execution_count": 20,
   "metadata": {
    "collapsed": true
   },
   "outputs": [],
   "source": [
    "df_q13 = df_items.groupby('个人编码')['床位费发生金额', '床位费申报金额', '医用材料发生金额', '高价材料发生金额', '医用材料费自费金额'].quantile(0.25)\n",
    "df_q13.columns = [\"{}_{}\".format(col,'q1') for col in df_q13.columns]"
   ]
  },
  {
   "cell_type": "code",
   "execution_count": 21,
   "metadata": {
    "collapsed": true
   },
   "outputs": [],
   "source": [
    "df_q14 = df_items.groupby('个人编码')['成分输血申报金额', '其它发生金额', '其它申报金额', '一次性医用材料申报金额', '输全血按比例自负金额'].quantile(0.25)\n",
    "df_q14.columns = [\"{}_{}\".format(col,'q1') for col in df_q14.columns]"
   ]
  },
  {
   "cell_type": "code",
   "execution_count": 23,
   "metadata": {
    "collapsed": true
   },
   "outputs": [],
   "source": [
    "df_q15 = df_items.groupby('个人编码')['起付线标准金额', '起付标准以上自负比例金额', '医疗救助个人按比例负担金额', '最高限额以上金额','基本医疗保险统筹基金支付金额', '公务员医疗补助基金支付金额', '城乡救助补助金额', '可用账户报销金额'].quantile(0.25)\n",
    "df_q15.columns = [\"{}_{}\".format(col,'q1') for col in df_q15.columns]"
   ]
  },
  {
   "cell_type": "code",
   "execution_count": 24,
   "metadata": {
    "collapsed": true
   },
   "outputs": [],
   "source": [
    "df_q16 = df_items.groupby('个人编码')['基本医疗保险个人账户支付金额', '非账户支付金额', '本次审批金额', '补助审批金额', '医疗救助医院申请','残疾军人医疗补助基金支付金额', '民政救助补助金额', '城乡优抚补助金额', '三目统计项目'].quantile(0.25)\n",
    "df_q16.columns = [\"{}_{}\".format(col,'q1') for col in df_q16.columns]"
   ]
  },
  {
   "cell_type": "code",
   "execution_count": 25,
   "metadata": {
    "collapsed": true
   },
   "outputs": [],
   "source": [
    "df_q1 = pd.concat([df_q1,df_q11,df_q12,df_q13,df_q14,df_q15,df_q16],axis=1)"
   ]
  },
  {
   "cell_type": "code",
   "execution_count": 27,
   "metadata": {
    "collapsed": true
   },
   "outputs": [
    {
     "data": {
      "text/html": [
       "<div>\n",
       "<table border=\"1\" class=\"dataframe\">\n",
       "  <thead>\n",
       "    <tr style=\"text-align: right;\">\n",
       "      <th></th>\n",
       "      <th>药品费发生金额_q1</th>\n",
       "      <th>贵重药品发生金额_q1</th>\n",
       "      <th>中成药费发生金额_q1</th>\n",
       "      <th>中草药费发生金额_q1</th>\n",
       "      <th>药品费自费金额_q1</th>\n",
       "      <th>药品费拒付金额_q1</th>\n",
       "      <th>药品费申报金额_q1</th>\n",
       "      <th>检查费发生金额_q1</th>\n",
       "      <th>贵重检查费金额_q1</th>\n",
       "      <th>检查费自费金额_q1</th>\n",
       "      <th>...</th>\n",
       "      <th>可用账户报销金额_q1</th>\n",
       "      <th>基本医疗保险个人账户支付金额_q1</th>\n",
       "      <th>非账户支付金额_q1</th>\n",
       "      <th>本次审批金额_q1</th>\n",
       "      <th>补助审批金额_q1</th>\n",
       "      <th>医疗救助医院申请_q1</th>\n",
       "      <th>残疾军人医疗补助基金支付金额_q1</th>\n",
       "      <th>民政救助补助金额_q1</th>\n",
       "      <th>城乡优抚补助金额_q1</th>\n",
       "      <th>三目统计项目_q1</th>\n",
       "    </tr>\n",
       "    <tr>\n",
       "      <th>个人编码</th>\n",
       "      <th></th>\n",
       "      <th></th>\n",
       "      <th></th>\n",
       "      <th></th>\n",
       "      <th></th>\n",
       "      <th></th>\n",
       "      <th></th>\n",
       "      <th></th>\n",
       "      <th></th>\n",
       "      <th></th>\n",
       "      <th></th>\n",
       "      <th></th>\n",
       "      <th></th>\n",
       "      <th></th>\n",
       "      <th></th>\n",
       "      <th></th>\n",
       "      <th></th>\n",
       "      <th></th>\n",
       "      <th></th>\n",
       "      <th></th>\n",
       "      <th></th>\n",
       "    </tr>\n",
       "  </thead>\n",
       "  <tbody>\n",
       "    <tr>\n",
       "      <th>352120000000231</th>\n",
       "      <td>0.0</td>\n",
       "      <td>0.0</td>\n",
       "      <td>0.0</td>\n",
       "      <td>0.0</td>\n",
       "      <td>0.0</td>\n",
       "      <td>0.0</td>\n",
       "      <td>0.0</td>\n",
       "      <td>0.0</td>\n",
       "      <td>0.0</td>\n",
       "      <td>0.0</td>\n",
       "      <td>...</td>\n",
       "      <td>0.3</td>\n",
       "      <td>0.0</td>\n",
       "      <td>2.300</td>\n",
       "      <td>3.0</td>\n",
       "      <td>0.0</td>\n",
       "      <td>0.0</td>\n",
       "      <td>0.0</td>\n",
       "      <td>0.0</td>\n",
       "      <td>0.0</td>\n",
       "      <td>1.0</td>\n",
       "    </tr>\n",
       "    <tr>\n",
       "      <th>352120000000386</th>\n",
       "      <td>0.0</td>\n",
       "      <td>0.0</td>\n",
       "      <td>0.0</td>\n",
       "      <td>0.0</td>\n",
       "      <td>0.0</td>\n",
       "      <td>0.0</td>\n",
       "      <td>0.0</td>\n",
       "      <td>0.0</td>\n",
       "      <td>0.0</td>\n",
       "      <td>0.0</td>\n",
       "      <td>...</td>\n",
       "      <td>3.0</td>\n",
       "      <td>0.0</td>\n",
       "      <td>0.645</td>\n",
       "      <td>30.0</td>\n",
       "      <td>0.0</td>\n",
       "      <td>0.0</td>\n",
       "      <td>0.0</td>\n",
       "      <td>0.0</td>\n",
       "      <td>0.0</td>\n",
       "      <td>1.0</td>\n",
       "    </tr>\n",
       "    <tr>\n",
       "      <th>352120000000408</th>\n",
       "      <td>0.0</td>\n",
       "      <td>0.0</td>\n",
       "      <td>0.0</td>\n",
       "      <td>0.0</td>\n",
       "      <td>0.0</td>\n",
       "      <td>0.0</td>\n",
       "      <td>0.0</td>\n",
       "      <td>0.0</td>\n",
       "      <td>0.0</td>\n",
       "      <td>0.0</td>\n",
       "      <td>...</td>\n",
       "      <td>0.6</td>\n",
       "      <td>0.0</td>\n",
       "      <td>0.900</td>\n",
       "      <td>3.0</td>\n",
       "      <td>0.0</td>\n",
       "      <td>0.0</td>\n",
       "      <td>0.0</td>\n",
       "      <td>0.0</td>\n",
       "      <td>0.0</td>\n",
       "      <td>1.0</td>\n",
       "    </tr>\n",
       "    <tr>\n",
       "      <th>352120000000409</th>\n",
       "      <td>0.0</td>\n",
       "      <td>0.0</td>\n",
       "      <td>0.0</td>\n",
       "      <td>0.0</td>\n",
       "      <td>0.0</td>\n",
       "      <td>0.0</td>\n",
       "      <td>0.0</td>\n",
       "      <td>0.0</td>\n",
       "      <td>0.0</td>\n",
       "      <td>0.0</td>\n",
       "      <td>...</td>\n",
       "      <td>0.3</td>\n",
       "      <td>0.0</td>\n",
       "      <td>0.300</td>\n",
       "      <td>3.0</td>\n",
       "      <td>0.0</td>\n",
       "      <td>0.0</td>\n",
       "      <td>0.0</td>\n",
       "      <td>0.0</td>\n",
       "      <td>0.0</td>\n",
       "      <td>1.0</td>\n",
       "    </tr>\n",
       "    <tr>\n",
       "      <th>352120000000511</th>\n",
       "      <td>0.0</td>\n",
       "      <td>0.0</td>\n",
       "      <td>0.0</td>\n",
       "      <td>0.0</td>\n",
       "      <td>0.0</td>\n",
       "      <td>0.0</td>\n",
       "      <td>0.0</td>\n",
       "      <td>0.0</td>\n",
       "      <td>0.0</td>\n",
       "      <td>0.0</td>\n",
       "      <td>...</td>\n",
       "      <td>1.0</td>\n",
       "      <td>0.0</td>\n",
       "      <td>1.000</td>\n",
       "      <td>10.0</td>\n",
       "      <td>0.0</td>\n",
       "      <td>0.0</td>\n",
       "      <td>0.0</td>\n",
       "      <td>0.0</td>\n",
       "      <td>0.0</td>\n",
       "      <td>1.0</td>\n",
       "    </tr>\n",
       "  </tbody>\n",
       "</table>\n",
       "<p>5 rows × 44 columns</p>\n",
       "</div>"
      ],
      "text/plain": [
       "                 药品费发生金额_q1  贵重药品发生金额_q1  中成药费发生金额_q1  中草药费发生金额_q1  \\\n",
       "个人编码                                                                 \n",
       "352120000000231         0.0          0.0          0.0          0.0   \n",
       "352120000000386         0.0          0.0          0.0          0.0   \n",
       "352120000000408         0.0          0.0          0.0          0.0   \n",
       "352120000000409         0.0          0.0          0.0          0.0   \n",
       "352120000000511         0.0          0.0          0.0          0.0   \n",
       "\n",
       "                 药品费自费金额_q1  药品费拒付金额_q1  药品费申报金额_q1  检查费发生金额_q1  贵重检查费金额_q1  \\\n",
       "个人编码                                                                          \n",
       "352120000000231         0.0         0.0         0.0         0.0         0.0   \n",
       "352120000000386         0.0         0.0         0.0         0.0         0.0   \n",
       "352120000000408         0.0         0.0         0.0         0.0         0.0   \n",
       "352120000000409         0.0         0.0         0.0         0.0         0.0   \n",
       "352120000000511         0.0         0.0         0.0         0.0         0.0   \n",
       "\n",
       "                 检查费自费金额_q1    ...      可用账户报销金额_q1  基本医疗保险个人账户支付金额_q1  \\\n",
       "个人编码                           ...                                       \n",
       "352120000000231         0.0    ...              0.3                0.0   \n",
       "352120000000386         0.0    ...              3.0                0.0   \n",
       "352120000000408         0.0    ...              0.6                0.0   \n",
       "352120000000409         0.0    ...              0.3                0.0   \n",
       "352120000000511         0.0    ...              1.0                0.0   \n",
       "\n",
       "                 非账户支付金额_q1  本次审批金额_q1  补助审批金额_q1  医疗救助医院申请_q1  \\\n",
       "个人编码                                                             \n",
       "352120000000231       2.300        3.0        0.0          0.0   \n",
       "352120000000386       0.645       30.0        0.0          0.0   \n",
       "352120000000408       0.900        3.0        0.0          0.0   \n",
       "352120000000409       0.300        3.0        0.0          0.0   \n",
       "352120000000511       1.000       10.0        0.0          0.0   \n",
       "\n",
       "                 残疾军人医疗补助基金支付金额_q1  民政救助补助金额_q1  城乡优抚补助金额_q1  三目统计项目_q1  \n",
       "个人编码                                                                     \n",
       "352120000000231                0.0          0.0          0.0        1.0  \n",
       "352120000000386                0.0          0.0          0.0        1.0  \n",
       "352120000000408                0.0          0.0          0.0        1.0  \n",
       "352120000000409                0.0          0.0          0.0        1.0  \n",
       "352120000000511                0.0          0.0          0.0        1.0  \n",
       "\n",
       "[5 rows x 44 columns]"
      ]
     },
     "execution_count": 27,
     "metadata": {},
     "output_type": "execute_result"
    }
   ],
   "source": [
    "df_q1.head()"
   ]
  },
  {
   "cell_type": "code",
   "execution_count": 34,
   "metadata": {
    "collapsed": true
   },
   "outputs": [],
   "source": [
    "df_q2 = df_items.groupby('个人编码').median()\n",
    "df_q2.columns = [\"{}_{}\".format(col,'q2') for col in df_q2.columns]"
   ]
  },
  {
   "cell_type": "code",
   "execution_count": 29,
   "metadata": {
    "collapsed": true
   },
   "outputs": [],
   "source": [
    "df_q3 = df_items.groupby('个人编码')['药品费发生金额', '贵重药品发生金额', '中成药费发生金额', '中草药费发生金额', '药品费自费金额',\\\n",
    "                                 '药品费拒付金额', '药品费申报金额', '检查费发生金额', '贵重检查费金额', '检查费自费金额', '检查费申报金额',\\\n",
    "                                 '治疗费发生金额', '治疗费自费金额', '治疗费申报金额', '手术费发生金额', '手术费自费金额', '手术费申报金额',\\\n",
    "                                 '床位费发生金额', '床位费申报金额', '医用材料发生金额', '高价材料发生金额', '医用材料费自费金额',\\\n",
    "                                 '成分输血申报金额', '其它发生金额', '其它申报金额', '一次性医用材料申报金额', '输全血按比例自负金额',\\\n",
    "                                 '起付线标准金额', '起付标准以上自负比例金额', '医疗救助个人按比例负担金额', '最高限额以上金额',\\\n",
    "                                  '基本医疗保险统筹基金支付金额', '公务员医疗补助基金支付金额', '城乡救助补助金额', '可用账户报销金额',\\\n",
    "                                 '基本医疗保险个人账户支付金额', '非账户支付金额', '本次审批金额', '补助审批金额', '医疗救助医院申请',\\\n",
    "                                  '残疾军人医疗补助基金支付金额', '民政救助补助金额', '城乡优抚补助金额', '三目统计项目'].quantile(0.75)"
   ]
  },
  {
   "cell_type": "code",
   "execution_count": 30,
   "metadata": {
    "collapsed": true
   },
   "outputs": [],
   "source": [
    "df_q3.columns = [\"{}_{}\".format(col,'q3') for col in df_q3.columns]"
   ]
  },
  {
   "cell_type": "code",
   "execution_count": 31,
   "metadata": {
    "collapsed": true
   },
   "outputs": [
    {
     "data": {
      "text/html": [
       "<div>\n",
       "<table border=\"1\" class=\"dataframe\">\n",
       "  <thead>\n",
       "    <tr style=\"text-align: right;\">\n",
       "      <th></th>\n",
       "      <th>药品费发生金额_q3</th>\n",
       "      <th>贵重药品发生金额_q3</th>\n",
       "      <th>中成药费发生金额_q3</th>\n",
       "      <th>中草药费发生金额_q3</th>\n",
       "      <th>药品费自费金额_q3</th>\n",
       "      <th>药品费拒付金额_q3</th>\n",
       "      <th>药品费申报金额_q3</th>\n",
       "      <th>检查费发生金额_q3</th>\n",
       "      <th>贵重检查费金额_q3</th>\n",
       "      <th>检查费自费金额_q3</th>\n",
       "      <th>...</th>\n",
       "      <th>可用账户报销金额_q3</th>\n",
       "      <th>基本医疗保险个人账户支付金额_q3</th>\n",
       "      <th>非账户支付金额_q3</th>\n",
       "      <th>本次审批金额_q3</th>\n",
       "      <th>补助审批金额_q3</th>\n",
       "      <th>医疗救助医院申请_q3</th>\n",
       "      <th>残疾军人医疗补助基金支付金额_q3</th>\n",
       "      <th>民政救助补助金额_q3</th>\n",
       "      <th>城乡优抚补助金额_q3</th>\n",
       "      <th>三目统计项目_q3</th>\n",
       "    </tr>\n",
       "    <tr>\n",
       "      <th>个人编码</th>\n",
       "      <th></th>\n",
       "      <th></th>\n",
       "      <th></th>\n",
       "      <th></th>\n",
       "      <th></th>\n",
       "      <th></th>\n",
       "      <th></th>\n",
       "      <th></th>\n",
       "      <th></th>\n",
       "      <th></th>\n",
       "      <th></th>\n",
       "      <th></th>\n",
       "      <th></th>\n",
       "      <th></th>\n",
       "      <th></th>\n",
       "      <th></th>\n",
       "      <th></th>\n",
       "      <th></th>\n",
       "      <th></th>\n",
       "      <th></th>\n",
       "      <th></th>\n",
       "    </tr>\n",
       "  </thead>\n",
       "  <tbody>\n",
       "    <tr>\n",
       "      <th>352120000000231</th>\n",
       "      <td>569.72</td>\n",
       "      <td>0.0</td>\n",
       "      <td>186.95</td>\n",
       "      <td>0.0</td>\n",
       "      <td>0.0</td>\n",
       "      <td>0.0</td>\n",
       "      <td>560.75</td>\n",
       "      <td>15.0</td>\n",
       "      <td>0.0</td>\n",
       "      <td>0.0</td>\n",
       "      <td>...</td>\n",
       "      <td>65.05</td>\n",
       "      <td>0.300</td>\n",
       "      <td>65.0500</td>\n",
       "      <td>560.75</td>\n",
       "      <td>0.0</td>\n",
       "      <td>0.0</td>\n",
       "      <td>0.0</td>\n",
       "      <td>0.0</td>\n",
       "      <td>0.0</td>\n",
       "      <td>3.0</td>\n",
       "    </tr>\n",
       "    <tr>\n",
       "      <th>352120000000386</th>\n",
       "      <td>431.47</td>\n",
       "      <td>0.0</td>\n",
       "      <td>0.00</td>\n",
       "      <td>0.0</td>\n",
       "      <td>0.0</td>\n",
       "      <td>0.0</td>\n",
       "      <td>422.50</td>\n",
       "      <td>0.0</td>\n",
       "      <td>0.0</td>\n",
       "      <td>0.0</td>\n",
       "      <td>...</td>\n",
       "      <td>51.50</td>\n",
       "      <td>2.560</td>\n",
       "      <td>46.4625</td>\n",
       "      <td>422.50</td>\n",
       "      <td>0.0</td>\n",
       "      <td>0.0</td>\n",
       "      <td>0.0</td>\n",
       "      <td>0.0</td>\n",
       "      <td>0.0</td>\n",
       "      <td>2.0</td>\n",
       "    </tr>\n",
       "    <tr>\n",
       "      <th>352120000000408</th>\n",
       "      <td>351.36</td>\n",
       "      <td>0.0</td>\n",
       "      <td>133.84</td>\n",
       "      <td>0.0</td>\n",
       "      <td>0.0</td>\n",
       "      <td>0.0</td>\n",
       "      <td>351.36</td>\n",
       "      <td>0.0</td>\n",
       "      <td>0.0</td>\n",
       "      <td>0.0</td>\n",
       "      <td>...</td>\n",
       "      <td>45.00</td>\n",
       "      <td>0.000</td>\n",
       "      <td>45.0000</td>\n",
       "      <td>447.57</td>\n",
       "      <td>0.0</td>\n",
       "      <td>0.0</td>\n",
       "      <td>0.0</td>\n",
       "      <td>0.0</td>\n",
       "      <td>0.0</td>\n",
       "      <td>3.0</td>\n",
       "    </tr>\n",
       "    <tr>\n",
       "      <th>352120000000409</th>\n",
       "      <td>406.15</td>\n",
       "      <td>0.0</td>\n",
       "      <td>378.15</td>\n",
       "      <td>0.0</td>\n",
       "      <td>0.0</td>\n",
       "      <td>0.0</td>\n",
       "      <td>406.15</td>\n",
       "      <td>0.0</td>\n",
       "      <td>0.0</td>\n",
       "      <td>0.0</td>\n",
       "      <td>...</td>\n",
       "      <td>40.62</td>\n",
       "      <td>0.275</td>\n",
       "      <td>40.6200</td>\n",
       "      <td>406.15</td>\n",
       "      <td>0.0</td>\n",
       "      <td>0.0</td>\n",
       "      <td>0.0</td>\n",
       "      <td>0.0</td>\n",
       "      <td>0.0</td>\n",
       "      <td>3.0</td>\n",
       "    </tr>\n",
       "    <tr>\n",
       "      <th>352120000000511</th>\n",
       "      <td>449.04</td>\n",
       "      <td>0.0</td>\n",
       "      <td>82.08</td>\n",
       "      <td>0.0</td>\n",
       "      <td>0.0</td>\n",
       "      <td>0.0</td>\n",
       "      <td>449.04</td>\n",
       "      <td>0.0</td>\n",
       "      <td>0.0</td>\n",
       "      <td>0.0</td>\n",
       "      <td>...</td>\n",
       "      <td>49.52</td>\n",
       "      <td>0.000</td>\n",
       "      <td>49.5200</td>\n",
       "      <td>449.04</td>\n",
       "      <td>0.0</td>\n",
       "      <td>0.0</td>\n",
       "      <td>0.0</td>\n",
       "      <td>0.0</td>\n",
       "      <td>0.0</td>\n",
       "      <td>3.0</td>\n",
       "    </tr>\n",
       "  </tbody>\n",
       "</table>\n",
       "<p>5 rows × 44 columns</p>\n",
       "</div>"
      ],
      "text/plain": [
       "                 药品费发生金额_q3  贵重药品发生金额_q3  中成药费发生金额_q3  中草药费发生金额_q3  \\\n",
       "个人编码                                                                 \n",
       "352120000000231      569.72          0.0       186.95          0.0   \n",
       "352120000000386      431.47          0.0         0.00          0.0   \n",
       "352120000000408      351.36          0.0       133.84          0.0   \n",
       "352120000000409      406.15          0.0       378.15          0.0   \n",
       "352120000000511      449.04          0.0        82.08          0.0   \n",
       "\n",
       "                 药品费自费金额_q3  药品费拒付金额_q3  药品费申报金额_q3  检查费发生金额_q3  贵重检查费金额_q3  \\\n",
       "个人编码                                                                          \n",
       "352120000000231         0.0         0.0      560.75        15.0         0.0   \n",
       "352120000000386         0.0         0.0      422.50         0.0         0.0   \n",
       "352120000000408         0.0         0.0      351.36         0.0         0.0   \n",
       "352120000000409         0.0         0.0      406.15         0.0         0.0   \n",
       "352120000000511         0.0         0.0      449.04         0.0         0.0   \n",
       "\n",
       "                 检查费自费金额_q3    ...      可用账户报销金额_q3  基本医疗保险个人账户支付金额_q3  \\\n",
       "个人编码                           ...                                       \n",
       "352120000000231         0.0    ...            65.05              0.300   \n",
       "352120000000386         0.0    ...            51.50              2.560   \n",
       "352120000000408         0.0    ...            45.00              0.000   \n",
       "352120000000409         0.0    ...            40.62              0.275   \n",
       "352120000000511         0.0    ...            49.52              0.000   \n",
       "\n",
       "                 非账户支付金额_q3  本次审批金额_q3  补助审批金额_q3  医疗救助医院申请_q3  \\\n",
       "个人编码                                                             \n",
       "352120000000231     65.0500     560.75        0.0          0.0   \n",
       "352120000000386     46.4625     422.50        0.0          0.0   \n",
       "352120000000408     45.0000     447.57        0.0          0.0   \n",
       "352120000000409     40.6200     406.15        0.0          0.0   \n",
       "352120000000511     49.5200     449.04        0.0          0.0   \n",
       "\n",
       "                 残疾军人医疗补助基金支付金额_q3  民政救助补助金额_q3  城乡优抚补助金额_q3  三目统计项目_q3  \n",
       "个人编码                                                                     \n",
       "352120000000231                0.0          0.0          0.0        3.0  \n",
       "352120000000386                0.0          0.0          0.0        2.0  \n",
       "352120000000408                0.0          0.0          0.0        3.0  \n",
       "352120000000409                0.0          0.0          0.0        3.0  \n",
       "352120000000511                0.0          0.0          0.0        3.0  \n",
       "\n",
       "[5 rows x 44 columns]"
      ]
     },
     "execution_count": 31,
     "metadata": {},
     "output_type": "execute_result"
    }
   ],
   "source": [
    "df_q3.head()"
   ]
  },
  {
   "cell_type": "markdown",
   "metadata": {},
   "source": [
    "# 极值，方差"
   ]
  },
  {
   "cell_type": "code",
   "execution_count": 32,
   "metadata": {
    "collapsed": true
   },
   "outputs": [],
   "source": [
    "df_max = df_items.groupby('个人编码').max()\n",
    "df_max.columns = [\"{}_{}\".format(col,'max') for col in df_max.columns]"
   ]
  },
  {
   "cell_type": "code",
   "execution_count": 33,
   "metadata": {
    "collapsed": true
   },
   "outputs": [],
   "source": [
    "df_std = df_items.groupby('个人编码').std()\n",
    "df_std.columns = [\"{}_{}\".format(col,'std') for col in df_std.columns]"
   ]
  },
  {
   "cell_type": "code",
   "execution_count": 35,
   "metadata": {
    "collapsed": true
   },
   "outputs": [],
   "source": [
    "df_mean = df_items.groupby('个人编码').mean()\n",
    "df_mean.columns = [\"{}_{}\".format(col,'mean') for col in df_mean.columns]"
   ]
  },
  {
   "cell_type": "markdown",
   "metadata": {},
   "source": [
    "# 合并"
   ]
  },
  {
   "cell_type": "code",
   "execution_count": 38,
   "metadata": {
    "collapsed": false
   },
   "outputs": [],
   "source": [
    "df_items_stats_feature = pd.concat([df_sum,df_mean,df_std,df_max,df_q1,df_q2,df_q3],axis=1)"
   ]
  },
  {
   "cell_type": "code",
   "execution_count": 39,
   "metadata": {
    "collapsed": false
   },
   "outputs": [],
   "source": [
    "df_items_stats_feature.to_csv('data/feature_items_stats.csv')"
   ]
  },
  {
   "cell_type": "code",
   "execution_count": 40,
   "metadata": {
    "collapsed": false
   },
   "outputs": [
    {
     "name": "stdout",
     "output_type": "stream",
     "text": [
      "<class 'pandas.core.frame.DataFrame'>\n",
      "Int64Index: 20000 entries, 352120000000231 to 352128000617402\n",
      "Columns: 308 entries, 药品费发生金额_sum to 三目统计项目_q3\n",
      "dtypes: float64(308)\n",
      "memory usage: 47.1 MB\n"
     ]
    }
   ],
   "source": [
    "df_items_stats_feature.info()"
   ]
  }
 ],
 "metadata": {
  "kernelspec": {
   "display_name": "Python 2",
   "language": "python",
   "name": "python2"
  },
  "language_info": {
   "codemirror_mode": {
    "name": "ipython",
    "version": 2
   },
   "file_extension": ".py",
   "mimetype": "text/x-python",
   "name": "python",
   "nbconvert_exporter": "python",
   "pygments_lexer": "ipython2",
   "version": "2.7.13"
  },
  "toc": {
   "colors": {
    "hover_highlight": "#DAA520",
    "navigate_num": "#000000",
    "navigate_text": "#333333",
    "running_highlight": "#FF0000",
    "selected_highlight": "#FFD700",
    "sidebar_border": "#EEEEEE",
    "wrapper_background": "#FFFFFF"
   },
   "moveMenuLeft": true,
   "nav_menu": {
    "height": "49px",
    "width": "252px"
   },
   "navigate_menu": true,
   "number_sections": true,
   "sideBar": true,
   "threshold": 4,
   "toc_cell": false,
   "toc_section_display": "block",
   "toc_window_display": true,
   "widenNotebook": false
  }
 },
 "nbformat": 4,
 "nbformat_minor": 2
}
