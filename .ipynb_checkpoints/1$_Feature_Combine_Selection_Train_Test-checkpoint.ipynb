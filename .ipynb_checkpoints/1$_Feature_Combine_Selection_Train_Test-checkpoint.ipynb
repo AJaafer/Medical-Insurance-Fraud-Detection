{
 "cells": [
  {
   "cell_type": "code",
   "execution_count": 1,
   "metadata": {
    "collapsed": true
   },
   "outputs": [],
   "source": [
    "import pandas as pd\n",
    "import numpy as np\n",
    "import matplotlib.pyplot as plt\n",
    "%matplotlib inline\n",
    "pd.set_option(\"display.max_columns\",100)\n",
    "pd.set_option('display.max_rows',100)\n",
    "import time"
   ]
  },
  {
   "cell_type": "markdown",
   "metadata": {},
   "source": [
    "# 共同特征\n",
    "- 出院诊断病种\n",
    "- 三目服务项目"
   ]
  },
  {
   "cell_type": "code",
   "execution_count": 20,
   "metadata": {
    "collapsed": false
   },
   "outputs": [
    {
     "data": {
      "text/plain": [
       "2269"
      ]
     },
     "execution_count": 20,
     "metadata": {},
     "output_type": "execute_result"
    }
   ],
   "source": [
    "# 出院诊断病种（共同）\n",
    "disease_predictors_train = pd.read_csv(\"disease_predictors_train.csv\",index_col=0,header=None)\n",
    "disease_predictors_test = pd.read_csv(\"disease_predictors_test.csv\",index_col=0,header=None)\n",
    "predictors_test = disease_predictors_test.set_index(1).index\n",
    "predictors_train = disease_predictors_train.set_index(1).index\n",
    "common_disease_predictors = predictors_train.intersection(predictors_test)\n",
    "common_disease_predictors.size"
   ]
  },
  {
   "cell_type": "code",
   "execution_count": 24,
   "metadata": {
    "collapsed": false
   },
   "outputs": [
    {
     "data": {
      "text/plain": [
       "False"
      ]
     },
     "execution_count": 24,
     "metadata": {},
     "output_type": "execute_result"
    }
   ],
   "source": [
    "\"target\" in common_disease_predictors"
   ]
  },
  {
   "cell_type": "code",
   "execution_count": 19,
   "metadata": {
    "collapsed": false
   },
   "outputs": [
    {
     "data": {
      "text/plain": [
       "224"
      ]
     },
     "execution_count": 19,
     "metadata": {},
     "output_type": "execute_result"
    }
   ],
   "source": [
    "# 三目服务（共同）\n",
    "service_predictors_train = pd.read_csv(\"service_predictors_train.csv\",index_col=0,header=None)\n",
    "service_predictors_test = pd.read_csv(\"service_predictors_test.csv\",index_col=0,header=None)\n",
    "predictors_test = service_predictors_test.set_index(1).index\n",
    "predictors_train = service_predictors_train.set_index(1).index\n",
    "common_service_predictors = predictors_train.intersection(predictors_test)\n",
    "common_service_predictors.size"
   ]
  },
  {
   "cell_type": "code",
   "execution_count": 23,
   "metadata": {
    "collapsed": false
   },
   "outputs": [
    {
     "data": {
      "text/plain": [
       "False"
      ]
     },
     "execution_count": 23,
     "metadata": {},
     "output_type": "execute_result"
    }
   ],
   "source": [
    "\"target\" in common_service_predictors"
   ]
  },
  {
   "cell_type": "markdown",
   "metadata": {},
   "source": [
    "# 出院诊断病种特征数据处理"
   ]
  },
  {
   "cell_type": "code",
   "execution_count": 21,
   "metadata": {
    "collapsed": false
   },
   "outputs": [],
   "source": [
    "df_disease_feat = pd.read_csv(\"df_disease_feat_train.csv\",index_col=\"个人编码\")\n",
    "df_disease_feat[common_disease_predictors].to_csv(\"df_disease_feat_train_clean.csv\")\n",
    "df_disease_feat = pd.read_csv(\"df_disease_feat_test.csv\",index_col=\"个人编码\")\n",
    "df_disease_feat[common_disease_predictors].to_csv(\"df_disease_feat_test_clean.csv\")"
   ]
  },
  {
   "cell_type": "markdown",
   "metadata": {},
   "source": [
    "# 三目服务项目特征数据处理"
   ]
  },
  {
   "cell_type": "code",
   "execution_count": 102,
   "metadata": {
    "collapsed": true
   },
   "outputs": [],
   "source": [
    "df_service_feat = pd.read_csv(\"df_service_feat_train.csv\",index_col=\"个人编码\")\n",
    "df_service_feat[common_service_predictors].to_csv(\"df_service_feat_train_clean.csv\")\n",
    "df_service_feat = pd.read_csv(\"df_service_feat_test.csv\",index_col=\"个人编码\")\n",
    "df_service_feat[common_service_predictors].to_csv(\"df_service_feat_test_clean.csv\")"
   ]
  },
  {
   "cell_type": "code",
   "execution_count": 104,
   "metadata": {
    "collapsed": false
   },
   "outputs": [],
   "source": [
    "del df_disease_feat\n",
    "del df_service_feat"
   ]
  },
  {
   "cell_type": "markdown",
   "metadata": {},
   "source": [
    "# 出院诊断病种特征选择xgboost"
   ]
  },
  {
   "cell_type": "code",
   "execution_count": 35,
   "metadata": {
    "collapsed": false
   },
   "outputs": [
    {
     "name": "stderr",
     "output_type": "stream",
     "text": [
      "D:\\Program Files\\Anaconda\\lib\\site-packages\\sklearn\\cross_validation.py:44: DeprecationWarning: This module was deprecated in version 0.18 in favor of the model_selection module into which all the refactored classes and functions are moved. Also note that the interface of the new CV iterators are different from that of this module. This module will be removed in 0.20.\n",
      "  \"This module will be removed in 0.20.\", DeprecationWarning)\n",
      "D:\\Program Files\\Anaconda\\lib\\site-packages\\sklearn\\grid_search.py:43: DeprecationWarning: This module was deprecated in version 0.18 in favor of the model_selection module into which all the refactored classes and functions are moved. This module will be removed in 0.20.\n",
      "  DeprecationWarning)\n"
     ]
    }
   ],
   "source": [
    "# Import libraries:\n",
    "import xgboost as xgb\n",
    "from xgboost.sklearn import XGBClassifier\n",
    "from sklearn import cross_validation, metrics\n",
    "from sklearn.grid_search import GridSearchCV\n",
    "\n",
    "from matplotlib.pylab import rcParams\n",
    "rcParams['figure.figsize'] = 12,4\n",
    "\n",
    "# 为显示中文\n",
    "from pylab import *  \n",
    "mpl.rcParams['font.sans-serif'] = ['SimHei']"
   ]
  },
  {
   "cell_type": "markdown",
   "metadata": {},
   "source": [
    "## Data Preparation"
   ]
  },
  {
   "cell_type": "code",
   "execution_count": 59,
   "metadata": {
    "collapsed": true
   },
   "outputs": [],
   "source": [
    "# Loading data\n",
    "df_disease_feat = pd.read_csv(\"df_disease_feat_train_clean.csv\",index_col='个人编码')"
   ]
  },
  {
   "cell_type": "code",
   "execution_count": 39,
   "metadata": {
    "collapsed": true
   },
   "outputs": [
    {
     "data": {
      "text/html": [
       "<div>\n",
       "<table border=\"1\" class=\"dataframe\">\n",
       "  <thead>\n",
       "    <tr style=\"text-align: right;\">\n",
       "      <th></th>\n",
       "      <th>disease_\\</th>\n",
       "      <th>disease_Ⅱ</th>\n",
       "      <th>disease_Ⅱ型糖尿病</th>\n",
       "      <th>disease_Ⅱ型糖尿病合并肾病</th>\n",
       "      <th>disease_Ⅱ型糖尿病性周围神经病变</th>\n",
       "      <th>disease_Ⅱ型糖尿病性周围血管病</th>\n",
       "      <th>disease_Ⅱ型糖尿病糖尿病合并肾损伤</th>\n",
       "      <th>disease_一线他汀不耐受</th>\n",
       "      <th>disease_一线治疗不达标</th>\n",
       "      <th>disease_一线治疗无效二线治疗</th>\n",
       "      <th>disease_一线用药不达标</th>\n",
       "      <th>disease_一线药物不耐受</th>\n",
       "      <th>disease_一线药物效果不佳</th>\n",
       "      <th>disease_一线药物治疗无效行二线治疗</th>\n",
       "      <th>disease_一线降脂药不耐受</th>\n",
       "      <th>disease_一线降脂药效果不佳</th>\n",
       "      <th>disease_一线降脂药无效</th>\n",
       "      <th>disease_一线降脂药物不耐受偏瘫</th>\n",
       "      <th>disease_一线降脂药物不耐受偏瘫门特</th>\n",
       "      <th>disease_一线降脂药物不耐受脑供血不足偏瘫</th>\n",
       "      <th>disease_一线降脂药物不耐受脑梗塞</th>\n",
       "      <th>disease_一线降脂药物治疗效果欠佳</th>\n",
       "      <th>disease_上呼吸道感染</th>\n",
       "      <th>disease_下消</th>\n",
       "      <th>disease_下焦湿热证</th>\n",
       "      <th>disease_下焦湿盛</th>\n",
       "      <th>disease_下肢</th>\n",
       "      <th>disease_下肢动脉栓塞</th>\n",
       "      <th>disease_下肢动脉硬化</th>\n",
       "      <th>disease_下肢动脉硬化闭塞症</th>\n",
       "      <th>disease_下肢动脉粥样硬化</th>\n",
       "      <th>disease_下肢动脉粥样硬化闭塞症</th>\n",
       "      <th>disease_下肢动脉闭塞</th>\n",
       "      <th>disease_下肢动脉闭塞症</th>\n",
       "      <th>disease_下肢循环障碍</th>\n",
       "      <th>disease_下肢微循环障碍</th>\n",
       "      <th>disease_下肢血管闭塞症</th>\n",
       "      <th>disease_下肢静脉回流障碍</th>\n",
       "      <th>disease_下肢静脉炎</th>\n",
       "      <th>disease_不伴有并发症的</th>\n",
       "      <th>disease_不寐病</th>\n",
       "      <th>disease_不稳定型心绞痛</th>\n",
       "      <th>disease_不稳定性心绞痛</th>\n",
       "      <th>disease_不稳定性心绞痛脑梗塞偏瘫</th>\n",
       "      <th>disease_不稳定性心绞痛高血压</th>\n",
       "      <th>disease_不稳定糖尿病</th>\n",
       "      <th>disease_不耐受</th>\n",
       "      <th>disease_不耐受冠心病</th>\n",
       "      <th>disease_不能口服</th>\n",
       "      <th>disease_不能手术的晚期胃癌</th>\n",
       "      <th>...</th>\n",
       "      <th>disease_高血压病支气管哮喘</th>\n",
       "      <th>disease_高血压病脑梗塞偏瘫</th>\n",
       "      <th>disease_高血压病脑梗死偏瘫</th>\n",
       "      <th>disease_高血压病高粘血症冠心病偏瘫</th>\n",
       "      <th>disease_高血压病高脂血症</th>\n",
       "      <th>disease_高血压病高脂血症偏瘫</th>\n",
       "      <th>disease_高血压病高脂血症冠心病偏瘫</th>\n",
       "      <th>disease_高血压病高脂血症冠心病偏瘫中风风痰瘀阻证</th>\n",
       "      <th>disease_高血压肺纤维化</th>\n",
       "      <th>disease_高血压肾移植术后</th>\n",
       "      <th>disease_高血压肾透析</th>\n",
       "      <th>disease_高血压肾透析肾性贫血</th>\n",
       "      <th>disease_高血压肾透析肾性骨病</th>\n",
       "      <th>disease_高血压脑供血不足偏瘫</th>\n",
       "      <th>disease_高血压脑栓塞偏瘫</th>\n",
       "      <th>disease_高血压脑栓塞偏瘫偏瘫胸痹心痛病</th>\n",
       "      <th>disease_高血压脑梗塞</th>\n",
       "      <th>disease_高血压脑梗塞偏瘫</th>\n",
       "      <th>disease_高血压脑梗死偏瘫</th>\n",
       "      <th>disease_高血压脑梗死后遗症偏瘫</th>\n",
       "      <th>disease_高血压脑血管病性偏瘫</th>\n",
       "      <th>disease_高血压高粘脂血冠心病</th>\n",
       "      <th>disease_高血压高粘血症偏瘫</th>\n",
       "      <th>disease_高血压高脂血症</th>\n",
       "      <th>disease_高血压高脂血症偏瘫</th>\n",
       "      <th>disease_高血压高脂血症偏瘫偏瘫</th>\n",
       "      <th>disease_高血压高脂血症偏瘫心脑供血不足</th>\n",
       "      <th>disease_高血压高脂血症冠心病偏瘫</th>\n",
       "      <th>disease_高血压高脂血症冠心病偏瘫淤血阻络</th>\n",
       "      <th>disease_高血压高脂血症冠心病偏瘫肢体麻木</th>\n",
       "      <th>disease_高血压高脂血症冠心病脉络瘀阻脑梗塞后遗症</th>\n",
       "      <th>disease_高血压高脂血症冠状动脉粥样硬化性心脏病偏瘫</th>\n",
       "      <th>disease_高血压高脂血症急性短暂性脑缺血脑梗死偏瘫</th>\n",
       "      <th>disease_高血压高脂血症脑栓塞偏瘫</th>\n",
       "      <th>disease_高血压高脂血症脑血管供血不足偏瘫</th>\n",
       "      <th>disease_高血压高血压</th>\n",
       "      <th>disease_高血压高血脂</th>\n",
       "      <th>disease_高血压高血脂偏瘫</th>\n",
       "      <th>disease_高血压高血脂冠心病偏瘫</th>\n",
       "      <th>disease_高血脂</th>\n",
       "      <th>disease_高血脂一线降脂药效果不佳</th>\n",
       "      <th>disease_高血脂偏瘫</th>\n",
       "      <th>disease_高血脂冠心病偏瘫</th>\n",
       "      <th>disease_高血脂症</th>\n",
       "      <th>disease_高血脂症血瘀证</th>\n",
       "      <th>disease_高黏滞血症</th>\n",
       "      <th>disease_高黏血症</th>\n",
       "      <th>disease_鼻咽癌</th>\n",
       "      <th>disease_鼻炎</th>\n",
       "      <th>total_kind_disease</th>\n",
       "    </tr>\n",
       "    <tr>\n",
       "      <th>个人编码</th>\n",
       "      <th></th>\n",
       "      <th></th>\n",
       "      <th></th>\n",
       "      <th></th>\n",
       "      <th></th>\n",
       "      <th></th>\n",
       "      <th></th>\n",
       "      <th></th>\n",
       "      <th></th>\n",
       "      <th></th>\n",
       "      <th></th>\n",
       "      <th></th>\n",
       "      <th></th>\n",
       "      <th></th>\n",
       "      <th></th>\n",
       "      <th></th>\n",
       "      <th></th>\n",
       "      <th></th>\n",
       "      <th></th>\n",
       "      <th></th>\n",
       "      <th></th>\n",
       "      <th></th>\n",
       "      <th></th>\n",
       "      <th></th>\n",
       "      <th></th>\n",
       "      <th></th>\n",
       "      <th></th>\n",
       "      <th></th>\n",
       "      <th></th>\n",
       "      <th></th>\n",
       "      <th></th>\n",
       "      <th></th>\n",
       "      <th></th>\n",
       "      <th></th>\n",
       "      <th></th>\n",
       "      <th></th>\n",
       "      <th></th>\n",
       "      <th></th>\n",
       "      <th></th>\n",
       "      <th></th>\n",
       "      <th></th>\n",
       "      <th></th>\n",
       "      <th></th>\n",
       "      <th></th>\n",
       "      <th></th>\n",
       "      <th></th>\n",
       "      <th></th>\n",
       "      <th></th>\n",
       "      <th></th>\n",
       "      <th></th>\n",
       "      <th></th>\n",
       "      <th></th>\n",
       "      <th></th>\n",
       "      <th></th>\n",
       "      <th></th>\n",
       "      <th></th>\n",
       "      <th></th>\n",
       "      <th></th>\n",
       "      <th></th>\n",
       "      <th></th>\n",
       "      <th></th>\n",
       "      <th></th>\n",
       "      <th></th>\n",
       "      <th></th>\n",
       "      <th></th>\n",
       "      <th></th>\n",
       "      <th></th>\n",
       "      <th></th>\n",
       "      <th></th>\n",
       "      <th></th>\n",
       "      <th></th>\n",
       "      <th></th>\n",
       "      <th></th>\n",
       "      <th></th>\n",
       "      <th></th>\n",
       "      <th></th>\n",
       "      <th></th>\n",
       "      <th></th>\n",
       "      <th></th>\n",
       "      <th></th>\n",
       "      <th></th>\n",
       "      <th></th>\n",
       "      <th></th>\n",
       "      <th></th>\n",
       "      <th></th>\n",
       "      <th></th>\n",
       "      <th></th>\n",
       "      <th></th>\n",
       "      <th></th>\n",
       "      <th></th>\n",
       "      <th></th>\n",
       "      <th></th>\n",
       "      <th></th>\n",
       "      <th></th>\n",
       "      <th></th>\n",
       "      <th></th>\n",
       "      <th></th>\n",
       "      <th></th>\n",
       "      <th></th>\n",
       "      <th></th>\n",
       "      <th></th>\n",
       "    </tr>\n",
       "  </thead>\n",
       "  <tbody>\n",
       "    <tr>\n",
       "      <th>352120000000231</th>\n",
       "      <td>0</td>\n",
       "      <td>0</td>\n",
       "      <td>0</td>\n",
       "      <td>0</td>\n",
       "      <td>0</td>\n",
       "      <td>0</td>\n",
       "      <td>0</td>\n",
       "      <td>0</td>\n",
       "      <td>0</td>\n",
       "      <td>0</td>\n",
       "      <td>0</td>\n",
       "      <td>0</td>\n",
       "      <td>0</td>\n",
       "      <td>0</td>\n",
       "      <td>0</td>\n",
       "      <td>0</td>\n",
       "      <td>0</td>\n",
       "      <td>0</td>\n",
       "      <td>0</td>\n",
       "      <td>0</td>\n",
       "      <td>0</td>\n",
       "      <td>0</td>\n",
       "      <td>0</td>\n",
       "      <td>0</td>\n",
       "      <td>0</td>\n",
       "      <td>0</td>\n",
       "      <td>0</td>\n",
       "      <td>0</td>\n",
       "      <td>0</td>\n",
       "      <td>0</td>\n",
       "      <td>0</td>\n",
       "      <td>0</td>\n",
       "      <td>0</td>\n",
       "      <td>0</td>\n",
       "      <td>0</td>\n",
       "      <td>0</td>\n",
       "      <td>0</td>\n",
       "      <td>0</td>\n",
       "      <td>0</td>\n",
       "      <td>0</td>\n",
       "      <td>0</td>\n",
       "      <td>0</td>\n",
       "      <td>0</td>\n",
       "      <td>0</td>\n",
       "      <td>0</td>\n",
       "      <td>0</td>\n",
       "      <td>0</td>\n",
       "      <td>0</td>\n",
       "      <td>0</td>\n",
       "      <td>0</td>\n",
       "      <td>...</td>\n",
       "      <td>0</td>\n",
       "      <td>0</td>\n",
       "      <td>0</td>\n",
       "      <td>0</td>\n",
       "      <td>0</td>\n",
       "      <td>0</td>\n",
       "      <td>0</td>\n",
       "      <td>0</td>\n",
       "      <td>0</td>\n",
       "      <td>0</td>\n",
       "      <td>0</td>\n",
       "      <td>0</td>\n",
       "      <td>0</td>\n",
       "      <td>0</td>\n",
       "      <td>0</td>\n",
       "      <td>0</td>\n",
       "      <td>0</td>\n",
       "      <td>0</td>\n",
       "      <td>0</td>\n",
       "      <td>0</td>\n",
       "      <td>0</td>\n",
       "      <td>0</td>\n",
       "      <td>0</td>\n",
       "      <td>0</td>\n",
       "      <td>0</td>\n",
       "      <td>0</td>\n",
       "      <td>0</td>\n",
       "      <td>0</td>\n",
       "      <td>0</td>\n",
       "      <td>0</td>\n",
       "      <td>0</td>\n",
       "      <td>0</td>\n",
       "      <td>0</td>\n",
       "      <td>0</td>\n",
       "      <td>0</td>\n",
       "      <td>0</td>\n",
       "      <td>0</td>\n",
       "      <td>0</td>\n",
       "      <td>0</td>\n",
       "      <td>0</td>\n",
       "      <td>0</td>\n",
       "      <td>0</td>\n",
       "      <td>0</td>\n",
       "      <td>0</td>\n",
       "      <td>0</td>\n",
       "      <td>0</td>\n",
       "      <td>0</td>\n",
       "      <td>0</td>\n",
       "      <td>0</td>\n",
       "      <td>11</td>\n",
       "    </tr>\n",
       "    <tr>\n",
       "      <th>352120000000386</th>\n",
       "      <td>0</td>\n",
       "      <td>0</td>\n",
       "      <td>0</td>\n",
       "      <td>0</td>\n",
       "      <td>0</td>\n",
       "      <td>0</td>\n",
       "      <td>0</td>\n",
       "      <td>0</td>\n",
       "      <td>0</td>\n",
       "      <td>0</td>\n",
       "      <td>0</td>\n",
       "      <td>0</td>\n",
       "      <td>0</td>\n",
       "      <td>0</td>\n",
       "      <td>0</td>\n",
       "      <td>0</td>\n",
       "      <td>0</td>\n",
       "      <td>0</td>\n",
       "      <td>0</td>\n",
       "      <td>0</td>\n",
       "      <td>0</td>\n",
       "      <td>0</td>\n",
       "      <td>0</td>\n",
       "      <td>0</td>\n",
       "      <td>0</td>\n",
       "      <td>0</td>\n",
       "      <td>0</td>\n",
       "      <td>0</td>\n",
       "      <td>0</td>\n",
       "      <td>0</td>\n",
       "      <td>0</td>\n",
       "      <td>0</td>\n",
       "      <td>0</td>\n",
       "      <td>0</td>\n",
       "      <td>0</td>\n",
       "      <td>0</td>\n",
       "      <td>0</td>\n",
       "      <td>0</td>\n",
       "      <td>0</td>\n",
       "      <td>0</td>\n",
       "      <td>0</td>\n",
       "      <td>0</td>\n",
       "      <td>0</td>\n",
       "      <td>0</td>\n",
       "      <td>0</td>\n",
       "      <td>0</td>\n",
       "      <td>0</td>\n",
       "      <td>0</td>\n",
       "      <td>0</td>\n",
       "      <td>0</td>\n",
       "      <td>...</td>\n",
       "      <td>0</td>\n",
       "      <td>0</td>\n",
       "      <td>0</td>\n",
       "      <td>0</td>\n",
       "      <td>0</td>\n",
       "      <td>0</td>\n",
       "      <td>0</td>\n",
       "      <td>0</td>\n",
       "      <td>0</td>\n",
       "      <td>0</td>\n",
       "      <td>0</td>\n",
       "      <td>0</td>\n",
       "      <td>0</td>\n",
       "      <td>0</td>\n",
       "      <td>0</td>\n",
       "      <td>0</td>\n",
       "      <td>0</td>\n",
       "      <td>0</td>\n",
       "      <td>0</td>\n",
       "      <td>0</td>\n",
       "      <td>0</td>\n",
       "      <td>0</td>\n",
       "      <td>0</td>\n",
       "      <td>0</td>\n",
       "      <td>0</td>\n",
       "      <td>0</td>\n",
       "      <td>0</td>\n",
       "      <td>0</td>\n",
       "      <td>0</td>\n",
       "      <td>0</td>\n",
       "      <td>0</td>\n",
       "      <td>0</td>\n",
       "      <td>0</td>\n",
       "      <td>0</td>\n",
       "      <td>0</td>\n",
       "      <td>0</td>\n",
       "      <td>0</td>\n",
       "      <td>0</td>\n",
       "      <td>0</td>\n",
       "      <td>0</td>\n",
       "      <td>0</td>\n",
       "      <td>0</td>\n",
       "      <td>0</td>\n",
       "      <td>0</td>\n",
       "      <td>0</td>\n",
       "      <td>0</td>\n",
       "      <td>0</td>\n",
       "      <td>0</td>\n",
       "      <td>0</td>\n",
       "      <td>6</td>\n",
       "    </tr>\n",
       "    <tr>\n",
       "      <th>352120000000408</th>\n",
       "      <td>0</td>\n",
       "      <td>0</td>\n",
       "      <td>0</td>\n",
       "      <td>0</td>\n",
       "      <td>0</td>\n",
       "      <td>0</td>\n",
       "      <td>0</td>\n",
       "      <td>0</td>\n",
       "      <td>0</td>\n",
       "      <td>0</td>\n",
       "      <td>0</td>\n",
       "      <td>0</td>\n",
       "      <td>0</td>\n",
       "      <td>0</td>\n",
       "      <td>0</td>\n",
       "      <td>0</td>\n",
       "      <td>0</td>\n",
       "      <td>0</td>\n",
       "      <td>0</td>\n",
       "      <td>0</td>\n",
       "      <td>0</td>\n",
       "      <td>0</td>\n",
       "      <td>0</td>\n",
       "      <td>0</td>\n",
       "      <td>0</td>\n",
       "      <td>0</td>\n",
       "      <td>0</td>\n",
       "      <td>0</td>\n",
       "      <td>0</td>\n",
       "      <td>0</td>\n",
       "      <td>0</td>\n",
       "      <td>0</td>\n",
       "      <td>0</td>\n",
       "      <td>0</td>\n",
       "      <td>0</td>\n",
       "      <td>0</td>\n",
       "      <td>0</td>\n",
       "      <td>0</td>\n",
       "      <td>0</td>\n",
       "      <td>0</td>\n",
       "      <td>0</td>\n",
       "      <td>0</td>\n",
       "      <td>0</td>\n",
       "      <td>0</td>\n",
       "      <td>0</td>\n",
       "      <td>0</td>\n",
       "      <td>0</td>\n",
       "      <td>0</td>\n",
       "      <td>0</td>\n",
       "      <td>0</td>\n",
       "      <td>...</td>\n",
       "      <td>0</td>\n",
       "      <td>0</td>\n",
       "      <td>0</td>\n",
       "      <td>0</td>\n",
       "      <td>0</td>\n",
       "      <td>0</td>\n",
       "      <td>0</td>\n",
       "      <td>0</td>\n",
       "      <td>0</td>\n",
       "      <td>0</td>\n",
       "      <td>0</td>\n",
       "      <td>0</td>\n",
       "      <td>0</td>\n",
       "      <td>0</td>\n",
       "      <td>0</td>\n",
       "      <td>0</td>\n",
       "      <td>0</td>\n",
       "      <td>0</td>\n",
       "      <td>0</td>\n",
       "      <td>0</td>\n",
       "      <td>0</td>\n",
       "      <td>0</td>\n",
       "      <td>0</td>\n",
       "      <td>0</td>\n",
       "      <td>0</td>\n",
       "      <td>0</td>\n",
       "      <td>0</td>\n",
       "      <td>0</td>\n",
       "      <td>0</td>\n",
       "      <td>0</td>\n",
       "      <td>0</td>\n",
       "      <td>0</td>\n",
       "      <td>0</td>\n",
       "      <td>0</td>\n",
       "      <td>0</td>\n",
       "      <td>0</td>\n",
       "      <td>0</td>\n",
       "      <td>0</td>\n",
       "      <td>0</td>\n",
       "      <td>0</td>\n",
       "      <td>0</td>\n",
       "      <td>0</td>\n",
       "      <td>0</td>\n",
       "      <td>0</td>\n",
       "      <td>0</td>\n",
       "      <td>0</td>\n",
       "      <td>0</td>\n",
       "      <td>0</td>\n",
       "      <td>0</td>\n",
       "      <td>9</td>\n",
       "    </tr>\n",
       "    <tr>\n",
       "      <th>352120000000409</th>\n",
       "      <td>0</td>\n",
       "      <td>0</td>\n",
       "      <td>0</td>\n",
       "      <td>0</td>\n",
       "      <td>0</td>\n",
       "      <td>0</td>\n",
       "      <td>0</td>\n",
       "      <td>0</td>\n",
       "      <td>0</td>\n",
       "      <td>0</td>\n",
       "      <td>0</td>\n",
       "      <td>0</td>\n",
       "      <td>0</td>\n",
       "      <td>0</td>\n",
       "      <td>0</td>\n",
       "      <td>0</td>\n",
       "      <td>0</td>\n",
       "      <td>0</td>\n",
       "      <td>0</td>\n",
       "      <td>0</td>\n",
       "      <td>0</td>\n",
       "      <td>0</td>\n",
       "      <td>0</td>\n",
       "      <td>0</td>\n",
       "      <td>0</td>\n",
       "      <td>0</td>\n",
       "      <td>0</td>\n",
       "      <td>0</td>\n",
       "      <td>0</td>\n",
       "      <td>0</td>\n",
       "      <td>0</td>\n",
       "      <td>0</td>\n",
       "      <td>0</td>\n",
       "      <td>0</td>\n",
       "      <td>0</td>\n",
       "      <td>0</td>\n",
       "      <td>0</td>\n",
       "      <td>0</td>\n",
       "      <td>0</td>\n",
       "      <td>0</td>\n",
       "      <td>0</td>\n",
       "      <td>0</td>\n",
       "      <td>0</td>\n",
       "      <td>0</td>\n",
       "      <td>0</td>\n",
       "      <td>0</td>\n",
       "      <td>3</td>\n",
       "      <td>0</td>\n",
       "      <td>0</td>\n",
       "      <td>0</td>\n",
       "      <td>...</td>\n",
       "      <td>0</td>\n",
       "      <td>0</td>\n",
       "      <td>0</td>\n",
       "      <td>0</td>\n",
       "      <td>0</td>\n",
       "      <td>0</td>\n",
       "      <td>0</td>\n",
       "      <td>0</td>\n",
       "      <td>0</td>\n",
       "      <td>0</td>\n",
       "      <td>0</td>\n",
       "      <td>0</td>\n",
       "      <td>0</td>\n",
       "      <td>0</td>\n",
       "      <td>0</td>\n",
       "      <td>0</td>\n",
       "      <td>0</td>\n",
       "      <td>0</td>\n",
       "      <td>0</td>\n",
       "      <td>0</td>\n",
       "      <td>0</td>\n",
       "      <td>0</td>\n",
       "      <td>0</td>\n",
       "      <td>0</td>\n",
       "      <td>0</td>\n",
       "      <td>0</td>\n",
       "      <td>0</td>\n",
       "      <td>0</td>\n",
       "      <td>0</td>\n",
       "      <td>0</td>\n",
       "      <td>0</td>\n",
       "      <td>0</td>\n",
       "      <td>0</td>\n",
       "      <td>0</td>\n",
       "      <td>0</td>\n",
       "      <td>0</td>\n",
       "      <td>0</td>\n",
       "      <td>0</td>\n",
       "      <td>0</td>\n",
       "      <td>0</td>\n",
       "      <td>0</td>\n",
       "      <td>0</td>\n",
       "      <td>0</td>\n",
       "      <td>0</td>\n",
       "      <td>0</td>\n",
       "      <td>0</td>\n",
       "      <td>0</td>\n",
       "      <td>0</td>\n",
       "      <td>0</td>\n",
       "      <td>8</td>\n",
       "    </tr>\n",
       "    <tr>\n",
       "      <th>352120000000511</th>\n",
       "      <td>0</td>\n",
       "      <td>0</td>\n",
       "      <td>0</td>\n",
       "      <td>0</td>\n",
       "      <td>0</td>\n",
       "      <td>0</td>\n",
       "      <td>0</td>\n",
       "      <td>0</td>\n",
       "      <td>0</td>\n",
       "      <td>0</td>\n",
       "      <td>0</td>\n",
       "      <td>0</td>\n",
       "      <td>0</td>\n",
       "      <td>0</td>\n",
       "      <td>0</td>\n",
       "      <td>0</td>\n",
       "      <td>0</td>\n",
       "      <td>0</td>\n",
       "      <td>0</td>\n",
       "      <td>0</td>\n",
       "      <td>0</td>\n",
       "      <td>0</td>\n",
       "      <td>0</td>\n",
       "      <td>0</td>\n",
       "      <td>0</td>\n",
       "      <td>0</td>\n",
       "      <td>0</td>\n",
       "      <td>0</td>\n",
       "      <td>0</td>\n",
       "      <td>0</td>\n",
       "      <td>0</td>\n",
       "      <td>0</td>\n",
       "      <td>0</td>\n",
       "      <td>0</td>\n",
       "      <td>0</td>\n",
       "      <td>0</td>\n",
       "      <td>0</td>\n",
       "      <td>0</td>\n",
       "      <td>0</td>\n",
       "      <td>0</td>\n",
       "      <td>0</td>\n",
       "      <td>0</td>\n",
       "      <td>0</td>\n",
       "      <td>0</td>\n",
       "      <td>0</td>\n",
       "      <td>0</td>\n",
       "      <td>0</td>\n",
       "      <td>0</td>\n",
       "      <td>0</td>\n",
       "      <td>0</td>\n",
       "      <td>...</td>\n",
       "      <td>0</td>\n",
       "      <td>0</td>\n",
       "      <td>0</td>\n",
       "      <td>0</td>\n",
       "      <td>0</td>\n",
       "      <td>0</td>\n",
       "      <td>0</td>\n",
       "      <td>0</td>\n",
       "      <td>0</td>\n",
       "      <td>0</td>\n",
       "      <td>0</td>\n",
       "      <td>0</td>\n",
       "      <td>0</td>\n",
       "      <td>0</td>\n",
       "      <td>0</td>\n",
       "      <td>0</td>\n",
       "      <td>0</td>\n",
       "      <td>0</td>\n",
       "      <td>0</td>\n",
       "      <td>0</td>\n",
       "      <td>0</td>\n",
       "      <td>0</td>\n",
       "      <td>0</td>\n",
       "      <td>0</td>\n",
       "      <td>0</td>\n",
       "      <td>0</td>\n",
       "      <td>0</td>\n",
       "      <td>0</td>\n",
       "      <td>0</td>\n",
       "      <td>0</td>\n",
       "      <td>0</td>\n",
       "      <td>0</td>\n",
       "      <td>0</td>\n",
       "      <td>0</td>\n",
       "      <td>0</td>\n",
       "      <td>0</td>\n",
       "      <td>0</td>\n",
       "      <td>0</td>\n",
       "      <td>0</td>\n",
       "      <td>0</td>\n",
       "      <td>0</td>\n",
       "      <td>0</td>\n",
       "      <td>0</td>\n",
       "      <td>0</td>\n",
       "      <td>0</td>\n",
       "      <td>0</td>\n",
       "      <td>0</td>\n",
       "      <td>0</td>\n",
       "      <td>0</td>\n",
       "      <td>5</td>\n",
       "    </tr>\n",
       "  </tbody>\n",
       "</table>\n",
       "<p>5 rows × 2269 columns</p>\n",
       "</div>"
      ],
      "text/plain": [
       "                 disease_\\  disease_Ⅱ  disease_Ⅱ型糖尿病  disease_Ⅱ型糖尿病合并肾病  \\\n",
       "个人编码                                                                      \n",
       "352120000000231          0          0              0                  0   \n",
       "352120000000386          0          0              0                  0   \n",
       "352120000000408          0          0              0                  0   \n",
       "352120000000409          0          0              0                  0   \n",
       "352120000000511          0          0              0                  0   \n",
       "\n",
       "                 disease_Ⅱ型糖尿病性周围神经病变  disease_Ⅱ型糖尿病性周围血管病  \\\n",
       "个人编码                                                         \n",
       "352120000000231                     0                    0   \n",
       "352120000000386                     0                    0   \n",
       "352120000000408                     0                    0   \n",
       "352120000000409                     0                    0   \n",
       "352120000000511                     0                    0   \n",
       "\n",
       "                 disease_Ⅱ型糖尿病糖尿病合并肾损伤  disease_一线他汀不耐受  disease_一线治疗不达标  \\\n",
       "个人编码                                                                       \n",
       "352120000000231                      0                0                0   \n",
       "352120000000386                      0                0                0   \n",
       "352120000000408                      0                0                0   \n",
       "352120000000409                      0                0                0   \n",
       "352120000000511                      0                0                0   \n",
       "\n",
       "                 disease_一线治疗无效二线治疗  disease_一线用药不达标  disease_一线药物不耐受  \\\n",
       "个人编码                                                                    \n",
       "352120000000231                   0                0                0   \n",
       "352120000000386                   0                0                0   \n",
       "352120000000408                   0                0                0   \n",
       "352120000000409                   0                0                0   \n",
       "352120000000511                   0                0                0   \n",
       "\n",
       "                 disease_一线药物效果不佳  disease_一线药物治疗无效行二线治疗  disease_一线降脂药不耐受  \\\n",
       "个人编码                                                                         \n",
       "352120000000231                 0                      0                 0   \n",
       "352120000000386                 0                      0                 0   \n",
       "352120000000408                 0                      0                 0   \n",
       "352120000000409                 0                      0                 0   \n",
       "352120000000511                 0                      0                 0   \n",
       "\n",
       "                 disease_一线降脂药效果不佳  disease_一线降脂药无效  disease_一线降脂药物不耐受偏瘫  \\\n",
       "个人编码                                                                       \n",
       "352120000000231                  0                0                    0   \n",
       "352120000000386                  0                0                    0   \n",
       "352120000000408                  0                0                    0   \n",
       "352120000000409                  0                0                    0   \n",
       "352120000000511                  0                0                    0   \n",
       "\n",
       "                 disease_一线降脂药物不耐受偏瘫门特  disease_一线降脂药物不耐受脑供血不足偏瘫  \\\n",
       "个人编码                                                               \n",
       "352120000000231                      0                         0   \n",
       "352120000000386                      0                         0   \n",
       "352120000000408                      0                         0   \n",
       "352120000000409                      0                         0   \n",
       "352120000000511                      0                         0   \n",
       "\n",
       "                 disease_一线降脂药物不耐受脑梗塞  disease_一线降脂药物治疗效果欠佳  disease_上呼吸道感染  \\\n",
       "个人编码                                                                          \n",
       "352120000000231                     0                     0               0   \n",
       "352120000000386                     0                     0               0   \n",
       "352120000000408                     0                     0               0   \n",
       "352120000000409                     0                     0               0   \n",
       "352120000000511                     0                     0               0   \n",
       "\n",
       "                 disease_下消  disease_下焦湿热证  disease_下焦湿盛  disease_下肢  \\\n",
       "个人编码                                                                   \n",
       "352120000000231           0              0             0           0   \n",
       "352120000000386           0              0             0           0   \n",
       "352120000000408           0              0             0           0   \n",
       "352120000000409           0              0             0           0   \n",
       "352120000000511           0              0             0           0   \n",
       "\n",
       "                 disease_下肢动脉栓塞  disease_下肢动脉硬化  disease_下肢动脉硬化闭塞症  \\\n",
       "个人编码                                                                 \n",
       "352120000000231               0               0                  0   \n",
       "352120000000386               0               0                  0   \n",
       "352120000000408               0               0                  0   \n",
       "352120000000409               0               0                  0   \n",
       "352120000000511               0               0                  0   \n",
       "\n",
       "                 disease_下肢动脉粥样硬化  disease_下肢动脉粥样硬化闭塞症  disease_下肢动脉闭塞  \\\n",
       "个人编码                                                                     \n",
       "352120000000231                 0                    0               0   \n",
       "352120000000386                 0                    0               0   \n",
       "352120000000408                 0                    0               0   \n",
       "352120000000409                 0                    0               0   \n",
       "352120000000511                 0                    0               0   \n",
       "\n",
       "                 disease_下肢动脉闭塞症  disease_下肢循环障碍  disease_下肢微循环障碍  \\\n",
       "个人编码                                                                \n",
       "352120000000231                0               0                0   \n",
       "352120000000386                0               0                0   \n",
       "352120000000408                0               0                0   \n",
       "352120000000409                0               0                0   \n",
       "352120000000511                0               0                0   \n",
       "\n",
       "                 disease_下肢血管闭塞症  disease_下肢静脉回流障碍  disease_下肢静脉炎  \\\n",
       "个人编码                                                                \n",
       "352120000000231                0                 0              0   \n",
       "352120000000386                0                 0              0   \n",
       "352120000000408                0                 0              0   \n",
       "352120000000409                0                 0              0   \n",
       "352120000000511                0                 0              0   \n",
       "\n",
       "                 disease_不伴有并发症的  disease_不寐病  disease_不稳定型心绞痛  \\\n",
       "个人编码                                                             \n",
       "352120000000231                0            0                0   \n",
       "352120000000386                0            0                0   \n",
       "352120000000408                0            0                0   \n",
       "352120000000409                0            0                0   \n",
       "352120000000511                0            0                0   \n",
       "\n",
       "                 disease_不稳定性心绞痛  disease_不稳定性心绞痛脑梗塞偏瘫  disease_不稳定性心绞痛高血压  \\\n",
       "个人编码                                                                         \n",
       "352120000000231                0                     0                   0   \n",
       "352120000000386                0                     0                   0   \n",
       "352120000000408                0                     0                   0   \n",
       "352120000000409                0                     0                   0   \n",
       "352120000000511                0                     0                   0   \n",
       "\n",
       "                 disease_不稳定糖尿病  disease_不耐受  disease_不耐受冠心病  disease_不能口服  \\\n",
       "个人编码                                                                         \n",
       "352120000000231               0            0               0             0   \n",
       "352120000000386               0            0               0             0   \n",
       "352120000000408               0            0               0             0   \n",
       "352120000000409               0            3               0             0   \n",
       "352120000000511               0            0               0             0   \n",
       "\n",
       "                 disease_不能手术的晚期胃癌         ...          disease_高血压病支气管哮喘  \\\n",
       "个人编码                                       ...                              \n",
       "352120000000231                  0         ...                          0   \n",
       "352120000000386                  0         ...                          0   \n",
       "352120000000408                  0         ...                          0   \n",
       "352120000000409                  0         ...                          0   \n",
       "352120000000511                  0         ...                          0   \n",
       "\n",
       "                 disease_高血压病脑梗塞偏瘫  disease_高血压病脑梗死偏瘫  disease_高血压病高粘血症冠心病偏瘫  \\\n",
       "个人编码                                                                           \n",
       "352120000000231                  0                  0                      0   \n",
       "352120000000386                  0                  0                      0   \n",
       "352120000000408                  0                  0                      0   \n",
       "352120000000409                  0                  0                      0   \n",
       "352120000000511                  0                  0                      0   \n",
       "\n",
       "                 disease_高血压病高脂血症  disease_高血压病高脂血症偏瘫  disease_高血压病高脂血症冠心病偏瘫  \\\n",
       "个人编码                                                                           \n",
       "352120000000231                 0                   0                      0   \n",
       "352120000000386                 0                   0                      0   \n",
       "352120000000408                 0                   0                      0   \n",
       "352120000000409                 0                   0                      0   \n",
       "352120000000511                 0                   0                      0   \n",
       "\n",
       "                 disease_高血压病高脂血症冠心病偏瘫中风风痰瘀阻证  disease_高血压肺纤维化  \\\n",
       "个人编码                                                             \n",
       "352120000000231                             0                0   \n",
       "352120000000386                             0                0   \n",
       "352120000000408                             0                0   \n",
       "352120000000409                             0                0   \n",
       "352120000000511                             0                0   \n",
       "\n",
       "                 disease_高血压肾移植术后  disease_高血压肾透析  disease_高血压肾透析肾性贫血  \\\n",
       "个人编码                                                                    \n",
       "352120000000231                 0               0                   0   \n",
       "352120000000386                 0               0                   0   \n",
       "352120000000408                 0               0                   0   \n",
       "352120000000409                 0               0                   0   \n",
       "352120000000511                 0               0                   0   \n",
       "\n",
       "                 disease_高血压肾透析肾性骨病  disease_高血压脑供血不足偏瘫  disease_高血压脑栓塞偏瘫  \\\n",
       "个人编码                                                                        \n",
       "352120000000231                   0                   0                 0   \n",
       "352120000000386                   0                   0                 0   \n",
       "352120000000408                   0                   0                 0   \n",
       "352120000000409                   0                   0                 0   \n",
       "352120000000511                   0                   0                 0   \n",
       "\n",
       "                 disease_高血压脑栓塞偏瘫偏瘫胸痹心痛病  disease_高血压脑梗塞  disease_高血压脑梗塞偏瘫  \\\n",
       "个人编码                                                                         \n",
       "352120000000231                        0               0                 0   \n",
       "352120000000386                        0               0                 0   \n",
       "352120000000408                        0               0                 0   \n",
       "352120000000409                        0               0                 0   \n",
       "352120000000511                        0               0                 0   \n",
       "\n",
       "                 disease_高血压脑梗死偏瘫  disease_高血压脑梗死后遗症偏瘫  disease_高血压脑血管病性偏瘫  \\\n",
       "个人编码                                                                         \n",
       "352120000000231                 0                    0                   0   \n",
       "352120000000386                 0                    0                   0   \n",
       "352120000000408                 0                    0                   0   \n",
       "352120000000409                 0                    0                   0   \n",
       "352120000000511                 0                    0                   0   \n",
       "\n",
       "                 disease_高血压高粘脂血冠心病  disease_高血压高粘血症偏瘫  disease_高血压高脂血症  \\\n",
       "个人编码                                                                      \n",
       "352120000000231                   0                  0                0   \n",
       "352120000000386                   0                  0                0   \n",
       "352120000000408                   0                  0                0   \n",
       "352120000000409                   0                  0                0   \n",
       "352120000000511                   0                  0                0   \n",
       "\n",
       "                 disease_高血压高脂血症偏瘫  disease_高血压高脂血症偏瘫偏瘫  \\\n",
       "个人编码                                                      \n",
       "352120000000231                  0                    0   \n",
       "352120000000386                  0                    0   \n",
       "352120000000408                  0                    0   \n",
       "352120000000409                  0                    0   \n",
       "352120000000511                  0                    0   \n",
       "\n",
       "                 disease_高血压高脂血症偏瘫心脑供血不足  disease_高血压高脂血症冠心病偏瘫  \\\n",
       "个人编码                                                             \n",
       "352120000000231                        0                     0   \n",
       "352120000000386                        0                     0   \n",
       "352120000000408                        0                     0   \n",
       "352120000000409                        0                     0   \n",
       "352120000000511                        0                     0   \n",
       "\n",
       "                 disease_高血压高脂血症冠心病偏瘫淤血阻络  disease_高血压高脂血症冠心病偏瘫肢体麻木  \\\n",
       "个人编码                                                                  \n",
       "352120000000231                         0                         0   \n",
       "352120000000386                         0                         0   \n",
       "352120000000408                         0                         0   \n",
       "352120000000409                         0                         0   \n",
       "352120000000511                         0                         0   \n",
       "\n",
       "                 disease_高血压高脂血症冠心病脉络瘀阻脑梗塞后遗症  disease_高血压高脂血症冠状动脉粥样硬化性心脏病偏瘫  \\\n",
       "个人编码                                                                           \n",
       "352120000000231                             0                              0   \n",
       "352120000000386                             0                              0   \n",
       "352120000000408                             0                              0   \n",
       "352120000000409                             0                              0   \n",
       "352120000000511                             0                              0   \n",
       "\n",
       "                 disease_高血压高脂血症急性短暂性脑缺血脑梗死偏瘫  disease_高血压高脂血症脑栓塞偏瘫  \\\n",
       "个人编码                                                                  \n",
       "352120000000231                             0                     0   \n",
       "352120000000386                             0                     0   \n",
       "352120000000408                             0                     0   \n",
       "352120000000409                             0                     0   \n",
       "352120000000511                             0                     0   \n",
       "\n",
       "                 disease_高血压高脂血症脑血管供血不足偏瘫  disease_高血压高血压  disease_高血压高血脂  \\\n",
       "个人编码                                                                        \n",
       "352120000000231                         0               0               0   \n",
       "352120000000386                         0               0               0   \n",
       "352120000000408                         0               0               0   \n",
       "352120000000409                         0               0               0   \n",
       "352120000000511                         0               0               0   \n",
       "\n",
       "                 disease_高血压高血脂偏瘫  disease_高血压高血脂冠心病偏瘫  disease_高血脂  \\\n",
       "个人编码                                                                  \n",
       "352120000000231                 0                    0            0   \n",
       "352120000000386                 0                    0            0   \n",
       "352120000000408                 0                    0            0   \n",
       "352120000000409                 0                    0            0   \n",
       "352120000000511                 0                    0            0   \n",
       "\n",
       "                 disease_高血脂一线降脂药效果不佳  disease_高血脂偏瘫  disease_高血脂冠心病偏瘫  \\\n",
       "个人编码                                                                     \n",
       "352120000000231                     0              0                 0   \n",
       "352120000000386                     0              0                 0   \n",
       "352120000000408                     0              0                 0   \n",
       "352120000000409                     0              0                 0   \n",
       "352120000000511                     0              0                 0   \n",
       "\n",
       "                 disease_高血脂症  disease_高血脂症血瘀证  disease_高黏滞血症  disease_高黏血症  \\\n",
       "个人编码                                                                          \n",
       "352120000000231             0                0              0             0   \n",
       "352120000000386             0                0              0             0   \n",
       "352120000000408             0                0              0             0   \n",
       "352120000000409             0                0              0             0   \n",
       "352120000000511             0                0              0             0   \n",
       "\n",
       "                 disease_鼻咽癌  disease_鼻炎  total_kind_disease  \n",
       "个人编码                                                          \n",
       "352120000000231            0           0                  11  \n",
       "352120000000386            0           0                   6  \n",
       "352120000000408            0           0                   9  \n",
       "352120000000409            0           0                   8  \n",
       "352120000000511            0           0                   5  \n",
       "\n",
       "[5 rows x 2269 columns]"
      ]
     },
     "execution_count": 39,
     "metadata": {},
     "output_type": "execute_result"
    }
   ],
   "source": [
    "df_disease_feat.head()"
   ]
  },
  {
   "cell_type": "code",
   "execution_count": 60,
   "metadata": {
    "collapsed": true
   },
   "outputs": [],
   "source": [
    "# Training and Tesing data\n",
    "df_id = pd.read_csv('data/df_id_train.csv',header=None)\n",
    "df_id = df_id.rename(columns={0:'Id',1:'target'})\n",
    "df_train_test = df_disease_feat.join(df_id.set_index('Id'))\n",
    "del df_disease_feat"
   ]
  },
  {
   "cell_type": "code",
   "execution_count": 41,
   "metadata": {
    "collapsed": true
   },
   "outputs": [],
   "source": [
    "predictors = df_train_test.columns.difference(['target'])\n",
    "target = 'target'"
   ]
  },
  {
   "cell_type": "code",
   "execution_count": 42,
   "metadata": {
    "collapsed": true
   },
   "outputs": [
    {
     "data": {
      "text/html": [
       "<div>\n",
       "<table border=\"1\" class=\"dataframe\">\n",
       "  <thead>\n",
       "    <tr style=\"text-align: right;\">\n",
       "      <th></th>\n",
       "      <th>disease_\\</th>\n",
       "      <th>disease_Ⅱ</th>\n",
       "      <th>disease_Ⅱ型糖尿病</th>\n",
       "      <th>disease_Ⅱ型糖尿病合并肾病</th>\n",
       "      <th>disease_Ⅱ型糖尿病性周围神经病变</th>\n",
       "      <th>disease_Ⅱ型糖尿病性周围血管病</th>\n",
       "      <th>disease_Ⅱ型糖尿病糖尿病合并肾损伤</th>\n",
       "      <th>disease_一线他汀不耐受</th>\n",
       "      <th>disease_一线治疗不达标</th>\n",
       "      <th>disease_一线治疗无效二线治疗</th>\n",
       "      <th>disease_一线用药不达标</th>\n",
       "      <th>disease_一线药物不耐受</th>\n",
       "      <th>disease_一线药物效果不佳</th>\n",
       "      <th>disease_一线药物治疗无效行二线治疗</th>\n",
       "      <th>disease_一线降脂药不耐受</th>\n",
       "      <th>disease_一线降脂药效果不佳</th>\n",
       "      <th>disease_一线降脂药无效</th>\n",
       "      <th>disease_一线降脂药物不耐受偏瘫</th>\n",
       "      <th>disease_一线降脂药物不耐受偏瘫门特</th>\n",
       "      <th>disease_一线降脂药物不耐受脑供血不足偏瘫</th>\n",
       "      <th>disease_一线降脂药物不耐受脑梗塞</th>\n",
       "      <th>disease_一线降脂药物治疗效果欠佳</th>\n",
       "      <th>disease_上呼吸道感染</th>\n",
       "      <th>disease_下消</th>\n",
       "      <th>disease_下焦湿热证</th>\n",
       "      <th>disease_下焦湿盛</th>\n",
       "      <th>disease_下肢</th>\n",
       "      <th>disease_下肢动脉栓塞</th>\n",
       "      <th>disease_下肢动脉硬化</th>\n",
       "      <th>disease_下肢动脉硬化闭塞症</th>\n",
       "      <th>disease_下肢动脉粥样硬化</th>\n",
       "      <th>disease_下肢动脉粥样硬化闭塞症</th>\n",
       "      <th>disease_下肢动脉闭塞</th>\n",
       "      <th>disease_下肢动脉闭塞症</th>\n",
       "      <th>disease_下肢循环障碍</th>\n",
       "      <th>disease_下肢微循环障碍</th>\n",
       "      <th>disease_下肢血管闭塞症</th>\n",
       "      <th>disease_下肢静脉回流障碍</th>\n",
       "      <th>disease_下肢静脉炎</th>\n",
       "      <th>disease_不伴有并发症的</th>\n",
       "      <th>disease_不寐病</th>\n",
       "      <th>disease_不稳定型心绞痛</th>\n",
       "      <th>disease_不稳定性心绞痛</th>\n",
       "      <th>disease_不稳定性心绞痛脑梗塞偏瘫</th>\n",
       "      <th>disease_不稳定性心绞痛高血压</th>\n",
       "      <th>disease_不稳定糖尿病</th>\n",
       "      <th>disease_不耐受</th>\n",
       "      <th>disease_不耐受冠心病</th>\n",
       "      <th>disease_不能口服</th>\n",
       "      <th>disease_不能手术的晚期胃癌</th>\n",
       "      <th>...</th>\n",
       "      <th>disease_高血压病脑梗塞偏瘫</th>\n",
       "      <th>disease_高血压病脑梗死偏瘫</th>\n",
       "      <th>disease_高血压病高粘血症冠心病偏瘫</th>\n",
       "      <th>disease_高血压病高脂血症</th>\n",
       "      <th>disease_高血压病高脂血症偏瘫</th>\n",
       "      <th>disease_高血压病高脂血症冠心病偏瘫</th>\n",
       "      <th>disease_高血压病高脂血症冠心病偏瘫中风风痰瘀阻证</th>\n",
       "      <th>disease_高血压肺纤维化</th>\n",
       "      <th>disease_高血压肾移植术后</th>\n",
       "      <th>disease_高血压肾透析</th>\n",
       "      <th>disease_高血压肾透析肾性贫血</th>\n",
       "      <th>disease_高血压肾透析肾性骨病</th>\n",
       "      <th>disease_高血压脑供血不足偏瘫</th>\n",
       "      <th>disease_高血压脑栓塞偏瘫</th>\n",
       "      <th>disease_高血压脑栓塞偏瘫偏瘫胸痹心痛病</th>\n",
       "      <th>disease_高血压脑梗塞</th>\n",
       "      <th>disease_高血压脑梗塞偏瘫</th>\n",
       "      <th>disease_高血压脑梗死偏瘫</th>\n",
       "      <th>disease_高血压脑梗死后遗症偏瘫</th>\n",
       "      <th>disease_高血压脑血管病性偏瘫</th>\n",
       "      <th>disease_高血压高粘脂血冠心病</th>\n",
       "      <th>disease_高血压高粘血症偏瘫</th>\n",
       "      <th>disease_高血压高脂血症</th>\n",
       "      <th>disease_高血压高脂血症偏瘫</th>\n",
       "      <th>disease_高血压高脂血症偏瘫偏瘫</th>\n",
       "      <th>disease_高血压高脂血症偏瘫心脑供血不足</th>\n",
       "      <th>disease_高血压高脂血症冠心病偏瘫</th>\n",
       "      <th>disease_高血压高脂血症冠心病偏瘫淤血阻络</th>\n",
       "      <th>disease_高血压高脂血症冠心病偏瘫肢体麻木</th>\n",
       "      <th>disease_高血压高脂血症冠心病脉络瘀阻脑梗塞后遗症</th>\n",
       "      <th>disease_高血压高脂血症冠状动脉粥样硬化性心脏病偏瘫</th>\n",
       "      <th>disease_高血压高脂血症急性短暂性脑缺血脑梗死偏瘫</th>\n",
       "      <th>disease_高血压高脂血症脑栓塞偏瘫</th>\n",
       "      <th>disease_高血压高脂血症脑血管供血不足偏瘫</th>\n",
       "      <th>disease_高血压高血压</th>\n",
       "      <th>disease_高血压高血脂</th>\n",
       "      <th>disease_高血压高血脂偏瘫</th>\n",
       "      <th>disease_高血压高血脂冠心病偏瘫</th>\n",
       "      <th>disease_高血脂</th>\n",
       "      <th>disease_高血脂一线降脂药效果不佳</th>\n",
       "      <th>disease_高血脂偏瘫</th>\n",
       "      <th>disease_高血脂冠心病偏瘫</th>\n",
       "      <th>disease_高血脂症</th>\n",
       "      <th>disease_高血脂症血瘀证</th>\n",
       "      <th>disease_高黏滞血症</th>\n",
       "      <th>disease_高黏血症</th>\n",
       "      <th>disease_鼻咽癌</th>\n",
       "      <th>disease_鼻炎</th>\n",
       "      <th>total_kind_disease</th>\n",
       "      <th>target</th>\n",
       "    </tr>\n",
       "    <tr>\n",
       "      <th>个人编码</th>\n",
       "      <th></th>\n",
       "      <th></th>\n",
       "      <th></th>\n",
       "      <th></th>\n",
       "      <th></th>\n",
       "      <th></th>\n",
       "      <th></th>\n",
       "      <th></th>\n",
       "      <th></th>\n",
       "      <th></th>\n",
       "      <th></th>\n",
       "      <th></th>\n",
       "      <th></th>\n",
       "      <th></th>\n",
       "      <th></th>\n",
       "      <th></th>\n",
       "      <th></th>\n",
       "      <th></th>\n",
       "      <th></th>\n",
       "      <th></th>\n",
       "      <th></th>\n",
       "      <th></th>\n",
       "      <th></th>\n",
       "      <th></th>\n",
       "      <th></th>\n",
       "      <th></th>\n",
       "      <th></th>\n",
       "      <th></th>\n",
       "      <th></th>\n",
       "      <th></th>\n",
       "      <th></th>\n",
       "      <th></th>\n",
       "      <th></th>\n",
       "      <th></th>\n",
       "      <th></th>\n",
       "      <th></th>\n",
       "      <th></th>\n",
       "      <th></th>\n",
       "      <th></th>\n",
       "      <th></th>\n",
       "      <th></th>\n",
       "      <th></th>\n",
       "      <th></th>\n",
       "      <th></th>\n",
       "      <th></th>\n",
       "      <th></th>\n",
       "      <th></th>\n",
       "      <th></th>\n",
       "      <th></th>\n",
       "      <th></th>\n",
       "      <th></th>\n",
       "      <th></th>\n",
       "      <th></th>\n",
       "      <th></th>\n",
       "      <th></th>\n",
       "      <th></th>\n",
       "      <th></th>\n",
       "      <th></th>\n",
       "      <th></th>\n",
       "      <th></th>\n",
       "      <th></th>\n",
       "      <th></th>\n",
       "      <th></th>\n",
       "      <th></th>\n",
       "      <th></th>\n",
       "      <th></th>\n",
       "      <th></th>\n",
       "      <th></th>\n",
       "      <th></th>\n",
       "      <th></th>\n",
       "      <th></th>\n",
       "      <th></th>\n",
       "      <th></th>\n",
       "      <th></th>\n",
       "      <th></th>\n",
       "      <th></th>\n",
       "      <th></th>\n",
       "      <th></th>\n",
       "      <th></th>\n",
       "      <th></th>\n",
       "      <th></th>\n",
       "      <th></th>\n",
       "      <th></th>\n",
       "      <th></th>\n",
       "      <th></th>\n",
       "      <th></th>\n",
       "      <th></th>\n",
       "      <th></th>\n",
       "      <th></th>\n",
       "      <th></th>\n",
       "      <th></th>\n",
       "      <th></th>\n",
       "      <th></th>\n",
       "      <th></th>\n",
       "      <th></th>\n",
       "      <th></th>\n",
       "      <th></th>\n",
       "      <th></th>\n",
       "      <th></th>\n",
       "      <th></th>\n",
       "      <th></th>\n",
       "    </tr>\n",
       "  </thead>\n",
       "  <tbody>\n",
       "    <tr>\n",
       "      <th>352120000000231</th>\n",
       "      <td>0</td>\n",
       "      <td>0</td>\n",
       "      <td>0</td>\n",
       "      <td>0</td>\n",
       "      <td>0</td>\n",
       "      <td>0</td>\n",
       "      <td>0</td>\n",
       "      <td>0</td>\n",
       "      <td>0</td>\n",
       "      <td>0</td>\n",
       "      <td>0</td>\n",
       "      <td>0</td>\n",
       "      <td>0</td>\n",
       "      <td>0</td>\n",
       "      <td>0</td>\n",
       "      <td>0</td>\n",
       "      <td>0</td>\n",
       "      <td>0</td>\n",
       "      <td>0</td>\n",
       "      <td>0</td>\n",
       "      <td>0</td>\n",
       "      <td>0</td>\n",
       "      <td>0</td>\n",
       "      <td>0</td>\n",
       "      <td>0</td>\n",
       "      <td>0</td>\n",
       "      <td>0</td>\n",
       "      <td>0</td>\n",
       "      <td>0</td>\n",
       "      <td>0</td>\n",
       "      <td>0</td>\n",
       "      <td>0</td>\n",
       "      <td>0</td>\n",
       "      <td>0</td>\n",
       "      <td>0</td>\n",
       "      <td>0</td>\n",
       "      <td>0</td>\n",
       "      <td>0</td>\n",
       "      <td>0</td>\n",
       "      <td>0</td>\n",
       "      <td>0</td>\n",
       "      <td>0</td>\n",
       "      <td>0</td>\n",
       "      <td>0</td>\n",
       "      <td>0</td>\n",
       "      <td>0</td>\n",
       "      <td>0</td>\n",
       "      <td>0</td>\n",
       "      <td>0</td>\n",
       "      <td>0</td>\n",
       "      <td>...</td>\n",
       "      <td>0</td>\n",
       "      <td>0</td>\n",
       "      <td>0</td>\n",
       "      <td>0</td>\n",
       "      <td>0</td>\n",
       "      <td>0</td>\n",
       "      <td>0</td>\n",
       "      <td>0</td>\n",
       "      <td>0</td>\n",
       "      <td>0</td>\n",
       "      <td>0</td>\n",
       "      <td>0</td>\n",
       "      <td>0</td>\n",
       "      <td>0</td>\n",
       "      <td>0</td>\n",
       "      <td>0</td>\n",
       "      <td>0</td>\n",
       "      <td>0</td>\n",
       "      <td>0</td>\n",
       "      <td>0</td>\n",
       "      <td>0</td>\n",
       "      <td>0</td>\n",
       "      <td>0</td>\n",
       "      <td>0</td>\n",
       "      <td>0</td>\n",
       "      <td>0</td>\n",
       "      <td>0</td>\n",
       "      <td>0</td>\n",
       "      <td>0</td>\n",
       "      <td>0</td>\n",
       "      <td>0</td>\n",
       "      <td>0</td>\n",
       "      <td>0</td>\n",
       "      <td>0</td>\n",
       "      <td>0</td>\n",
       "      <td>0</td>\n",
       "      <td>0</td>\n",
       "      <td>0</td>\n",
       "      <td>0</td>\n",
       "      <td>0</td>\n",
       "      <td>0</td>\n",
       "      <td>0</td>\n",
       "      <td>0</td>\n",
       "      <td>0</td>\n",
       "      <td>0</td>\n",
       "      <td>0</td>\n",
       "      <td>0</td>\n",
       "      <td>0</td>\n",
       "      <td>11</td>\n",
       "      <td>0</td>\n",
       "    </tr>\n",
       "    <tr>\n",
       "      <th>352120000000386</th>\n",
       "      <td>0</td>\n",
       "      <td>0</td>\n",
       "      <td>0</td>\n",
       "      <td>0</td>\n",
       "      <td>0</td>\n",
       "      <td>0</td>\n",
       "      <td>0</td>\n",
       "      <td>0</td>\n",
       "      <td>0</td>\n",
       "      <td>0</td>\n",
       "      <td>0</td>\n",
       "      <td>0</td>\n",
       "      <td>0</td>\n",
       "      <td>0</td>\n",
       "      <td>0</td>\n",
       "      <td>0</td>\n",
       "      <td>0</td>\n",
       "      <td>0</td>\n",
       "      <td>0</td>\n",
       "      <td>0</td>\n",
       "      <td>0</td>\n",
       "      <td>0</td>\n",
       "      <td>0</td>\n",
       "      <td>0</td>\n",
       "      <td>0</td>\n",
       "      <td>0</td>\n",
       "      <td>0</td>\n",
       "      <td>0</td>\n",
       "      <td>0</td>\n",
       "      <td>0</td>\n",
       "      <td>0</td>\n",
       "      <td>0</td>\n",
       "      <td>0</td>\n",
       "      <td>0</td>\n",
       "      <td>0</td>\n",
       "      <td>0</td>\n",
       "      <td>0</td>\n",
       "      <td>0</td>\n",
       "      <td>0</td>\n",
       "      <td>0</td>\n",
       "      <td>0</td>\n",
       "      <td>0</td>\n",
       "      <td>0</td>\n",
       "      <td>0</td>\n",
       "      <td>0</td>\n",
       "      <td>0</td>\n",
       "      <td>0</td>\n",
       "      <td>0</td>\n",
       "      <td>0</td>\n",
       "      <td>0</td>\n",
       "      <td>...</td>\n",
       "      <td>0</td>\n",
       "      <td>0</td>\n",
       "      <td>0</td>\n",
       "      <td>0</td>\n",
       "      <td>0</td>\n",
       "      <td>0</td>\n",
       "      <td>0</td>\n",
       "      <td>0</td>\n",
       "      <td>0</td>\n",
       "      <td>0</td>\n",
       "      <td>0</td>\n",
       "      <td>0</td>\n",
       "      <td>0</td>\n",
       "      <td>0</td>\n",
       "      <td>0</td>\n",
       "      <td>0</td>\n",
       "      <td>0</td>\n",
       "      <td>0</td>\n",
       "      <td>0</td>\n",
       "      <td>0</td>\n",
       "      <td>0</td>\n",
       "      <td>0</td>\n",
       "      <td>0</td>\n",
       "      <td>0</td>\n",
       "      <td>0</td>\n",
       "      <td>0</td>\n",
       "      <td>0</td>\n",
       "      <td>0</td>\n",
       "      <td>0</td>\n",
       "      <td>0</td>\n",
       "      <td>0</td>\n",
       "      <td>0</td>\n",
       "      <td>0</td>\n",
       "      <td>0</td>\n",
       "      <td>0</td>\n",
       "      <td>0</td>\n",
       "      <td>0</td>\n",
       "      <td>0</td>\n",
       "      <td>0</td>\n",
       "      <td>0</td>\n",
       "      <td>0</td>\n",
       "      <td>0</td>\n",
       "      <td>0</td>\n",
       "      <td>0</td>\n",
       "      <td>0</td>\n",
       "      <td>0</td>\n",
       "      <td>0</td>\n",
       "      <td>0</td>\n",
       "      <td>6</td>\n",
       "      <td>0</td>\n",
       "    </tr>\n",
       "  </tbody>\n",
       "</table>\n",
       "<p>2 rows × 2270 columns</p>\n",
       "</div>"
      ],
      "text/plain": [
       "                 disease_\\  disease_Ⅱ  disease_Ⅱ型糖尿病  disease_Ⅱ型糖尿病合并肾病  \\\n",
       "个人编码                                                                      \n",
       "352120000000231          0          0              0                  0   \n",
       "352120000000386          0          0              0                  0   \n",
       "\n",
       "                 disease_Ⅱ型糖尿病性周围神经病变  disease_Ⅱ型糖尿病性周围血管病  \\\n",
       "个人编码                                                         \n",
       "352120000000231                     0                    0   \n",
       "352120000000386                     0                    0   \n",
       "\n",
       "                 disease_Ⅱ型糖尿病糖尿病合并肾损伤  disease_一线他汀不耐受  disease_一线治疗不达标  \\\n",
       "个人编码                                                                       \n",
       "352120000000231                      0                0                0   \n",
       "352120000000386                      0                0                0   \n",
       "\n",
       "                 disease_一线治疗无效二线治疗  disease_一线用药不达标  disease_一线药物不耐受  \\\n",
       "个人编码                                                                    \n",
       "352120000000231                   0                0                0   \n",
       "352120000000386                   0                0                0   \n",
       "\n",
       "                 disease_一线药物效果不佳  disease_一线药物治疗无效行二线治疗  disease_一线降脂药不耐受  \\\n",
       "个人编码                                                                         \n",
       "352120000000231                 0                      0                 0   \n",
       "352120000000386                 0                      0                 0   \n",
       "\n",
       "                 disease_一线降脂药效果不佳  disease_一线降脂药无效  disease_一线降脂药物不耐受偏瘫  \\\n",
       "个人编码                                                                       \n",
       "352120000000231                  0                0                    0   \n",
       "352120000000386                  0                0                    0   \n",
       "\n",
       "                 disease_一线降脂药物不耐受偏瘫门特  disease_一线降脂药物不耐受脑供血不足偏瘫  \\\n",
       "个人编码                                                               \n",
       "352120000000231                      0                         0   \n",
       "352120000000386                      0                         0   \n",
       "\n",
       "                 disease_一线降脂药物不耐受脑梗塞  disease_一线降脂药物治疗效果欠佳  disease_上呼吸道感染  \\\n",
       "个人编码                                                                          \n",
       "352120000000231                     0                     0               0   \n",
       "352120000000386                     0                     0               0   \n",
       "\n",
       "                 disease_下消  disease_下焦湿热证  disease_下焦湿盛  disease_下肢  \\\n",
       "个人编码                                                                   \n",
       "352120000000231           0              0             0           0   \n",
       "352120000000386           0              0             0           0   \n",
       "\n",
       "                 disease_下肢动脉栓塞  disease_下肢动脉硬化  disease_下肢动脉硬化闭塞症  \\\n",
       "个人编码                                                                 \n",
       "352120000000231               0               0                  0   \n",
       "352120000000386               0               0                  0   \n",
       "\n",
       "                 disease_下肢动脉粥样硬化  disease_下肢动脉粥样硬化闭塞症  disease_下肢动脉闭塞  \\\n",
       "个人编码                                                                     \n",
       "352120000000231                 0                    0               0   \n",
       "352120000000386                 0                    0               0   \n",
       "\n",
       "                 disease_下肢动脉闭塞症  disease_下肢循环障碍  disease_下肢微循环障碍  \\\n",
       "个人编码                                                                \n",
       "352120000000231                0               0                0   \n",
       "352120000000386                0               0                0   \n",
       "\n",
       "                 disease_下肢血管闭塞症  disease_下肢静脉回流障碍  disease_下肢静脉炎  \\\n",
       "个人编码                                                                \n",
       "352120000000231                0                 0              0   \n",
       "352120000000386                0                 0              0   \n",
       "\n",
       "                 disease_不伴有并发症的  disease_不寐病  disease_不稳定型心绞痛  \\\n",
       "个人编码                                                             \n",
       "352120000000231                0            0                0   \n",
       "352120000000386                0            0                0   \n",
       "\n",
       "                 disease_不稳定性心绞痛  disease_不稳定性心绞痛脑梗塞偏瘫  disease_不稳定性心绞痛高血压  \\\n",
       "个人编码                                                                         \n",
       "352120000000231                0                     0                   0   \n",
       "352120000000386                0                     0                   0   \n",
       "\n",
       "                 disease_不稳定糖尿病  disease_不耐受  disease_不耐受冠心病  disease_不能口服  \\\n",
       "个人编码                                                                         \n",
       "352120000000231               0            0               0             0   \n",
       "352120000000386               0            0               0             0   \n",
       "\n",
       "                 disease_不能手术的晚期胃癌   ...    disease_高血压病脑梗塞偏瘫  \\\n",
       "个人编码                                 ...                        \n",
       "352120000000231                  0   ...                    0   \n",
       "352120000000386                  0   ...                    0   \n",
       "\n",
       "                 disease_高血压病脑梗死偏瘫  disease_高血压病高粘血症冠心病偏瘫  disease_高血压病高脂血症  \\\n",
       "个人编码                                                                          \n",
       "352120000000231                  0                      0                 0   \n",
       "352120000000386                  0                      0                 0   \n",
       "\n",
       "                 disease_高血压病高脂血症偏瘫  disease_高血压病高脂血症冠心病偏瘫  \\\n",
       "个人编码                                                         \n",
       "352120000000231                   0                      0   \n",
       "352120000000386                   0                      0   \n",
       "\n",
       "                 disease_高血压病高脂血症冠心病偏瘫中风风痰瘀阻证  disease_高血压肺纤维化  \\\n",
       "个人编码                                                             \n",
       "352120000000231                             0                0   \n",
       "352120000000386                             0                0   \n",
       "\n",
       "                 disease_高血压肾移植术后  disease_高血压肾透析  disease_高血压肾透析肾性贫血  \\\n",
       "个人编码                                                                    \n",
       "352120000000231                 0               0                   0   \n",
       "352120000000386                 0               0                   0   \n",
       "\n",
       "                 disease_高血压肾透析肾性骨病  disease_高血压脑供血不足偏瘫  disease_高血压脑栓塞偏瘫  \\\n",
       "个人编码                                                                        \n",
       "352120000000231                   0                   0                 0   \n",
       "352120000000386                   0                   0                 0   \n",
       "\n",
       "                 disease_高血压脑栓塞偏瘫偏瘫胸痹心痛病  disease_高血压脑梗塞  disease_高血压脑梗塞偏瘫  \\\n",
       "个人编码                                                                         \n",
       "352120000000231                        0               0                 0   \n",
       "352120000000386                        0               0                 0   \n",
       "\n",
       "                 disease_高血压脑梗死偏瘫  disease_高血压脑梗死后遗症偏瘫  disease_高血压脑血管病性偏瘫  \\\n",
       "个人编码                                                                         \n",
       "352120000000231                 0                    0                   0   \n",
       "352120000000386                 0                    0                   0   \n",
       "\n",
       "                 disease_高血压高粘脂血冠心病  disease_高血压高粘血症偏瘫  disease_高血压高脂血症  \\\n",
       "个人编码                                                                      \n",
       "352120000000231                   0                  0                0   \n",
       "352120000000386                   0                  0                0   \n",
       "\n",
       "                 disease_高血压高脂血症偏瘫  disease_高血压高脂血症偏瘫偏瘫  \\\n",
       "个人编码                                                      \n",
       "352120000000231                  0                    0   \n",
       "352120000000386                  0                    0   \n",
       "\n",
       "                 disease_高血压高脂血症偏瘫心脑供血不足  disease_高血压高脂血症冠心病偏瘫  \\\n",
       "个人编码                                                             \n",
       "352120000000231                        0                     0   \n",
       "352120000000386                        0                     0   \n",
       "\n",
       "                 disease_高血压高脂血症冠心病偏瘫淤血阻络  disease_高血压高脂血症冠心病偏瘫肢体麻木  \\\n",
       "个人编码                                                                  \n",
       "352120000000231                         0                         0   \n",
       "352120000000386                         0                         0   \n",
       "\n",
       "                 disease_高血压高脂血症冠心病脉络瘀阻脑梗塞后遗症  disease_高血压高脂血症冠状动脉粥样硬化性心脏病偏瘫  \\\n",
       "个人编码                                                                           \n",
       "352120000000231                             0                              0   \n",
       "352120000000386                             0                              0   \n",
       "\n",
       "                 disease_高血压高脂血症急性短暂性脑缺血脑梗死偏瘫  disease_高血压高脂血症脑栓塞偏瘫  \\\n",
       "个人编码                                                                  \n",
       "352120000000231                             0                     0   \n",
       "352120000000386                             0                     0   \n",
       "\n",
       "                 disease_高血压高脂血症脑血管供血不足偏瘫  disease_高血压高血压  disease_高血压高血脂  \\\n",
       "个人编码                                                                        \n",
       "352120000000231                         0               0               0   \n",
       "352120000000386                         0               0               0   \n",
       "\n",
       "                 disease_高血压高血脂偏瘫  disease_高血压高血脂冠心病偏瘫  disease_高血脂  \\\n",
       "个人编码                                                                  \n",
       "352120000000231                 0                    0            0   \n",
       "352120000000386                 0                    0            0   \n",
       "\n",
       "                 disease_高血脂一线降脂药效果不佳  disease_高血脂偏瘫  disease_高血脂冠心病偏瘫  \\\n",
       "个人编码                                                                     \n",
       "352120000000231                     0              0                 0   \n",
       "352120000000386                     0              0                 0   \n",
       "\n",
       "                 disease_高血脂症  disease_高血脂症血瘀证  disease_高黏滞血症  disease_高黏血症  \\\n",
       "个人编码                                                                          \n",
       "352120000000231             0                0              0             0   \n",
       "352120000000386             0                0              0             0   \n",
       "\n",
       "                 disease_鼻咽癌  disease_鼻炎  total_kind_disease  target  \n",
       "个人编码                                                                  \n",
       "352120000000231            0           0                  11       0  \n",
       "352120000000386            0           0                   6       0  \n",
       "\n",
       "[2 rows x 2270 columns]"
      ]
     },
     "execution_count": 42,
     "metadata": {},
     "output_type": "execute_result"
    }
   ],
   "source": [
    "df_train_test.head(2)"
   ]
  },
  {
   "cell_type": "markdown",
   "metadata": {},
   "source": [
    "## Spliting Training and Testing Data"
   ]
  },
  {
   "cell_type": "code",
   "execution_count": 44,
   "metadata": {
    "collapsed": false
   },
   "outputs": [
    {
     "name": "stdout",
     "output_type": "stream",
     "text": [
      "train:  16000\n",
      "test:  4000\n",
      "ratio 0.2\n"
     ]
    }
   ],
   "source": [
    "from sklearn.model_selection import StratifiedShuffleSplit\n",
    "ss = StratifiedShuffleSplit(n_splits=1,test_size=0.2,random_state=0)\n",
    "idx_train, idx_test = ss.split(df_train_test[predictors],df_train_test[target]).next()\n",
    "print 'train: ',len(idx_train)\n",
    "print 'test: ',len(idx_test)\n",
    "print 'ratio',float(len(idx_test))/(len(idx_train)+len(idx_test))"
   ]
  },
  {
   "cell_type": "code",
   "execution_count": 45,
   "metadata": {
    "collapsed": true
   },
   "outputs": [],
   "source": [
    "df_train = df_train_test.iloc[idx_train,:]\n",
    "df_test = df_train_test.iloc[idx_test,:]"
   ]
  },
  {
   "cell_type": "markdown",
   "metadata": {},
   "source": [
    "## Define a function for modeling and cross-validation"
   ]
  },
  {
   "cell_type": "code",
   "execution_count": 46,
   "metadata": {
    "collapsed": true
   },
   "outputs": [],
   "source": [
    "def modelfit(alg, dtrain, dtest, predictors, useTrainCV=True, cv_folds=5, early_stopping_rounds=50):\n",
    "    '''  '''\n",
    "    if useTrainCV:  # 使用交叉验证选取最佳树棵树\n",
    "        xgb_param = alg.get_xgb_params()\n",
    "        xgtrain = xgb.DMatrix(dtrain[predictors].values, label=dtrain[target].values)\n",
    "        cvresult = xgb.cv(xgb_param, xgtrain, num_boost_round=alg.get_params()['n_estimators'],\\\n",
    "                          nfold=cv_folds,metrics='auc',early_stopping_rounds=early_stopping_rounds,verbose_eval=10)\n",
    "        alg.set_params(n_estimators=cvresult.shape[0])\n",
    "\n",
    "        \n",
    "    # fit the algorithm on the data:\n",
    "    alg.fit(dtrain[predictors], dtrain[target],eval_metric='auc')\n",
    "    \n",
    "    # predict training set:\n",
    "    dtrain_predictions = alg.predict(dtrain[predictors])\n",
    "    dtrain_predprob = alg.predict_proba(dtrain[predictors])[:,1]\n",
    "    \n",
    "    # print model report:\n",
    "    print \"\\nModel Report\"\n",
    "    print 'n_estimators: ',cvresult.shape[0]\n",
    "    print \"Training:\"\n",
    "    print \"Accuracy : %.4g\" % metrics.accuracy_score(dtrain[target], dtrain_predictions)\n",
    "    print \"F1 Score : %f\" % metrics.f1_score(dtrain[target],dtrain_predictions)\n",
    "    print \"AUC Score (Train): %f\" % metrics.roc_auc_score(dtrain[target],dtrain_predprob)\n",
    "    print \"Classification Report : \\n\", metrics.classification_report(dtrain[target],dtrain_predictions)\n",
    "    print \"\"\n",
    "    \n",
    "    # predict on testing data:\n",
    "    print \"Testing: \"\n",
    "    dtest_predictions = alg.predict(dtest[predictors])\n",
    "    dtest_predprob = alg.predict_proba(dtest[predictors])[:,1]\n",
    "    #results = test_results.merge(dtest[['ID','predprob']], on='ID')\n",
    "    print \"Accuracy : %.4g\" % metrics.accuracy_score(dtest[target], dtest_predictions)\n",
    "    print \"F1 Score : %f\" % metrics.f1_score(dtest[target],dtest_predictions)\n",
    "    print 'AUC Score (Test): %f' % metrics.roc_auc_score(dtest[target], dtest_predprob)\n",
    "    print \"Classification Report : \\n\", metrics.classification_report(dtest[target],dtest_predictions)\n",
    "    \n",
    "    feat_imp = pd.Series(alg.booster().get_fscore()).sort_values(ascending=False)\n",
    "    feat_imp[0:60].plot(kind='bar', title='Feature Importance')\n",
    "    plt.ylabel('Feature Importance Score')\n",
    "    \n",
    "    return feat_imp"
   ]
  },
  {
   "cell_type": "markdown",
   "metadata": {},
   "source": [
    "## Feature Importance\n",
    "### Beyond One-Hot encoding"
   ]
  },
  {
   "cell_type": "code",
   "execution_count": 50,
   "metadata": {
    "collapsed": false
   },
   "outputs": [
    {
     "name": "stdout",
     "output_type": "stream",
     "text": [
      "[0]\ttrain-auc:0.635165+0.00457401\ttest-auc:0.619186+0.0143693\n",
      "[10]\ttrain-auc:0.841297+0.0097347\ttest-auc:0.811256+0.0230723\n",
      "[20]\ttrain-auc:0.870013+0.00279057\ttest-auc:0.825799+0.0175853\n",
      "[30]\ttrain-auc:0.8871+0.00189979\ttest-auc:0.836625+0.0138214\n",
      "[40]\ttrain-auc:0.898983+0.00257287\ttest-auc:0.842347+0.0110227\n",
      "[50]\ttrain-auc:0.907337+0.00247863\ttest-auc:0.845082+0.0112892\n",
      "[60]\ttrain-auc:0.913581+0.00205982\ttest-auc:0.845192+0.0103735\n",
      "[70]\ttrain-auc:0.917947+0.00204336\ttest-auc:0.845441+0.00978855\n",
      "[80]\ttrain-auc:0.922775+0.00254451\ttest-auc:0.845957+0.00911826\n",
      "[90]\ttrain-auc:0.92605+0.00270855\ttest-auc:0.845761+0.00918317\n",
      "[100]\ttrain-auc:0.929029+0.00291263\ttest-auc:0.845895+0.0095309\n",
      "[110]\ttrain-auc:0.931771+0.00247723\ttest-auc:0.846204+0.0087793\n",
      "[120]\ttrain-auc:0.933593+0.00224757\ttest-auc:0.845966+0.00827799\n",
      "[130]\ttrain-auc:0.93588+0.00245005\ttest-auc:0.845916+0.00783499\n",
      "[140]\ttrain-auc:0.937853+0.00214605\ttest-auc:0.846096+0.00711912\n",
      "[150]\ttrain-auc:0.940129+0.00200624\ttest-auc:0.846479+0.00684793\n",
      "\n",
      "Model Report\n",
      "n_estimators:  106\n",
      "Training:\n",
      "Accuracy : 0.9649\n",
      "F1 Score : 0.467803\n",
      "AUC Score (Train): 0.922430\n",
      "Classification Report : \n",
      "             precision    recall  f1-score   support\n",
      "\n",
      "          0       0.96      1.00      0.98     15200\n",
      "          1       0.96      0.31      0.47       800\n",
      "\n",
      "avg / total       0.96      0.96      0.96     16000\n",
      "\n",
      "\n",
      "Testing: \n",
      "Accuracy : 0.9607\n",
      "F1 Score : 0.429091\n",
      "AUC Score (Test): 0.864041\n",
      "Classification Report : \n",
      "             precision    recall  f1-score   support\n",
      "\n",
      "          0       0.96      1.00      0.98      3800\n",
      "          1       0.79      0.29      0.43       200\n",
      "\n",
      "avg / total       0.96      0.96      0.95      4000\n",
      "\n"
     ]
    },
    {
     "data": {
      "image/png": "[encoded data removed]",
      "text/plain": [
       "<matplotlib.figure.Figure at 0x67b3be10>"
      ]
     },
     "metadata": {},
     "output_type": "display_data"
    }
   ],
   "source": [
    "# choose all predictors except target & IDcols\n",
    "# predictors = [x for x in train.columns if x not in [target]]\n",
    "xgb1 = XGBClassifier(learning_rate = 0.1,\n",
    "                    n_estimators=1000,\n",
    "                    max_depth=5,\n",
    "                    min_child_weight=1,\n",
    "                    gamma=0,\n",
    "                    subsample=0.9,\n",
    "                    colsample_bytree=0.9,\n",
    "                    objective='binary:logistic',\n",
    "                    nthread=4,\n",
    "                    scale_pos_weight=1,\n",
    "                    seed=27)\n",
    "feat_imp = modelfit(xgb1,df_train,df_test,predictors)"
   ]
  },
  {
   "cell_type": "code",
   "execution_count": 51,
   "metadata": {
    "collapsed": true
   },
   "outputs": [
    {
     "data": {
      "text/plain": [
       "disease_未知                            0.201533\n",
       "disease_挂号                            0.087076\n",
       "total_kind_disease                    0.069551\n",
       "disease_糖尿病                           0.058598\n",
       "disease_偏瘫                            0.043812\n",
       "disease_门特挂号                          0.029573\n",
       "disease_肾透析                           0.026835\n",
       "disease_高血压                           0.026835\n",
       "disease_冠心病                           0.024644\n",
       "disease_尿毒症                           0.021906\n",
       "disease_肺心病                           0.021358\n",
       "disease_肾性贫血                          0.015882\n",
       "disease_肺原性心脏病                        0.014239\n",
       "disease_型糖尿病                          0.013143\n",
       "disease_高脂血症                          0.011501\n",
       "disease_肾性骨病                          0.010953\n",
       "disease_精神病                           0.010405\n",
       "disease_慢性肺源性心脏病                      0.009858\n",
       "disease_过敏性鼻炎                         0.009310\n",
       "disease_脑梗死                           0.008762\n",
       "disease_糖尿病性肾病                        0.008762\n",
       "disease_肝功能不全                         0.008215\n",
       "disease_冠状动脉粥样硬化性心脏病                  0.007667\n",
       "disease_肾性高血压                         0.007119\n",
       "disease_白细胞减少症                        0.007119\n",
       "disease_肝损害                           0.007119\n",
       "disease_癌性疼痛                          0.006572\n",
       "disease_糖尿病肾病                         0.006572\n",
       "disease_糖尿病性冠心病                       0.006572\n",
       "disease_反复发作低血糖                       0.006572\n",
       "disease_糖尿病性周围神经病                     0.006024\n",
       "disease_高血压病                          0.006024\n",
       "disease_脑卒中                           0.006024\n",
       "disease_糖尿病性视网膜病                      0.005476\n",
       "disease_肺源性心脏病                        0.005476\n",
       "disease_乳癌                            0.004929\n",
       "disease_脑梗塞后遗症                        0.004929\n",
       "disease_糖尿病血糖不稳定的糖尿病患者                0.004929\n",
       "disease_胃炎                            0.004381\n",
       "disease_低蛋白血症                         0.004381\n",
       "disease_肝功能异常                         0.004381\n",
       "disease_非胰岛素依赖型糖尿病                    0.004381\n",
       "disease_非胰岛素依赖Ⅱ型糖尿病                   0.003834\n",
       "disease_糖尿病性神经病变                      0.003834\n",
       "disease_肾功能不全                         0.003834\n",
       "disease_糖尿病合并微循环障碍                    0.003286\n",
       "disease_恶性高血压                         0.003286\n",
       "disease_糖尿病伴周围循环并发症                   0.003286\n",
       "disease_不耐受                           0.003286\n",
       "disease_脆性糖尿病                         0.003286\n",
       "                                        ...   \n",
       "disease_糖尿病性周围血管病                     0.001095\n",
       "disease_尿毒症期                          0.001095\n",
       "disease_糖尿病血糖不稳定                      0.001095\n",
       "disease_心肌缺血                          0.001095\n",
       "disease_肺恶性肿瘤                         0.001095\n",
       "disease_免疫力低下                         0.001095\n",
       "disease_脑梗塞                           0.001095\n",
       "disease_糖尿病周围神经病变                     0.001095\n",
       "disease_气虚血瘀                          0.001095\n",
       "disease_糖尿病合并微血管病变                    0.001095\n",
       "disease_中风病                           0.001095\n",
       "disease_糖尿病门特                         0.001095\n",
       "disease_细菌性肺炎                         0.001095\n",
       "disease_糖尿病微血管病变                      0.001095\n",
       "disease_中风                            0.000548\n",
       "disease_糖尿病眼底病变                       0.000548\n",
       "disease_糖尿病综合症                        0.000548\n",
       "disease_缺血性心脏病                        0.000548\n",
       "disease_糖尿病足                          0.000548\n",
       "disease_双下肢动脉硬化闭塞症糖尿病糖尿病性大量白蛋白尿性肾病    0.000548\n",
       "disease_半身不遂                          0.000548\n",
       "disease_动脉硬化性心脏病                      0.000548\n",
       "disease_乳腺癌晚期                         0.000548\n",
       "disease_糖尿病足病                         0.000548\n",
       "disease_周围神经病变                        0.000548\n",
       "disease_糖尿病视网膜病变                      0.000548\n",
       "disease_偏瘫脑供血不足偏瘫心力衰竭                 0.000548\n",
       "disease_糖尿病性神经炎                       0.000548\n",
       "disease_周围血管神经病变                      0.000548\n",
       "disease_肾性骨营养不良                       0.000548\n",
       "disease_脑梗塞偏瘫重度高血压冠心病重度高脂血症           0.000548\n",
       "disease_消渴                            0.000548\n",
       "disease_消化不良                          0.000548\n",
       "disease_有严重并发症的糖尿病                    0.000548\n",
       "disease_肺心病高血压抑制剂不耐受                  0.000548\n",
       "disease_糖尿病并肾病                        0.000548\n",
       "disease_脑血管病                          0.000548\n",
       "disease_肾移植术后复查                       0.000548\n",
       "disease_慢性肾功能不全                       0.000548\n",
       "disease_脑血管病后遗症                       0.000548\n",
       "disease_慢性支气管炎                        0.000548\n",
       "disease_高血脂                           0.000548\n",
       "disease_心律失常                          0.000548\n",
       "disease_微循环障碍                         0.000548\n",
       "disease_尿毒症肾性贫血肾性骨病肾性高血压              0.000548\n",
       "disease_尿毒症性心肌病                       0.000548\n",
       "disease_糖尿病伴肾并发症                      0.000548\n",
       "disease_型糖尿病反复严重低血糖                   0.000548\n",
       "disease_视网膜病变                         0.000548\n",
       "disease_晚期乳腺癌                         0.000548\n",
       "dtype: float64"
      ]
     },
     "execution_count": 51,
     "metadata": {},
     "output_type": "execute_result"
    }
   ],
   "source": [
    "feat_imp/feat_imp.sum()"
   ]
  },
  {
   "cell_type": "code",
   "execution_count": 66,
   "metadata": {
    "collapsed": false
   },
   "outputs": [],
   "source": [
    "feat_imp.to_csv(\"disease_feat_importance.csv\",encoding='utf-8')"
   ]
  },
  {
   "cell_type": "markdown",
   "metadata": {},
   "source": [
    "### Try One-Hot Enconding"
   ]
  },
  {
   "cell_type": "code",
   "execution_count": 54,
   "metadata": {
    "collapsed": true
   },
   "outputs": [
    {
     "data": {
      "text/plain": [
       "个人编码\n",
       "352120000000231    1\n",
       "352120000000386    1\n",
       "352120000000408    1\n",
       "352120000000409    1\n",
       "352120000000511    1\n",
       "352120000000674    1\n",
       "352120000000767    1\n",
       "352120000001361    1\n",
       "352120000001462    1\n",
       "352120000001641    1\n",
       "352120000001710    1\n",
       "352120000001823    1\n",
       "352120000001866    1\n",
       "352120000001950    1\n",
       "352120000002052    1\n",
       "352120000002090    1\n",
       "352120000002163    1\n",
       "352120000002315    1\n",
       "352120000002987    1\n",
       "352120000003190    1\n",
       "352120000003350    1\n",
       "352120000003632    1\n",
       "352120000003749    1\n",
       "352120000003852    1\n",
       "352120000003953    1\n",
       "352120000004176    1\n",
       "352120000004265    1\n",
       "352120000004286    1\n",
       "352120000004310    1\n",
       "352120000004420    1\n",
       "352120000004661    1\n",
       "352120000004790    1\n",
       "352120000004990    1\n",
       "352120000005132    1\n",
       "352120000005778    1\n",
       "352120000005883    1\n",
       "352120000005905    1\n",
       "352120000006616    1\n",
       "352120000006765    1\n",
       "352120000006860    1\n",
       "352120000006884    1\n",
       "352120000006914    1\n",
       "352120000007297    1\n",
       "352120000007709    1\n",
       "352120000007943    1\n",
       "352120000007965    1\n",
       "352120000008151    1\n",
       "352120000008322    1\n",
       "352120000008462    1\n",
       "352120000008558    1\n",
       "                  ..\n",
       "352128000183960    1\n",
       "352128000184821    1\n",
       "352128000195384    1\n",
       "352128000300686    1\n",
       "352128000301342    1\n",
       "352128000302668    1\n",
       "352128000302733    1\n",
       "352128000303713    1\n",
       "352128000313996    1\n",
       "352128000319039    1\n",
       "352128000330699    1\n",
       "352128000334627    1\n",
       "352128000340021    1\n",
       "352128000341707    1\n",
       "352128000342505    1\n",
       "352128000342534    1\n",
       "352128000342773    1\n",
       "352128000348105    1\n",
       "352128000356181    1\n",
       "352128000360160    1\n",
       "352128000382908    1\n",
       "352128000383371    1\n",
       "352128000392994    1\n",
       "352128000397630    1\n",
       "352128000407261    1\n",
       "352128000424887    1\n",
       "352128000431764    1\n",
       "352128000445151    1\n",
       "352128000457404    1\n",
       "352128000458654    1\n",
       "352128000493990    1\n",
       "352128000498166    1\n",
       "352128000519912    1\n",
       "352128000526750    1\n",
       "352128000534311    1\n",
       "352128000558756    1\n",
       "352128000572169    1\n",
       "352128000580091    1\n",
       "352128000604047    1\n",
       "352128000606419    1\n",
       "352128000606721    1\n",
       "352128000607705    1\n",
       "352128000607981    1\n",
       "352128000608635    1\n",
       "352128000609628    1\n",
       "352128000611016    1\n",
       "352128000613804    1\n",
       "352128000614956    1\n",
       "352128000616266    1\n",
       "352128000617402    1\n",
       "Name: disease_未知, dtype: int64"
      ]
     },
     "execution_count": 54,
     "metadata": {},
     "output_type": "execute_result"
    }
   ],
   "source": [
    "df_train_test['disease_未知']"
   ]
  },
  {
   "cell_type": "code",
   "execution_count": 55,
   "metadata": {
    "collapsed": false
   },
   "outputs": [],
   "source": [
    "# One-Hot encoding\n",
    "df_train_test1 = df_train_test.drop(\"disease_未知\",axis=1)\n",
    "df_train_test1[df_train_test1 != 0] = 1\n"
   ]
  },
  {
   "cell_type": "code",
   "execution_count": 56,
   "metadata": {
    "collapsed": true
   },
   "outputs": [],
   "source": [
    "df_train = df_train_test1.iloc[idx_train,:]\n",
    "df_test = df_train_test1.iloc[idx_test,:]"
   ]
  },
  {
   "cell_type": "code",
   "execution_count": 58,
   "metadata": {
    "collapsed": false
   },
   "outputs": [
    {
     "name": "stdout",
     "output_type": "stream",
     "text": [
      "[0]\ttrain-auc:0.660646+0.00633974\ttest-auc:0.650228+0.0213195\n",
      "[10]\ttrain-auc:0.700446+0.0112314\ttest-auc:0.685536+0.0260715\n",
      "[20]\ttrain-auc:0.734525+0.0101421\ttest-auc:0.713599+0.0176077\n",
      "[30]\ttrain-auc:0.754952+0.00754051\ttest-auc:0.721317+0.0167483\n",
      "[40]\ttrain-auc:0.776687+0.0083395\ttest-auc:0.727806+0.0142622\n",
      "[50]\ttrain-auc:0.7928+0.00508506\ttest-auc:0.737795+0.0163734\n",
      "[60]\ttrain-auc:0.80077+0.00522316\ttest-auc:0.739856+0.0167217\n",
      "[70]\ttrain-auc:0.809234+0.00435713\ttest-auc:0.743156+0.0189485\n",
      "[80]\ttrain-auc:0.814951+0.00385238\ttest-auc:0.744548+0.0165628\n",
      "[90]\ttrain-auc:0.819648+0.00437067\ttest-auc:0.745861+0.0164649\n",
      "[100]\ttrain-auc:0.823226+0.00320755\ttest-auc:0.746688+0.0160082\n",
      "[110]\ttrain-auc:0.826142+0.00274351\ttest-auc:0.745776+0.0157644\n",
      "[120]\ttrain-auc:0.829183+0.00306807\ttest-auc:0.745483+0.015191\n",
      "[130]\ttrain-auc:0.832106+0.00242409\ttest-auc:0.744781+0.0168166\n",
      "[140]\ttrain-auc:0.835035+0.00207835\ttest-auc:0.744792+0.0188824\n",
      "\n",
      "Model Report\n",
      "n_estimators:  99\n",
      "Training:\n",
      "Accuracy : 0.9578\n",
      "F1 Score : 0.293194\n",
      "AUC Score (Train): 0.817517\n",
      "Classification Report : \n",
      "             precision    recall  f1-score   support\n",
      "\n",
      "          0       0.96      1.00      0.98     15200\n",
      "          1       0.90      0.17      0.29       800\n",
      "\n",
      "avg / total       0.96      0.96      0.94     16000\n",
      "\n",
      "\n",
      "Testing: \n",
      "Accuracy : 0.9553\n",
      "F1 Score : 0.269388\n",
      "AUC Score (Test): 0.763314\n",
      "Classification Report : \n",
      "             precision    recall  f1-score   support\n",
      "\n",
      "          0       0.96      1.00      0.98      3800\n",
      "          1       0.73      0.17      0.27       200\n",
      "\n",
      "avg / total       0.95      0.96      0.94      4000\n",
      "\n"
     ]
    },
    {
     "data": {
      "image/png": "[encoded data removed]",
      "text/plain": [
       "<matplotlib.figure.Figure at 0x67b3bdd8>"
      ]
     },
     "metadata": {},
     "output_type": "display_data"
    }
   ],
   "source": [
    "# choose all predictors except target & IDcols\n",
    "predictors = df_train.columns.difference(['target'])\n",
    "xgb2 = XGBClassifier(learning_rate = 0.1,\n",
    "                    n_estimators=1000,\n",
    "                    max_depth=5,\n",
    "                    min_child_weight=1,\n",
    "                    gamma=0,\n",
    "                    subsample=0.9,\n",
    "                    colsample_bytree=0.9,\n",
    "                    objective='binary:logistic',\n",
    "                    nthread=4,\n",
    "                    scale_pos_weight=1,\n",
    "                    seed=27)\n",
    "feat_imp2 = modelfit(xgb2,df_train,df_test,predictors)"
   ]
  },
  {
   "cell_type": "code",
   "execution_count": null,
   "metadata": {
    "collapsed": true
   },
   "outputs": [],
   "source": [
    "feat_imp2"
   ]
  },
  {
   "cell_type": "markdown",
   "metadata": {},
   "source": [
    "#### Comments"
   ]
  },
  {
   "cell_type": "markdown",
   "metadata": {},
   "source": [
    "- One-Hot-Encoding 不及带权值的特征好\n",
    "- disease-未知特征占有很大比重，如果去掉该特征呢？？"
   ]
  },
  {
   "cell_type": "markdown",
   "metadata": {},
   "source": [
    "### Drop The Most Important Feature"
   ]
  },
  {
   "cell_type": "code",
   "execution_count": 61,
   "metadata": {
    "collapsed": true
   },
   "outputs": [],
   "source": [
    "df_train_test.drop(\"disease_未知\",axis=1,inplace=True)\n",
    "df_train = df_train_test.iloc[idx_train,:]\n",
    "df_test = df_train_test.iloc[idx_test,:]"
   ]
  },
  {
   "cell_type": "code",
   "execution_count": 62,
   "metadata": {
    "collapsed": false
   },
   "outputs": [
    {
     "name": "stdout",
     "output_type": "stream",
     "text": [
      "[0]\ttrain-auc:0.641257+0.00888562\ttest-auc:0.620069+0.0209501\n",
      "[10]\ttrain-auc:0.751717+0.00550071\ttest-auc:0.734282+0.0174049\n",
      "[20]\ttrain-auc:0.78141+0.00298366\ttest-auc:0.751927+0.0176\n",
      "[30]\ttrain-auc:0.806417+0.00625363\ttest-auc:0.763994+0.0175741\n",
      "[40]\ttrain-auc:0.826881+0.00629674\ttest-auc:0.766575+0.0161445\n",
      "[50]\ttrain-auc:0.840398+0.0052691\ttest-auc:0.770371+0.0163568\n",
      "[60]\ttrain-auc:0.850725+0.00459216\ttest-auc:0.771649+0.0144058\n",
      "[70]\ttrain-auc:0.85767+0.00438358\ttest-auc:0.773585+0.0142185\n",
      "[80]\ttrain-auc:0.865559+0.00380854\ttest-auc:0.774257+0.013009\n",
      "[90]\ttrain-auc:0.87108+0.00426038\ttest-auc:0.77374+0.0136894\n",
      "[100]\ttrain-auc:0.876519+0.00383101\ttest-auc:0.774139+0.0135899\n",
      "[110]\ttrain-auc:0.880594+0.00314223\ttest-auc:0.773156+0.0148634\n",
      "[120]\ttrain-auc:0.886268+0.00394958\ttest-auc:0.772189+0.0138135\n",
      "[130]\ttrain-auc:0.889827+0.00353707\ttest-auc:0.772169+0.0128021\n",
      "[140]\ttrain-auc:0.894131+0.00354186\ttest-auc:0.773227+0.0121547\n",
      "[150]\ttrain-auc:0.89795+0.00334128\ttest-auc:0.773323+0.011919\n",
      "\n",
      "Model Report\n",
      "n_estimators:  102\n",
      "Training:\n",
      "Accuracy : 0.9624\n",
      "F1 Score : 0.409046\n",
      "AUC Score (Train): 0.871439\n",
      "Classification Report : \n",
      "             precision    recall  f1-score   support\n",
      "\n",
      "          0       0.96      1.00      0.98     15200\n",
      "          1       0.96      0.26      0.41       800\n",
      "\n",
      "avg / total       0.96      0.96      0.95     16000\n",
      "\n",
      "\n",
      "Testing: \n",
      "Accuracy : 0.96\n",
      "F1 Score : 0.393939\n",
      "AUC Score (Test): 0.806058\n",
      "Classification Report : \n",
      "             precision    recall  f1-score   support\n",
      "\n",
      "          0       0.96      1.00      0.98      3800\n",
      "          1       0.81      0.26      0.39       200\n",
      "\n",
      "avg / total       0.95      0.96      0.95      4000\n",
      "\n"
     ]
    },
    {
     "data": {
      "image/png": "[encoded data removed]",
      "text/plain": [
       "<matplotlib.figure.Figure at 0x1ed0d668>"
      ]
     },
     "metadata": {},
     "output_type": "display_data"
    }
   ],
   "source": [
    "# choose all predictors except target & IDcols\n",
    "predictors = df_train.columns.difference(['target'])\n",
    "xgb3 = XGBClassifier(learning_rate = 0.1,\n",
    "                    n_estimators=1000,\n",
    "                    max_depth=5,\n",
    "                    min_child_weight=1,\n",
    "                    gamma=0,\n",
    "                    subsample=0.9,\n",
    "                    colsample_bytree=0.9,\n",
    "                    objective='binary:logistic',\n",
    "                    nthread=4,\n",
    "                    scale_pos_weight=1,\n",
    "                    seed=27)\n",
    "feat_imp3 = modelfit(xgb3,df_train,df_test,predictors)"
   ]
  },
  {
   "cell_type": "code",
   "execution_count": 113,
   "metadata": {
    "collapsed": true
   },
   "outputs": [],
   "source": [
    "feat_imp3.to_csv(\"disease_feat_importance_real.csv\",encoding='utf-8')"
   ]
  },
  {
   "cell_type": "markdown",
   "metadata": {},
   "source": [
    "## Conclusion"
   ]
  },
  {
   "cell_type": "markdown",
   "metadata": {},
   "source": [
    "- 加权的特征比类别0-1特征表现要好\n",
    "- disease-未知特征占有很大比重，很重要，从f1得分来看，其也是很重要的，这说明什么？未知也能提供信息？？"
   ]
  },
  {
   "cell_type": "markdown",
   "metadata": {},
   "source": [
    "#  三目服务特征选择xgboost"
   ]
  },
  {
   "cell_type": "markdown",
   "metadata": {},
   "source": [
    "## Data Preparation"
   ]
  },
  {
   "cell_type": "code",
   "execution_count": 105,
   "metadata": {
    "collapsed": true
   },
   "outputs": [],
   "source": [
    "# Loading data\n",
    "df_service_feat = pd.read_csv(\"df_service_feat_train_clean.csv\",index_col='个人编码')"
   ]
  },
  {
   "cell_type": "code",
   "execution_count": 107,
   "metadata": {
    "collapsed": false
   },
   "outputs": [],
   "source": [
    "df_service_feat.columns = df_service_feat.columns.str.replace(\"[\\[\\]]\",'_').str.replace(\"<\",\"_\").str.replace(\"☆\",\"_\").str.replace(\"、\",\"_\")\n",
    "#df_service_feat.to_csv(\"df_service_feat_train_clean.csv\")"
   ]
  },
  {
   "cell_type": "code",
   "execution_count": 108,
   "metadata": {
    "collapsed": true
   },
   "outputs": [],
   "source": [
    "# Training and Tesing data\n",
    "df_id = pd.read_csv('data/df_id_train.csv',header=None)\n",
    "df_id = df_id.rename(columns={0:'Id',1:'target'})\n",
    "df_train_test = df_service_feat.join(df_id.set_index('Id'))\n",
    "del df_service_feat"
   ]
  },
  {
   "cell_type": "code",
   "execution_count": 109,
   "metadata": {
    "collapsed": true
   },
   "outputs": [],
   "source": [
    "predictors = df_train_test.columns.difference(['target'])\n",
    "target = 'target'"
   ]
  },
  {
   "cell_type": "markdown",
   "metadata": {},
   "source": [
    "## Spliting Training and Testing Data"
   ]
  },
  {
   "cell_type": "code",
   "execution_count": 110,
   "metadata": {
    "collapsed": false
   },
   "outputs": [
    {
     "name": "stdout",
     "output_type": "stream",
     "text": [
      "train:  16000\n",
      "test:  4000\n",
      "ratio 0.2\n"
     ]
    }
   ],
   "source": [
    "from sklearn.model_selection import StratifiedShuffleSplit\n",
    "ss = StratifiedShuffleSplit(n_splits=1,test_size=0.2,random_state=0)\n",
    "idx_train, idx_test = ss.split(df_train_test[predictors],df_train_test[target]).next()\n",
    "print 'train: ',len(idx_train)\n",
    "print 'test: ',len(idx_test)\n",
    "print 'ratio',float(len(idx_test))/(len(idx_train)+len(idx_test))"
   ]
  },
  {
   "cell_type": "code",
   "execution_count": 111,
   "metadata": {
    "collapsed": true
   },
   "outputs": [],
   "source": [
    "df_train = df_train_test.iloc[idx_train,:]\n",
    "df_test = df_train_test.iloc[idx_test,:]"
   ]
  },
  {
   "cell_type": "markdown",
   "metadata": {},
   "source": [
    "## Feature Importance"
   ]
  },
  {
   "cell_type": "code",
   "execution_count": 112,
   "metadata": {
    "collapsed": false
   },
   "outputs": [
    {
     "name": "stdout",
     "output_type": "stream",
     "text": [
      "[0]\ttrain-auc:0.77461+0.01802\ttest-auc:0.753575+0.0238772\n",
      "[10]\ttrain-auc:0.841312+0.00762315\ttest-auc:0.815435+0.0266334\n",
      "[20]\ttrain-auc:0.864986+0.00306862\ttest-auc:0.835318+0.0109834\n",
      "[30]\ttrain-auc:0.880289+0.00326866\ttest-auc:0.845042+0.010141\n",
      "[40]\ttrain-auc:0.891023+0.00394084\ttest-auc:0.85085+0.00809625\n",
      "[50]\ttrain-auc:0.896879+0.00326851\ttest-auc:0.852691+0.00692398\n",
      "[60]\ttrain-auc:0.902044+0.00343781\ttest-auc:0.853908+0.0077119\n",
      "[70]\ttrain-auc:0.905954+0.00290068\ttest-auc:0.854407+0.00752557\n",
      "[80]\ttrain-auc:0.90987+0.00247794\ttest-auc:0.854193+0.0081534\n",
      "[90]\ttrain-auc:0.912768+0.0022936\ttest-auc:0.853731+0.00877662\n",
      "[100]\ttrain-auc:0.915658+0.00208671\ttest-auc:0.853979+0.00882879\n",
      "[110]\ttrain-auc:0.918938+0.0019086\ttest-auc:0.854264+0.00902403\n",
      "[120]\ttrain-auc:0.921567+0.00171642\ttest-auc:0.853697+0.00951917\n",
      "[130]\ttrain-auc:0.924188+0.00242443\ttest-auc:0.853352+0.00885135\n",
      "[140]\ttrain-auc:0.92606+0.00214983\ttest-auc:0.853076+0.00891055\n",
      "[150]\ttrain-auc:0.92785+0.00186524\ttest-auc:0.852854+0.00895451\n",
      "\n",
      "Model Report\n",
      "n_estimators:  104\n",
      "Training:\n",
      "Accuracy : 0.9636\n",
      "F1 Score : 0.446768\n",
      "AUC Score (Train): 0.910150\n",
      "Classification Report : \n",
      "             precision    recall  f1-score   support\n",
      "\n",
      "          0       0.96      1.00      0.98     15200\n",
      "          1       0.93      0.29      0.45       800\n",
      "\n",
      "avg / total       0.96      0.96      0.95     16000\n",
      "\n",
      "\n",
      "Testing: \n",
      "Accuracy : 0.9597\n",
      "F1 Score : 0.387833\n",
      "AUC Score (Test): 0.854391\n",
      "Classification Report : \n",
      "             precision    recall  f1-score   support\n",
      "\n",
      "          0       0.96      1.00      0.98      3800\n",
      "          1       0.81      0.26      0.39       200\n",
      "\n",
      "avg / total       0.95      0.96      0.95      4000\n",
      "\n"
     ]
    },
    {
     "data": {
      "image/png": "[encoded data removed]",
      "text/plain": [
       "<matplotlib.figure.Figure at 0x50c14cf8>"
      ]
     },
     "metadata": {},
     "output_type": "display_data"
    }
   ],
   "source": [
    "# choose all predictors except target & IDcols\n",
    "# predictors = [x for x in train.columns if x not in [target]]\n",
    "xgb1 = XGBClassifier(learning_rate = 0.1,\n",
    "                    n_estimators=1000,\n",
    "                    max_depth=5,\n",
    "                    min_child_weight=1,\n",
    "                    gamma=0,\n",
    "                    subsample=0.9,\n",
    "                    colsample_bytree=0.9,\n",
    "                    objective='binary:logistic',\n",
    "                    nthread=4,\n",
    "                    scale_pos_weight=1,\n",
    "                    seed=27)\n",
    "service_feat_imp1 = modelfit(xgb1,df_train,df_test,predictors)"
   ]
  },
  {
   "cell_type": "markdown",
   "metadata": {},
   "source": [
    "- 未知特征占有很大比重，why？这不是问题的本质所在\n",
    "- 需要注意该特征其实是表示缺失的特征，暗含了交易的频次，因此其显得很重要"
   ]
  },
  {
   "cell_type": "code",
   "execution_count": 114,
   "metadata": {
    "collapsed": true
   },
   "outputs": [],
   "source": [
    "service_feat_imp1.to_csv(\"service_feat_importance.csv\",encoding='utf-8')"
   ]
  },
  {
   "cell_type": "markdown",
   "metadata": {},
   "source": [
    "## Drop The Most Important Feature"
   ]
  },
  {
   "cell_type": "code",
   "execution_count": 115,
   "metadata": {
    "collapsed": false
   },
   "outputs": [
    {
     "name": "stdout",
     "output_type": "stream",
     "text": [
      "[0]\ttrain-auc:0.645934+0.00583665\ttest-auc:0.637754+0.0210998\n",
      "[10]\ttrain-auc:0.748392+0.010432\ttest-auc:0.733423+0.0223548\n",
      "[20]\ttrain-auc:0.783165+0.0107701\ttest-auc:0.756613+0.0215063\n",
      "[30]\ttrain-auc:0.807044+0.00795055\ttest-auc:0.774091+0.0226924\n",
      "[40]\ttrain-auc:0.822986+0.00604221\ttest-auc:0.7809+0.0236028\n",
      "[50]\ttrain-auc:0.830725+0.00556994\ttest-auc:0.783363+0.0252573\n",
      "[60]\ttrain-auc:0.837043+0.0024704\ttest-auc:0.785668+0.0254922\n",
      "[70]\ttrain-auc:0.843907+0.00174775\ttest-auc:0.78502+0.0255839\n",
      "[80]\ttrain-auc:0.849522+0.00201842\ttest-auc:0.784166+0.0252266\n",
      "[90]\ttrain-auc:0.854258+0.000987726\ttest-auc:0.784164+0.024433\n",
      "[100]\ttrain-auc:0.858949+0.00195862\ttest-auc:0.784696+0.0234707\n",
      "[110]\ttrain-auc:0.863035+0.002258\ttest-auc:0.78548+0.0242524\n",
      "\n",
      "Model Report\n",
      "n_estimators:  62\n",
      "Training:\n",
      "Accuracy : 0.9596\n",
      "F1 Score : 0.327083\n",
      "AUC Score (Train): 0.833902\n",
      "Classification Report : \n",
      "             precision    recall  f1-score   support\n",
      "\n",
      "          0       0.96      1.00      0.98     15200\n",
      "          1       0.98      0.20      0.33       800\n",
      "\n",
      "avg / total       0.96      0.96      0.95     16000\n",
      "\n",
      "\n",
      "Testing: \n",
      "Accuracy : 0.9563\n",
      "F1 Score : 0.273859\n",
      "AUC Score (Test): 0.802967\n",
      "Classification Report : \n",
      "             precision    recall  f1-score   support\n",
      "\n",
      "          0       0.96      1.00      0.98      3800\n",
      "          1       0.80      0.17      0.27       200\n",
      "\n",
      "avg / total       0.95      0.96      0.94      4000\n",
      "\n"
     ]
    },
    {
     "data": {
      "image/png": "[encoded data removed]",
      "text/plain": [
       "<matplotlib.figure.Figure at 0x672f9a20>"
      ]
     },
     "metadata": {},
     "output_type": "display_data"
    }
   ],
   "source": [
    "# choose all predictors except target & IDcols\n",
    "predictors = df_train.columns.difference([\"target\",\"service_未知\"])\n",
    "xgb2 = XGBClassifier(learning_rate = 0.1,\n",
    "                    n_estimators=1000,\n",
    "                    max_depth=5,\n",
    "                    min_child_weight=1,\n",
    "                    gamma=0,\n",
    "                    subsample=0.9,\n",
    "                    colsample_bytree=0.9,\n",
    "                    objective='binary:logistic',\n",
    "                    nthread=4,\n",
    "                    scale_pos_weight=1,\n",
    "                    seed=27)\n",
    "service_feat_imp2 = modelfit(xgb2,df_train,df_test,predictors)"
   ]
  },
  {
   "cell_type": "code",
   "execution_count": 116,
   "metadata": {
    "collapsed": true
   },
   "outputs": [],
   "source": [
    "service_feat_imp2.to_csv(\"service_feat_importance_real.csv\",encoding='utf-8')"
   ]
  },
  {
   "cell_type": "markdown",
   "metadata": {},
   "source": [
    "## Conclusion"
   ]
  },
  {
   "cell_type": "markdown",
   "metadata": {},
   "source": [
    "- 三目服务项目特征重要性相对出院诊断病种的重要性；\n",
    "- 因此，在选择特征时，出院诊断病种特征数量应该取得更多\n",
    "- 估计:\n",
    "    - 出院诊断病种特征数量top：40-60\n",
    "    - 三目服务项目特征数量top：20-40"
   ]
  },
  {
   "cell_type": "markdown",
   "metadata": {},
   "source": [
    "# 去医院频率特征"
   ]
  },
  {
   "cell_type": "code",
   "execution_count": 117,
   "metadata": {
    "collapsed": true
   },
   "outputs": [],
   "source": [
    "df_train_test = pd.read_csv(\"df_data_train_clean_sparse_latest.csv\",index_col=\"个人编码\")"
   ]
  },
  {
   "cell_type": "code",
   "execution_count": 129,
   "metadata": {
    "collapsed": false
   },
   "outputs": [],
   "source": [
    "# 所有特征\n",
    "features = df_train_test.columns.difference(['target'])"
   ]
  },
  {
   "cell_type": "code",
   "execution_count": 130,
   "metadata": {
    "collapsed": false
   },
   "outputs": [],
   "source": [
    "# 去各个医院的频率特征\n",
    "predictors = features[features.str.startswith(\"freq_hospital_\")]\n",
    "target = 'target'"
   ]
  },
  {
   "cell_type": "code",
   "execution_count": 131,
   "metadata": {
    "collapsed": false,
    "scrolled": true
   },
   "outputs": [
    {
     "name": "stdout",
     "output_type": "stream",
     "text": [
      "train:  16000\n",
      "test:  4000\n",
      "ratio 0.2\n"
     ]
    }
   ],
   "source": [
    "# 数据准备\n",
    "from sklearn.model_selection import StratifiedShuffleSplit\n",
    "ss = StratifiedShuffleSplit(n_splits=1,test_size=0.2,random_state=0)\n",
    "idx_train, idx_test = ss.split(df_train_test[predictors],df_train_test[target]).next()\n",
    "print 'train: ',len(idx_train)\n",
    "print 'test: ',len(idx_test)\n",
    "print 'ratio',float(len(idx_test))/(len(idx_train)+len(idx_test))"
   ]
  },
  {
   "cell_type": "code",
   "execution_count": 132,
   "metadata": {
    "collapsed": true
   },
   "outputs": [],
   "source": [
    "df_train = df_train_test.iloc[idx_train,:]\n",
    "df_test = df_train_test.iloc[idx_test,:]"
   ]
  },
  {
   "cell_type": "markdown",
   "metadata": {},
   "source": [
    "## Feature Importance"
   ]
  },
  {
   "cell_type": "code",
   "execution_count": 133,
   "metadata": {
    "collapsed": false
   },
   "outputs": [
    {
     "name": "stdout",
     "output_type": "stream",
     "text": [
      "[0]\ttrain-auc:0.580425+0.00236712\ttest-auc:0.570291+0.00975409\n",
      "[10]\ttrain-auc:0.658941+0.00558065\ttest-auc:0.633849+0.0188337\n",
      "[20]\ttrain-auc:0.683907+0.00507296\ttest-auc:0.65158+0.0132521\n",
      "[30]\ttrain-auc:0.718031+0.00748469\ttest-auc:0.670198+0.00971801\n",
      "[40]\ttrain-auc:0.747347+0.0019224\ttest-auc:0.687689+0.0130262\n",
      "[50]\ttrain-auc:0.772515+0.00606121\ttest-auc:0.694035+0.0132061\n",
      "[60]\ttrain-auc:0.792332+0.00498637\ttest-auc:0.698086+0.0104786\n",
      "[70]\ttrain-auc:0.804494+0.00388136\ttest-auc:0.701962+0.0117387\n",
      "[80]\ttrain-auc:0.81601+0.00195803\ttest-auc:0.703678+0.0121295\n",
      "[90]\ttrain-auc:0.823438+0.00219309\ttest-auc:0.708243+0.0140628\n",
      "[100]\ttrain-auc:0.829542+0.0031892\ttest-auc:0.710261+0.0158342\n",
      "[110]\ttrain-auc:0.835354+0.00287707\ttest-auc:0.714944+0.0162005\n",
      "[120]\ttrain-auc:0.840592+0.00233741\ttest-auc:0.717683+0.0156337\n",
      "[130]\ttrain-auc:0.845212+0.00289418\ttest-auc:0.717547+0.0159541\n",
      "[140]\ttrain-auc:0.848895+0.00251116\ttest-auc:0.716614+0.0169781\n",
      "[150]\ttrain-auc:0.852285+0.00262812\ttest-auc:0.716586+0.0161133\n",
      "[160]\ttrain-auc:0.855024+0.00255324\ttest-auc:0.717362+0.0170677\n",
      "[170]\ttrain-auc:0.857233+0.00240531\ttest-auc:0.719245+0.0165704\n",
      "[180]\ttrain-auc:0.85977+0.00248079\ttest-auc:0.718309+0.0177666\n",
      "[190]\ttrain-auc:0.862422+0.002582\ttest-auc:0.720124+0.0171104\n",
      "[200]\ttrain-auc:0.86455+0.00235324\ttest-auc:0.719771+0.0176298\n",
      "[210]\ttrain-auc:0.86642+0.00228049\ttest-auc:0.719717+0.017776\n",
      "[220]\ttrain-auc:0.868227+0.00224074\ttest-auc:0.718451+0.0189206\n",
      "[230]\ttrain-auc:0.869981+0.00251044\ttest-auc:0.718991+0.0200569\n",
      "\n",
      "Model Report\n",
      "n_estimators:  190\n",
      "Training:\n",
      "Accuracy : 0.9582\n",
      "F1 Score : 0.293559\n",
      "AUC Score (Train): 0.855086\n",
      "Classification Report : \n",
      "             precision    recall  f1-score   support\n",
      "\n",
      "          0       0.96      1.00      0.98     15200\n",
      "          1       0.95      0.17      0.29       800\n",
      "\n",
      "avg / total       0.96      0.96      0.94     16000\n",
      "\n",
      "\n",
      "Testing: \n",
      "Accuracy : 0.9573\n",
      "F1 Score : 0.259740\n",
      "AUC Score (Test): 0.763782\n",
      "Classification Report : \n",
      "             precision    recall  f1-score   support\n",
      "\n",
      "          0       0.96      1.00      0.98      3800\n",
      "          1       0.97      0.15      0.26       200\n",
      "\n",
      "avg / total       0.96      0.96      0.94      4000\n",
      "\n"
     ]
    },
    {
     "data": {
      "image/png": "[encoded data removed]",
      "text/plain": [
       "<matplotlib.figure.Figure at 0x6aa8c4e0>"
      ]
     },
     "metadata": {},
     "output_type": "display_data"
    }
   ],
   "source": [
    "# choose all predictors except target & IDcols\n",
    "# predictors = [x for x in train.columns if x not in [target]]\n",
    "xgb1 = XGBClassifier(learning_rate = 0.1,\n",
    "                    n_estimators=1000,\n",
    "                    max_depth=5,\n",
    "                    min_child_weight=1,\n",
    "                    gamma=0,\n",
    "                    subsample=0.9,\n",
    "                    colsample_bytree=0.9,\n",
    "                    objective='binary:logistic',\n",
    "                    nthread=4,\n",
    "                    scale_pos_weight=1,\n",
    "                    seed=27)\n",
    "feat_freq_hospital_imp1 = modelfit(xgb1,df_train,df_test,predictors)"
   ]
  },
  {
   "cell_type": "code",
   "execution_count": 134,
   "metadata": {
    "collapsed": true
   },
   "outputs": [],
   "source": [
    "feat_freq_hospital_imp1.to_csv(\"feat_freq_hospital_imp.csv\")"
   ]
  },
  {
   "cell_type": "code",
   "execution_count": 167,
   "metadata": {
    "collapsed": false
   },
   "outputs": [
    {
     "data": {
      "text/plain": [
       "freq_hospital_159     17\n",
       "freq_hospital_896     17\n",
       "freq_hospital_482     16\n",
       "freq_hospital_5       16\n",
       "freq_hospital_74      16\n",
       "freq_hospital_723     16\n",
       "freq_hospital_126     15\n",
       "freq_hospital_186     15\n",
       "freq_hospital_111     14\n",
       "freq_hospital_1072    14\n",
       "freq_hospital_136     13\n",
       "freq_hospital_161     13\n",
       "freq_hospital_115     13\n",
       "freq_hospital_69      12\n",
       "freq_hospital_177     12\n",
       "freq_hospital_620     10\n",
       "freq_hospital_635     10\n",
       "freq_hospital_7        9\n",
       "freq_hospital_963      9\n",
       "freq_hospital_76       9\n",
       "freq_hospital_617      8\n",
       "freq_hospital_420      8\n",
       "freq_hospital_766      7\n",
       "freq_hospital_201      7\n",
       "freq_hospital_32       7\n",
       "freq_hospital_615      7\n",
       "freq_hospital_65       7\n",
       "freq_hospital_626      6\n",
       "freq_hospital_139      6\n",
       "freq_hospital_77       5\n",
       "freq_hospital_1129     5\n",
       "freq_hospital_571      5\n",
       "freq_hospital_449      5\n",
       "freq_hospital_43       5\n",
       "freq_hospital_927      5\n",
       "freq_hospital_554      4\n",
       "freq_hospital_30       4\n",
       "freq_hospital_26       4\n",
       "freq_hospital_1121     4\n",
       "freq_hospital_105      4\n",
       "freq_hospital_483      3\n",
       "freq_hospital_1079     3\n",
       "freq_hospital_176      3\n",
       "freq_hospital_127      3\n",
       "freq_hospital_135      3\n",
       "freq_hospital_144      3\n",
       "freq_hospital_153      3\n",
       "freq_hospital_154      3\n",
       "freq_hospital_178      3\n",
       "freq_hospital_610      3\n",
       "freq_hospital_64       2\n",
       "freq_hospital_559      2\n",
       "freq_hospital_67       2\n",
       "freq_hospital_1068     2\n",
       "freq_hospital_155      2\n",
       "freq_hospital_34       1\n",
       "freq_hospital_704      1\n",
       "freq_hospital_114      1\n",
       "freq_hospital_569      1\n",
       "freq_hospital_934      1\n",
       "dtype: int64"
      ]
     },
     "execution_count": 167,
     "metadata": {},
     "output_type": "execute_result"
    }
   ],
   "source": [
    "feat_freq_hospital_imp1[-60:]"
   ]
  },
  {
   "cell_type": "markdown",
   "metadata": {},
   "source": [
    "## Conclusion"
   ]
  },
  {
   "cell_type": "markdown",
   "metadata": {},
   "source": [
    "- 该特征相对于三目及出院诊断来说不那么重要，可取特征数量10-20"
   ]
  },
  {
   "cell_type": "markdown",
   "metadata": {},
   "source": [
    "# 在各个医院交易特征"
   ]
  },
  {
   "cell_type": "code",
   "execution_count": 136,
   "metadata": {
    "collapsed": true
   },
   "outputs": [],
   "source": [
    "# 在各个医院的交易特征\n",
    "predictors = features[features.str.startswith(\"freq_trans_\")]\n",
    "target = 'target'"
   ]
  },
  {
   "cell_type": "code",
   "execution_count": 137,
   "metadata": {
    "collapsed": true
   },
   "outputs": [],
   "source": [
    "df_train = df_train_test.iloc[idx_train,:]\n",
    "df_test = df_train_test.iloc[idx_test,:]"
   ]
  },
  {
   "cell_type": "markdown",
   "metadata": {},
   "source": [
    "## Feature Importance"
   ]
  },
  {
   "cell_type": "code",
   "execution_count": 138,
   "metadata": {
    "collapsed": false
   },
   "outputs": [
    {
     "name": "stdout",
     "output_type": "stream",
     "text": [
      "[0]\ttrain-auc:0.585267+0.00373232\ttest-auc:0.573627+0.010888\n",
      "[10]\ttrain-auc:0.641971+0.00820941\ttest-auc:0.61838+0.0221299\n",
      "[20]\ttrain-auc:0.678429+0.00478137\ttest-auc:0.649098+0.0152245\n",
      "[30]\ttrain-auc:0.715349+0.00737068\ttest-auc:0.66434+0.0141443\n",
      "[40]\ttrain-auc:0.753749+0.00811804\ttest-auc:0.680459+0.00618647\n",
      "[50]\ttrain-auc:0.789876+0.0114701\ttest-auc:0.688305+0.00641001\n",
      "[60]\ttrain-auc:0.810325+0.00466419\ttest-auc:0.700487+0.00887559\n",
      "[70]\ttrain-auc:0.824223+0.00244412\ttest-auc:0.707772+0.00605646\n",
      "[80]\ttrain-auc:0.835195+0.00412232\ttest-auc:0.714754+0.00709908\n",
      "[90]\ttrain-auc:0.842096+0.00318903\ttest-auc:0.714671+0.0092438\n",
      "[100]\ttrain-auc:0.848042+0.00243661\ttest-auc:0.718105+0.00991387\n",
      "[110]\ttrain-auc:0.852782+0.00232385\ttest-auc:0.719516+0.00994092\n",
      "[120]\ttrain-auc:0.857115+0.00273436\ttest-auc:0.720786+0.0085965\n",
      "[130]\ttrain-auc:0.861267+0.00269535\ttest-auc:0.72427+0.00809015\n",
      "[140]\ttrain-auc:0.864672+0.00261987\ttest-auc:0.725738+0.00736091\n",
      "[150]\ttrain-auc:0.867528+0.00255572\ttest-auc:0.72506+0.00778302\n",
      "[160]\ttrain-auc:0.870258+0.00280258\ttest-auc:0.72684+0.00879135\n",
      "[170]\ttrain-auc:0.872825+0.00287926\ttest-auc:0.728102+0.0089617\n",
      "[180]\ttrain-auc:0.874998+0.00289825\ttest-auc:0.727332+0.00901921\n",
      "[190]\ttrain-auc:0.87722+0.00265268\ttest-auc:0.727074+0.00861899\n",
      "[200]\ttrain-auc:0.878889+0.00288414\ttest-auc:0.728381+0.00930561\n",
      "[210]\ttrain-auc:0.880876+0.00342818\ttest-auc:0.727486+0.00973178\n",
      "[220]\ttrain-auc:0.883005+0.00317738\ttest-auc:0.727739+0.00972007\n",
      "[230]\ttrain-auc:0.885181+0.00291155\ttest-auc:0.728171+0.0108758\n",
      "[240]\ttrain-auc:0.886846+0.00285383\ttest-auc:0.729053+0.010445\n",
      "[250]\ttrain-auc:0.888649+0.00292812\ttest-auc:0.729002+0.0101243\n",
      "[260]\ttrain-auc:0.890128+0.00272388\ttest-auc:0.729189+0.00979203\n",
      "[270]\ttrain-auc:0.891265+0.00285478\ttest-auc:0.728772+0.00987892\n",
      "[280]\ttrain-auc:0.892685+0.00295488\ttest-auc:0.730212+0.00929898\n",
      "[290]\ttrain-auc:0.894126+0.00302529\ttest-auc:0.729875+0.00841633\n",
      "[300]\ttrain-auc:0.895608+0.00313446\ttest-auc:0.730035+0.00840036\n",
      "[310]\ttrain-auc:0.897262+0.00319946\ttest-auc:0.730373+0.0093165\n",
      "[320]\ttrain-auc:0.89837+0.0033884\ttest-auc:0.730835+0.00934004\n",
      "[330]\ttrain-auc:0.899522+0.0033979\ttest-auc:0.730624+0.0102023\n",
      "[340]\ttrain-auc:0.900639+0.00318313\ttest-auc:0.730694+0.00964043\n",
      "[350]\ttrain-auc:0.901928+0.00310699\ttest-auc:0.729538+0.00930871\n",
      "[360]\ttrain-auc:0.903006+0.00317506\ttest-auc:0.72946+0.00919356\n",
      "[370]\ttrain-auc:0.903877+0.00345491\ttest-auc:0.729849+0.00924602\n",
      "[380]\ttrain-auc:0.90485+0.00334801\ttest-auc:0.729865+0.0091102\n",
      "\n",
      "Model Report\n",
      "n_estimators:  338\n",
      "Training:\n",
      "Accuracy : 0.9605\n",
      "F1 Score : 0.360324\n",
      "AUC Score (Train): 0.893069\n",
      "Classification Report : \n",
      "             precision    recall  f1-score   support\n",
      "\n",
      "          0       0.96      1.00      0.98     15200\n",
      "          1       0.95      0.22      0.36       800\n",
      "\n",
      "avg / total       0.96      0.96      0.95     16000\n",
      "\n",
      "\n",
      "Testing: \n",
      "Accuracy : 0.9585\n",
      "F1 Score : 0.336000\n",
      "AUC Score (Test): 0.765300\n",
      "Classification Report : \n",
      "             precision    recall  f1-score   support\n",
      "\n",
      "          0       0.96      1.00      0.98      3800\n",
      "          1       0.84      0.21      0.34       200\n",
      "\n",
      "avg / total       0.95      0.96      0.95      4000\n",
      "\n"
     ]
    },
    {
     "data": {
      "image/png": "[encoded data removed]",
      "text/plain": [
       "<matplotlib.figure.Figure at 0x44e7dc50>"
      ]
     },
     "metadata": {},
     "output_type": "display_data"
    }
   ],
   "source": [
    "# choose all predictors except target & IDcols\n",
    "# predictors = [x for x in train.columns if x not in [target]]\n",
    "xgb1 = XGBClassifier(learning_rate = 0.1,\n",
    "                    n_estimators=1000,\n",
    "                    max_depth=5,\n",
    "                    min_child_weight=1,\n",
    "                    gamma=0,\n",
    "                    subsample=0.9,\n",
    "                    colsample_bytree=0.9,\n",
    "                    objective='binary:logistic',\n",
    "                    nthread=4,\n",
    "                    scale_pos_weight=1,\n",
    "                    seed=27)\n",
    "feat_freq_trans_imp1 = modelfit(xgb1,df_train,df_test,predictors)"
   ]
  },
  {
   "cell_type": "code",
   "execution_count": 139,
   "metadata": {
    "collapsed": true
   },
   "outputs": [],
   "source": [
    "feat_freq_trans_imp1.to_csv(\"feat_freq_trans_imp.csv\")"
   ]
  },
  {
   "cell_type": "code",
   "execution_count": 166,
   "metadata": {
    "collapsed": true
   },
   "outputs": [
    {
     "data": {
      "text/plain": [
       "freq_trans_hospital_617     13\n",
       "freq_trans_hospital_635     13\n",
       "freq_trans_hospital_723     13\n",
       "freq_trans_hospital_155     12\n",
       "freq_trans_hospital_201     12\n",
       "freq_trans_hospital_144     11\n",
       "freq_trans_hospital_420     11\n",
       "freq_trans_hospital_105     11\n",
       "freq_trans_hospital_65      11\n",
       "freq_trans_hospital_1068    11\n",
       "freq_trans_hospital_178     10\n",
       "freq_trans_hospital_571     10\n",
       "freq_trans_hospital_1129    10\n",
       "freq_trans_hospital_154      9\n",
       "freq_trans_hospital_42       9\n",
       "freq_trans_hospital_43       9\n",
       "freq_trans_hospital_449      8\n",
       "freq_trans_hospital_77       8\n",
       "freq_trans_hospital_766      7\n",
       "freq_trans_hospital_1079     7\n",
       "freq_trans_hospital_78       6\n",
       "freq_trans_hospital_26       6\n",
       "freq_trans_hospital_1121     6\n",
       "freq_trans_hospital_569      6\n",
       "freq_trans_hospital_64       5\n",
       "freq_trans_hospital_34       5\n",
       "freq_trans_hospital_791      5\n",
       "freq_trans_hospital_554      5\n",
       "freq_trans_hospital_692      5\n",
       "freq_trans_hospital_55       5\n",
       "freq_trans_hospital_934      4\n",
       "freq_trans_hospital_127      4\n",
       "freq_trans_hospital_610      4\n",
       "freq_trans_hospital_636      4\n",
       "freq_trans_hospital_483      4\n",
       "freq_trans_hospital_67       4\n",
       "freq_trans_hospital_559      4\n",
       "freq_trans_hospital_752      3\n",
       "freq_trans_hospital_30       3\n",
       "freq_trans_hospital_176      3\n",
       "freq_trans_hospital_737      3\n",
       "freq_trans_hospital_25       3\n",
       "freq_trans_hospital_44       2\n",
       "freq_trans_hospital_630      2\n",
       "freq_trans_hospital_613      2\n",
       "freq_trans_hospital_596      2\n",
       "freq_trans_hospital_704      2\n",
       "freq_trans_hospital_720      2\n",
       "freq_trans_hospital_471      2\n",
       "freq_trans_hospital_10       2\n",
       "freq_trans_hospital_1488     2\n",
       "freq_trans_hospital_184      2\n",
       "freq_trans_hospital_41       1\n",
       "freq_trans_hospital_29       1\n",
       "freq_trans_hospital_107      1\n",
       "freq_trans_hospital_28       1\n",
       "freq_trans_hospital_114      1\n",
       "freq_trans_hospital_747      1\n",
       "freq_trans_hospital_158      1\n",
       "freq_trans_hospital_8        1\n",
       "dtype: int64"
      ]
     },
     "execution_count": 166,
     "metadata": {},
     "output_type": "execute_result"
    }
   ],
   "source": [
    "feat_freq_trans_imp1[-60:]"
   ]
  },
  {
   "cell_type": "markdown",
   "metadata": {},
   "source": [
    "## Conclusion"
   ]
  },
  {
   "cell_type": "markdown",
   "metadata": {},
   "source": [
    "- 相对于去医院的频率来说，该特征信息量较大，但频率特征信息量都小于三目和出院诊断\n",
    "- 建议取特征量top：20-40\n",
    "- 该特征似乎与去医院的频率特征存在信息交叉，也许选取其中一个就可以了，建议选择在各个医院的交易频率"
   ]
  },
  {
   "cell_type": "markdown",
   "metadata": {},
   "source": [
    "# 时间间隔特征"
   ]
  },
  {
   "cell_type": "code",
   "execution_count": 142,
   "metadata": {
    "collapsed": true
   },
   "outputs": [],
   "source": [
    "# 去除重复的列\n",
    "def duplicate_columns(frame):\n",
    "    groups = frame.columns.to_series().groupby(frame.dtypes).groups\n",
    "    dups = []\n",
    "    for t, v in groups.items():\n",
    "        dcols = frame[v].to_dict(orient=\"list\")\n",
    "\n",
    "        vs = dcols.values()\n",
    "        ks = dcols.keys()\n",
    "        lvs = len(vs)\n",
    "\n",
    "        for i in range(lvs):\n",
    "            for j in range(i+1,lvs):\n",
    "                if vs[i] == vs[j]: \n",
    "                    dups.append(ks[i])\n",
    "                    break\n",
    "\n",
    "    return dups"
   ]
  },
  {
   "cell_type": "code",
   "execution_count": 148,
   "metadata": {
    "collapsed": false
   },
   "outputs": [],
   "source": [
    "predictors = features[features.str.startswith(\"every_period_\")]\n",
    "dups = duplicate_columns(df_train_test[predictors])"
   ]
  },
  {
   "cell_type": "code",
   "execution_count": 151,
   "metadata": {
    "collapsed": false
   },
   "outputs": [
    {
     "name": "stdout",
     "output_type": "stream",
     "text": [
      "Total:  194\n",
      "Duplicate:  97\n"
     ]
    }
   ],
   "source": [
    "print \"Total: \",len(predictors)\n",
    "print \"Duplicate: \",len(dups)"
   ]
  },
  {
   "cell_type": "code",
   "execution_count": 154,
   "metadata": {
    "collapsed": true
   },
   "outputs": [],
   "source": [
    "predictors = predictors.difference(dups)\n",
    "target = 'target'"
   ]
  },
  {
   "cell_type": "markdown",
   "metadata": {},
   "source": [
    "## Feature Importance"
   ]
  },
  {
   "cell_type": "code",
   "execution_count": 155,
   "metadata": {
    "collapsed": false
   },
   "outputs": [
    {
     "name": "stdout",
     "output_type": "stream",
     "text": [
      "[0]\ttrain-auc:0.673249+0.0185119\ttest-auc:0.660577+0.0198475\n",
      "[10]\ttrain-auc:0.767094+0.013769\ttest-auc:0.739608+0.0143156\n",
      "[20]\ttrain-auc:0.805026+0.00416984\ttest-auc:0.760654+0.0185369\n",
      "[30]\ttrain-auc:0.838755+0.00533195\ttest-auc:0.775615+0.0212328\n",
      "[40]\ttrain-auc:0.869804+0.00150231\ttest-auc:0.78264+0.0178224\n",
      "[50]\ttrain-auc:0.886101+0.00184947\ttest-auc:0.785101+0.017925\n",
      "[60]\ttrain-auc:0.898146+0.00312012\ttest-auc:0.785871+0.0168251\n",
      "[70]\ttrain-auc:0.907393+0.00407007\ttest-auc:0.787154+0.0151483\n",
      "[80]\ttrain-auc:0.914656+0.00374616\ttest-auc:0.788556+0.0152524\n",
      "[90]\ttrain-auc:0.921573+0.00354737\ttest-auc:0.788384+0.013524\n",
      "[100]\ttrain-auc:0.927198+0.0026283\ttest-auc:0.78826+0.0124888\n",
      "[110]\ttrain-auc:0.932208+0.00321012\ttest-auc:0.787734+0.0125343\n",
      "[120]\ttrain-auc:0.936327+0.00318985\ttest-auc:0.787832+0.0135528\n",
      "[130]\ttrain-auc:0.939123+0.00319919\ttest-auc:0.787304+0.0127739\n",
      "\n",
      "Model Report\n",
      "n_estimators:  85\n",
      "Training:\n",
      "Accuracy : 0.9583\n",
      "F1 Score : 0.327968\n",
      "AUC Score (Train): 0.908381\n",
      "Classification Report : \n",
      "             precision    recall  f1-score   support\n",
      "\n",
      "          0       0.96      1.00      0.98     15200\n",
      "          1       0.84      0.20      0.33       800\n",
      "\n",
      "avg / total       0.95      0.96      0.95     16000\n",
      "\n",
      "\n",
      "Testing: \n",
      "Accuracy : 0.9585\n",
      "F1 Score : 0.366412\n",
      "AUC Score (Test): 0.805774\n",
      "Classification Report : \n",
      "             precision    recall  f1-score   support\n",
      "\n",
      "          0       0.96      1.00      0.98      3800\n",
      "          1       0.77      0.24      0.37       200\n",
      "\n",
      "avg / total       0.95      0.96      0.95      4000\n",
      "\n"
     ]
    },
    {
     "data": {
      "image/png": "[encoded data removed]",
      "text/plain": [
       "<matplotlib.figure.Figure at 0x1587e940>"
      ]
     },
     "metadata": {},
     "output_type": "display_data"
    }
   ],
   "source": [
    "# choose all predictors except target & IDcols\n",
    "# predictors = [x for x in train.columns if x not in [target]]\n",
    "xgb1 = XGBClassifier(learning_rate = 0.1,\n",
    "                    n_estimators=1000,\n",
    "                    max_depth=5,\n",
    "                    min_child_weight=1,\n",
    "                    gamma=0,\n",
    "                    subsample=0.9,\n",
    "                    colsample_bytree=0.9,\n",
    "                    objective='binary:logistic',\n",
    "                    nthread=4,\n",
    "                    scale_pos_weight=1,\n",
    "                    seed=27)\n",
    "feat_every_period_imp1 = modelfit(xgb1,df_train,df_test,predictors)"
   ]
  },
  {
   "cell_type": "code",
   "execution_count": 156,
   "metadata": {
    "collapsed": true
   },
   "outputs": [],
   "source": [
    "feat_every_period_imp1.to_csv(\"feat_every_period_imp.csv\")"
   ]
  },
  {
   "cell_type": "code",
   "execution_count": 165,
   "metadata": {
    "collapsed": true
   },
   "outputs": [
    {
     "data": {
      "text/plain": [
       "every_period_1.1     293\n",
       "every_period_2.1     260\n",
       "every_period_0.1     172\n",
       "every_period_3       143\n",
       "every_period_4.1     128\n",
       "every_period_5.1     118\n",
       "every_period_7.1     107\n",
       "every_period_14       97\n",
       "every_period_6.1      74\n",
       "every_period_13       69\n",
       "every_period_10.1     61\n",
       "every_period_9.1      58\n",
       "every_period_8.1      51\n",
       "every_period_12       51\n",
       "every_period_11       50\n",
       "every_period_17       31\n",
       "every_period_15       29\n",
       "every_period_16       25\n",
       "every_period_19       21\n",
       "every_period_18       20\n",
       "every_period_24       20\n",
       "every_period_20       20\n",
       "every_period_21.1     15\n",
       "every_period_28       10\n",
       "every_period_22        9\n",
       "every_period_29        8\n",
       "every_period_23.1      6\n",
       "every_period_27.1      3\n",
       "every_period_36.1      2\n",
       "every_period_34.1      2\n",
       "every_period_38.1      2\n",
       "every_period_31.1      2\n",
       "every_period_37.1      1\n",
       "every_period_45.1      1\n",
       "dtype: int64"
      ]
     },
     "execution_count": 165,
     "metadata": {},
     "output_type": "execute_result"
    }
   ],
   "source": [
    "feat_every_period_imp1[-60:]"
   ]
  },
  {
   "cell_type": "markdown",
   "metadata": {},
   "source": [
    "## Conclusion"
   ]
  },
  {
   "cell_type": "markdown",
   "metadata": {},
   "source": [
    "- 时间间隔特征相对重要；但信息集中在前20个特征"
   ]
  },
  {
   "cell_type": "markdown",
   "metadata": {},
   "source": [
    "# 其他特征综合（各种统计特征，非稀疏）"
   ]
  },
  {
   "cell_type": "code",
   "execution_count": 157,
   "metadata": {
    "collapsed": true
   },
   "outputs": [],
   "source": [
    "period_predictors = features[features.str.startswith(\"every_period_\")]\n",
    "freq_hospital_predictors = features[features.str.startswith(\"freq_hospital\")]\n",
    "freq_trans_predictors = features[features.str.startswith(\"freq_trans\")]"
   ]
  },
  {
   "cell_type": "code",
   "execution_count": 159,
   "metadata": {
    "collapsed": true
   },
   "outputs": [],
   "source": [
    "predictors = features.difference(period_predictors).difference(freq_hospital_predictors).difference(freq_trans_predictors)"
   ]
  },
  {
   "cell_type": "code",
   "execution_count": 160,
   "metadata": {
    "collapsed": false
   },
   "outputs": [
    {
     "name": "stdout",
     "output_type": "stream",
     "text": [
      "[0]\ttrain-auc:0.815357+0.0138525\ttest-auc:0.789599+0.0314762\n",
      "[10]\ttrain-auc:0.905803+0.00602215\ttest-auc:0.866903+0.0196782\n",
      "[20]\ttrain-auc:0.934524+0.00261295\ttest-auc:0.886018+0.0101189\n",
      "[30]\ttrain-auc:0.95619+0.00141538\ttest-auc:0.899058+0.00784504\n",
      "[40]\ttrain-auc:0.972238+0.00140079\ttest-auc:0.907457+0.00739482\n",
      "[50]\ttrain-auc:0.981539+0.00189685\ttest-auc:0.908499+0.00756187\n",
      "[60]\ttrain-auc:0.987386+0.00138716\ttest-auc:0.90969+0.00692518\n",
      "[70]\ttrain-auc:0.990966+0.00115001\ttest-auc:0.910867+0.00582765\n",
      "[80]\ttrain-auc:0.993569+0.000727122\ttest-auc:0.911261+0.00679421\n",
      "[90]\ttrain-auc:0.995423+0.000639765\ttest-auc:0.910796+0.00730363\n",
      "[100]\ttrain-auc:0.996962+0.000356531\ttest-auc:0.911841+0.00746065\n",
      "[110]\ttrain-auc:0.998001+0.000282121\ttest-auc:0.912147+0.00682118\n",
      "[120]\ttrain-auc:0.998665+0.000272322\ttest-auc:0.912463+0.00694802\n",
      "[130]\ttrain-auc:0.999125+0.000181036\ttest-auc:0.912239+0.00742918\n",
      "[140]\ttrain-auc:0.999493+0.000138372\ttest-auc:0.912284+0.00745728\n",
      "[150]\ttrain-auc:0.999709+0.000113162\ttest-auc:0.912009+0.00817124\n",
      "[160]\ttrain-auc:0.999829+8.56154e-05\ttest-auc:0.911287+0.00821615\n",
      "[170]\ttrain-auc:0.999919+3.86078e-05\ttest-auc:0.911437+0.00751504\n",
      "[180]\ttrain-auc:0.99997+1.70247e-05\ttest-auc:0.910927+0.00787336\n",
      "[190]\ttrain-auc:0.999988+9.05539e-06\ttest-auc:0.910307+0.00777769\n",
      "\n",
      "Model Report\n",
      "n_estimators:  145\n",
      "Training:\n",
      "Accuracy : 0.9889\n",
      "F1 Score : 0.874824\n",
      "AUC Score (Train): 0.998945\n",
      "Classification Report : \n",
      "             precision    recall  f1-score   support\n",
      "\n",
      "          0       0.99      1.00      0.99     15200\n",
      "          1       1.00      0.78      0.87       800\n",
      "\n",
      "avg / total       0.99      0.99      0.99     16000\n",
      "\n",
      "\n",
      "Testing: \n",
      "Accuracy : 0.9647\n",
      "F1 Score : 0.505263\n",
      "AUC Score (Test): 0.918629\n",
      "Classification Report : \n",
      "             precision    recall  f1-score   support\n",
      "\n",
      "          0       0.97      1.00      0.98      3800\n",
      "          1       0.85      0.36      0.51       200\n",
      "\n",
      "avg / total       0.96      0.96      0.96      4000\n",
      "\n"
     ]
    },
    {
     "data": {
      "image/png": "[encoded data removed]",
      "text/plain": [
       "<matplotlib.figure.Figure at 0x427c6400>"
      ]
     },
     "metadata": {},
     "output_type": "display_data"
    }
   ],
   "source": [
    "# choose all predictors except target & IDcols\n",
    "# predictors = [x for x in train.columns if x not in [target]]\n",
    "xgb1 = XGBClassifier(learning_rate = 0.1,\n",
    "                    n_estimators=1000,\n",
    "                    max_depth=5,\n",
    "                    min_child_weight=1,\n",
    "                    gamma=0,\n",
    "                    subsample=0.9,\n",
    "                    colsample_bytree=0.9,\n",
    "                    objective='binary:logistic',\n",
    "                    nthread=4,\n",
    "                    scale_pos_weight=1,\n",
    "                    seed=27)\n",
    "feat_nonsparse_imp1 = modelfit(xgb1,df_train,df_test,predictors)"
   ]
  },
  {
   "cell_type": "code",
   "execution_count": 162,
   "metadata": {
    "collapsed": false
   },
   "outputs": [],
   "source": [
    "feat_nonsparse_imp1.to_csv(\"feat_nonsparse_imp.csv\",encoding=\"utf-8\")"
   ]
  },
  {
   "cell_type": "code",
   "execution_count": 164,
   "metadata": {
    "collapsed": true
   },
   "outputs": [
    {
     "data": {
      "text/plain": [
       "城乡救助补助金额_std          3\n",
       "床位费发生金额_std           3\n",
       "every_q2_period       3\n",
       "检查费自费金额_max           3\n",
       "医疗救助个人按比例负担金额_sum     3\n",
       "医用材料费自费金额_std         3\n",
       "every_min_period      3\n",
       "贵重检查费金额_sum           3\n",
       "检查费申报金额_max           3\n",
       "床位费发生金额_max           3\n",
       "城乡救助补助金额_max          2\n",
       "治疗费发生金额_q2            2\n",
       "检查费发生金额_q2            2\n",
       "医用材料发生金额_q1           2\n",
       "医疗救助医院申请_max          2\n",
       "城乡救助补助金额_mean         2\n",
       "治疗费自费金额_std           2\n",
       "治疗费申报金额_q1            2\n",
       "fee_fasheng_sum       2\n",
       "一次性医用材料申报金额_q1        2\n",
       "其它发生金额_q3             2\n",
       "民政救助补助金额_q2           2\n",
       "三目统计项目_q2             2\n",
       "补助审批金额_q2             2\n",
       "医疗救助个人按比例负担金额_q3      2\n",
       "补助审批金额_sum            2\n",
       "补助审批金额_q3             2\n",
       "床位费申报金额_mean          2\n",
       "手术费发生金额_sum           2\n",
       "中草药费发生金额_q3           2\n",
       "医用材料费自费金额_sum         2\n",
       "药品费自费金额_q2            1\n",
       "fee_zhifu_sum         1\n",
       "贵重检查费金额_max           1\n",
       "贵重药品发生金额_q2           1\n",
       "补助审批金额_q1             1\n",
       "贵重检查费金额_std           1\n",
       "民政救助补助金额_max          1\n",
       "治疗费自费金额_sum           1\n",
       "治疗费申报金额_q2            1\n",
       "基本医疗保险个人账户支付金额_q1     1\n",
       "城乡救助补助金额_q3           1\n",
       "床位费发生金额_sum           1\n",
       "床位费申报金额_max           1\n",
       "医疗救助医院申请_mean         1\n",
       "医疗救助个人按比例负担金额_std     1\n",
       "医疗救助个人按比例负担金额_mean    1\n",
       "医用材料发生金额_q2           1\n",
       "公务员医疗补助基金支付金额_std     1\n",
       "公务员医疗补助基金支付金额_mean    1\n",
       "检查费申报金额_q3            1\n",
       "中成药费发生金额_q2           1\n",
       "中成药费发生金额_q1           1\n",
       "民政救助补助金额_mean         1\n",
       "三目统计项目_q3             1\n",
       "三目统计项目_q1             1\n",
       "民政救助补助金额_q3           1\n",
       "一次性医用材料申报金额_q2        1\n",
       "民政救助补助金额_sum          1\n",
       "高价材料发生金额_mean         1\n",
       "dtype: int64"
      ]
     },
     "execution_count": 164,
     "metadata": {},
     "output_type": "execute_result"
    }
   ],
   "source": [
    "feat_nonsparse_imp1[-60:]"
   ]
  },
  {
   "cell_type": "markdown",
   "metadata": {},
   "source": [
    "# 原有所有特征重要性"
   ]
  },
  {
   "cell_type": "code",
   "execution_count": 168,
   "metadata": {
    "collapsed": true
   },
   "outputs": [],
   "source": [
    "# 去除重复的特征\n",
    "dups = duplicate_columns(df_train_test)"
   ]
  },
  {
   "cell_type": "code",
   "execution_count": 170,
   "metadata": {
    "collapsed": false
   },
   "outputs": [],
   "source": [
    "predictors = features.difference(dups)"
   ]
  },
  {
   "cell_type": "code",
   "execution_count": 172,
   "metadata": {
    "collapsed": false
   },
   "outputs": [
    {
     "data": {
      "text/plain": [
       "1106"
      ]
     },
     "execution_count": 172,
     "metadata": {},
     "output_type": "execute_result"
    }
   ],
   "source": [
    "len(predictors)"
   ]
  },
  {
   "cell_type": "code",
   "execution_count": 173,
   "metadata": {
    "collapsed": false
   },
   "outputs": [
    {
     "name": "stdout",
     "output_type": "stream",
     "text": [
      "[0]\ttrain-auc:0.806079+0.0104252\ttest-auc:0.780669+0.0286913\n",
      "[10]\ttrain-auc:0.899009+0.00809422\ttest-auc:0.858609+0.0193202\n",
      "[20]\ttrain-auc:0.933572+0.0042928\ttest-auc:0.879663+0.0164438\n",
      "[30]\ttrain-auc:0.957889+0.000640671\ttest-auc:0.897018+0.00804159\n",
      "[40]\ttrain-auc:0.973095+0.00138492\ttest-auc:0.904993+0.0094624\n",
      "[50]\ttrain-auc:0.982354+0.000819926\ttest-auc:0.909178+0.0105825\n",
      "[60]\ttrain-auc:0.987697+0.000739164\ttest-auc:0.911292+0.00924606\n",
      "[70]\ttrain-auc:0.991701+0.00059367\ttest-auc:0.912405+0.0086862\n",
      "[80]\ttrain-auc:0.993895+0.000288776\ttest-auc:0.912159+0.00957668\n",
      "[90]\ttrain-auc:0.995488+0.00048348\ttest-auc:0.912469+0.00963273\n",
      "[100]\ttrain-auc:0.996873+0.000468825\ttest-auc:0.912166+0.00959\n",
      "[110]\ttrain-auc:0.997877+0.00041123\ttest-auc:0.912822+0.00943599\n",
      "[120]\ttrain-auc:0.998471+0.000379697\ttest-auc:0.913241+0.00982651\n",
      "[130]\ttrain-auc:0.999007+0.000209424\ttest-auc:0.913611+0.00928907\n",
      "[140]\ttrain-auc:0.999343+0.000188145\ttest-auc:0.913712+0.00921958\n",
      "[150]\ttrain-auc:0.999573+0.000140878\ttest-auc:0.91347+0.00951492\n",
      "[160]\ttrain-auc:0.999711+0.000135337\ttest-auc:0.913499+0.00967921\n",
      "[170]\ttrain-auc:0.999816+0.000107176\ttest-auc:0.913024+0.00954295\n",
      "[180]\ttrain-auc:0.999885+6.21855e-05\ttest-auc:0.912447+0.00959128\n",
      "[190]\ttrain-auc:0.999932+4.89261e-05\ttest-auc:0.912257+0.00939771\n",
      "\n",
      "Model Report\n",
      "n_estimators:  144\n",
      "Training:\n",
      "Accuracy : 0.9859\n",
      "F1 Score : 0.836838\n",
      "AUC Score (Train): 0.998230\n",
      "Classification Report : \n",
      "             precision    recall  f1-score   support\n",
      "\n",
      "          0       0.99      1.00      0.99     15200\n",
      "          1       1.00      0.72      0.84       800\n",
      "\n",
      "avg / total       0.99      0.99      0.98     16000\n",
      "\n",
      "\n",
      "Testing: \n",
      "Accuracy : 0.965\n",
      "F1 Score : 0.513889\n",
      "AUC Score (Test): 0.921774\n",
      "Classification Report : \n",
      "             precision    recall  f1-score   support\n",
      "\n",
      "          0       0.97      1.00      0.98      3800\n",
      "          1       0.84      0.37      0.51       200\n",
      "\n",
      "avg / total       0.96      0.96      0.96      4000\n",
      "\n"
     ]
    },
    {
     "data": {
      "image/png": "[encoded data removed]",
      "text/plain": [
       "<matplotlib.figure.Figure at 0x34849c50>"
      ]
     },
     "metadata": {},
     "output_type": "display_data"
    }
   ],
   "source": [
    "# choose all predictors except target & IDcols\n",
    "# predictors = [x for x in train.columns if x not in [target]]\n",
    "xgb1 = XGBClassifier(learning_rate = 0.1,\n",
    "                    n_estimators=1000,\n",
    "                    max_depth=5,\n",
    "                    min_child_weight=1,\n",
    "                    gamma=0,\n",
    "                    subsample=0.9,\n",
    "                    colsample_bytree=0.9,\n",
    "                    objective='binary:logistic',\n",
    "                    nthread=4,\n",
    "                    scale_pos_weight=1,\n",
    "                    seed=27)\n",
    "feat_all_imp1 = modelfit(xgb1,df_train,df_test,predictors)"
   ]
  },
  {
   "cell_type": "code",
   "execution_count": 174,
   "metadata": {
    "collapsed": false
   },
   "outputs": [
    {
     "data": {
      "text/plain": [
       "公务员医疗补助基金支付金额_q2           2\n",
       "城乡救助补助金额_q3                2\n",
       "检查费发生金额_q3                 2\n",
       "every_period_15            2\n",
       "every_period_10            2\n",
       "医疗救助医院申请_q3                1\n",
       "药品费自费金额_q2                 1\n",
       "贵重药品发生金额_q3                1\n",
       "城乡救助补助金额_q2                1\n",
       "公务员医疗补助基金支付金额_sum          1\n",
       "治疗费自费金额_sum                1\n",
       "贵重检查费金额_mean               1\n",
       "手术费发生金额_sum                1\n",
       "补助审批金额_q2                  1\n",
       "every_min_period           1\n",
       "一次性医用材料申报金额_q2             1\n",
       "freq_hospital_186          1\n",
       "fee_shenbao_sum            1\n",
       "freq_trans_hospital_704    1\n",
       "freq_trans_hospital_170    1\n",
       "城乡救助补助金额_sum               1\n",
       "freq_trans_hospital_186    1\n",
       "医疗救助个人按比例负担金额_std          1\n",
       "freq_trans_hospital_189    1\n",
       "床位费申报金额_mean               1\n",
       "freq_trans_hospital_34     1\n",
       "freq_trans_hospital_567    1\n",
       "freq_trans_hospital_98     1\n",
       "三目统计项目_max                 1\n",
       "医疗救助个人按比例负担金额_q3           1\n",
       "床位费发生金额_std                1\n",
       "民政救助补助金额_sum               1\n",
       "民政救助补助金额_q3                1\n",
       "民政救助补助金额_q2                1\n",
       "检查费自费金额_sum                1\n",
       "医用材料费自费金额_std              1\n",
       "检查费自费金额_mean               1\n",
       "freq_trans_hospital_153    1\n",
       "freq_trans_hospital_141    1\n",
       "医疗救助医院申请_mean              1\n",
       "freq_hospital_185          1\n",
       "fee_zhifu_sum              1\n",
       "治疗费自费金额_mean               1\n",
       "freq_hospital_135          1\n",
       "freq_hospital_139          1\n",
       "freq_hospital_150          1\n",
       "freq_hospital_153          1\n",
       "freq_hospital_170          1\n",
       "freq_hospital_177          1\n",
       "freq_hospital_188          1\n",
       "freq_trans_hospital_139    1\n",
       "freq_hospital_190          1\n",
       "freq_hospital_24           1\n",
       "freq_hospital_5            1\n",
       "公务员医疗补助基金支付金额_mean         1\n",
       "freq_hospital_65           1\n",
       "freq_hospital_7            1\n",
       "freq_hospital_76           1\n",
       "freq_trans_hospital_111    1\n",
       "手术费发生金额_mean               1\n",
       "dtype: int64"
      ]
     },
     "execution_count": 174,
     "metadata": {},
     "output_type": "execute_result"
    }
   ],
   "source": [
    "feat_all_imp1[-60:]"
   ]
  },
  {
   "cell_type": "markdown",
   "metadata": {},
   "source": [
    "# 所有特征（去除重复）重要性排序2000+"
   ]
  },
  {
   "cell_type": "markdown",
   "metadata": {},
   "source": [
    "## 特征合并"
   ]
  },
  {
   "cell_type": "code",
   "execution_count": 176,
   "metadata": {
    "collapsed": false
   },
   "outputs": [],
   "source": [
    "df_disease_feat = pd.read_csv(\"df_disease_feat_train_clean.csv\",index_col='个人编码')\n",
    "df_service_feat = pd.read_csv(\"df_service_feat_train_clean.csv\",index_col='个人编码')\n",
    "df_service_stats_feat = pd.read_csv(\"feat_service_stats_train.csv\",index_col='个人编码')\n",
    "df_origin_feat_target = pd.read_csv(\"df_data_train_clean_sparse_latest.csv\",index_col=\"个人编码\")"
   ]
  },
  {
   "cell_type": "code",
   "execution_count": 178,
   "metadata": {
    "collapsed": true
   },
   "outputs": [],
   "source": [
    "pd.concat([df_origin_feat_target,\n",
    "          df_service_stats_feat,\n",
    "          df_service_feat,\n",
    "          df_disease_feat],axis=1).to_csv(\"total_feat_train.csv\")"
   ]
  },
  {
   "cell_type": "code",
   "execution_count": 179,
   "metadata": {
    "collapsed": true
   },
   "outputs": [],
   "source": [
    "del df_disease_feat\n",
    "del df_service_feat\n",
    "del df_service_stats_feat\n",
    "del df_origin_feat_target"
   ]
  },
  {
   "cell_type": "markdown",
   "metadata": {},
   "source": [
    "## 导入特征数据"
   ]
  },
  {
   "cell_type": "code",
   "execution_count": 180,
   "metadata": {
    "collapsed": true
   },
   "outputs": [],
   "source": [
    "df_train_test = pd.read_csv(\"total_feat_train.csv\",index_col=\"个人编码\")"
   ]
  },
  {
   "cell_type": "markdown",
   "metadata": {},
   "source": [
    "[\"service_未知\",\"disease_未知\",\"first_time\"],还有一些共线性特征[\"fee_shenbao\"]等"
   ]
  },
  {
   "cell_type": "code",
   "execution_count": 181,
   "metadata": {
    "collapsed": true
   },
   "outputs": [],
   "source": [
    "# 所有特征\n",
    "features = df_train_test.columns.difference(['target'])"
   ]
  },
  {
   "cell_type": "code",
   "execution_count": 182,
   "metadata": {
    "collapsed": false
   },
   "outputs": [
    {
     "data": {
      "text/plain": [
       "3716"
      ]
     },
     "execution_count": 182,
     "metadata": {},
     "output_type": "execute_result"
    }
   ],
   "source": [
    "features.size"
   ]
  },
  {
   "cell_type": "code",
   "execution_count": null,
   "metadata": {
    "collapsed": true
   },
   "outputs": [],
   "source": [
    "# 重复的只有间隔特征，所以只需要去除这个重复的即可\n",
    "period_predictors = features[features.str.startswith(\"every_period_\")]"
   ]
  },
  {
   "cell_type": "code",
   "execution_count": 185,
   "metadata": {
    "collapsed": true
   },
   "outputs": [],
   "source": [
    "dups = duplicate_columns(df_train_test[features])"
   ]
  },
  {
   "cell_type": "code",
   "execution_count": 186,
   "metadata": {
    "collapsed": false
   },
   "outputs": [
    {
     "data": {
      "text/plain": [
       "137"
      ]
     },
     "execution_count": 186,
     "metadata": {},
     "output_type": "execute_result"
    }
   ],
   "source": [
    "len(dups)"
   ]
  },
  {
   "cell_type": "code",
   "execution_count": 192,
   "metadata": {
    "collapsed": true
   },
   "outputs": [],
   "source": [
    "# 摈弃明显不合理的特征？ 需进一步分析\n",
    "predictors = features.difference(dups).difference([\"service_未知\",\"disease_未知\",\"first_time\"])\n",
    "target = 'target'"
   ]
  },
  {
   "cell_type": "code",
   "execution_count": 193,
   "metadata": {
    "collapsed": false
   },
   "outputs": [
    {
     "data": {
      "text/plain": [
       "3576"
      ]
     },
     "execution_count": 193,
     "metadata": {},
     "output_type": "execute_result"
    }
   ],
   "source": [
    "len(predictors)"
   ]
  },
  {
   "cell_type": "code",
   "execution_count": 195,
   "metadata": {
    "collapsed": true
   },
   "outputs": [],
   "source": [
    "df_train = df_train_test.iloc[idx_train,:]\n",
    "df_test = df_train_test.iloc[idx_test,:]"
   ]
  },
  {
   "cell_type": "code",
   "execution_count": 204,
   "metadata": {
    "collapsed": false
   },
   "outputs": [
    {
     "data": {
      "text/plain": [
       "(16000, 3717)"
      ]
     },
     "execution_count": 204,
     "metadata": {},
     "output_type": "execute_result"
    }
   ],
   "source": [
    "df_train.shape"
   ]
  },
  {
   "cell_type": "code",
   "execution_count": 206,
   "metadata": {
    "collapsed": false
   },
   "outputs": [
    {
     "data": {
      "text/plain": [
       "(16000, 3576)"
      ]
     },
     "execution_count": 206,
     "metadata": {},
     "output_type": "execute_result"
    }
   ],
   "source": [
    "df_train[predictors].shape"
   ]
  },
  {
   "cell_type": "code",
   "execution_count": 205,
   "metadata": {
    "collapsed": false
   },
   "outputs": [
    {
     "data": {
      "text/plain": [
       "3576"
      ]
     },
     "execution_count": 205,
     "metadata": {},
     "output_type": "execute_result"
    }
   ],
   "source": [
    "len(predictors)"
   ]
  },
  {
   "cell_type": "markdown",
   "metadata": {},
   "source": [
    "# Feature Importance"
   ]
  },
  {
   "cell_type": "code",
   "execution_count": 207,
   "metadata": {
    "collapsed": false
   },
   "outputs": [
    {
     "name": "stdout",
     "output_type": "stream",
     "text": [
      "[0]\ttrain-auc:0.819604+0.00893286\ttest-auc:0.803421+0.0214869\n",
      "[10]\ttrain-auc:0.903285+0.00150054\ttest-auc:0.871041+0.0169903\n",
      "[20]\ttrain-auc:0.94243+0.0036834\ttest-auc:0.89784+0.011439\n",
      "[30]\ttrain-auc:0.965368+0.00201575\ttest-auc:0.911322+0.00987173\n",
      "[40]\ttrain-auc:0.979749+0.00105845\ttest-auc:0.918356+0.00858119\n",
      "[50]\ttrain-auc:0.987306+0.000723525\ttest-auc:0.920742+0.00794641\n",
      "[60]\ttrain-auc:0.991488+0.000433094\ttest-auc:0.922781+0.00738036\n",
      "[70]\ttrain-auc:0.994038+0.000465527\ttest-auc:0.923548+0.00803613\n",
      "[80]\ttrain-auc:0.995964+0.000422456\ttest-auc:0.92442+0.0080138\n",
      "[90]\ttrain-auc:0.997228+0.0003684\ttest-auc:0.924306+0.00766118\n",
      "[100]\ttrain-auc:0.997992+0.000234011\ttest-auc:0.924711+0.00724851\n",
      "[110]\ttrain-auc:0.998719+0.000230989\ttest-auc:0.925413+0.00748931\n",
      "[120]\ttrain-auc:0.999161+0.000133855\ttest-auc:0.925447+0.00767473\n",
      "[130]\ttrain-auc:0.999445+0.000121515\ttest-auc:0.925419+0.00761161\n",
      "[140]\ttrain-auc:0.999658+0.0001054\ttest-auc:0.925004+0.00752932\n",
      "[150]\ttrain-auc:0.999817+5.91696e-05\ttest-auc:0.925439+0.00710027\n",
      "[160]\ttrain-auc:0.9999+3.95373e-05\ttest-auc:0.925061+0.00708709\n",
      "[170]\ttrain-auc:0.999941+3.14172e-05\ttest-auc:0.925235+0.00719769\n",
      "\n",
      "Model Report\n",
      "n_estimators:  125\n",
      "Training:\n",
      "Accuracy : 0.9868\n",
      "F1 Score : 0.848092\n",
      "AUC Score (Train): 0.998328\n",
      "Classification Report : \n",
      "             precision    recall  f1-score   support\n",
      "\n",
      "          0       0.99      1.00      0.99     15200\n",
      "          1       1.00      0.74      0.85       800\n",
      "\n",
      "avg / total       0.99      0.99      0.99     16000\n",
      "\n",
      "\n",
      "Testing: \n",
      "Accuracy : 0.9663\n",
      "F1 Score : 0.532872\n",
      "AUC Score (Test): 0.932430\n",
      "Classification Report : \n",
      "             precision    recall  f1-score   support\n",
      "\n",
      "          0       0.97      1.00      0.98      3800\n",
      "          1       0.87      0.39      0.53       200\n",
      "\n",
      "avg / total       0.96      0.97      0.96      4000\n",
      "\n"
     ]
    },
    {
     "data": {
      "image/png": "[encoded data removed]",
      "text/plain": [
       "<matplotlib.figure.Figure at 0x9627f98>"
      ]
     },
     "metadata": {},
     "output_type": "display_data"
    }
   ],
   "source": [
    "# choose all predictors except target & IDcols\n",
    "# predictors = [x for x in train.columns if x not in [target]]\n",
    "xgb1 = XGBClassifier(learning_rate = 0.1,\n",
    "                    n_estimators=1000,\n",
    "                    max_depth=5,\n",
    "                    min_child_weight=1,\n",
    "                    gamma=0,\n",
    "                    subsample=0.9,\n",
    "                    colsample_bytree=1,\n",
    "                    objective='binary:logistic',\n",
    "                    nthread=4,\n",
    "                    scale_pos_weight=1,\n",
    "                    seed=27)\n",
    "feat_all_imp1 = modelfit(xgb1,df_train,df_test,predictors)"
   ]
  },
  {
   "cell_type": "code",
   "execution_count": 209,
   "metadata": {
    "collapsed": false
   },
   "outputs": [
    {
     "data": {
      "text/plain": [
       "331"
      ]
     },
     "execution_count": 209,
     "metadata": {},
     "output_type": "execute_result"
    }
   ],
   "source": [
    "feat_all_imp1.size"
   ]
  },
  {
   "cell_type": "markdown",
   "metadata": {},
   "source": [
    "# 总结分析"
   ]
  },
  {
   "cell_type": "markdown",
   "metadata": {},
   "source": [
    "**现有特征文件**（训练数据与测试数据共有的特征）    \n",
    "- df_data_train_clean_sparse_latest.csv（包括各款项金额特征，基于时间的用户行为特征）有target；有稀疏特征：\n",
    "    - freq_hospital_xx\n",
    "    - freq_trans_xx\n",
    "    - every_period_xx\n",
    "- df_service_feat_train.csv（三目服务特征）无target；稀疏\n",
    "- df_disease_feat_train.csv（出院病种诊断特征）无target；稀疏\n",
    "- feat_service_stats_train.csv（服务费用，数量统计特征）无target"
   ]
  }
 ],
 "metadata": {
  "kernelspec": {
   "display_name": "Python 2",
   "language": "python",
   "name": "python2"
  },
  "language_info": {
   "codemirror_mode": {
    "name": "ipython",
    "version": 2
   },
   "file_extension": ".py",
   "mimetype": "text/x-python",
   "name": "python",
   "nbconvert_exporter": "python",
   "pygments_lexer": "ipython2",
   "version": "2.7.13"
  },
  "toc": {
   "colors": {
    "hover_highlight": "#DAA520",
    "navigate_num": "#000000",
    "navigate_text": "#333333",
    "running_highlight": "#FF0000",
    "selected_highlight": "#FFD700",
    "sidebar_border": "#EEEEEE",
    "wrapper_background": "#FFFFFF"
   },
   "moveMenuLeft": true,
   "nav_menu": {
    "height": "512px",
    "width": "252px"
   },
   "navigate_menu": true,
   "number_sections": true,
   "sideBar": true,
   "threshold": 4,
   "toc_cell": false,
   "toc_position": {
    "height": "406px",
    "left": "0px",
    "right": "905.2px",
    "top": "106px",
    "width": "142px"
   },
   "toc_section_display": "block",
   "toc_window_display": true,
   "widenNotebook": false
  }
 },
 "nbformat": 4,
 "nbformat_minor": 2
}
