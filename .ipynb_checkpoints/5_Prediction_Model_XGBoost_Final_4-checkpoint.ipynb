{
 "cells": [
  {
   "cell_type": "markdown",
   "metadata": {},
   "source": [
    "[Article](https://www.analyticsvidhya.com/blog/2016/03/complete-guide-parameter-tuning-xgboost-with-codes-python/)\n",
    "# Parameters in XGBoost\n",
    "**参数分为3类**：\n",
    "1. **General Parameters**: Guide the overall functioning  \n",
    "2. **Booster Parameters**: Guide the individual booster (tree/regerssion) at each step\n",
    "3. **Learning Task Parameters**: Guide the optimization performed\n",
    "\n",
    "**General Parameters**\n",
    "These define the overall functionality of XGBoost.\n",
    "1. **booster [default=gbtree]**\n",
    "    - Select the type model to run at each iteration. Two options:\n",
    "        * gbtree: tree-based models\n",
    "        * gblinear: linear models  \n",
    "2. **silent [default=0]**  \n",
    "    - Silent mode is activated is set to 1, i.e. no runing messages will be printed  \n",
    "    - **It is generally good to keep it 0, as the messages might help in understanding the model.** \n",
    "3. **nthread [default to maximum number of threads available if not set]**\n",
    "\n",
    "**Booster Parameters** (tree booster)\n",
    "1. **eta [default=0.3]**\n",
    "    - 类似于GBM中的学习率\n",
    "    - 通过减少每一迭代步的权重（学习率）使得模型更加鲁棒\n",
    "    - 经验最佳取值范围[0.01,0.2]\n",
    "2. **min_child_weight [default=1]**\n",
    "    - 限定叶子节点中所划分到的各样本权值和的最小值\n",
    "    - 类似于GBM中参数min_child_leaf. 但XGBoost中指的是叶子节点中样本的权重和，GBM中指的是叶子节点中最小样本数量\n",
    "    - 用于控制过拟合,取值增大过拟合可能性降低; 取值过大，会导致欠拟合. 通过CV获取最佳参数\n",
    "3. **max_depth [defalut=6]**\n",
    "    - 树的最大深度\n",
    "    - 用于控制过拟合，取值增大过拟合可能性降低\n",
    "    - 通过CV获取最佳参数. 经验最佳取值3-10\n",
    "4. **max_leaf_nodes**\n",
    "    - 树的最大叶节点数量\n",
    "    - 可与参数max_depth相互替代（给定二叉树深度n, 叶节点数目为$2^n$)\n",
    "    - 定义最大叶节点数参数,XGBoost将会忽略最大深度参数\n",
    "5. **gamma [default=0]**\n",
    "    - 在树的某节点处是否对数据进行划分的基本准则是划分后损失函数减小, 而gamma规定了划分后损失函数的最小减小量\n",
    "    - 该参数使得模型趋于保守. 参数值的变化依赖于特定的损失函数.\n",
    "6. **max_delta_step [default=0]**\n",
    "    - In maximum delta step we allow each tree’s weight estimation to be. If the value is set to 0, it means there is no constraint. If it is set to a positive value, it can help making the update step more conservative\n",
    "    - 通常这个参数不必设置, 但采用logistic regression处理类别极不平衡分类问题时,该参数可能有用\n",
    "    - [ ] 不太懂???\n",
    "7. **subsample [default=1]**\n",
    "    - 用于每一个棵树训练的随机子样本数量\n",
    "    - 较小值使模型更保守，防止过拟合;过小导致欠拟合\n",
    "    - 经验最佳取值: 0.5-1\n",
    "8. **colsample_bytree [default=1]**\n",
    "    - 用于每一个树训练的最大特征子集\n",
    "    - 经验最佳取值: 0.5-1\n",
    "9. **colsample_bylevel [default=1]**\n",
    "    - 用于树分支节点划分数据集的备选特征子集\n",
    "    - 不常使用，因为subsample, colsample_bytree参数包含此功能\n",
    "10. **lambda [default=1]**\n",
    "    - L2正则化参数\n",
    "    - 许多数据科学家不调节该参数\n",
    "11. **alpha [default=0]**\n",
    "    - L1正则化参数\n",
    "    - 在特征维度很高时使用，可以加快算法的运行速度\n",
    "12. **scale_pos_weight [default=1]**\n",
    "    - 在类别不平衡问题中使用，可能会加快算法的收敛\n",
    "13. **num_boosting_rounds**\n",
    "    - 定义树的棵树\n",
    "    \n",
    "**Learning Task Parameters**  \n",
    "通常定义优化目标函数\n",
    "1. **objective [default=reg:linear]**\n",
    "    - 定义损失函数,常用的参数：\n",
    "        * **binary:logistic** -logistic regression for binary classification, return **predicted probability** (not class)\n",
    "        * **multi:softmax** -multiclass classification using the softmax objective, returns **predicted class** (not probabilities)\n",
    "            - 还要设置类别数num_class\n",
    "        * **multi:softprob** -same as softmax, but returns predicted probability of each sample belonging to each class\n",
    "2. **eval_metric [default according to objective]**\n",
    "    - 用于学习算法评估的测量函数\n",
    "    - 对于回归问题默认为rmse,对于分类问题默认为错分类error\n",
    "    - 可以设置为：\n",
    "        * **rmse** -root mean square error\n",
    "        * **mae** -mean absolute error\n",
    "        * **logloss** -negative log-likehood\n",
    "        * **error** - binary classification error rate\n",
    "        * **merror** - multiclass classification error rate\n",
    "        * **mlogloss** -muliclass logloss\n",
    "        * **auc** -area under the curve\n",
    "3. **seed [default=0]**  \n",
    "    -随机种子，用于产生可重复的结果\n",
    "    \n",
    "**xgboost module in python has an sklearn wrapper: XGBClassifier.**  \n",
    "参数名称对应为：  \n",
    "1. eta -> learing_rate\n",
    "2. lambda -> reg_lambda\n",
    "3. alpha -> reg_alpha\n",
    "\n",
    "详细说明可进一步参考：   \n",
    "[XGBoost Parameters (official guide)](http://xgboost.readthedocs.io/en/latest/parameter.html#general-parameters)  \n",
    "[XGBoost Demo Codes (xgboost GitHub repository)](https://github.com/dmlc/xgboost/tree/master/demo/guide-python)  \n",
    "[Python API Reference (official guide)](http://xgboost.readthedocs.io/en/latest/python/python_api.html#module-xgboost.sklearn)  "
   ]
  },
  {
   "cell_type": "markdown",
   "metadata": {},
   "source": []
  },
  {
   "cell_type": "markdown",
   "metadata": {},
   "source": [
    "#  Fraud Detection"
   ]
  },
  {
   "cell_type": "markdown",
   "metadata": {},
   "source": [
    "## Import libraries"
   ]
  },
  {
   "cell_type": "code",
   "execution_count": 1,
   "metadata": {
    "collapsed": false
   },
   "outputs": [
    {
     "name": "stderr",
     "output_type": "stream",
     "text": [
      "D:\\Program Files\\Anaconda\\lib\\site-packages\\sklearn\\cross_validation.py:44: DeprecationWarning: This module was deprecated in version 0.18 in favor of the model_selection module into which all the refactored classes and functions are moved. Also note that the interface of the new CV iterators are different from that of this module. This module will be removed in 0.20.\n",
      "  \"This module will be removed in 0.20.\", DeprecationWarning)\n",
      "D:\\Program Files\\Anaconda\\lib\\site-packages\\sklearn\\grid_search.py:43: DeprecationWarning: This module was deprecated in version 0.18 in favor of the model_selection module into which all the refactored classes and functions are moved. This module will be removed in 0.20.\n",
      "  DeprecationWarning)\n"
     ]
    }
   ],
   "source": [
    "# Import libraries:\n",
    "import pandas as pd\n",
    "import numpy as np\n",
    "import xgboost as xgb\n",
    "from xgboost.sklearn import XGBClassifier\n",
    "from sklearn import cross_validation, metrics\n",
    "from sklearn.grid_search import GridSearchCV\n",
    "\n",
    "import matplotlib.pyplot as plt\n",
    "%matplotlib inline\n",
    "from matplotlib.pylab import rcParams\n",
    "rcParams['figure.figsize'] = 12,4\n",
    "\n",
    "# 为显示中文\n",
    "from pylab import *  \n",
    "mpl.rcParams['font.sans-serif'] = ['SimHei']"
   ]
  },
  {
   "cell_type": "markdown",
   "metadata": {},
   "source": [
    "## Load data"
   ]
  },
  {
   "cell_type": "code",
   "execution_count": 2,
   "metadata": {
    "collapsed": false
   },
   "outputs": [],
   "source": [
    "# all the features with target\n",
    "df_train = pd.read_csv(\"total_feat_train.csv\",index_col=\"个人编码\")"
   ]
  },
  {
   "cell_type": "code",
   "execution_count": 3,
   "metadata": {
    "collapsed": false
   },
   "outputs": [],
   "source": [
    "# 所有特征\n",
    "features = df_train.columns.difference(['target'])"
   ]
  },
  {
   "cell_type": "code",
   "execution_count": 4,
   "metadata": {
    "collapsed": false
   },
   "outputs": [
    {
     "data": {
      "text/plain": [
       "3716"
      ]
     },
     "execution_count": 4,
     "metadata": {},
     "output_type": "execute_result"
    }
   ],
   "source": [
    "features.size"
   ]
  },
  {
   "cell_type": "markdown",
   "metadata": {},
   "source": [
    "### Feature Selection"
   ]
  },
  {
   "cell_type": "code",
   "execution_count": 4,
   "metadata": {
    "collapsed": false
   },
   "outputs": [],
   "source": [
    "model1_feat = pd.read_csv(\"model1_features.csv\",index_col=0).index.unique()\n",
    "model1_feat_apply = pd.read_csv(\"model1_feat_imp.csv\",index_col=0,header=None).index\n",
    "model2_feat = pd.read_csv(\"model2_features.csv\",header=None).set_index(1).index.unique()\n",
    "model2_feat_apply = pd.read_csv(\"model2_feat_imp.csv\",index_col=0,header=None).index"
   ]
  },
  {
   "cell_type": "code",
   "execution_count": 5,
   "metadata": {
    "collapsed": false
   },
   "outputs": [],
   "source": [
    "predictors = model1_feat.union(model2_feat)"
   ]
  },
  {
   "cell_type": "code",
   "execution_count": 6,
   "metadata": {
    "collapsed": false
   },
   "outputs": [
    {
     "data": {
      "text/plain": [
       "923"
      ]
     },
     "execution_count": 6,
     "metadata": {},
     "output_type": "execute_result"
    }
   ],
   "source": [
    "predictors.size"
   ]
  },
  {
   "cell_type": "code",
   "execution_count": 7,
   "metadata": {
    "collapsed": false
   },
   "outputs": [
    {
     "data": {
      "text/plain": [
       "Index([u'first_time'], dtype='object')"
      ]
     },
     "execution_count": 7,
     "metadata": {},
     "output_type": "execute_result"
    }
   ],
   "source": [
    "predictors[predictors == 'first_time']"
   ]
  },
  {
   "cell_type": "code",
   "execution_count": 4,
   "metadata": {
    "collapsed": true
   },
   "outputs": [],
   "source": [
    "# 去掉新特征fee_xx\n",
    "#fee_features =['fee_fasheng_sum','fee_fasheng_mean','fee_shenbao_sum','fee_shenbao_mean',\\\n",
    "#               'fee_zifei_sum','fee_zifei_mean','fee_buzhu_sum','fee_buzhu_mean',\\\n",
    "#              'fee_zhifu_sum','fee_zhifu_mean','fee_fasheng_shenbao']\n",
    "#df_train = df_train.drop(fee_features,axis=1)"
   ]
  },
  {
   "cell_type": "code",
   "execution_count": 8,
   "metadata": {
    "collapsed": false
   },
   "outputs": [],
   "source": [
    "# 去除重复特征\n",
    "def duplicate_columns(frame):\n",
    "    groups = frame.columns.to_series().groupby(frame.dtypes).groups\n",
    "    dups = []\n",
    "    for t, v in groups.items():\n",
    "        dcols = frame[v].to_dict(orient=\"list\")\n",
    "\n",
    "        vs = dcols.values()\n",
    "        ks = dcols.keys()\n",
    "        lvs = len(vs)\n",
    "\n",
    "        for i in range(lvs):\n",
    "            for j in range(i+1,lvs):\n",
    "                if vs[i] == vs[j]: \n",
    "                    dups.append(ks[i])\n",
    "                    break\n",
    "\n",
    "    return dups\n",
    "\n",
    "dups = duplicate_columns(df_train[predictors])"
   ]
  },
  {
   "cell_type": "code",
   "execution_count": 9,
   "metadata": {
    "collapsed": false
   },
   "outputs": [],
   "source": [
    "predictors = predictors.difference(dups)"
   ]
  },
  {
   "cell_type": "code",
   "execution_count": 10,
   "metadata": {
    "collapsed": false
   },
   "outputs": [
    {
     "data": {
      "text/plain": [
       "897"
      ]
     },
     "execution_count": 10,
     "metadata": {},
     "output_type": "execute_result"
    }
   ],
   "source": [
    "predictors.size"
   ]
  },
  {
   "cell_type": "code",
   "execution_count": 11,
   "metadata": {
    "collapsed": true
   },
   "outputs": [],
   "source": [
    "predictors = predictors.difference([\"first_time\"])"
   ]
  },
  {
   "cell_type": "code",
   "execution_count": 12,
   "metadata": {
    "collapsed": false
   },
   "outputs": [
    {
     "data": {
      "text/plain": [
       "(20000, 896)"
      ]
     },
     "execution_count": 12,
     "metadata": {},
     "output_type": "execute_result"
    }
   ],
   "source": [
    "df_train[predictors].shape"
   ]
  },
  {
   "cell_type": "code",
   "execution_count": 13,
   "metadata": {
    "collapsed": false
   },
   "outputs": [],
   "source": [
    "target = 'target'"
   ]
  },
  {
   "cell_type": "code",
   "execution_count": 13,
   "metadata": {
    "collapsed": false
   },
   "outputs": [
    {
     "data": {
      "text/plain": [
       "0    19000\n",
       "1     1000\n",
       "Name: target, dtype: int64"
      ]
     },
     "execution_count": 13,
     "metadata": {},
     "output_type": "execute_result"
    }
   ],
   "source": [
    "df_train['target'].value_counts()"
   ]
  },
  {
   "cell_type": "markdown",
   "metadata": {},
   "source": [
    "## Define a function for modeling and cross-validation"
   ]
  },
  {
   "cell_type": "code",
   "execution_count": 14,
   "metadata": {
    "collapsed": false
   },
   "outputs": [],
   "source": [
    "def modelfit(alg, dtrain, predictors, useTrainCV=True, cv_folds=5, early_stopping_rounds=50):\n",
    "    '''  '''\n",
    "    if useTrainCV:  # 使用交叉验证选取最佳树棵树\n",
    "        xgb_param = alg.get_xgb_params()\n",
    "        xgtrain = xgb.DMatrix(dtrain[predictors].values, label=dtrain[target].values)\n",
    "        cvresult = xgb.cv(xgb_param, xgtrain, num_boost_round=alg.get_params()['n_estimators'],\\\n",
    "                          nfold=cv_folds,metrics='auc',early_stopping_rounds=early_stopping_rounds,verbose_eval=5)\n",
    "        alg.set_params(n_estimators=cvresult.shape[0])\n",
    "\n",
    "        \n",
    "    # fit the algorithm on the data:\n",
    "    alg.fit(dtrain[predictors], dtrain[target],eval_metric='auc')\n",
    "    \n",
    "    # predict training set:\n",
    "    dtrain_predictions = alg.predict(dtrain[predictors])\n",
    "    dtrain_predprob = alg.predict_proba(dtrain[predictors])[:,1]\n",
    "    \n",
    "    # print model report:\n",
    "    print \"\\nModel Report\"\n",
    "    print 'n_estimators: ',cvresult.shape[0]\n",
    "    print \"Training:\"\n",
    "    print \"Accuracy : %.4g\" % metrics.accuracy_score(dtrain[target], dtrain_predictions)\n",
    "    print \"F1 Score : %f\" % metrics.f1_score(dtrain[target],dtrain_predictions)\n",
    "    print \"AUC Score (Train): %f\" % metrics.roc_auc_score(dtrain[target],dtrain_predprob)\n",
    "    print \"Classification Report : \\n\", metrics.classification_report(dtrain[target],dtrain_predictions)\n",
    "    print \"\"\n",
    "       \n",
    "    feat_imp = pd.Series(alg.booster().get_fscore()).sort_values(ascending=False)\n",
    "    feat_imp[0:60].plot(kind='bar', title='Feature Importance')\n",
    "    plt.ylabel('Feature Importance Score')\n",
    "    \n",
    "    return feat_imp"
   ]
  },
  {
   "cell_type": "markdown",
   "metadata": {},
   "source": [
    "## Step 1-Find the number of estimators for a high learning rate\n",
    "**General Approach for Parameter Tuning**  \n",
    "- **step 1**: 选择一个相对较大的学习率learning_rate. 通常选取0.1，或者在0.05-0.3间. 在给定学习率下，通过xgboost提供的cv函数确定最优的树的数量\n",
    "- **step 2**: 在给定学习率，数的棵树下，调节关于树的参数(max_depth, min_child_weight, gamma, subsample, colsample_bytree)\n",
    "- **step 3**：然后，调节正则化参数(lambda,alpha),以减小模型复杂度、提高性能\n",
    "- **step 4**：减小学习率，确定最优参数"
   ]
  },
  {
   "cell_type": "code",
   "execution_count": 15,
   "metadata": {
    "collapsed": false
   },
   "outputs": [
    {
     "name": "stdout",
     "output_type": "stream",
     "text": [
      "[0]\ttrain-auc:0.850068+0.00779825\ttest-auc:0.82059+0.00769195\n",
      "[5]\ttrain-auc:0.918033+0.0052131\ttest-auc:0.884504+0.00849163\n",
      "[10]\ttrain-auc:0.936329+0.00391594\ttest-auc:0.898936+0.00782127\n",
      "[15]\ttrain-auc:0.950294+0.00247617\ttest-auc:0.905885+0.00770307\n",
      "[20]\ttrain-auc:0.960951+0.00174808\ttest-auc:0.910713+0.00593877\n",
      "[25]\ttrain-auc:0.967795+0.000950659\ttest-auc:0.916151+0.00607883\n",
      "[30]\ttrain-auc:0.974435+0.000547254\ttest-auc:0.919808+0.00615923\n",
      "[35]\ttrain-auc:0.97991+0.000330717\ttest-auc:0.922951+0.00632269\n",
      "[40]\ttrain-auc:0.983962+0.000267024\ttest-auc:0.923744+0.00602565\n",
      "[45]\ttrain-auc:0.987343+0.000369244\ttest-auc:0.92514+0.00649928\n",
      "[50]\ttrain-auc:0.990075+0.000413518\ttest-auc:0.926686+0.00600722\n",
      "[55]\ttrain-auc:0.99213+0.000319555\ttest-auc:0.927488+0.00573197\n",
      "[60]\ttrain-auc:0.993641+0.000320915\ttest-auc:0.92837+0.00540577\n",
      "[65]\ttrain-auc:0.994782+0.000339177\ttest-auc:0.929113+0.00509156\n",
      "[70]\ttrain-auc:0.995629+0.000378358\ttest-auc:0.929553+0.00502545\n",
      "[75]\ttrain-auc:0.996423+0.000153045\ttest-auc:0.92972+0.00494849\n",
      "[80]\ttrain-auc:0.997087+0.000194852\ttest-auc:0.929619+0.00487131\n",
      "[85]\ttrain-auc:0.997614+0.000225138\ttest-auc:0.929765+0.00465451\n",
      "[90]\ttrain-auc:0.997985+0.000263186\ttest-auc:0.929757+0.00496027\n",
      "[95]\ttrain-auc:0.998397+0.000139828\ttest-auc:0.929843+0.0047191\n",
      "[100]\ttrain-auc:0.998709+0.000138582\ttest-auc:0.929933+0.00472246\n",
      "[105]\ttrain-auc:0.998995+0.000151701\ttest-auc:0.929856+0.00464943\n",
      "[110]\ttrain-auc:0.999202+0.00011948\ttest-auc:0.929692+0.00488216\n",
      "[115]\ttrain-auc:0.999368+0.000109899\ttest-auc:0.930103+0.00500955\n",
      "[120]\ttrain-auc:0.999486+0.000115797\ttest-auc:0.93003+0.00479604\n",
      "[125]\ttrain-auc:0.999621+8.94195e-05\ttest-auc:0.930037+0.00470254\n",
      "[130]\ttrain-auc:0.999711+7.08604e-05\ttest-auc:0.929855+0.00489704\n",
      "[135]\ttrain-auc:0.999777+6.2384e-05\ttest-auc:0.930354+0.00538765\n",
      "[140]\ttrain-auc:0.999832+5.03126e-05\ttest-auc:0.930196+0.00530703\n",
      "[145]\ttrain-auc:0.999871+4.31045e-05\ttest-auc:0.929965+0.00566525\n",
      "[150]\ttrain-auc:0.999902+3.44128e-05\ttest-auc:0.929916+0.00588866\n",
      "[155]\ttrain-auc:0.999929+3.13075e-05\ttest-auc:0.930059+0.00573216\n",
      "[160]\ttrain-auc:0.999947+2.80214e-05\ttest-auc:0.929999+0.00530479\n",
      "[165]\ttrain-auc:0.99996+2.45145e-05\ttest-auc:0.929984+0.00534947\n",
      "[170]\ttrain-auc:0.99997+2.08269e-05\ttest-auc:0.929974+0.00507471\n",
      "[175]\ttrain-auc:0.999977+1.74746e-05\ttest-auc:0.930112+0.00508519\n",
      "[180]\ttrain-auc:0.999984+1.35204e-05\ttest-auc:0.929757+0.00512345\n",
      "[185]\ttrain-auc:0.999989+9.93982e-06\ttest-auc:0.929698+0.00484049\n",
      "\n",
      "Model Report\n",
      "n_estimators:  137\n",
      "Training:\n",
      "Accuracy : 0.9922\n",
      "F1 Score : 0.915401\n",
      "AUC Score (Train): 0.999390\n",
      "Classification Report : \n",
      "             precision    recall  f1-score   support\n",
      "\n",
      "          0       0.99      1.00      1.00     19000\n",
      "          1       1.00      0.84      0.92      1000\n",
      "\n",
      "avg / total       0.99      0.99      0.99     20000\n",
      "\n",
      "\n"
     ]
    },
    {
     "data": {
      "image/png": "[encoded data removed]",
      "text/plain": [
       "<matplotlib.figure.Figure at 0xb76c860>"
      ]
     },
     "metadata": {},
     "output_type": "display_data"
    }
   ],
   "source": [
    "# choose all predictors except target & IDcols\n",
    "# predictors = [x for x in train.columns if x not in [target]]\n",
    "xgb1 = XGBClassifier(learning_rate = 0.1,\n",
    "                    n_estimators=1000,\n",
    "                    max_depth=7,\n",
    "                    min_child_weight=5,\n",
    "                    gamma=0,\n",
    "                    subsample=0.9,\n",
    "                    colsample_bytree=0.6,\n",
    "                    objective='binary:logistic',\n",
    "                    nthread=4,\n",
    "                    scale_pos_weight=1,\n",
    "                    seed=27)\n",
    "feat_imp = modelfit(xgb1,df_train,predictors)"
   ]
  },
  {
   "cell_type": "code",
   "execution_count": 16,
   "metadata": {
    "collapsed": false
   },
   "outputs": [
    {
     "data": {
      "text/plain": [
       "896"
      ]
     },
     "execution_count": 16,
     "metadata": {},
     "output_type": "execute_result"
    }
   ],
   "source": [
    "predictors.size"
   ]
  },
  {
   "cell_type": "code",
   "execution_count": 21,
   "metadata": {
    "collapsed": false
   },
   "outputs": [
    {
     "data": {
      "text/plain": [
       "fee_zifei_mean         31\n",
       "fee_fasheng_mean       27\n",
       "fee_fasheng_shenbao    19\n",
       "fee_zhifu_mean         10\n",
       "fee_fasheng_sum        10\n",
       "fee_shenbao_mean        8\n",
       "fee_shenbao_sum         7\n",
       "fee_zifei_sum           7\n",
       "fee_zhifu_sum           4\n",
       "fee_buzhu_mean          2\n",
       "dtype: int64"
      ]
     },
     "execution_count": 21,
     "metadata": {},
     "output_type": "execute_result"
    }
   ],
   "source": [
    "feat_imp[feat_imp.index.str.startswith(\"fee_\")]"
   ]
  },
  {
   "cell_type": "code",
   "execution_count": 19,
   "metadata": {
    "collapsed": false
   },
   "outputs": [
    {
     "data": {
      "text/plain": [
       "10"
      ]
     },
     "execution_count": 19,
     "metadata": {},
     "output_type": "execute_result"
    }
   ],
   "source": []
  },
  {
   "cell_type": "markdown",
   "metadata": {},
   "source": [
    "## step 2-Tune max_depth and min_child_weight"
   ]
  },
  {
   "cell_type": "code",
   "execution_count": 20,
   "metadata": {
    "collapsed": false
   },
   "outputs": [
    {
     "data": {
      "text/plain": [
       "GridSearchCV(cv=5, error_score='raise',\n",
       "       estimator=XGBClassifier(base_score=0.5, colsample_bylevel=1, colsample_bytree=0.7,\n",
       "       gamma=0, learning_rate=0.1, max_delta_step=0, max_depth=5,\n",
       "       min_child_weight=1, missing=None, n_estimators=85, nthread=4,\n",
       "       objective='binary:logistic', reg_alpha=0, reg_lambda=1,\n",
       "       scale_pos_weight=1, seed=27, silent=True, subsample=0.8),\n",
       "       fit_params={}, iid=False, n_jobs=4,\n",
       "       param_grid={'max_depth': [3, 5, 7, 9], 'min_child_weight': [1, 3, 5]},\n",
       "       pre_dispatch='2*n_jobs', refit=True, scoring='roc_auc', verbose=0)"
      ]
     },
     "execution_count": 20,
     "metadata": {},
     "output_type": "execute_result"
    }
   ],
   "source": [
    "#Grid seach on subsample and max_features\n",
    "#Choose all predictors except target & IDcols\n",
    "param_test1 = {\n",
    "    'max_depth':range(3,10,2),\n",
    "    'min_child_weight':range(1,6,2)\n",
    "}\n",
    "gsearch1 = GridSearchCV(estimator = XGBClassifier( learning_rate = 0.1,\n",
    "                    n_estimators=85,\n",
    "                    max_depth=5,\n",
    "                    min_child_weight=1,\n",
    "                    gamma=0,\n",
    "                    subsample=0.8,\n",
    "                    colsample_bytree=0.7,\n",
    "                    objective='binary:logistic',\n",
    "                    nthread=4,\n",
    "                    scale_pos_weight=1,\n",
    "                    seed=27), \n",
    "                       param_grid = param_test1, scoring='roc_auc',n_jobs=4,iid=False, cv=5)\n",
    "gsearch1.fit(df_train[predictors],df_train[target])"
   ]
  },
  {
   "cell_type": "code",
   "execution_count": 21,
   "metadata": {
    "collapsed": false
   },
   "outputs": [
    {
     "data": {
      "text/plain": [
       "([mean: 0.92123, std: 0.00595, params: {'max_depth': 3, 'min_child_weight': 1},\n",
       "  mean: 0.92183, std: 0.00555, params: {'max_depth': 3, 'min_child_weight': 3},\n",
       "  mean: 0.92012, std: 0.00571, params: {'max_depth': 3, 'min_child_weight': 5},\n",
       "  mean: 0.92666, std: 0.00366, params: {'max_depth': 5, 'min_child_weight': 1},\n",
       "  mean: 0.92457, std: 0.00427, params: {'max_depth': 5, 'min_child_weight': 3},\n",
       "  mean: 0.92613, std: 0.00735, params: {'max_depth': 5, 'min_child_weight': 5},\n",
       "  mean: 0.92860, std: 0.00522, params: {'max_depth': 7, 'min_child_weight': 1},\n",
       "  mean: 0.92651, std: 0.00537, params: {'max_depth': 7, 'min_child_weight': 3},\n",
       "  mean: 0.92877, std: 0.00545, params: {'max_depth': 7, 'min_child_weight': 5},\n",
       "  mean: 0.92690, std: 0.00577, params: {'max_depth': 9, 'min_child_weight': 1},\n",
       "  mean: 0.92834, std: 0.00437, params: {'max_depth': 9, 'min_child_weight': 3},\n",
       "  mean: 0.92782, std: 0.00682, params: {'max_depth': 9, 'min_child_weight': 5}],\n",
       " {'max_depth': 7, 'min_child_weight': 5},\n",
       " 0.9287715789473683)"
      ]
     },
     "execution_count": 21,
     "metadata": {},
     "output_type": "execute_result"
    }
   ],
   "source": [
    "gsearch1.grid_scores_, gsearch1.best_params_, gsearch1.best_score_"
   ]
  },
  {
   "cell_type": "code",
   "execution_count": 22,
   "metadata": {
    "collapsed": false
   },
   "outputs": [
    {
     "name": "stdout",
     "output_type": "stream",
     "text": [
      "Total Time Cost:  -25.5910166661 min.\n"
     ]
    }
   ],
   "source": [
    "#Grid seach on subsample and max_features\n",
    "import time \n",
    "time_start = time.time()\n",
    "\n",
    "param_test2 = {\n",
    "    'max_depth':[6,7,8],\n",
    "    'min_child_weight':[4,5,6]\n",
    "}\n",
    "gsearch2 = GridSearchCV(estimator = XGBClassifier( learning_rate = 0.1,\n",
    "                    n_estimators=85,\n",
    "                    max_depth=5,\n",
    "                    min_child_weight=1,\n",
    "                    gamma=0,\n",
    "                    subsample=0.8,\n",
    "                    colsample_bytree=0.7,\n",
    "                    objective='binary:logistic',\n",
    "                    nthread=4,\n",
    "                    scale_pos_weight=1,\n",
    "                    seed=27), \n",
    "                       param_grid = param_test2, scoring='roc_auc',n_jobs=4,iid=False, cv=5)\n",
    "gsearch2.fit(df_train[predictors],df_train[target])\n",
    "\n",
    "time_end = time.time()\n",
    "print \"Total Time Cost: \",(time_end-time_start)/60.,\"min.\""
   ]
  },
  {
   "cell_type": "code",
   "execution_count": 23,
   "metadata": {
    "collapsed": false
   },
   "outputs": [
    {
     "data": {
      "text/plain": [
       "([mean: 0.92440, std: 0.00551, params: {'max_depth': 6, 'min_child_weight': 4},\n",
       "  mean: 0.92570, std: 0.00529, params: {'max_depth': 6, 'min_child_weight': 5},\n",
       "  mean: 0.92670, std: 0.00556, params: {'max_depth': 6, 'min_child_weight': 6},\n",
       "  mean: 0.92722, std: 0.00690, params: {'max_depth': 7, 'min_child_weight': 4},\n",
       "  mean: 0.92877, std: 0.00545, params: {'max_depth': 7, 'min_child_weight': 5},\n",
       "  mean: 0.92565, std: 0.00529, params: {'max_depth': 7, 'min_child_weight': 6},\n",
       "  mean: 0.92738, std: 0.00403, params: {'max_depth': 8, 'min_child_weight': 4},\n",
       "  mean: 0.92810, std: 0.00556, params: {'max_depth': 8, 'min_child_weight': 5},\n",
       "  mean: 0.92695, std: 0.00411, params: {'max_depth': 8, 'min_child_weight': 6}],\n",
       " {'max_depth': 7, 'min_child_weight': 5},\n",
       " 0.9287715789473683)"
      ]
     },
     "execution_count": 23,
     "metadata": {},
     "output_type": "execute_result"
    }
   ],
   "source": [
    "gsearch2.grid_scores_, gsearch2.best_params_, gsearch2.best_score_"
   ]
  },
  {
   "cell_type": "markdown",
   "metadata": {},
   "source": [
    "## step 3-Tune gamma"
   ]
  },
  {
   "cell_type": "code",
   "execution_count": 24,
   "metadata": {
    "collapsed": false
   },
   "outputs": [
    {
     "data": {
      "text/plain": [
       "GridSearchCV(cv=5, error_score='raise',\n",
       "       estimator=XGBClassifier(base_score=0.5, colsample_bylevel=1, colsample_bytree=0.7,\n",
       "       gamma=0, learning_rate=0.1, max_delta_step=0, max_depth=7,\n",
       "       min_child_weight=5, missing=None, n_estimators=85, nthread=4,\n",
       "       objective='binary:logistic', reg_alpha=0, reg_lambda=1,\n",
       "       scale_pos_weight=1, seed=27, silent=True, subsample=0.8),\n",
       "       fit_params={}, iid=False, n_jobs=4,\n",
       "       param_grid={'gamma': [0.0, 0.1, 0.2]}, pre_dispatch='2*n_jobs',\n",
       "       refit=True, scoring='roc_auc', verbose=0)"
      ]
     },
     "execution_count": 24,
     "metadata": {},
     "output_type": "execute_result"
    }
   ],
   "source": [
    "param_test3 = {\n",
    " 'gamma':[i/10.0 for i in range(0,3)]\n",
    "}\n",
    "gsearch3 = GridSearchCV(estimator = XGBClassifier( learning_rate = 0.1,\n",
    "                    n_estimators=85,\n",
    "                    max_depth=7,\n",
    "                    min_child_weight=5,\n",
    "                    gamma=0,\n",
    "                    subsample=0.8,\n",
    "                    colsample_bytree=0.7,\n",
    "                    objective='binary:logistic',\n",
    "                    nthread=4,\n",
    "                    scale_pos_weight=1,\n",
    "                    seed=27), \n",
    "                       param_grid = param_test3, scoring='roc_auc',n_jobs=4,iid=False, cv=5)\n",
    "gsearch3.fit(df_train[predictors],df_train[target])"
   ]
  },
  {
   "cell_type": "code",
   "execution_count": 25,
   "metadata": {
    "collapsed": false
   },
   "outputs": [
    {
     "data": {
      "text/plain": [
       "([mean: 0.92877, std: 0.00545, params: {'gamma': 0.0},\n",
       "  mean: 0.92724, std: 0.00599, params: {'gamma': 0.1},\n",
       "  mean: 0.92752, std: 0.00270, params: {'gamma': 0.2}],\n",
       " {'gamma': 0.0},\n",
       " 0.9287715789473683)"
      ]
     },
     "execution_count": 25,
     "metadata": {},
     "output_type": "execute_result"
    }
   ],
   "source": [
    "gsearch3.grid_scores_, gsearch3.best_params_, gsearch3.best_score_"
   ]
  },
  {
   "cell_type": "code",
   "execution_count": 26,
   "metadata": {
    "collapsed": false
   },
   "outputs": [
    {
     "name": "stdout",
     "output_type": "stream",
     "text": [
      "[0]\ttrain-auc:0.838241+0.00840355\ttest-auc:0.814197+0.0194686\n",
      "[5]\ttrain-auc:0.912532+0.00615192\ttest-auc:0.876343+0.0094961\n",
      "[10]\ttrain-auc:0.935304+0.00625369\ttest-auc:0.895954+0.00930841\n",
      "[15]\ttrain-auc:0.949007+0.00460502\ttest-auc:0.904598+0.00681794\n",
      "[20]\ttrain-auc:0.960719+0.000913366\ttest-auc:0.91027+0.00688559\n",
      "[25]\ttrain-auc:0.967986+0.00118449\ttest-auc:0.913259+0.00751469\n",
      "[30]\ttrain-auc:0.973683+0.00129529\ttest-auc:0.916002+0.0069809\n",
      "[35]\ttrain-auc:0.978771+0.00128215\ttest-auc:0.919281+0.00786782\n",
      "[40]\ttrain-auc:0.982868+0.000982716\ttest-auc:0.922203+0.00678918\n",
      "[45]\ttrain-auc:0.986426+0.00078657\ttest-auc:0.924851+0.00698647\n",
      "[50]\ttrain-auc:0.988952+0.000697484\ttest-auc:0.925321+0.00719365\n",
      "[55]\ttrain-auc:0.990927+0.000571274\ttest-auc:0.926026+0.00701198\n",
      "[60]\ttrain-auc:0.992541+0.0003475\ttest-auc:0.926274+0.00657564\n",
      "[65]\ttrain-auc:0.993803+0.000385548\ttest-auc:0.926344+0.00681462\n",
      "[70]\ttrain-auc:0.99485+0.000318456\ttest-auc:0.926743+0.00627326\n",
      "[75]\ttrain-auc:0.995778+0.00024396\ttest-auc:0.926904+0.00593842\n",
      "[80]\ttrain-auc:0.996585+0.000247134\ttest-auc:0.92737+0.00571928\n",
      "[85]\ttrain-auc:0.997318+0.00027532\ttest-auc:0.927827+0.00600474\n",
      "[90]\ttrain-auc:0.997822+0.000262709\ttest-auc:0.927577+0.0062215\n",
      "[95]\ttrain-auc:0.998263+0.000241738\ttest-auc:0.927425+0.00652855\n",
      "[100]\ttrain-auc:0.998649+0.000193003\ttest-auc:0.927019+0.00611066\n",
      "[105]\ttrain-auc:0.998918+0.00017291\ttest-auc:0.926696+0.00652423\n",
      "[110]\ttrain-auc:0.999188+0.00015727\ttest-auc:0.926137+0.0067928\n",
      "[115]\ttrain-auc:0.999351+0.000140825\ttest-auc:0.926184+0.00675276\n",
      "[120]\ttrain-auc:0.999505+0.000123131\ttest-auc:0.926563+0.00703121\n",
      "[125]\ttrain-auc:0.99962+9.01057e-05\ttest-auc:0.927134+0.00700058\n",
      "[130]\ttrain-auc:0.999712+7.24607e-05\ttest-auc:0.926948+0.00712735\n",
      "\n",
      "Model Report\n",
      "n_estimators:  86\n",
      "Training:\n",
      "Accuracy : 0.9831\n",
      "F1 Score : 0.799285\n",
      "AUC Score (Train): 0.995915\n",
      "Classification Report : \n",
      "             precision    recall  f1-score   support\n",
      "\n",
      "          0       0.98      1.00      0.99     19000\n",
      "          1       0.99      0.67      0.80      1000\n",
      "\n",
      "avg / total       0.98      0.98      0.98     20000\n",
      "\n",
      "\n"
     ]
    },
    {
     "data": {
      "text/plain": [
       "sevice_cost_sum            149\n",
       "disease_未知                  56\n",
       "sevice_cost_max             55\n",
       "every_q3_period             50\n",
       "trans_stat_sum              47\n",
       "total_period                44\n",
       "every_ave_period            43\n",
       "trans_stat_std              42\n",
       "num_total_hospitals         40\n",
       "every_max_period            38\n",
       "sevice_cost_mean            36\n",
       "service_未知                  36\n",
       "中成药费发生金额_sum                35\n",
       "单价_std                      35\n",
       "单价_mean                     35\n",
       "sevice_cost_std             33\n",
       "total_trans_rate            32\n",
       "total_rate                  32\n",
       "last_time                   32\n",
       "fee_zifei_mean              32\n",
       "中成药费发生金额_max                31\n",
       "药品费自费金额_sum                 30\n",
       "基本医疗保险统筹基金支付金额_q3           30\n",
       "trans_stat_q3               29\n",
       "freq_to_hospital_max        29\n",
       "disease_挂号                  28\n",
       "药品费申报金额_max                 27\n",
       "trans_stat_max              26\n",
       "三目统计项目_sum                  26\n",
       "中成药费发生金额_mean               26\n",
       "                          ... \n",
       "治疗费自费金额_std                  1\n",
       "治疗费自费金额_mean                 1\n",
       "医疗救助个人按比例负担金额_std            1\n",
       "医疗救助个人按比例负担金额_sum            1\n",
       "医疗救助医院申请_sum                 1\n",
       "城乡救助补助金额_std                 1\n",
       "治疗费发生金额_q1                   1\n",
       "床位费发生金额_sum                  1\n",
       "检查费发生金额_q2                   1\n",
       "检查费自费金额_mean                 1\n",
       "民政救助补助金额_mean                1\n",
       "service_通脉养心丸                1\n",
       "service_肝素钠注射液               1\n",
       "service_稳心颗粒                 1\n",
       "freq_trans_hospital_145      1\n",
       "every_period_21              1\n",
       "freq_hospital_145            1\n",
       "freq_hospital_194            1\n",
       "freq_hospital_196            1\n",
       "freq_hospital_5              1\n",
       "freq_trans_hospital_143      1\n",
       "freq_trans_hospital_444      1\n",
       "贵重药品发生金额_q3                  1\n",
       "freq_trans_hospital_567      1\n",
       "freq_trans_hospital_76       1\n",
       "service_乙型肝炎表面抗体测定           1\n",
       "service_乙型肝炎表面抗原测定           1\n",
       "service_地奥心血康软胶囊             1\n",
       "service_多导心电图检查自动分析          1\n",
       "三目统计项目_q3                    1\n",
       "dtype: int64"
      ]
     },
     "execution_count": 26,
     "metadata": {},
     "output_type": "execute_result"
    },
    {
     "data": {
      "image/png": "[encoded data removed]",
      "text/plain": [
       "<matplotlib.figure.Figure at 0x6a18630>"
      ]
     },
     "metadata": {},
     "output_type": "display_data"
    }
   ],
   "source": [
    "# Re-calibrate the number of boosting rounds for the updated parameters\n",
    "xgb2 = XGBClassifier(\n",
    " learning_rate =0.1,\n",
    " n_estimators=1000,\n",
    " max_depth=7,\n",
    " min_child_weight=5,\n",
    " gamma=0,\n",
    " subsample=0.8,\n",
    " colsample_bytree=0.7,\n",
    " objective= 'binary:logistic',\n",
    " nthread=4,\n",
    " scale_pos_weight=1,\n",
    " seed=27)\n",
    "modelfit(xgb2, df_train,predictors)"
   ]
  },
  {
   "cell_type": "markdown",
   "metadata": {},
   "source": [
    "Here, we can not see the improvement in score. So the final parameters are:\n",
    "\n",
    "max_depth: 4\n",
    "min_child_weight: 3\n",
    "gamma: 0"
   ]
  },
  {
   "cell_type": "markdown",
   "metadata": {},
   "source": [
    "## Tune subsample and colsample_bytree"
   ]
  },
  {
   "cell_type": "code",
   "execution_count": 27,
   "metadata": {
    "collapsed": false
   },
   "outputs": [
    {
     "name": "stdout",
     "output_type": "stream",
     "text": [
      "Total Time Cost:  37.6009833336 min.\n"
     ]
    }
   ],
   "source": [
    "import time\n",
    "time_start = time.time()\n",
    "\n",
    "param_test4 = {\n",
    " 'subsample':[i/10.0 for i in range(7,10)],\n",
    " 'colsample_bytree':[i/10.0 for i in range(6,10)]\n",
    "}\n",
    "gsearch4 = GridSearchCV(estimator = XGBClassifier( learning_rate = 0.1,\n",
    "                    n_estimators=86,\n",
    "                    max_depth=7,\n",
    "                    min_child_weight=5,\n",
    "                    gamma=0,\n",
    "                    subsample=0.8,\n",
    "                    colsample_bytree=0.7,\n",
    "                    objective='binary:logistic',\n",
    "                    nthread=4,\n",
    "                    scale_pos_weight=1,\n",
    "                    seed=27), \n",
    " param_grid = param_test4, scoring='roc_auc',n_jobs=4,iid=False, cv=5)\n",
    "gsearch4.fit(df_train[predictors],df_train[target])\n",
    "\n",
    "time_end = time.time()\n",
    "print \"Total Time Cost: \",(time_end-time_start)/60.,\"min.\""
   ]
  },
  {
   "cell_type": "code",
   "execution_count": 28,
   "metadata": {
    "collapsed": false
   },
   "outputs": [
    {
     "data": {
      "text/plain": [
       "([mean: 0.92508, std: 0.00501, params: {'subsample': 0.7, 'colsample_bytree': 0.6},\n",
       "  mean: 0.92715, std: 0.00687, params: {'subsample': 0.8, 'colsample_bytree': 0.6},\n",
       "  mean: 0.93031, std: 0.00492, params: {'subsample': 0.9, 'colsample_bytree': 0.6},\n",
       "  mean: 0.92415, std: 0.00558, params: {'subsample': 0.7, 'colsample_bytree': 0.7},\n",
       "  mean: 0.92884, std: 0.00553, params: {'subsample': 0.8, 'colsample_bytree': 0.7},\n",
       "  mean: 0.92809, std: 0.00592, params: {'subsample': 0.9, 'colsample_bytree': 0.7},\n",
       "  mean: 0.92740, std: 0.00299, params: {'subsample': 0.7, 'colsample_bytree': 0.8},\n",
       "  mean: 0.92650, std: 0.00845, params: {'subsample': 0.8, 'colsample_bytree': 0.8},\n",
       "  mean: 0.92836, std: 0.00478, params: {'subsample': 0.9, 'colsample_bytree': 0.8},\n",
       "  mean: 0.92629, std: 0.00377, params: {'subsample': 0.7, 'colsample_bytree': 0.9},\n",
       "  mean: 0.92855, std: 0.00614, params: {'subsample': 0.8, 'colsample_bytree': 0.9},\n",
       "  mean: 0.92738, std: 0.00560, params: {'subsample': 0.9, 'colsample_bytree': 0.9}],\n",
       " {'colsample_bytree': 0.6, 'subsample': 0.9},\n",
       " 0.9303113157894737)"
      ]
     },
     "execution_count": 28,
     "metadata": {},
     "output_type": "execute_result"
    }
   ],
   "source": [
    "gsearch4.grid_scores_, gsearch4.best_params_, gsearch4.best_score_"
   ]
  },
  {
   "cell_type": "code",
   "execution_count": 29,
   "metadata": {
    "collapsed": false
   },
   "outputs": [
    {
     "data": {
      "text/plain": [
       "([mean: 0.92775, std: 0.00419, params: {'subsample': 0.85, 'colsample_bytree': 0.55},\n",
       "  mean: 0.92711, std: 0.00654, params: {'subsample': 0.9, 'colsample_bytree': 0.55},\n",
       "  mean: 0.92960, std: 0.00384, params: {'subsample': 0.95, 'colsample_bytree': 0.55},\n",
       "  mean: 0.92808, std: 0.00451, params: {'subsample': 0.85, 'colsample_bytree': 0.6},\n",
       "  mean: 0.93031, std: 0.00492, params: {'subsample': 0.9, 'colsample_bytree': 0.6},\n",
       "  mean: 0.92876, std: 0.00518, params: {'subsample': 0.95, 'colsample_bytree': 0.6},\n",
       "  mean: 0.92846, std: 0.00462, params: {'subsample': 0.85, 'colsample_bytree': 0.65},\n",
       "  mean: 0.92805, std: 0.00421, params: {'subsample': 0.9, 'colsample_bytree': 0.65},\n",
       "  mean: 0.92792, std: 0.00425, params: {'subsample': 0.95, 'colsample_bytree': 0.65}],\n",
       " {'colsample_bytree': 0.6, 'subsample': 0.9},\n",
       " 0.9303113157894737)"
      ]
     },
     "execution_count": 29,
     "metadata": {},
     "output_type": "execute_result"
    }
   ],
   "source": [
    "param_test5 = {\n",
    " 'subsample':[i/100.0 for i in range(85,100,5)],\n",
    " 'colsample_bytree':[i/100.0 for i in range(55,70,5)]\n",
    "}\n",
    "gsearch5 = GridSearchCV(estimator = XGBClassifier( learning_rate = 0.1,\n",
    "                    n_estimators=86,\n",
    "                    max_depth=7,\n",
    "                    min_child_weight=5,\n",
    "                    gamma=0,\n",
    "                    subsample=0.8,\n",
    "                    colsample_bytree=0.7,\n",
    "                    objective='binary:logistic',\n",
    "                    nthread=4,\n",
    "                    scale_pos_weight=1,\n",
    "                    seed=27), \n",
    " param_grid = param_test5, scoring='roc_auc',n_jobs=4,iid=False, cv=5)\n",
    "gsearch5.fit(df_train[predictors],df_train[target])\n",
    "gsearch5.grid_scores_, gsearch5.best_params_, gsearch5.best_score_"
   ]
  },
  {
   "cell_type": "markdown",
   "metadata": {},
   "source": [
    "## Step 5: Tuning Regularization Parameters"
   ]
  },
  {
   "cell_type": "code",
   "execution_count": 30,
   "metadata": {
    "collapsed": false
   },
   "outputs": [
    {
     "data": {
      "text/plain": [
       "([mean: 0.93031, std: 0.00492, params: {'reg_alpha': 0},\n",
       "  mean: 0.93031, std: 0.00492, params: {'reg_alpha': 1e-05},\n",
       "  mean: 0.92828, std: 0.00638, params: {'reg_alpha': 0.01}],\n",
       " {'reg_alpha': 0},\n",
       " 0.9303113157894737)"
      ]
     },
     "execution_count": 30,
     "metadata": {},
     "output_type": "execute_result"
    }
   ],
   "source": [
    "# 'reg_alpha':[1e-5, 1e-2, 0.1, 1, 100]\n",
    "param_test6 = {\n",
    " 'reg_alpha':[0,1e-5, 1e-2]\n",
    "}\n",
    "gsearch6 = GridSearchCV(estimator = XGBClassifier( learning_rate = 0.1,\n",
    "                    n_estimators=86,\n",
    "                    max_depth=7,\n",
    "                    min_child_weight=5,\n",
    "                    gamma=0,\n",
    "                    subsample=0.9,\n",
    "                    colsample_bytree=0.6,\n",
    "                    objective='binary:logistic',\n",
    "                    nthread=4,\n",
    "                    scale_pos_weight=1,\n",
    "                    seed=27), \n",
    " param_grid = param_test6, scoring='roc_auc',n_jobs=4,iid=False, cv=5)\n",
    "gsearch6.fit(df_train[predictors],df_train[target])\n",
    "gsearch6.grid_scores_, gsearch6.best_params_, gsearch6.best_score_"
   ]
  },
  {
   "cell_type": "code",
   "execution_count": 24,
   "metadata": {
    "collapsed": false
   },
   "outputs": [
    {
     "name": "stdout",
     "output_type": "stream",
     "text": [
      "[0]\ttrain-auc:0.842236+0.012417\ttest-auc:0.816099+0.00952188\n",
      "[5]\ttrain-auc:0.902497+0.00413723\ttest-auc:0.863956+0.0123183\n",
      "[10]\ttrain-auc:0.933779+0.0062194\ttest-auc:0.884092+0.00670598\n",
      "[15]\ttrain-auc:0.950729+0.00414554\ttest-auc:0.892556+0.00942328\n",
      "[20]\ttrain-auc:0.962709+0.00265369\ttest-auc:0.896867+0.0103365\n",
      "[25]\ttrain-auc:0.973039+0.001667\ttest-auc:0.901787+0.00843256\n",
      "[30]\ttrain-auc:0.981939+0.00153371\ttest-auc:0.907692+0.00751073\n",
      "[35]\ttrain-auc:0.988544+0.00101548\ttest-auc:0.910819+0.00576685\n",
      "[40]\ttrain-auc:0.992287+0.000695881\ttest-auc:0.912956+0.00644491\n",
      "[45]\ttrain-auc:0.994836+0.000679192\ttest-auc:0.915278+0.00571616\n",
      "[50]\ttrain-auc:0.996597+0.000422567\ttest-auc:0.917003+0.00559788\n",
      "[55]\ttrain-auc:0.997813+0.000285254\ttest-auc:0.917196+0.00513681\n",
      "[60]\ttrain-auc:0.998507+0.000194846\ttest-auc:0.916959+0.00579215\n",
      "[65]\ttrain-auc:0.998972+0.000136885\ttest-auc:0.917504+0.00530773\n",
      "[70]\ttrain-auc:0.99934+0.000113491\ttest-auc:0.917713+0.00539518\n",
      "[75]\ttrain-auc:0.99957+9.04619e-05\ttest-auc:0.918035+0.00569508\n",
      "[80]\ttrain-auc:0.999715+6.23808e-05\ttest-auc:0.918154+0.00543542\n",
      "[85]\ttrain-auc:0.999814+4.50529e-05\ttest-auc:0.918016+0.00603193\n",
      "[90]\ttrain-auc:0.999902+3.3409e-05\ttest-auc:0.91784+0.00592741\n",
      "[95]\ttrain-auc:0.999941+2.41462e-05\ttest-auc:0.918092+0.00621968\n",
      "[100]\ttrain-auc:0.999963+2.05971e-05\ttest-auc:0.918494+0.00680665\n",
      "[105]\ttrain-auc:0.999979+1.22703e-05\ttest-auc:0.918164+0.00691442\n",
      "[110]\ttrain-auc:0.999985+9.85089e-06\ttest-auc:0.918185+0.00670147\n",
      "[115]\ttrain-auc:0.999992+4.77493e-06\ttest-auc:0.91801+0.00707103\n",
      "[120]\ttrain-auc:0.999996+2e-06\ttest-auc:0.917717+0.00706145\n",
      "[125]\ttrain-auc:0.999998+1.0198e-06\ttest-auc:0.917659+0.00669074\n",
      "[130]\ttrain-auc:0.999999+4e-07\ttest-auc:0.917631+0.0074096\n",
      "[135]\ttrain-auc:1+4.89898e-07\ttest-auc:0.917796+0.0078091\n",
      "[140]\ttrain-auc:1+0\ttest-auc:0.918011+0.00784607\n",
      "[145]\ttrain-auc:1+0\ttest-auc:0.918114+0.00766115\n",
      "\n",
      "Model Report\n",
      "n_estimators:  101\n",
      "Training:\n",
      "Accuracy : 0.9927\n",
      "F1 Score : 0.921251\n",
      "AUC Score (Train): 0.999824\n",
      "Classification Report : \n",
      "             precision    recall  f1-score   support\n",
      "\n",
      "          0       0.99      1.00      1.00     19000\n",
      "          1       1.00      0.85      0.92      1000\n",
      "\n",
      "avg / total       0.99      0.99      0.99     20000\n",
      "\n",
      "\n"
     ]
    },
    {
     "data": {
      "text/plain": [
       "trans_stat_sum          127\n",
       "total_trans_rate        120\n",
       "every_ave_period        109\n",
       "every_q3_period          97\n",
       "total_period             87\n",
       "last_time                73\n",
       "every_max_period         71\n",
       "贵重药品发生金额_max             66\n",
       "trans_stat_max           62\n",
       "治疗费发生金额_std              62\n",
       "num_total_hospitals      61\n",
       "trans_stat_std           60\n",
       "freq_to_hospital_max     59\n",
       "起付标准以上自负比例金额_sum         59\n",
       "药品费发生金额_sum              57\n",
       "三目统计项目_sum               56\n",
       "起付标准以上自负比例金额_max         55\n",
       "中成药费发生金额_max             55\n",
       "药品费发生金额_max              53\n",
       "三目统计项目_std               53\n",
       "药品费自费金额_sum              53\n",
       "中成药费发生金额_std             52\n",
       "trans_stat_q3            52\n",
       "基本医疗保险统筹基金支付金额_q3        52\n",
       "基本医疗保险统筹基金支付金额_sum       52\n",
       "药品费自费金额_mean             51\n",
       "非账户支付金额_max              50\n",
       "total_rate               49\n",
       "中成药费发生金额_sum             49\n",
       "三目统计项目_mean              47\n",
       "                       ... \n",
       "检查费发生金额_q2                1\n",
       "治疗费申报金额_q1                1\n",
       "补助审批金额_max                1\n",
       "补助审批金额_mean               1\n",
       "补助审批金额_q2                 1\n",
       "贵重检查费金额_max               1\n",
       "贵重检查费金额_mean              1\n",
       "freq_hospital_69          1\n",
       "freq_hospital_571         1\n",
       "every_period_34           1\n",
       "freq_hospital_160         1\n",
       "every_period_35           1\n",
       "every_period_6.1          1\n",
       "freq_hospital_1058        1\n",
       "freq_hospital_110         1\n",
       "freq_hospital_111         1\n",
       "freq_hospital_139         1\n",
       "freq_hospital_140         1\n",
       "freq_hospital_1431        1\n",
       "freq_hospital_161         1\n",
       "freq_hospital_569         1\n",
       "freq_hospital_170         1\n",
       "freq_hospital_186         1\n",
       "freq_hospital_192         1\n",
       "freq_hospital_193         1\n",
       "freq_hospital_201         1\n",
       "freq_hospital_24          1\n",
       "freq_hospital_44          1\n",
       "freq_hospital_5           1\n",
       "公务员医疗补助基金支付金额_q2          1\n",
       "dtype: int64"
      ]
     },
     "execution_count": 24,
     "metadata": {},
     "output_type": "execute_result"
    },
    {
     "data": {
      "image/png": "[encoded data removed]",
      "text/plain": [
       "<matplotlib.figure.Figure at 0x162324a8>"
      ]
     },
     "metadata": {},
     "output_type": "display_data"
    }
   ],
   "source": [
    "xgb3 = XGBClassifier(\n",
    "                    learning_rate = 0.1,\n",
    "                    n_estimators=1000,\n",
    "                    max_depth=7,\n",
    "                    min_child_weight=5,\n",
    "                    gamma=0,\n",
    "                    subsample=0.9,\n",
    "                    colsample_bytree=0.6,\n",
    "                    objective='binary:logistic',\n",
    "                    nthread=4,\n",
    "                    scale_pos_weight=1,\n",
    "                    seed=27)\n",
    "modelfit(xgb3, df_train,predictors)"
   ]
  },
  {
   "cell_type": "markdown",
   "metadata": {},
   "source": [
    "## Step 6: Reducing Learning Rate"
   ]
  },
  {
   "cell_type": "code",
   "execution_count": 31,
   "metadata": {
    "collapsed": false
   },
   "outputs": [
    {
     "name": "stdout",
     "output_type": "stream",
     "text": [
      "[0]\ttrain-auc:0.850068+0.00779825\ttest-auc:0.82059+0.00769195\n",
      "[5]\ttrain-auc:0.910063+0.00402649\ttest-auc:0.883731+0.00630109\n",
      "[10]\ttrain-auc:0.91658+0.00622874\ttest-auc:0.887137+0.00786076\n",
      "[15]\ttrain-auc:0.919152+0.00525443\ttest-auc:0.88789+0.00963643\n",
      "[20]\ttrain-auc:0.923133+0.00301472\ttest-auc:0.892078+0.00842666\n",
      "[25]\ttrain-auc:0.925405+0.00209063\ttest-auc:0.894437+0.00786151\n",
      "[30]\ttrain-auc:0.926872+0.00181737\ttest-auc:0.895366+0.00723619\n",
      "[35]\ttrain-auc:0.928151+0.00169916\ttest-auc:0.896757+0.00708171\n",
      "[40]\ttrain-auc:0.929238+0.00152252\ttest-auc:0.897351+0.00711504\n",
      "[45]\ttrain-auc:0.930105+0.00134233\ttest-auc:0.898309+0.00747714\n",
      "[50]\ttrain-auc:0.930892+0.00184318\ttest-auc:0.898725+0.00769033\n",
      "[55]\ttrain-auc:0.932042+0.00194294\ttest-auc:0.899505+0.00706209\n",
      "[60]\ttrain-auc:0.93304+0.00221803\ttest-auc:0.900543+0.00640872\n",
      "[65]\ttrain-auc:0.934215+0.00198106\ttest-auc:0.901021+0.0059158\n",
      "[70]\ttrain-auc:0.935111+0.00205927\ttest-auc:0.901298+0.00556644\n",
      "[75]\ttrain-auc:0.93639+0.00168775\ttest-auc:0.901988+0.0060953\n",
      "[80]\ttrain-auc:0.937949+0.00216115\ttest-auc:0.902715+0.0058021\n",
      "[85]\ttrain-auc:0.93903+0.00207661\ttest-auc:0.903674+0.00571143\n",
      "[90]\ttrain-auc:0.940321+0.00232315\ttest-auc:0.904674+0.00589541\n",
      "[95]\ttrain-auc:0.941748+0.00218767\ttest-auc:0.90482+0.00586637\n",
      "[100]\ttrain-auc:0.943293+0.00223247\ttest-auc:0.905985+0.00520541\n",
      "[105]\ttrain-auc:0.944184+0.00246618\ttest-auc:0.906507+0.00543385\n",
      "[110]\ttrain-auc:0.945205+0.00244116\ttest-auc:0.907342+0.00505034\n",
      "[115]\ttrain-auc:0.946585+0.00256348\ttest-auc:0.908132+0.00498827\n",
      "[120]\ttrain-auc:0.947826+0.0025269\ttest-auc:0.908816+0.00512333\n",
      "[125]\ttrain-auc:0.948722+0.00236838\ttest-auc:0.909258+0.00520629\n",
      "[130]\ttrain-auc:0.949821+0.00212743\ttest-auc:0.909932+0.00557881\n",
      "[135]\ttrain-auc:0.950785+0.00188758\ttest-auc:0.910374+0.00566429\n",
      "[140]\ttrain-auc:0.951819+0.00186632\ttest-auc:0.910825+0.00591918\n",
      "[145]\ttrain-auc:0.953288+0.00180087\ttest-auc:0.911239+0.00593753\n",
      "[150]\ttrain-auc:0.954215+0.0017782\ttest-auc:0.911671+0.00586772\n",
      "[155]\ttrain-auc:0.955213+0.00167691\ttest-auc:0.912246+0.00595564\n",
      "[160]\ttrain-auc:0.956145+0.00148699\ttest-auc:0.912678+0.00623258\n",
      "[165]\ttrain-auc:0.95713+0.00130394\ttest-auc:0.913164+0.00635069\n",
      "[170]\ttrain-auc:0.958075+0.00134992\ttest-auc:0.91366+0.00645318\n",
      "[175]\ttrain-auc:0.959184+0.00141915\ttest-auc:0.914057+0.00647254\n",
      "[180]\ttrain-auc:0.96009+0.00159083\ttest-auc:0.914434+0.00634901\n",
      "[185]\ttrain-auc:0.960897+0.00154809\ttest-auc:0.914849+0.00638604\n",
      "[190]\ttrain-auc:0.961734+0.00155625\ttest-auc:0.915287+0.0064583\n",
      "[195]\ttrain-auc:0.962463+0.00165419\ttest-auc:0.915671+0.00620301\n",
      "[200]\ttrain-auc:0.963323+0.00152852\ttest-auc:0.916058+0.00608468\n",
      "[205]\ttrain-auc:0.964101+0.00154883\ttest-auc:0.916262+0.00617476\n",
      "[210]\ttrain-auc:0.964903+0.0015916\ttest-auc:0.916629+0.00614432\n",
      "[215]\ttrain-auc:0.965669+0.00147748\ttest-auc:0.916804+0.00612969\n",
      "[220]\ttrain-auc:0.966432+0.00128925\ttest-auc:0.917229+0.00634282\n",
      "[225]\ttrain-auc:0.967024+0.00123943\ttest-auc:0.917573+0.00655396\n",
      "[230]\ttrain-auc:0.96773+0.00122891\ttest-auc:0.918031+0.00641195\n",
      "[235]\ttrain-auc:0.968578+0.00118889\ttest-auc:0.918567+0.00641956\n",
      "[240]\ttrain-auc:0.969254+0.00110119\ttest-auc:0.918983+0.0063095\n",
      "[245]\ttrain-auc:0.969852+0.00111063\ttest-auc:0.919185+0.00638679\n",
      "[250]\ttrain-auc:0.970349+0.00108895\ttest-auc:0.919499+0.00655296\n",
      "[255]\ttrain-auc:0.97106+0.0010419\ttest-auc:0.919884+0.00666907\n",
      "[260]\ttrain-auc:0.971706+0.000965188\ttest-auc:0.920153+0.00664223\n",
      "[265]\ttrain-auc:0.97227+0.000903573\ttest-auc:0.920643+0.00659476\n",
      "[270]\ttrain-auc:0.972813+0.000922002\ttest-auc:0.920882+0.00660475\n",
      "[275]\ttrain-auc:0.973346+0.000889172\ttest-auc:0.921058+0.00652624\n",
      "[280]\ttrain-auc:0.973869+0.000898639\ttest-auc:0.921468+0.00659247\n",
      "[285]\ttrain-auc:0.974477+0.000963187\ttest-auc:0.921852+0.00661237\n",
      "[290]\ttrain-auc:0.975014+0.000889559\ttest-auc:0.922091+0.00658099\n",
      "[295]\ttrain-auc:0.975542+0.000969057\ttest-auc:0.922468+0.00657133\n",
      "[300]\ttrain-auc:0.976088+0.000893935\ttest-auc:0.922725+0.00659825\n",
      "[305]\ttrain-auc:0.976626+0.000827878\ttest-auc:0.92287+0.0065159\n",
      "[310]\ttrain-auc:0.977196+0.000824289\ttest-auc:0.923139+0.00659983\n",
      "[315]\ttrain-auc:0.977789+0.000842538\ttest-auc:0.923395+0.00660255\n",
      "[320]\ttrain-auc:0.978357+0.000826071\ttest-auc:0.923639+0.00661775\n",
      "[325]\ttrain-auc:0.978867+0.000741428\ttest-auc:0.923831+0.00666425\n",
      "[330]\ttrain-auc:0.979324+0.000782154\ttest-auc:0.924013+0.00650358\n",
      "[335]\ttrain-auc:0.97988+0.000779658\ttest-auc:0.924193+0.00650147\n",
      "[340]\ttrain-auc:0.98037+0.000712962\ttest-auc:0.924442+0.00639915\n",
      "[345]\ttrain-auc:0.980904+0.00071613\ttest-auc:0.924688+0.00639836\n",
      "[350]\ttrain-auc:0.981392+0.000721954\ttest-auc:0.924899+0.00627573\n",
      "[355]\ttrain-auc:0.981849+0.000749716\ttest-auc:0.925102+0.00621461\n",
      "[360]\ttrain-auc:0.982268+0.000774655\ttest-auc:0.925164+0.0060011\n",
      "[365]\ttrain-auc:0.982669+0.000738223\ttest-auc:0.925329+0.00605925\n",
      "[370]\ttrain-auc:0.983117+0.000723582\ttest-auc:0.925516+0.0060301\n",
      "[375]\ttrain-auc:0.983571+0.000722669\ttest-auc:0.925776+0.00607472\n",
      "[380]\ttrain-auc:0.98395+0.000757323\ttest-auc:0.926004+0.00610777\n",
      "[385]\ttrain-auc:0.984341+0.000712091\ttest-auc:0.926192+0.00612958\n",
      "[390]\ttrain-auc:0.984757+0.000675001\ttest-auc:0.926317+0.00614826\n",
      "[395]\ttrain-auc:0.985078+0.000654676\ttest-auc:0.926409+0.00612566\n",
      "[400]\ttrain-auc:0.985437+0.000638808\ttest-auc:0.926575+0.00603676\n",
      "[405]\ttrain-auc:0.985799+0.000639476\ttest-auc:0.926809+0.00603777\n",
      "[410]\ttrain-auc:0.986183+0.000657758\ttest-auc:0.926985+0.00602032\n",
      "[415]\ttrain-auc:0.986511+0.000650136\ttest-auc:0.927109+0.00599687\n",
      "[420]\ttrain-auc:0.986847+0.000652706\ttest-auc:0.927242+0.0058711\n",
      "[425]\ttrain-auc:0.987173+0.000640133\ttest-auc:0.927467+0.00594964\n",
      "[430]\ttrain-auc:0.987503+0.00061724\ttest-auc:0.927761+0.00587133\n",
      "[435]\ttrain-auc:0.98779+0.000610597\ttest-auc:0.92805+0.00590062\n",
      "[440]\ttrain-auc:0.988073+0.00060006\ttest-auc:0.928148+0.00588834\n",
      "[445]\ttrain-auc:0.988347+0.00064092\ttest-auc:0.928256+0.00584037\n",
      "[450]\ttrain-auc:0.988619+0.000646622\ttest-auc:0.9283+0.00587559\n",
      "[455]\ttrain-auc:0.988896+0.000630405\ttest-auc:0.928444+0.00584539\n",
      "[460]\ttrain-auc:0.98912+0.000603064\ttest-auc:0.92862+0.00585405\n",
      "[465]\ttrain-auc:0.989372+0.000610318\ttest-auc:0.928687+0.00592993\n",
      "[470]\ttrain-auc:0.98964+0.000607582\ttest-auc:0.928835+0.00581109\n",
      "[475]\ttrain-auc:0.989871+0.000594881\ttest-auc:0.929035+0.00585262\n",
      "[480]\ttrain-auc:0.9901+0.000594398\ttest-auc:0.929084+0.00581562\n",
      "[485]\ttrain-auc:0.990355+0.0006302\ttest-auc:0.929194+0.00576742\n",
      "[490]\ttrain-auc:0.99058+0.000632434\ttest-auc:0.929361+0.00573325\n",
      "[495]\ttrain-auc:0.990816+0.000626227\ttest-auc:0.929493+0.00574197\n",
      "[500]\ttrain-auc:0.990997+0.000630473\ttest-auc:0.92962+0.00564231\n",
      "[505]\ttrain-auc:0.991202+0.000607375\ttest-auc:0.929698+0.00563562\n",
      "[510]\ttrain-auc:0.991404+0.000631522\ttest-auc:0.92979+0.00556057\n",
      "[515]\ttrain-auc:0.99158+0.000650062\ttest-auc:0.929835+0.00557083\n",
      "[520]\ttrain-auc:0.991754+0.00067693\ttest-auc:0.929966+0.00556811\n",
      "[525]\ttrain-auc:0.991938+0.000694598\ttest-auc:0.930087+0.00552435\n",
      "[530]\ttrain-auc:0.992127+0.000684233\ttest-auc:0.930136+0.00555688\n",
      "[535]\ttrain-auc:0.992298+0.000659205\ttest-auc:0.930103+0.0055335\n",
      "[540]\ttrain-auc:0.992465+0.000685981\ttest-auc:0.930161+0.005491\n",
      "[545]\ttrain-auc:0.992635+0.00065778\ttest-auc:0.930314+0.00546018\n",
      "[550]\ttrain-auc:0.992801+0.000643491\ttest-auc:0.930329+0.00545418\n",
      "[555]\ttrain-auc:0.99297+0.000638822\ttest-auc:0.930374+0.00542405\n",
      "[560]\ttrain-auc:0.993118+0.000609482\ttest-auc:0.930402+0.00537696\n",
      "[565]\ttrain-auc:0.993262+0.000580901\ttest-auc:0.930466+0.00537247\n",
      "[570]\ttrain-auc:0.993407+0.000569436\ttest-auc:0.930552+0.00536784\n",
      "[575]\ttrain-auc:0.993566+0.0005752\ttest-auc:0.930579+0.00538919\n",
      "[580]\ttrain-auc:0.993708+0.000556002\ttest-auc:0.930589+0.00539279\n",
      "[585]\ttrain-auc:0.99385+0.000538451\ttest-auc:0.930649+0.00542914\n",
      "[590]\ttrain-auc:0.993998+0.000560997\ttest-auc:0.930633+0.00546871\n",
      "[595]\ttrain-auc:0.994111+0.00055198\ttest-auc:0.930668+0.00559167\n",
      "[600]\ttrain-auc:0.994231+0.000541439\ttest-auc:0.930763+0.00552473\n",
      "[605]\ttrain-auc:0.994348+0.000536832\ttest-auc:0.930817+0.0054771\n",
      "[610]\ttrain-auc:0.994465+0.000552374\ttest-auc:0.930889+0.00546996\n",
      "[615]\ttrain-auc:0.994589+0.000546564\ttest-auc:0.930975+0.0054134\n",
      "[620]\ttrain-auc:0.994687+0.000529744\ttest-auc:0.931004+0.00544594\n",
      "[625]\ttrain-auc:0.994799+0.000526684\ttest-auc:0.930986+0.00550962\n",
      "[630]\ttrain-auc:0.994927+0.000520226\ttest-auc:0.931042+0.00545132\n",
      "[635]\ttrain-auc:0.995016+0.000524331\ttest-auc:0.931122+0.00539103\n",
      "[640]\ttrain-auc:0.995093+0.00053838\ttest-auc:0.931144+0.00537457\n",
      "[645]\ttrain-auc:0.995181+0.000546045\ttest-auc:0.931183+0.00536337\n",
      "[650]\ttrain-auc:0.995269+0.00053544\ttest-auc:0.931259+0.00538325\n",
      "[655]\ttrain-auc:0.995373+0.000530714\ttest-auc:0.931262+0.00540585\n",
      "[660]\ttrain-auc:0.995443+0.000519974\ttest-auc:0.931306+0.00540492\n",
      "[665]\ttrain-auc:0.995544+0.000506186\ttest-auc:0.931319+0.00540303\n",
      "[670]\ttrain-auc:0.995638+0.000505172\ttest-auc:0.931365+0.0054295\n",
      "[675]\ttrain-auc:0.995721+0.000507441\ttest-auc:0.931342+0.00540755\n",
      "[680]\ttrain-auc:0.995813+0.000492463\ttest-auc:0.931316+0.00533614\n",
      "[685]\ttrain-auc:0.9959+0.000483924\ttest-auc:0.931338+0.00534267\n",
      "[690]\ttrain-auc:0.995982+0.00046853\ttest-auc:0.931395+0.00533644\n",
      "[695]\ttrain-auc:0.99607+0.00046629\ttest-auc:0.931471+0.00536322\n",
      "[700]\ttrain-auc:0.99615+0.000449744\ttest-auc:0.931521+0.00536761\n",
      "[705]\ttrain-auc:0.996232+0.000446856\ttest-auc:0.931546+0.00539878\n",
      "[710]\ttrain-auc:0.9963+0.000430934\ttest-auc:0.931559+0.00540156\n",
      "[715]\ttrain-auc:0.996378+0.000428504\ttest-auc:0.931555+0.0054243\n",
      "[720]\ttrain-auc:0.996453+0.000404654\ttest-auc:0.93153+0.0053892\n",
      "[725]\ttrain-auc:0.996535+0.00039282\ttest-auc:0.931593+0.00535755\n",
      "[730]\ttrain-auc:0.996608+0.000394009\ttest-auc:0.931614+0.00539017\n",
      "[735]\ttrain-auc:0.996676+0.000393852\ttest-auc:0.931642+0.00539004\n",
      "[740]\ttrain-auc:0.996743+0.000383972\ttest-auc:0.931599+0.00542234\n",
      "[745]\ttrain-auc:0.996808+0.000378877\ttest-auc:0.931627+0.00542341\n",
      "[750]\ttrain-auc:0.996876+0.00037283\ttest-auc:0.931635+0.00545951\n",
      "[755]\ttrain-auc:0.996946+0.000369384\ttest-auc:0.931681+0.00542653\n",
      "[760]\ttrain-auc:0.997009+0.000370989\ttest-auc:0.931731+0.00543651\n",
      "[765]\ttrain-auc:0.997069+0.000354147\ttest-auc:0.931731+0.00539421\n",
      "[770]\ttrain-auc:0.997118+0.000354938\ttest-auc:0.931711+0.00540411\n",
      "[775]\ttrain-auc:0.997164+0.000357822\ttest-auc:0.931754+0.00537419\n",
      "[780]\ttrain-auc:0.997225+0.000353862\ttest-auc:0.931733+0.00535453\n",
      "[785]\ttrain-auc:0.997277+0.000341546\ttest-auc:0.93169+0.00539597\n",
      "[790]\ttrain-auc:0.997326+0.000346978\ttest-auc:0.931725+0.0053949\n",
      "[795]\ttrain-auc:0.997381+0.000341767\ttest-auc:0.931763+0.00540872\n",
      "[800]\ttrain-auc:0.997431+0.000333263\ttest-auc:0.931768+0.00538801\n",
      "[805]\ttrain-auc:0.997475+0.000336029\ttest-auc:0.931788+0.00542003\n",
      "[810]\ttrain-auc:0.997519+0.000327553\ttest-auc:0.93175+0.00545589\n",
      "[815]\ttrain-auc:0.997567+0.000320629\ttest-auc:0.931745+0.00547955\n",
      "[820]\ttrain-auc:0.997611+0.000316743\ttest-auc:0.931747+0.00544832\n",
      "[825]\ttrain-auc:0.997655+0.000308744\ttest-auc:0.931725+0.00546236\n",
      "[830]\ttrain-auc:0.997705+0.000298853\ttest-auc:0.931728+0.00548684\n",
      "[835]\ttrain-auc:0.997757+0.000289364\ttest-auc:0.931741+0.00549759\n",
      "[840]\ttrain-auc:0.997802+0.000272622\ttest-auc:0.931724+0.00550644\n",
      "[845]\ttrain-auc:0.997851+0.000277152\ttest-auc:0.931744+0.00556901\n",
      "[850]\ttrain-auc:0.99789+0.000277315\ttest-auc:0.931757+0.0055665\n",
      "[855]\ttrain-auc:0.997937+0.000273514\ttest-auc:0.931794+0.0055817\n",
      "\n",
      "Model Report\n",
      "n_estimators:  808\n",
      "Training:\n",
      "Accuracy : 0.9819\n",
      "F1 Score : 0.780073\n",
      "AUC Score (Train): 0.996402\n",
      "Classification Report : \n",
      "             precision    recall  f1-score   support\n",
      "\n",
      "          0       0.98      1.00      0.99     19000\n",
      "          1       0.99      0.64      0.78      1000\n",
      "\n",
      "avg / total       0.98      0.98      0.98     20000\n",
      "\n",
      "\n"
     ]
    },
    {
     "data": {
      "text/plain": [
       "sevice_cost_sum             1487\n",
       "every_q3_period              511\n",
       "total_trans_rate             508\n",
       "disease_未知                   500\n",
       "trans_stat_sum               499\n",
       "sevice_cost_max              488\n",
       "sevice_cost_std              474\n",
       "total_period                 454\n",
       "trans_stat_std               453\n",
       "every_ave_period             420\n",
       "every_max_period             417\n",
       "num_total_hospitals          408\n",
       "service_未知                   401\n",
       "total_rate                   379\n",
       "sevice_cost_mean             371\n",
       "trans_stat_q3                345\n",
       "freq_to_hospital_max         333\n",
       "fee_zifei_mean               303\n",
       "trans_stat_max               282\n",
       "中成药费发生金额_sum                 280\n",
       "药品费申报金额_max                  279\n",
       "last_time                    262\n",
       "sevice_cost_median           260\n",
       "单价_mean                      250\n",
       "trans_stat_mean              243\n",
       "三目统计项目_sum                   243\n",
       "非账户支付金额_max                  234\n",
       "药品费发生金额_max                  230\n",
       "药品费自费金额_sum                  224\n",
       "药品费发生金额_sum                  223\n",
       "                            ... \n",
       "disease_脆性                     2\n",
       "freq_hospital_189              2\n",
       "freq_trans_hospital_76         2\n",
       "freq_trans_hospital_626        2\n",
       "disease_低蛋白血症                  2\n",
       "freq_trans_hospital_571        1\n",
       "民政救助补助金额_q3                    1\n",
       "service_丙肝抗体（酶免法）              1\n",
       "freq_trans_hospital_173        1\n",
       "freq_trans_hospital_444        1\n",
       "freq_trans_hospital_192        1\n",
       "service_依诺肝素钠注射液               1\n",
       "公务员医疗补助基金支付金额_q2               1\n",
       "freq_trans_hospital_1254       1\n",
       "freq_hospital_177              1\n",
       "医用材料费自费金额_q3                   1\n",
       "every_period_27                1\n",
       "freq_hospital_1254             1\n",
       "freq_hospital_140              1\n",
       "freq_hospital_141              1\n",
       "freq_hospital_150              1\n",
       "freq_hospital_186              1\n",
       "service_注射用低分子量肝素钠             1\n",
       "disease_脑梗塞                    1\n",
       "disease_脆性糖尿病                  1\n",
       "service_盐酸地尔硫卓片（合心爽）           1\n",
       "freq_hospital_558              1\n",
       "freq_hospital_76               1\n",
       "disease_糖尿病性神经病变               1\n",
       "高价材料发生金额_std                   1\n",
       "dtype: int64"
      ]
     },
     "execution_count": 31,
     "metadata": {},
     "output_type": "execute_result"
    },
    {
     "data": {
      "image/png": "[encoded data removed]",
      "text/plain": [
       "<matplotlib.figure.Figure at 0x46796a0>"
      ]
     },
     "metadata": {},
     "output_type": "display_data"
    }
   ],
   "source": [
    "# 0.01，644\n",
    "xgb4 = XGBClassifier(\n",
    "                    learning_rate = 0.01,\n",
    "                    n_estimators=5000,\n",
    "                    max_depth=7,\n",
    "                    min_child_weight=5,\n",
    "                    gamma=0,\n",
    "                    subsample=0.9,\n",
    "                    colsample_bytree=0.6,\n",
    "                    objective='binary:logistic',\n",
    "                    nthread=4,\n",
    "                    scale_pos_weight=1,\n",
    "                    seed=27)\n",
    "modelfit(xgb4, df_train, predictors)"
   ]
  },
  {
   "cell_type": "code",
   "execution_count": 38,
   "metadata": {
    "collapsed": false
   },
   "outputs": [
    {
     "name": "stdout",
     "output_type": "stream",
     "text": [
      "[0]\ttrain-auc:0.849666+0.00694898\ttest-auc:0.819407+0.0216546\n",
      "[5]\ttrain-auc:0.893906+0.00458314\ttest-auc:0.859458+0.00719829\n",
      "[10]\ttrain-auc:0.898674+0.00701052\ttest-auc:0.86227+0.0107299\n",
      "[15]\ttrain-auc:0.905931+0.00431166\ttest-auc:0.868936+0.0116913\n",
      "[20]\ttrain-auc:0.908458+0.0036226\ttest-auc:0.869659+0.0105308\n",
      "[25]\ttrain-auc:0.910094+0.00360313\ttest-auc:0.872598+0.0105116\n",
      "[30]\ttrain-auc:0.913253+0.00602309\ttest-auc:0.875338+0.012202\n",
      "[35]\ttrain-auc:0.91498+0.00675273\ttest-auc:0.876733+0.0138088\n",
      "[40]\ttrain-auc:0.915485+0.00623953\ttest-auc:0.877264+0.0137511\n",
      "[45]\ttrain-auc:0.917729+0.00536844\ttest-auc:0.880049+0.0112406\n",
      "[50]\ttrain-auc:0.921061+0.00530427\ttest-auc:0.883558+0.0109371\n",
      "[55]\ttrain-auc:0.921998+0.00535344\ttest-auc:0.883605+0.010977\n",
      "[60]\ttrain-auc:0.923136+0.0058954\ttest-auc:0.884591+0.0101947\n",
      "[65]\ttrain-auc:0.925118+0.00611239\ttest-auc:0.886565+0.00980508\n",
      "[70]\ttrain-auc:0.928273+0.00450327\ttest-auc:0.889392+0.00511048\n",
      "[75]\ttrain-auc:0.929509+0.00431637\ttest-auc:0.890276+0.00528191\n",
      "[80]\ttrain-auc:0.930322+0.00444785\ttest-auc:0.891452+0.0061769\n",
      "[85]\ttrain-auc:0.931397+0.00517758\ttest-auc:0.892169+0.00630195\n",
      "[90]\ttrain-auc:0.932117+0.00485324\ttest-auc:0.892441+0.00666162\n",
      "[95]\ttrain-auc:0.934874+0.00331893\ttest-auc:0.893735+0.00655603\n",
      "[100]\ttrain-auc:0.935685+0.00329407\ttest-auc:0.893838+0.0063592\n",
      "[105]\ttrain-auc:0.936399+0.00324726\ttest-auc:0.894349+0.00600963\n",
      "[110]\ttrain-auc:0.937319+0.00322533\ttest-auc:0.895167+0.00643838\n",
      "[115]\ttrain-auc:0.938608+0.00366616\ttest-auc:0.8961+0.00629826\n",
      "[120]\ttrain-auc:0.939996+0.00335067\ttest-auc:0.896907+0.00558575\n",
      "[125]\ttrain-auc:0.940857+0.0031665\ttest-auc:0.897857+0.00586456\n",
      "[130]\ttrain-auc:0.941578+0.00341015\ttest-auc:0.898043+0.00579708\n",
      "[135]\ttrain-auc:0.942508+0.00322349\ttest-auc:0.898543+0.00576195\n",
      "[140]\ttrain-auc:0.943988+0.00294653\ttest-auc:0.899014+0.00586214\n",
      "[145]\ttrain-auc:0.945293+0.00324142\ttest-auc:0.8997+0.00634151\n",
      "[150]\ttrain-auc:0.94624+0.00313271\ttest-auc:0.900547+0.00659077\n",
      "[155]\ttrain-auc:0.947169+0.00310492\ttest-auc:0.901234+0.00686053\n",
      "[160]\ttrain-auc:0.947944+0.00304204\ttest-auc:0.901653+0.00656202\n",
      "[165]\ttrain-auc:0.948937+0.00288029\ttest-auc:0.901948+0.00650012\n",
      "[170]\ttrain-auc:0.949904+0.00291023\ttest-auc:0.902062+0.00620083\n",
      "[175]\ttrain-auc:0.950631+0.00314167\ttest-auc:0.902346+0.00602742\n",
      "[180]\ttrain-auc:0.951716+0.0029716\ttest-auc:0.902632+0.00584059\n",
      "[185]\ttrain-auc:0.952615+0.00285045\ttest-auc:0.902897+0.00573432\n",
      "[190]\ttrain-auc:0.953361+0.00278764\ttest-auc:0.903323+0.00562896\n",
      "[195]\ttrain-auc:0.95453+0.00251533\ttest-auc:0.90391+0.00552484\n",
      "[200]\ttrain-auc:0.955368+0.00253811\ttest-auc:0.904262+0.00561938\n",
      "[205]\ttrain-auc:0.956089+0.00242954\ttest-auc:0.904573+0.00566719\n",
      "[210]\ttrain-auc:0.956814+0.00249505\ttest-auc:0.904815+0.00560354\n",
      "[215]\ttrain-auc:0.957695+0.00244118\ttest-auc:0.905288+0.00554116\n",
      "[220]\ttrain-auc:0.958398+0.0023174\ttest-auc:0.905563+0.0055702\n",
      "[225]\ttrain-auc:0.959201+0.00231835\ttest-auc:0.905778+0.00556509\n",
      "[230]\ttrain-auc:0.960087+0.00226159\ttest-auc:0.906367+0.0055823\n",
      "[235]\ttrain-auc:0.96091+0.00207971\ttest-auc:0.90678+0.00558372\n",
      "[240]\ttrain-auc:0.961607+0.00217012\ttest-auc:0.906999+0.00563988\n",
      "[245]\ttrain-auc:0.962324+0.00199935\ttest-auc:0.907442+0.00561498\n",
      "[250]\ttrain-auc:0.96303+0.00204996\ttest-auc:0.907803+0.0055763\n",
      "[255]\ttrain-auc:0.963799+0.00204699\ttest-auc:0.908166+0.00593341\n",
      "[260]\ttrain-auc:0.964347+0.00197157\ttest-auc:0.908474+0.00596214\n",
      "[265]\ttrain-auc:0.965167+0.00205798\ttest-auc:0.908813+0.00578237\n",
      "[270]\ttrain-auc:0.965975+0.00201732\ttest-auc:0.909108+0.0056742\n",
      "[275]\ttrain-auc:0.96663+0.00193823\ttest-auc:0.909297+0.00573256\n",
      "[280]\ttrain-auc:0.967271+0.0019021\ttest-auc:0.909577+0.00568357\n",
      "[285]\ttrain-auc:0.967909+0.00182233\ttest-auc:0.909778+0.00581118\n",
      "[290]\ttrain-auc:0.968525+0.00175212\ttest-auc:0.910008+0.00578277\n",
      "[295]\ttrain-auc:0.969173+0.00178105\ttest-auc:0.9104+0.00574481\n",
      "[300]\ttrain-auc:0.969758+0.0018485\ttest-auc:0.910467+0.00571315\n",
      "[305]\ttrain-auc:0.970415+0.00171293\ttest-auc:0.910551+0.00584342\n",
      "[310]\ttrain-auc:0.971028+0.00170792\ttest-auc:0.910775+0.00578719\n",
      "[315]\ttrain-auc:0.971536+0.00179145\ttest-auc:0.911225+0.00569563\n",
      "[320]\ttrain-auc:0.972046+0.00178006\ttest-auc:0.911565+0.00563785\n",
      "[325]\ttrain-auc:0.972604+0.00169868\ttest-auc:0.911653+0.00570525\n",
      "[330]\ttrain-auc:0.973111+0.00161742\ttest-auc:0.911848+0.00560418\n",
      "[335]\ttrain-auc:0.973674+0.00159833\ttest-auc:0.911965+0.00557521\n",
      "[340]\ttrain-auc:0.974296+0.00157293\ttest-auc:0.912143+0.00552049\n",
      "[345]\ttrain-auc:0.974897+0.00158346\ttest-auc:0.912321+0.00566488\n",
      "[350]\ttrain-auc:0.975553+0.0013127\ttest-auc:0.912635+0.00566206\n",
      "[355]\ttrain-auc:0.976081+0.00137674\ttest-auc:0.912876+0.00561007\n",
      "[360]\ttrain-auc:0.976575+0.00149674\ttest-auc:0.913108+0.00549077\n",
      "[365]\ttrain-auc:0.976994+0.00147893\ttest-auc:0.913293+0.00530875\n",
      "[370]\ttrain-auc:0.977429+0.00144774\ttest-auc:0.913478+0.00529523\n",
      "[375]\ttrain-auc:0.977909+0.00145868\ttest-auc:0.913775+0.00526557\n",
      "[380]\ttrain-auc:0.978262+0.0014503\ttest-auc:0.914158+0.00512966\n",
      "[385]\ttrain-auc:0.978844+0.00131782\ttest-auc:0.914506+0.00517667\n",
      "[390]\ttrain-auc:0.979224+0.00138174\ttest-auc:0.914704+0.00516259\n",
      "[395]\ttrain-auc:0.9796+0.0013684\ttest-auc:0.914864+0.00517628\n",
      "[400]\ttrain-auc:0.980135+0.00124053\ttest-auc:0.915103+0.00519108\n",
      "[405]\ttrain-auc:0.980607+0.00126231\ttest-auc:0.915191+0.00517175\n",
      "[410]\ttrain-auc:0.981065+0.00120952\ttest-auc:0.915288+0.00512127\n",
      "[415]\ttrain-auc:0.981464+0.00112941\ttest-auc:0.915692+0.00508866\n",
      "[420]\ttrain-auc:0.981852+0.00109827\ttest-auc:0.915932+0.00522102\n",
      "[425]\ttrain-auc:0.982162+0.00114177\ttest-auc:0.91612+0.00521376\n",
      "[430]\ttrain-auc:0.982591+0.00113716\ttest-auc:0.916299+0.00528887\n",
      "[435]\ttrain-auc:0.983024+0.00111136\ttest-auc:0.916382+0.00549087\n",
      "[440]\ttrain-auc:0.983338+0.00109969\ttest-auc:0.916481+0.00551461\n",
      "[445]\ttrain-auc:0.98371+0.00116911\ttest-auc:0.916647+0.00563073\n",
      "[450]\ttrain-auc:0.984038+0.00120729\ttest-auc:0.916742+0.00565686\n",
      "[455]\ttrain-auc:0.984315+0.00125532\ttest-auc:0.91692+0.00561408\n",
      "[460]\ttrain-auc:0.984637+0.00129455\ttest-auc:0.917234+0.00571729\n",
      "[465]\ttrain-auc:0.984979+0.00122862\ttest-auc:0.917467+0.00578282\n",
      "[470]\ttrain-auc:0.985387+0.00124907\ttest-auc:0.917762+0.00615498\n",
      "[475]\ttrain-auc:0.985814+0.00122444\ttest-auc:0.917935+0.00612979\n",
      "[480]\ttrain-auc:0.98623+0.00119594\ttest-auc:0.918226+0.00619965\n",
      "[485]\ttrain-auc:0.986547+0.00116094\ttest-auc:0.91835+0.00623276\n",
      "[490]\ttrain-auc:0.986868+0.00115188\ttest-auc:0.918596+0.00638649\n",
      "[495]\ttrain-auc:0.987177+0.00118661\ttest-auc:0.91884+0.00637037\n",
      "[500]\ttrain-auc:0.98754+0.0010933\ttest-auc:0.918988+0.00639657\n",
      "[505]\ttrain-auc:0.987815+0.0010613\ttest-auc:0.919114+0.00639814\n",
      "[510]\ttrain-auc:0.988133+0.0010307\ttest-auc:0.919321+0.00642701\n",
      "[515]\ttrain-auc:0.988398+0.00108628\ttest-auc:0.919431+0.0064259\n",
      "[520]\ttrain-auc:0.98867+0.00104905\ttest-auc:0.919555+0.00635931\n",
      "[525]\ttrain-auc:0.988937+0.0010764\ttest-auc:0.919736+0.00626863\n",
      "[530]\ttrain-auc:0.989239+0.00107193\ttest-auc:0.920096+0.00596106\n",
      "[535]\ttrain-auc:0.989522+0.00102413\ttest-auc:0.920288+0.00592599\n",
      "[540]\ttrain-auc:0.989827+0.00102725\ttest-auc:0.920442+0.00577997\n",
      "[545]\ttrain-auc:0.990103+0.00106738\ttest-auc:0.920608+0.00588031\n",
      "[550]\ttrain-auc:0.990351+0.00104291\ttest-auc:0.92071+0.00582831\n",
      "[555]\ttrain-auc:0.990571+0.00106459\ttest-auc:0.920838+0.00579852\n",
      "[560]\ttrain-auc:0.990836+0.00105213\ttest-auc:0.921005+0.00581185\n",
      "[565]\ttrain-auc:0.991111+0.00103601\ttest-auc:0.921591+0.00567254\n",
      "[570]\ttrain-auc:0.991363+0.00104468\ttest-auc:0.921657+0.00572376\n",
      "[575]\ttrain-auc:0.991567+0.00103297\ttest-auc:0.921782+0.0056655\n",
      "[580]\ttrain-auc:0.991801+0.00106821\ttest-auc:0.921858+0.00565438\n",
      "[585]\ttrain-auc:0.992073+0.00107997\ttest-auc:0.922058+0.00567717\n",
      "[590]\ttrain-auc:0.992383+0.00102908\ttest-auc:0.922196+0.00565312\n",
      "[595]\ttrain-auc:0.992605+0.00104679\ttest-auc:0.922372+0.00565507\n",
      "[600]\ttrain-auc:0.992848+0.0010262\ttest-auc:0.922541+0.00570799\n",
      "[605]\ttrain-auc:0.993039+0.00102398\ttest-auc:0.922721+0.0057958\n",
      "[610]\ttrain-auc:0.993257+0.00100087\ttest-auc:0.923003+0.00562115\n",
      "[615]\ttrain-auc:0.993433+0.0010134\ttest-auc:0.92319+0.00563211\n",
      "[620]\ttrain-auc:0.993609+0.00101017\ttest-auc:0.923266+0.00561627\n",
      "[625]\ttrain-auc:0.993832+0.000971415\ttest-auc:0.923405+0.00557404\n",
      "[630]\ttrain-auc:0.994018+0.000957617\ttest-auc:0.923607+0.0053599\n",
      "[635]\ttrain-auc:0.994201+0.000954991\ttest-auc:0.923779+0.00525076\n",
      "[640]\ttrain-auc:0.994396+0.000917291\ttest-auc:0.923907+0.00528101\n",
      "[645]\ttrain-auc:0.994558+0.000913563\ttest-auc:0.924168+0.00532687\n",
      "[650]\ttrain-auc:0.99475+0.000878927\ttest-auc:0.924335+0.00534773\n",
      "[655]\ttrain-auc:0.994918+0.000848049\ttest-auc:0.924504+0.00542273\n",
      "[660]\ttrain-auc:0.995082+0.00083512\ttest-auc:0.924685+0.00537333\n",
      "[665]\ttrain-auc:0.995225+0.000811982\ttest-auc:0.924809+0.00539628\n",
      "[670]\ttrain-auc:0.995384+0.000794631\ttest-auc:0.925036+0.00532796\n",
      "[675]\ttrain-auc:0.995519+0.000780995\ttest-auc:0.925144+0.00529433\n",
      "[680]\ttrain-auc:0.995656+0.000770835\ttest-auc:0.925244+0.00531984\n",
      "[685]\ttrain-auc:0.995805+0.000742232\ttest-auc:0.925298+0.00535537\n",
      "[690]\ttrain-auc:0.995923+0.000721493\ttest-auc:0.92546+0.00532972\n",
      "[695]\ttrain-auc:0.996041+0.000704371\ttest-auc:0.925584+0.00528311\n",
      "[700]\ttrain-auc:0.996182+0.000689612\ttest-auc:0.92574+0.00525177\n",
      "[705]\ttrain-auc:0.996295+0.00067097\ttest-auc:0.925764+0.00526235\n",
      "[710]\ttrain-auc:0.996412+0.00065298\ttest-auc:0.925839+0.00529513\n",
      "[715]\ttrain-auc:0.99652+0.000651937\ttest-auc:0.925911+0.00528162\n",
      "[720]\ttrain-auc:0.996634+0.000627158\ttest-auc:0.926048+0.00519331\n",
      "[725]\ttrain-auc:0.996743+0.000607833\ttest-auc:0.926226+0.00513319\n",
      "[730]\ttrain-auc:0.996844+0.000592587\ttest-auc:0.926312+0.00513571\n",
      "[735]\ttrain-auc:0.996944+0.0005714\ttest-auc:0.926447+0.00513262\n",
      "[740]\ttrain-auc:0.99704+0.000556856\ttest-auc:0.926565+0.00522485\n",
      "[745]\ttrain-auc:0.997146+0.000539555\ttest-auc:0.926664+0.00516723\n",
      "[750]\ttrain-auc:0.997245+0.000522022\ttest-auc:0.926777+0.00521747\n",
      "[755]\ttrain-auc:0.997347+0.00050342\ttest-auc:0.926923+0.00523883\n",
      "[760]\ttrain-auc:0.997435+0.000492741\ttest-auc:0.926986+0.00529037\n",
      "[765]\ttrain-auc:0.997511+0.000478328\ttest-auc:0.927038+0.00531972\n",
      "[770]\ttrain-auc:0.997589+0.000467972\ttest-auc:0.92718+0.00531933\n",
      "[775]\ttrain-auc:0.997671+0.000449499\ttest-auc:0.927287+0.0053277\n",
      "[780]\ttrain-auc:0.997744+0.000435289\ttest-auc:0.927439+0.00530047\n",
      "[785]\ttrain-auc:0.997823+0.000421605\ttest-auc:0.927535+0.00525316\n",
      "[790]\ttrain-auc:0.997903+0.000408715\ttest-auc:0.927623+0.00522814\n",
      "[795]\ttrain-auc:0.997968+0.000395407\ttest-auc:0.927696+0.00522964\n",
      "[800]\ttrain-auc:0.998037+0.000376401\ttest-auc:0.927854+0.00523829\n",
      "[805]\ttrain-auc:0.998101+0.000367186\ttest-auc:0.927913+0.00528339\n",
      "[810]\ttrain-auc:0.998163+0.000353542\ttest-auc:0.927996+0.00532564\n",
      "[815]\ttrain-auc:0.998225+0.000336359\ttest-auc:0.928039+0.00534978\n",
      "[820]\ttrain-auc:0.998284+0.000323292\ttest-auc:0.928096+0.00536544\n",
      "[825]\ttrain-auc:0.998343+0.000314227\ttest-auc:0.928188+0.0053124\n",
      "[830]\ttrain-auc:0.998398+0.000302508\ttest-auc:0.92827+0.00534727\n",
      "[835]\ttrain-auc:0.998459+0.000296324\ttest-auc:0.928362+0.00537558\n",
      "[840]\ttrain-auc:0.998506+0.0002907\ttest-auc:0.928383+0.00538906\n",
      "[845]\ttrain-auc:0.998555+0.000286863\ttest-auc:0.928436+0.00540944\n",
      "[850]\ttrain-auc:0.998607+0.000280867\ttest-auc:0.928517+0.00537795\n",
      "[855]\ttrain-auc:0.998655+0.00027348\ttest-auc:0.928575+0.00540427\n",
      "[860]\ttrain-auc:0.998705+0.00026791\ttest-auc:0.928615+0.00546306\n",
      "[865]\ttrain-auc:0.998746+0.000254732\ttest-auc:0.928725+0.00545618\n",
      "[870]\ttrain-auc:0.998792+0.000245787\ttest-auc:0.928803+0.0054771\n",
      "[875]\ttrain-auc:0.998833+0.0002431\ttest-auc:0.928941+0.00542605\n",
      "[880]\ttrain-auc:0.998876+0.000232958\ttest-auc:0.928954+0.00541407\n",
      "[885]\ttrain-auc:0.998915+0.000225443\ttest-auc:0.928956+0.00545174\n",
      "[890]\ttrain-auc:0.998952+0.000216376\ttest-auc:0.929053+0.00544301\n",
      "[895]\ttrain-auc:0.998989+0.000207045\ttest-auc:0.929161+0.00538019\n",
      "[900]\ttrain-auc:0.999022+0.000205998\ttest-auc:0.929182+0.00537248\n",
      "[905]\ttrain-auc:0.999059+0.000196895\ttest-auc:0.92921+0.00537018\n",
      "[910]\ttrain-auc:0.999092+0.000192143\ttest-auc:0.929279+0.00544233\n",
      "[915]\ttrain-auc:0.999123+0.000184905\ttest-auc:0.929319+0.00546338\n",
      "[920]\ttrain-auc:0.999152+0.000185514\ttest-auc:0.929352+0.00547769\n",
      "[925]\ttrain-auc:0.999183+0.000182889\ttest-auc:0.92945+0.00551629\n",
      "[930]\ttrain-auc:0.999216+0.000175247\ttest-auc:0.929584+0.00544965\n",
      "[935]\ttrain-auc:0.999244+0.000168088\ttest-auc:0.929643+0.00547771\n",
      "[940]\ttrain-auc:0.99927+0.000164962\ttest-auc:0.929666+0.00545739\n",
      "[945]\ttrain-auc:0.999294+0.00016081\ttest-auc:0.929752+0.00546968\n",
      "[950]\ttrain-auc:0.99932+0.000153912\ttest-auc:0.929825+0.0054993\n",
      "[955]\ttrain-auc:0.999346+0.000148314\ttest-auc:0.929831+0.00548252\n",
      "[960]\ttrain-auc:0.999368+0.000147152\ttest-auc:0.929842+0.00551146\n",
      "[965]\ttrain-auc:0.999391+0.000141273\ttest-auc:0.929899+0.00547212\n",
      "[970]\ttrain-auc:0.999413+0.000138156\ttest-auc:0.929932+0.00548136\n",
      "[975]\ttrain-auc:0.999431+0.000134052\ttest-auc:0.929935+0.00549322\n",
      "[980]\ttrain-auc:0.999451+0.000128453\ttest-auc:0.929975+0.00544625\n",
      "[985]\ttrain-auc:0.999471+0.000125789\ttest-auc:0.929993+0.00546406\n",
      "[990]\ttrain-auc:0.999489+0.000122127\ttest-auc:0.930017+0.0054257\n",
      "[995]\ttrain-auc:0.999508+0.000115546\ttest-auc:0.930071+0.00542118\n",
      "[1000]\ttrain-auc:0.999526+0.000112639\ttest-auc:0.930072+0.00546262\n",
      "[1005]\ttrain-auc:0.999541+0.000111364\ttest-auc:0.930083+0.00540982\n",
      "[1010]\ttrain-auc:0.999557+0.00010838\ttest-auc:0.930127+0.00543214\n",
      "[1015]\ttrain-auc:0.999573+0.000104436\ttest-auc:0.930167+0.00545616\n",
      "[1020]\ttrain-auc:0.999588+0.000100765\ttest-auc:0.930194+0.00541853\n",
      "[1025]\ttrain-auc:0.999605+9.89323e-05\ttest-auc:0.930176+0.00538979\n",
      "[1030]\ttrain-auc:0.999621+9.35252e-05\ttest-auc:0.93018+0.00538839\n",
      "[1035]\ttrain-auc:0.999637+9.17662e-05\ttest-auc:0.930267+0.00535696\n",
      "[1040]\ttrain-auc:0.99965+9.03695e-05\ttest-auc:0.930309+0.00534506\n",
      "[1045]\ttrain-auc:0.999663+8.82913e-05\ttest-auc:0.930326+0.00536609\n",
      "[1050]\ttrain-auc:0.999676+8.26932e-05\ttest-auc:0.930366+0.00532256\n",
      "[1055]\ttrain-auc:0.999688+7.85203e-05\ttest-auc:0.930364+0.00534485\n",
      "[1060]\ttrain-auc:0.9997+7.6547e-05\ttest-auc:0.930424+0.00531715\n",
      "[1065]\ttrain-auc:0.99971+7.42283e-05\ttest-auc:0.930467+0.00531507\n",
      "[1070]\ttrain-auc:0.999723+7.18571e-05\ttest-auc:0.930474+0.00532097\n",
      "[1075]\ttrain-auc:0.999734+6.92358e-05\ttest-auc:0.930538+0.00535287\n",
      "[1080]\ttrain-auc:0.999746+6.69286e-05\ttest-auc:0.930595+0.00536966\n",
      "[1085]\ttrain-auc:0.999756+6.38768e-05\ttest-auc:0.930576+0.00536808\n",
      "[1090]\ttrain-auc:0.999766+6.31804e-05\ttest-auc:0.930594+0.0053537\n",
      "[1095]\ttrain-auc:0.999774+6.2959e-05\ttest-auc:0.930597+0.00537227\n",
      "[1100]\ttrain-auc:0.999783+5.98278e-05\ttest-auc:0.930625+0.00539111\n",
      "[1105]\ttrain-auc:0.999792+5.85983e-05\ttest-auc:0.930624+0.00541021\n",
      "[1110]\ttrain-auc:0.999801+5.71839e-05\ttest-auc:0.930664+0.00539925\n",
      "[1115]\ttrain-auc:0.999809+5.62388e-05\ttest-auc:0.93068+0.00541266\n",
      "[1120]\ttrain-auc:0.999817+5.37066e-05\ttest-auc:0.930743+0.00536568\n",
      "[1125]\ttrain-auc:0.999824+5.1686e-05\ttest-auc:0.930767+0.00535587\n",
      "[1130]\ttrain-auc:0.999831+5.0194e-05\ttest-auc:0.930793+0.00533668\n",
      "[1135]\ttrain-auc:0.999838+4.80225e-05\ttest-auc:0.930803+0.00533454\n",
      "[1140]\ttrain-auc:0.999845+4.71279e-05\ttest-auc:0.930836+0.00536092\n",
      "[1145]\ttrain-auc:0.999849+4.61415e-05\ttest-auc:0.930869+0.00532429\n",
      "[1150]\ttrain-auc:0.999855+4.48437e-05\ttest-auc:0.930922+0.00536565\n",
      "[1155]\ttrain-auc:0.999862+4.38835e-05\ttest-auc:0.930939+0.0053793\n",
      "[1160]\ttrain-auc:0.999867+4.22914e-05\ttest-auc:0.930951+0.00533704\n",
      "[1165]\ttrain-auc:0.999873+4.14459e-05\ttest-auc:0.930957+0.00531628\n",
      "[1170]\ttrain-auc:0.999877+4.0035e-05\ttest-auc:0.930986+0.00534761\n",
      "[1175]\ttrain-auc:0.999882+3.79051e-05\ttest-auc:0.931052+0.00532335\n",
      "[1180]\ttrain-auc:0.999887+3.71344e-05\ttest-auc:0.931037+0.00534417\n",
      "[1185]\ttrain-auc:0.999891+3.56124e-05\ttest-auc:0.931022+0.00535753\n",
      "[1190]\ttrain-auc:0.999896+3.43593e-05\ttest-auc:0.931016+0.00538749\n",
      "[1195]\ttrain-auc:0.9999+3.27597e-05\ttest-auc:0.931023+0.00539353\n",
      "[1200]\ttrain-auc:0.999902+3.34664e-05\ttest-auc:0.931026+0.00540547\n",
      "[1205]\ttrain-auc:0.999907+3.1496e-05\ttest-auc:0.930986+0.00538447\n",
      "[1210]\ttrain-auc:0.99991+3.03249e-05\ttest-auc:0.931001+0.00536244\n",
      "[1215]\ttrain-auc:0.999914+2.89786e-05\ttest-auc:0.93102+0.00535842\n",
      "[1220]\ttrain-auc:0.999917+2.751e-05\ttest-auc:0.930992+0.00534688\n",
      "[1225]\ttrain-auc:0.99992+2.76261e-05\ttest-auc:0.93106+0.00535534\n",
      "[1230]\ttrain-auc:0.999923+2.69191e-05\ttest-auc:0.931065+0.00533842\n",
      "[1235]\ttrain-auc:0.999925+2.70525e-05\ttest-auc:0.931085+0.00533147\n",
      "[1240]\ttrain-auc:0.999928+2.63712e-05\ttest-auc:0.931114+0.00530375\n",
      "[1245]\ttrain-auc:0.999931+2.58874e-05\ttest-auc:0.931128+0.00529385\n",
      "[1250]\ttrain-auc:0.999934+2.37874e-05\ttest-auc:0.93112+0.00527872\n",
      "[1255]\ttrain-auc:0.999937+2.30911e-05\ttest-auc:0.931108+0.0052779\n",
      "[1260]\ttrain-auc:0.999939+2.24802e-05\ttest-auc:0.931107+0.00529992\n",
      "[1265]\ttrain-auc:0.999941+2.17954e-05\ttest-auc:0.931113+0.00529162\n",
      "[1270]\ttrain-auc:0.999945+2.15648e-05\ttest-auc:0.931123+0.00533362\n",
      "[1275]\ttrain-auc:0.999947+2.12659e-05\ttest-auc:0.931124+0.00533349\n",
      "[1280]\ttrain-auc:0.999949+2.03313e-05\ttest-auc:0.931135+0.00535501\n",
      "[1285]\ttrain-auc:0.999951+1.9401e-05\ttest-auc:0.931195+0.00536531\n",
      "[1290]\ttrain-auc:0.999953+1.86912e-05\ttest-auc:0.931184+0.00535979\n",
      "[1295]\ttrain-auc:0.999955+1.76567e-05\ttest-auc:0.931209+0.005341\n",
      "[1300]\ttrain-auc:0.999957+1.71231e-05\ttest-auc:0.931207+0.005363\n",
      "[1305]\ttrain-auc:0.999958+1.68095e-05\ttest-auc:0.931228+0.00533355\n",
      "[1310]\ttrain-auc:0.99996+1.59374e-05\ttest-auc:0.931251+0.00531212\n",
      "[1315]\ttrain-auc:0.999963+1.55255e-05\ttest-auc:0.931306+0.00534276\n",
      "[1320]\ttrain-auc:0.999964+1.51921e-05\ttest-auc:0.931321+0.00531559\n",
      "[1325]\ttrain-auc:0.999966+1.51868e-05\ttest-auc:0.931326+0.00530019\n",
      "[1330]\ttrain-auc:0.999967+1.37492e-05\ttest-auc:0.931331+0.00531275\n",
      "[1335]\ttrain-auc:0.999969+1.33417e-05\ttest-auc:0.931301+0.00533127\n",
      "[1340]\ttrain-auc:0.99997+1.26902e-05\ttest-auc:0.931323+0.00531821\n",
      "[1345]\ttrain-auc:0.999972+1.23548e-05\ttest-auc:0.931321+0.00533356\n",
      "[1350]\ttrain-auc:0.999973+1.15655e-05\ttest-auc:0.931324+0.00533853\n",
      "[1355]\ttrain-auc:0.999974+1.11786e-05\ttest-auc:0.931337+0.00532841\n",
      "[1360]\ttrain-auc:0.999975+1.07443e-05\ttest-auc:0.931359+0.00532805\n",
      "[1365]\ttrain-auc:0.999976+1.02489e-05\ttest-auc:0.931329+0.00528843\n",
      "[1370]\ttrain-auc:0.999978+9.66644e-06\ttest-auc:0.931326+0.00528136\n",
      "[1375]\ttrain-auc:0.999979+9.32523e-06\ttest-auc:0.931315+0.00528107\n",
      "[1380]\ttrain-auc:0.99998+9.27362e-06\ttest-auc:0.931353+0.00527773\n",
      "[1385]\ttrain-auc:0.999981+8.61162e-06\ttest-auc:0.931372+0.00525491\n",
      "[1390]\ttrain-auc:0.999982+8.19756e-06\ttest-auc:0.931402+0.00526778\n",
      "[1395]\ttrain-auc:0.999983+8.01499e-06\ttest-auc:0.931443+0.00523364\n",
      "[1400]\ttrain-auc:0.999983+7.62627e-06\ttest-auc:0.931453+0.0052302\n",
      "[1405]\ttrain-auc:0.999984+7.28286e-06\ttest-auc:0.931467+0.00522008\n",
      "[1410]\ttrain-auc:0.999985+6.89928e-06\ttest-auc:0.931463+0.00520945\n",
      "[1415]\ttrain-auc:0.999986+6.76461e-06\ttest-auc:0.931427+0.00521334\n",
      "[1420]\ttrain-auc:0.999986+6.55439e-06\ttest-auc:0.931482+0.00522584\n",
      "[1425]\ttrain-auc:0.999987+6.0663e-06\ttest-auc:0.931486+0.0052094\n",
      "[1430]\ttrain-auc:0.999988+5.88558e-06\ttest-auc:0.931498+0.00523279\n",
      "[1435]\ttrain-auc:0.999988+5.49181e-06\ttest-auc:0.931484+0.00520185\n",
      "[1440]\ttrain-auc:0.999989+5.34416e-06\ttest-auc:0.931495+0.00518691\n",
      "[1445]\ttrain-auc:0.99999+5.31413e-06\ttest-auc:0.93152+0.00518152\n",
      "[1450]\ttrain-auc:0.99999+5.34416e-06\ttest-auc:0.931516+0.00517387\n",
      "[1455]\ttrain-auc:0.99999+4.96387e-06\ttest-auc:0.931521+0.0051956\n",
      "[1460]\ttrain-auc:0.999991+4.53431e-06\ttest-auc:0.931513+0.00522256\n",
      "[1465]\ttrain-auc:0.999991+4.67333e-06\ttest-auc:0.931511+0.00522833\n",
      "[1470]\ttrain-auc:0.999992+4.53431e-06\ttest-auc:0.931509+0.00523225\n",
      "[1475]\ttrain-auc:0.999992+4.35431e-06\ttest-auc:0.931513+0.00522275\n",
      "[1480]\ttrain-auc:0.999992+4.27083e-06\ttest-auc:0.931505+0.00523914\n",
      "[1485]\ttrain-auc:0.999993+3.96989e-06\ttest-auc:0.931502+0.00524993\n",
      "[1490]\ttrain-auc:0.999993+3.63318e-06\ttest-auc:0.931514+0.00527343\n",
      "[1495]\ttrain-auc:0.999994+3.44093e-06\ttest-auc:0.931534+0.00527258\n",
      "[1500]\ttrain-auc:0.999994+3.63318e-06\ttest-auc:0.931543+0.00529382\n",
      "[1505]\ttrain-auc:0.999994+3.2e-06\ttest-auc:0.93158+0.00530081\n",
      "[1510]\ttrain-auc:0.999995+2.60768e-06\ttest-auc:0.931596+0.00531179\n",
      "[1515]\ttrain-auc:0.999995+2.48193e-06\ttest-auc:0.931568+0.00533022\n",
      "[1520]\ttrain-auc:0.999995+2.15407e-06\ttest-auc:0.931579+0.00534939\n",
      "[1525]\ttrain-auc:0.999995+2.15407e-06\ttest-auc:0.93157+0.00533419\n",
      "[1530]\ttrain-auc:0.999996+2.13542e-06\ttest-auc:0.931604+0.00531979\n",
      "[1535]\ttrain-auc:0.999996+1.78885e-06\ttest-auc:0.931617+0.00532677\n",
      "[1540]\ttrain-auc:0.999996+1.72047e-06\ttest-auc:0.931586+0.00535597\n",
      "[1545]\ttrain-auc:0.999996+1.35647e-06\ttest-auc:0.931564+0.00536387\n",
      "[1550]\ttrain-auc:0.999997+1.6e-06\ttest-auc:0.931602+0.00534929\n",
      "[1555]\ttrain-auc:0.999997+1.6e-06\ttest-auc:0.931594+0.00538876\n",
      "[1560]\ttrain-auc:0.999997+1.46969e-06\ttest-auc:0.931609+0.00539228\n",
      "[1565]\ttrain-auc:0.999998+1.0198e-06\ttest-auc:0.931614+0.00539991\n",
      "[1570]\ttrain-auc:0.999998+1.16619e-06\ttest-auc:0.931644+0.00538921\n",
      "[1575]\ttrain-auc:0.999998+1.16619e-06\ttest-auc:0.931617+0.00538516\n",
      "[1580]\ttrain-auc:0.999998+1.16619e-06\ttest-auc:0.931635+0.00535615\n",
      "[1585]\ttrain-auc:0.999998+1.16619e-06\ttest-auc:0.93166+0.00535392\n",
      "[1590]\ttrain-auc:0.999998+8.94427e-07\ttest-auc:0.931659+0.00533081\n",
      "[1595]\ttrain-auc:0.999998+8.94427e-07\ttest-auc:0.931698+0.00532566\n",
      "[1600]\ttrain-auc:0.999998+8.94427e-07\ttest-auc:0.931703+0.00532195\n",
      "[1605]\ttrain-auc:0.999998+9.79796e-07\ttest-auc:0.931703+0.00534307\n",
      "[1610]\ttrain-auc:0.999998+8e-07\ttest-auc:0.931717+0.00534737\n",
      "[1615]\ttrain-auc:0.999999+4.89898e-07\ttest-auc:0.931708+0.00535321\n",
      "[1620]\ttrain-auc:0.999999+4.89898e-07\ttest-auc:0.931696+0.00533392\n",
      "[1625]\ttrain-auc:0.999999+4.89898e-07\ttest-auc:0.931724+0.00535567\n",
      "[1630]\ttrain-auc:0.999999+7.48331e-07\ttest-auc:0.931724+0.00538124\n",
      "[1635]\ttrain-auc:0.999999+7.48331e-07\ttest-auc:0.931699+0.00539418\n",
      "[1640]\ttrain-auc:0.999999+6.32456e-07\ttest-auc:0.931715+0.00540013\n",
      "[1645]\ttrain-auc:0.999999+7.48331e-07\ttest-auc:0.931674+0.00537394\n",
      "[1650]\ttrain-auc:0.999999+7.48331e-07\ttest-auc:0.931668+0.00538539\n",
      "[1655]\ttrain-auc:0.999999+7.48331e-07\ttest-auc:0.931686+0.00537656\n",
      "\n",
      "Model Report\n",
      "n_estimators:  1609\n",
      "Training:\n",
      "Accuracy : 0.9975\n",
      "F1 Score : 0.974359\n",
      "AUC Score (Train): 0.999987\n",
      "Classification Report : \n",
      "             precision    recall  f1-score   support\n",
      "\n",
      "          0       1.00      1.00      1.00     19000\n",
      "          1       1.00      0.95      0.97      1000\n",
      "\n",
      "avg / total       1.00      1.00      1.00     20000\n",
      "\n",
      "\n"
     ]
    },
    {
     "data": {
      "text/plain": [
       "sevice_cost_sum            4845\n",
       "total_trans_rate           2092\n",
       "disease_未知                 1635\n",
       "total_period               1630\n",
       "every_max_period           1602\n",
       "sevice_cost_std            1591\n",
       "sevice_cost_max            1572\n",
       "trans_stat_std             1571\n",
       "every_q3_period            1571\n",
       "every_ave_period           1559\n",
       "trans_stat_sum             1406\n",
       "sevice_cost_mean           1356\n",
       "freq_to_hospital_max       1265\n",
       "num_total_hospitals        1149\n",
       "trans_stat_q3              1126\n",
       "单价_mean                    1125\n",
       "sevice_cost_median         1112\n",
       "三目统计项目_std                 1070\n",
       "trans_stat_max             1060\n",
       "fee_zifei_mean             1055\n",
       "disease_挂号                 1049\n",
       "service_未知                 1003\n",
       "last_time                   998\n",
       "三目统计项目_sum                  997\n",
       "药品费发生金额_max                 984\n",
       "中成药费发生金额_sum                968\n",
       "治疗费发生金额_std                 965\n",
       "trans_stat_mean             963\n",
       "非账户支付金额_max                 961\n",
       "every_period_1              936\n",
       "                           ... \n",
       "disease_冠状动脉粥样硬化性心脏病糖尿病       2\n",
       "freq_hospital_153             2\n",
       "freq_hospital_1468            2\n",
       "freq_trans_hospital_186       2\n",
       "disease_心律失常                  2\n",
       "disease_细菌性支气管肺炎              2\n",
       "disease_慢性动脉闭塞症               2\n",
       "service_多导心电图                 2\n",
       "disease_血糖不稳定                 2\n",
       "医疗救助医院申请_mean                 2\n",
       "disease_高血压Ⅱ                  2\n",
       "disease_肾性高血压伴高血压性心脏病         2\n",
       "freq_trans_hospital_626       1\n",
       "freq_trans_hospital_178       1\n",
       "freq_trans_hospital_65        1\n",
       "freq_trans_hospital_558       1\n",
       "freq_trans_hospital_69        1\n",
       "disease_糖尿病眼底病变               1\n",
       "service_乙肝e抗原（放免试验）           1\n",
       "freq_trans_hospital_7         1\n",
       "disease_周围神经病                 1\n",
       "disease_型糖尿病反复严重低血糖           1\n",
       "freq_hospital_115             1\n",
       "service_达肝素钠注射液               1\n",
       "every_period_41               1\n",
       "disease_高血压Ⅲ期                 1\n",
       "disease_脑梗塞偏瘫                 1\n",
       "disease_糖尿病并肾病变               1\n",
       "disease_肺恶性肿瘤                 1\n",
       "中草药费发生金额_q1                   1\n",
       "dtype: int64"
      ]
     },
     "execution_count": 38,
     "metadata": {},
     "output_type": "execute_result"
    },
    {
     "data": {
      "image/png": "[encoded data removed]",
      "text/plain": [
       "<matplotlib.figure.Figure at 0x26740be0>"
      ]
     },
     "metadata": {},
     "output_type": "display_data"
    }
   ],
   "source": [
    "xgb4 = XGBClassifier(\n",
    " learning_rate =0.005,\n",
    " n_estimators=5000,\n",
    " max_depth=8,\n",
    " min_child_weight=1,\n",
    " gamma=0,\n",
    " subsample=0.9,\n",
    " colsample_bytree=0.9,\n",
    " reg_alpha=0,\n",
    " objective= 'binary:logistic',\n",
    " nthread=4,\n",
    " scale_pos_weight=1,\n",
    " seed=27)\n",
    "modelfit(xgb4, df_train, predictors)"
   ]
  },
  {
   "cell_type": "markdown",
   "metadata": {},
   "source": [
    "# Best Model and Prediction"
   ]
  },
  {
   "cell_type": "markdown",
   "metadata": {},
   "source": [
    "## Training"
   ]
  },
  {
   "cell_type": "code",
   "execution_count": 41,
   "metadata": {
    "collapsed": false
   },
   "outputs": [
    {
     "data": {
      "text/plain": [
       "XGBClassifier(base_score=0.5, colsample_bylevel=1, colsample_bytree=0.9,\n",
       "       gamma=0, learning_rate=0.1, max_delta_step=0, max_depth=5,\n",
       "       min_child_weight=3, missing=None, n_estimators=105, nthread=4,\n",
       "       objective='binary:logistic', reg_alpha=0.01, reg_lambda=1,\n",
       "       scale_pos_weight=3, seed=27, silent=True, subsample=0.8)"
      ]
     },
     "execution_count": 41,
     "metadata": {},
     "output_type": "execute_result"
    }
   ],
   "source": [
    "xgb = XGBClassifier(\n",
    " learning_rate =0.1,\n",
    " n_estimators=105,\n",
    " max_depth=5,\n",
    " min_child_weight=3,\n",
    " gamma=0,\n",
    " subsample=0.8,\n",
    " colsample_bytree=0.9,\n",
    " reg_alpha=0.01,\n",
    " objective= 'binary:logistic',\n",
    " nthread=4,\n",
    " scale_pos_weight=3,\n",
    " seed=27)\n",
    "xgb.fit(df_train[predictors],df_train[target])"
   ]
  },
  {
   "cell_type": "markdown",
   "metadata": {},
   "source": [
    "## Prediction"
   ]
  },
  {
   "cell_type": "code",
   "execution_count": 42,
   "metadata": {
    "collapsed": false
   },
   "outputs": [
    {
     "name": "stdout",
     "output_type": "stream",
     "text": [
      "Accuracy : 0.959\n",
      "F1 Score : 0.496314\n",
      "AUC Score (Test): 0.911749\n",
      "Classification Report : \n",
      "             precision    recall  f1-score   support\n",
      "\n",
      "          0       0.97      0.99      0.98      4750\n",
      "          1       0.64      0.40      0.50       250\n",
      "\n",
      "avg / total       0.95      0.96      0.95      5000\n",
      "\n"
     ]
    },
    {
     "data": {
      "text/plain": [
       "<matplotlib.text.Text at 0xed5fba8>"
      ]
     },
     "execution_count": 42,
     "metadata": {},
     "output_type": "execute_result"
    },
    {
     "data": {
      "image/png": "[encoded data removed]",
      "text/plain": [
       "<matplotlib.figure.Figure at 0xb8eb320>"
      ]
     },
     "metadata": {},
     "output_type": "display_data"
    }
   ],
   "source": [
    "# predict on testing data:\n",
    "df_test_predictions = xgb.predict(df_test[predictors])\n",
    "df_test_predprob = xgb.predict_proba(df_test[predictors])[:,1]\n",
    "\n",
    "print \"Accuracy : %.4g\" % metrics.accuracy_score(df_test[target], df_test_predictions)\n",
    "print \"F1 Score : %f\" % metrics.f1_score(df_test[target],df_test_predictions)\n",
    "print 'AUC Score (Test): %f' % metrics.roc_auc_score(df_test[target], df_test_predprob)\n",
    "print \"Classification Report : \\n\", metrics.classification_report(df_test[target],df_test_predictions)\n",
    "\n",
    "rcParams['figure.figsize'] = 12,4\n",
    "feat_imp = pd.Series(xgb.booster().get_fscore()).sort_values(ascending=False)\n",
    "feat_imp[0:60].plot(kind='bar', title='Feature Importance')\n",
    "plt.ylabel('Feature Importance Score')"
   ]
  },
  {
   "cell_type": "markdown",
   "metadata": {},
   "source": [
    "## Plotting confusion matrix"
   ]
  },
  {
   "cell_type": "code",
   "execution_count": 43,
   "metadata": {
    "collapsed": true
   },
   "outputs": [],
   "source": [
    "import itertools\n",
    "from sklearn.metrics import confusion_matrix\n",
    "import matplotlib.pyplot as plt\n",
    "plt.ion()\n",
    "\n",
    "def plot_confusion_matrix(cm, classes,\n",
    "                          normalize=False,\n",
    "                          title='Confusion matrix',\n",
    "                          cmap=plt.cm.Blues):\n",
    "    \"\"\"\n",
    "    This function prints and plots the confusion matrix.\n",
    "    Normalization can be applied by setting `normalize=True`.\n",
    "    \"\"\"\n",
    "    plt.imshow(cm, interpolation='nearest', cmap=cmap)\n",
    "    plt.title(title)\n",
    "    plt.colorbar()\n",
    "    tick_marks = np.arange(len(classes))\n",
    "    plt.xticks(tick_marks, classes, rotation=0)\n",
    "    plt.yticks(tick_marks, classes)\n",
    "\n",
    "    if normalize:\n",
    "        cm = cm.astype('float') / cm.sum(axis=1)[:, np.newaxis]\n",
    "        #print(\"Normalized confusion matrix\")\n",
    "    else:\n",
    "        1#print('Confusion matrix, without normalization')\n",
    "\n",
    "    #print(cm)\n",
    "\n",
    "    thresh = cm.max() / 2.\n",
    "    for i, j in itertools.product(range(cm.shape[0]), range(cm.shape[1])):\n",
    "        plt.text(j, i, cm[i, j],\n",
    "                 horizontalalignment=\"center\",\n",
    "                 color=\"white\" if cm[i, j] > thresh else \"black\")\n",
    "\n",
    "    plt.tight_layout()\n",
    "    plt.ylabel('True label')\n",
    "    plt.xlabel('Predicted label')"
   ]
  },
  {
   "cell_type": "markdown",
   "metadata": {},
   "source": [
    "### On Test Data Set"
   ]
  },
  {
   "cell_type": "code",
   "execution_count": 44,
   "metadata": {
    "collapsed": false
   },
   "outputs": [
    {
     "name": "stdout",
     "output_type": "stream",
     "text": [
      "F1 score:  0.496314496314\n",
      "Recall metric in testing dataset:  0.404\n"
     ]
    },
    {
     "data": {
      "image/png": "[encoded data removed]",
      "text/plain": [
       "<matplotlib.figure.Figure at 0xeed6be0>"
      ]
     },
     "metadata": {},
     "output_type": "display_data"
    }
   ],
   "source": [
    "#df_test_predictions = xgb.predict(dtest[predictors])\n",
    "#df_test_predprob = xgb.predict_proba(dtest[predictors])[:,1]\n",
    "\n",
    "#y_pred = np.zeros_like(y_pred_proba)\n",
    "#y_pred[y_pred_proba>0.03] = 1  # 大于0.03预测为正例\n",
    "\n",
    "print \"F1 score: \", metrics.f1_score(df_test[target], df_test_predictions)\n",
    "\n",
    "# confusion matrix\n",
    "cnf_matrix = confusion_matrix(df_test[target], df_test_predictions)\n",
    "np.set_printoptions(precision=2)\n",
    "\n",
    "print \"Recall metric in testing dataset: \", float(cnf_matrix[1,1])/(cnf_matrix[1,0]+cnf_matrix[1,1])\n",
    "\n",
    "# plot non_normalized confusion matrix\n",
    "class_names = [0,1]\n",
    "plt.figure()\n",
    "plot_confusion_matrix(cnf_matrix, classes = class_names, title='Confusion matrix - Test Set')\n",
    "plt.show()"
   ]
  },
  {
   "cell_type": "markdown",
   "metadata": {},
   "source": [
    "### On Whole Data Set"
   ]
  },
  {
   "cell_type": "code",
   "execution_count": 45,
   "metadata": {
    "collapsed": false
   },
   "outputs": [
    {
     "name": "stdout",
     "output_type": "stream",
     "text": [
      "F1 score:  0.799570123589\n",
      "Recall metric in testing dataset:  0.744\n"
     ]
    },
    {
     "data": {
      "image/png": "[encoded data removed]",
      "text/plain": [
       "<matplotlib.figure.Figure at 0xbca98d0>"
      ]
     },
     "metadata": {},
     "output_type": "display_data"
    }
   ],
   "source": [
    "df_train_test_predictions = xgb.predict(df_train_test[predictors])\n",
    "df_train_test_predprob = xgb.predict_proba(df_train_test[predictors])[:,1]\n",
    "print \"F1 score: \", metrics.f1_score(df_train_test[target], df_train_test_predictions)\n",
    "\n",
    "# confusion matrix\n",
    "cnf_matrix = confusion_matrix(df_train_test[target], df_train_test_predictions)\n",
    "np.set_printoptions(precision=2)\n",
    "\n",
    "print \"Recall metric in testing dataset: \", float(cnf_matrix[1,1])/(cnf_matrix[1,0]+cnf_matrix[1,1])\n",
    "\n",
    "# plot non_normalized confusion matrix\n",
    "class_names = [0,1]\n",
    "plt.figure()\n",
    "plot_confusion_matrix(cnf_matrix, classes = class_names, title='Confusion matrix - Whole Set')\n",
    "plt.show()"
   ]
  },
  {
   "cell_type": "markdown",
   "metadata": {},
   "source": [
    "## ROC curve"
   ]
  },
  {
   "cell_type": "code",
   "execution_count": 46,
   "metadata": {
    "collapsed": false
   },
   "outputs": [
    {
     "data": {
      "image/png": "[encoded data removed]",
      "text/plain": [
       "<matplotlib.figure.Figure at 0xf830ac8>"
      ]
     },
     "metadata": {},
     "output_type": "display_data"
    }
   ],
   "source": [
    "from sklearn.metrics import roc_curve, auc\n",
    "rcParams['figure.figsize'] = 6.4,4.8\n",
    "#df_test_predictions = xgb.predict(dtest[predictors])\n",
    "#df_test_predprob = xgb.predict_proba(dtest[predictors])[:,1]\n",
    "fpr, tpr, thresholds = roc_curve(df_test[target].values,df_test_predprob)\n",
    "# Plot Precision-Recall curve\n",
    "plt.plot(fpr, tpr, color='r')\n",
    "plt.xlabel('FPR')\n",
    "plt.ylabel('TPR-Recall')\n",
    "plt.ylim([0.0, 1.05])\n",
    "plt.xlim([0.0, 1.0])\n",
    "plt.title('ROC')\n",
    "plt.legend()"
   ]
  },
  {
   "cell_type": "markdown",
   "metadata": {},
   "source": [
    "## Precision-Recall curve"
   ]
  },
  {
   "cell_type": "code",
   "execution_count": 47,
   "metadata": {
    "collapsed": false
   },
   "outputs": [
    {
     "data": {
      "image/png": "[encoded data removed]",
      "text/plain": [
       "<matplotlib.figure.Figure at 0x112253c8>"
      ]
     },
     "metadata": {},
     "output_type": "display_data"
    }
   ],
   "source": [
    "from sklearn.metrics import precision_recall_curve\n",
    "rcParams['figure.figsize'] = 6.4,4.8\n",
    "precision, recall, thresholds = precision_recall_curve(df_test[target].values,df_test_predprob)\n",
    "# Plot Precision-Recall curve\n",
    "plt.plot(recall, precision, color='r')\n",
    "plt.xlabel('Recall')\n",
    "plt.ylabel('Precision')\n",
    "plt.ylim([0.0, 1.05])\n",
    "plt.xlim([0.0, 1.0])\n",
    "plt.title('Precision-Recall example')\n",
    "plt.legend()"
   ]
  },
  {
   "cell_type": "markdown",
   "metadata": {},
   "source": [
    "# Optimization: Changing Threshold"
   ]
  },
  {
   "cell_type": "markdown",
   "metadata": {},
   "source": [
    "## Precision and Recall"
   ]
  },
  {
   "cell_type": "code",
   "execution_count": 48,
   "metadata": {
    "collapsed": false
   },
   "outputs": [
    {
     "name": "stdout",
     "output_type": "stream",
     "text": [
      "Threshold:  0.1 , F1 score: [ 0.1   0.35  0.  ]\n",
      "[ 0.05  0.23  1.  ] [ 1.    0.78  0.  ] [False  True]\n",
      "Threshold:  0.2 , F1 score: [ 0.1   0.45  0.  ]\n",
      "[ 0.05  0.34  1.  ] [ 1.    0.69  0.  ] [False  True]\n",
      "Threshold:  0.3 , F1 score: [ 0.1  0.5  0. ]\n",
      "[ 0.05  0.44  1.  ] [ 1.    0.59  0.  ] [False  True]\n",
      "Threshold:  0.4 , F1 score: [ 0.1   0.52  0.  ]\n",
      "[ 0.05  0.55  1.  ] [ 1.    0.49  0.  ] [False  True]\n",
      "Threshold:  0.5 , F1 score: [ 0.1  0.5  0. ]\n",
      "[ 0.05  0.64  1.  ] [ 1.   0.4  0. ] [False  True]\n",
      "Threshold:  0.6 , F1 score: [ 0.1   0.47  0.  ]\n",
      "[ 0.05  0.72  1.  ] [ 1.    0.34  0.  ] [False  True]\n",
      "Threshold:  0.7 , F1 score: [ 0.1   0.44  0.  ]\n",
      "[ 0.05  0.82  1.  ] [ 1.   0.3  0. ] [False  True]\n",
      "Threshold:  0.8 , F1 score: [ 0.1   0.38  0.  ]\n",
      "[ 0.05  0.87  1.  ] [ 1.    0.24  0.  ] [False  True]\n",
      "Threshold:  0.9 , F1 score: [ 0.1   0.28  0.  ]\n",
      "[ 0.05  0.95  1.  ] [ 1.    0.16  0.  ] [False  True]\n"
     ]
    },
    {
     "data": {
      "image/png": "[encoded data removed]",
      "text/plain": [
       "<matplotlib.figure.Figure at 0xf4ae860>"
      ]
     },
     "metadata": {},
     "output_type": "display_data"
    }
   ],
   "source": [
    "from itertools import cycle\n",
    "from sklearn.metrics import precision_recall_curve\n",
    "\n",
    "#df_test_predictions = xgb.predict(df_test[predictors])\n",
    "df_test_predprob = xgb.predict_proba(df_test[predictors])\n",
    "\n",
    "thresholds = np.arange(1,10)/10.0\n",
    "colors = cycle(['navy', 'turquoise', 'darkorange', 'cornflowerblue', 'teal', 'red', 'yellow', 'green', 'blue','black'])\n",
    "\n",
    "plt.figure(figsize=(5,5))\n",
    "\n",
    "j = 1\n",
    "for i,color in zip(thresholds,colors):\n",
    "    y_test_predictions_prob = df_test_predprob[:,1] > i\n",
    "    \n",
    "    #print \"Threshold: \",i,\", F1 score:\", f1_score(df_test[target],y_test_predictions_prob)\n",
    "    \n",
    "    precision, recall, thresholds = precision_recall_curve(df_test[target],y_test_predictions_prob)\n",
    "    print \"Threshold: \",i,\", F1 score:\", 2*precision*recall/(precision+recall)\n",
    "    print precision, recall, thresholds\n",
    "    \n",
    "    # Plot Precision-Recall curve\n",
    "    plt.plot(recall, precision, color=color,\n",
    "                 label='Threshold: %s'%i)\n",
    "    plt.xlabel('Recall')\n",
    "    plt.ylabel('Precision')\n",
    "    plt.ylim([0.0, 1.05])\n",
    "    plt.xlim([0.0, 1.0])\n",
    "    plt.title('Precision-Recall example')\n",
    "    plt.legend()"
   ]
  },
  {
   "cell_type": "markdown",
   "metadata": {},
   "source": [
    "## Confusion Matrix"
   ]
  },
  {
   "cell_type": "code",
   "execution_count": 50,
   "metadata": {
    "collapsed": false
   },
   "outputs": [
    {
     "name": "stdout",
     "output_type": "stream",
     "text": [
      "Threhold >= 0.1,  F1 score:  0.351351351351\n",
      "Threhold >= 0.2,  F1 score:  0.451697127937\n",
      "Threhold >= 0.3,  F1 score:  0.503401360544\n",
      "Threhold >= 0.4,  F1 score:  0.51804670913\n",
      "Threhold >= 0.5,  F1 score:  0.496314496314\n",
      "Threhold >= 0.6,  F1 score:  0.466124661247\n",
      "Threhold >= 0.7,  F1 score:  0.435294117647\n",
      "Threhold >= 0.8,  F1 score:  0.376175548589\n",
      "Threhold >= 0.9,  F1 score:  0.279863481229\n"
     ]
    },
    {
     "data": {
      "image/png": "[encoded data removed]",
      "text/plain": [
       "<matplotlib.figure.Figure at 0x1110af98>"
      ]
     },
     "metadata": {},
     "output_type": "display_data"
    }
   ],
   "source": [
    "thresholds = np.arange(1,10)/10.0\n",
    "plt.figure(figsize=(12,12))\n",
    "j  = 1\n",
    "for i in thresholds:\n",
    "    y_test_predictions_high_recall = df_test_predprob[:,1] > i\n",
    "    plt.subplot(3,3,j)\n",
    "    j += 1\n",
    "    \n",
    "    # compute confusion matrix\n",
    "    cnf_matrix = confusion_matrix(df_test[target], y_test_predictions_high_recall)\n",
    "    #print \"Recall metric in the testing dataset: \", float(cnf_matrix[1,1])/(cnf_matrix[0,1]+cnf_matrix[1,1])\n",
    "    print \"Threhold >= %s, \"%i,\"F1 score: \", metrics.f1_score(df_test[target], y_test_predictions_high_recall)\n",
    "    \n",
    "    # plot non-normalized confusion matrix\n",
    "    class_names = [0,1]\n",
    "    plot_confusion_matrix(cnf_matrix,classes=class_names,title='Threhold >= %s'%i)"
   ]
  },
  {
   "cell_type": "markdown",
   "metadata": {},
   "source": [
    "## Threshold CV for F1 Score"
   ]
  },
  {
   "cell_type": "code",
   "execution_count": 32,
   "metadata": {
    "collapsed": true
   },
   "outputs": [],
   "source": [
    "from sklearn.model_selection import KFold\n",
    "from sklearn.model_selection import StratifiedKFold\n",
    "\n",
    "def threshold_search(estimator,thresholds,train,kf=3,random_state=27,stratify=False):\n",
    "    cv_result = [] \n",
    "    \n",
    "    if stratify:\n",
    "        kf = StratifiedKFold(n_splits=kf,random_state=random_state)\n",
    "    else:\n",
    "        kf = KFold(n_splits=kf,random_state=random_state)\n",
    "        \n",
    "    for threshold in thresholds:\n",
    "        score = []\n",
    "        for idx_train,idx_test in kf.split(train[predictors].values,train[target].values):  # 划分k折\n",
    "            estimator.fit(train[predictors].values[idx_train,:],train[target].values[idx_train])  # 这里predictors,target，作为全局参数\n",
    "            #pred = estimator.predict(train[predictors].values[idx_test,:])\n",
    "            predprob = estimator.predict_proba(train[predictors].values[idx_test,:])\n",
    "            pred = predprob[:,1] >= threshold\n",
    "            score.append(metrics.f1_score(train[target].values[idx_test],pred))  # f1 score\n",
    "        cv_result.append([np.array(score).mean(),np.array(score).std(),threshold])\n",
    "    return sorted(cv_result,reverse=True)"
   ]
  },
  {
   "cell_type": "code",
   "execution_count": 39,
   "metadata": {
    "collapsed": false
   },
   "outputs": [
    {
     "name": "stdout",
     "output_type": "stream",
     "text": [
      "Total Time Cost:  46.9484000007 min\n"
     ]
    }
   ],
   "source": [
    "import time\n",
    "time_start = time.time()\n",
    "\n",
    "thresholds = [0.185,0.195]\n",
    "\n",
    "xgb = XGBClassifier(\n",
    "                    learning_rate = 0.01,\n",
    "                    n_estimators=808,\n",
    "                    max_depth=7,\n",
    "                    min_child_weight=5,\n",
    "                    gamma=0,\n",
    "                    subsample=0.9,\n",
    "                    colsample_bytree=0.6,\n",
    "                    objective='binary:logistic',\n",
    "                    nthread=4,\n",
    "                    scale_pos_weight=1,\n",
    "                    seed=27)\n",
    "\n",
    "cv_result = threshold_search(xgb,thresholds,df_train,kf=5,random_state=27,stratify=False)\n",
    "\n",
    "time_end = time.time()\n",
    "print \"Total Time Cost: \",(time_end-time_start)/60.,\"min\""
   ]
  },
  {
   "cell_type": "code",
   "execution_count": 40,
   "metadata": {
    "collapsed": false
   },
   "outputs": [
    {
     "data": {
      "text/plain": [
       "[[0.51469197984876769, 0.041955081181970028, 0.195],\n",
       " [0.51387197911455995, 0.041006637037998735, 0.185]]"
      ]
     },
     "execution_count": 40,
     "metadata": {},
     "output_type": "execute_result"
    }
   ],
   "source": [
    "cv_result"
   ]
  },
  {
   "cell_type": "code",
   "execution_count": null,
   "metadata": {
    "collapsed": true
   },
   "outputs": [],
   "source": [
    "pd.Series(data=cv_result).to_csv('cv_result.csv')"
   ]
  },
  {
   "cell_type": "code",
   "execution_count": 18,
   "metadata": {
    "collapsed": false
   },
   "outputs": [
    {
     "data": {
      "text/plain": [
       "[[0.52070152321096186, 0.024580004554988353, 0.2575],\n",
       " [0.52011451776972473, 0.024724578029620536, 0.257],\n",
       " [0.51901681433850688, 0.022819412917960084, 0.2585],\n",
       " [0.51824922160835285, 0.022207359437558302, 0.259]]"
      ]
     },
     "execution_count": 18,
     "metadata": {},
     "output_type": "execute_result"
    }
   ],
   "source": [
    "best_threshold = cv_result[0][-1]\n",
    "cv_result\n",
    "#[[0.51469197984876769, 0.041955081181970028, 0.195],\n",
    "# [0.51387197911455995, 0.041006637037998735, 0.185]]\n",
    "# [[0.51282122256623008, 0.04253604320853354, 0.19],\n",
    "\n",
    "#[[0.51100785118023562, 0.03956439980074071, 0.18],\n",
    "# [[0.51029316021841564, 0.040911797101724552, 0.2]]\n",
    "\n",
    "# [0.506999321818836, 0.03740144335661414, 0.16],\n",
    "# [0.50466939194628135, 0.040091638675851554, 0.15]]\n",
    "# [0.50807725941980009, 0.045348264214059901, 0.25],\n",
    "# [0.50483218839936383, 0.038219754686515207, 0.23]]\n",
    "\n",
    "\n"
   ]
  },
  {
   "cell_type": "code",
   "execution_count": 29,
   "metadata": {
    "collapsed": false
   },
   "outputs": [
    {
     "data": {
      "text/plain": [
       "XGBClassifier(base_score=0.5, colsample_bylevel=1, colsample_bytree=0.9,\n",
       "       gamma=0, learning_rate=0.01, max_delta_step=0, max_depth=9,\n",
       "       min_child_weight=3, missing=None, n_estimators=706, nthread=4,\n",
       "       objective='binary:logistic', reg_alpha=0, reg_lambda=1,\n",
       "       scale_pos_weight=3, seed=27, silent=True, subsample=0.8)"
      ]
     },
     "execution_count": 29,
     "metadata": {},
     "output_type": "execute_result"
    }
   ],
   "source": [
    "xgb = XGBClassifier(\n",
    " learning_rate =0.01,\n",
    " n_estimators=706,\n",
    " max_depth=9,\n",
    " min_child_weight=3,\n",
    " gamma=0,\n",
    " subsample=0.8,\n",
    " colsample_bytree=0.9,\n",
    " reg_alpha=0,\n",
    " objective= 'binary:logistic',\n",
    " nthread=4,\n",
    " scale_pos_weight=3,\n",
    " seed=27)\n",
    "xgb.fit(df_train[predictors],df_train[target])"
   ]
  },
  {
   "cell_type": "code",
   "execution_count": 64,
   "metadata": {
    "collapsed": false
   },
   "outputs": [
    {
     "name": "stdout",
     "output_type": "stream",
     "text": [
      "Accuracy : 0.9492\n",
      "F1 Score : 0.515267\n",
      "AUC Score (Test): 0.911749\n",
      "Classification Report : \n",
      "             precision    recall  f1-score   support\n",
      "\n",
      "          0       0.98      0.97      0.97      4750\n",
      "          1       0.49      0.54      0.52       250\n",
      "\n",
      "avg / total       0.95      0.95      0.95      5000\n",
      "\n"
     ]
    }
   ],
   "source": [
    "# predict on testing data:\n",
    "#df_test_predictions = xgb.predict(df_test[predictors])\n",
    "df_test_predprob = xgb.predict_proba(df_test[predictors])[:,1]\n",
    "df_test_predictions = df_test_predprob>= best_threshold\n",
    "\n",
    "print \"Accuracy : %.4g\" % metrics.accuracy_score(df_test[target], df_test_predictions)\n",
    "print \"F1 Score : %f\" % metrics.f1_score(df_test[target],df_test_predictions)\n",
    "print 'AUC Score (Test): %f' % metrics.roc_auc_score(df_test[target], df_test_predprob)\n",
    "print \"Classification Report : \\n\", metrics.classification_report(df_test[target],df_test_predictions)"
   ]
  },
  {
   "cell_type": "markdown",
   "metadata": {},
   "source": [
    "# Final Prediction"
   ]
  },
  {
   "cell_type": "markdown",
   "metadata": {},
   "source": [
    "**模型1** 评测f1_score: 0.543  未清洗的特征数据  \n",
    "```python\n",
    "xgb = XGBClassifier(\n",
    " learning_rate =0.01,\n",
    " n_estimators=706,\n",
    " max_depth=9,\n",
    " min_child_weight=3,\n",
    " gamma=0,\n",
    " subsample=0.8,\n",
    " colsample_bytree=0.9,\n",
    " reg_alpha=0,\n",
    " objective= 'binary:logistic',\n",
    " nthread=4,\n",
    " scale_pos_weight=3,\n",
    " seed=27)\n",
    " threshold = 0.32\n",
    " ```\n",
    " **模型2** 评测f1_score：0.546296  清洗的特征数据+fee新特征  \n",
    " ```python\n",
    " xgb = XGBClassifier(\n",
    " learning_rate =0.01,\n",
    " n_estimators=627,\n",
    " max_depth=8,\n",
    " min_child_weight=4,\n",
    " gamma=0,\n",
    " subsample=0.9,\n",
    " colsample_bytree=0.8,\n",
    " reg_alpha=0,\n",
    " objective= 'binary:logistic',\n",
    " nthread=4,\n",
    " scale_pos_weight=1,\n",
    " seed=27)\n",
    " threshold = 0.2\n",
    " ```\n",
    "  **模型3** 评测f1_score：0.563  清洗的特征数据+fee新特征  \n",
    " ```python\n",
    " xgb = XGBClassifier(\n",
    " learning_rate =0.005,\n",
    " n_estimators=1417,\n",
    " max_depth=8,\n",
    " min_child_weight=4,\n",
    " gamma=0,\n",
    " subsample=0.9,\n",
    " colsample_bytree=0.8,\n",
    " reg_alpha=0,\n",
    " objective= 'binary:logistic',\n",
    " nthread=4,\n",
    " scale_pos_weight=1,\n",
    " seed=27)\n",
    " threshold = 0.21\n",
    " ```\n",
    " **模型4** 评测f1_score：0.5625 清洗的特征数据\n",
    " ```python\n",
    " xgb = XGBClassifier(\n",
    "learning_rate =0.005,\n",
    " n_estimators=1481,\n",
    " max_depth=8,\n",
    " min_child_weight=1,\n",
    " gamma=0,\n",
    " subsample=0.8,\n",
    " colsample_bytree=0.8,\n",
    " reg_alpha=0,\n",
    " objective= 'binary:logistic',\n",
    " nthread=4,\n",
    " scale_pos_weight=1,\n",
    " seed=27)\n",
    "threshold = 0.155 # 猜测最优 应该是0.16\n",
    "```\n",
    "\n",
    "**模型5** 评测f1_score: 0.5777 xgboost特征选择  \n",
    "```python\n",
    "xgb = XGBClassifier(\n",
    "learning_rate =0.01,\n",
    " n_estimators=769,\n",
    " max_depth=8,\n",
    " min_child_weight=1,\n",
    " gamma=0,\n",
    " subsample=0.9,\n",
    " colsample_bytree=0.9,\n",
    " reg_alpha=0,\n",
    " objective= 'binary:logistic',\n",
    " nthread=4,\n",
    " scale_pos_weight=1,\n",
    " seed=27)\n",
    "xgb.fit(df_train[predictors],df_train[target])\n",
    "threshold=0.155\n",
    "```"
   ]
  },
  {
   "cell_type": "code",
   "execution_count": 41,
   "metadata": {
    "collapsed": false
   },
   "outputs": [
    {
     "data": {
      "text/plain": [
       "XGBClassifier(base_score=0.5, colsample_bylevel=1, colsample_bytree=0.6,\n",
       "       gamma=0, learning_rate=0.01, max_delta_step=0, max_depth=7,\n",
       "       min_child_weight=5, missing=None, n_estimators=808, nthread=4,\n",
       "       objective='binary:logistic', reg_alpha=0, reg_lambda=1,\n",
       "       scale_pos_weight=1, seed=27, silent=True, subsample=0.9)"
      ]
     },
     "execution_count": 41,
     "metadata": {},
     "output_type": "execute_result"
    }
   ],
   "source": [
    "xgb = XGBClassifier(\n",
    "                    learning_rate = 0.01,\n",
    "                    n_estimators=808,\n",
    "                    max_depth=7,\n",
    "                    min_child_weight=5,\n",
    "                    gamma=0,\n",
    "                    subsample=0.9,\n",
    "                    colsample_bytree=0.6,\n",
    "                    objective='binary:logistic',\n",
    "                    nthread=4,\n",
    "                    scale_pos_weight=1,\n",
    "                    seed=27)\n",
    "xgb.fit(df_train[predictors],df_train[target])"
   ]
  },
  {
   "cell_type": "code",
   "execution_count": 42,
   "metadata": {
    "collapsed": false
   },
   "outputs": [],
   "source": [
    "# loading testing data set with target\n",
    "df_test = pd.read_csv(\"total_feat_test.csv\",index_col=\"个人编码\")"
   ]
  },
  {
   "cell_type": "code",
   "execution_count": 43,
   "metadata": {
    "collapsed": false
   },
   "outputs": [
    {
     "data": {
      "text/plain": [
       "(4000, 896)"
      ]
     },
     "execution_count": 43,
     "metadata": {},
     "output_type": "execute_result"
    }
   ],
   "source": [
    "df_test[predictors].shape"
   ]
  },
  {
   "cell_type": "code",
   "execution_count": null,
   "metadata": {
    "collapsed": true
   },
   "outputs": [],
   "source": [
    "# 去掉新特征fee_xx\n",
    "#fee_features =['fee_fasheng_sum','fee_fasheng_mean','fee_shenbao_sum','fee_shenbao_mean',\\\n",
    "#               'fee_zifei_sum','fee_zifei_mean','fee_buzhu_sum','fee_buzhu_mean',\\\n",
    "#              'fee_zhifu_sum','fee_zhifu_mean','fee_fasheng_shenbao']\n",
    "#df_test = df_test.drop(fee_features,axis=1)"
   ]
  },
  {
   "cell_type": "code",
   "execution_count": 51,
   "metadata": {
    "collapsed": false
   },
   "outputs": [],
   "source": [
    "df_test_predprob = xgb.predict_proba(df_test[predictors])[:,1]\n",
    "df_test_predictions = df_test_predprob>= 0.19\n"
   ]
  },
  {
   "cell_type": "code",
   "execution_count": 52,
   "metadata": {
    "collapsed": false
   },
   "outputs": [
    {
     "data": {
      "text/plain": [
       "236"
      ]
     },
     "execution_count": 52,
     "metadata": {},
     "output_type": "execute_result"
    }
   ],
   "source": [
    "df_test_predictions.sum()"
   ]
  },
  {
   "cell_type": "code",
   "execution_count": 30,
   "metadata": {
    "collapsed": false
   },
   "outputs": [
    {
     "data": {
      "text/plain": [
       "array([0, 0, 0, ..., 0, 0, 0])"
      ]
     },
     "execution_count": 30,
     "metadata": {},
     "output_type": "execute_result"
    }
   ],
   "source": [
    "df_test_predictions.astype(int)"
   ]
  },
  {
   "cell_type": "code",
   "execution_count": 46,
   "metadata": {
    "collapsed": true
   },
   "outputs": [],
   "source": [
    "df_test[target] = df_test_predictions.astype(int)"
   ]
  },
  {
   "cell_type": "code",
   "execution_count": 47,
   "metadata": {
    "collapsed": false
   },
   "outputs": [
    {
     "data": {
      "text/plain": [
       "229"
      ]
     },
     "execution_count": 47,
     "metadata": {},
     "output_type": "execute_result"
    }
   ],
   "source": [
    "df_test[target].sum()"
   ]
  },
  {
   "cell_type": "code",
   "execution_count": 49,
   "metadata": {
    "collapsed": true
   },
   "outputs": [],
   "source": [
    "df_id_test = pd.read_csv('data/df_id_test.csv',header=None)\n",
    "df_id_test = df_id_test.rename(columns={0:'个人编码'})"
   ]
  },
  {
   "cell_type": "code",
   "execution_count": 50,
   "metadata": {
    "collapsed": false
   },
   "outputs": [],
   "source": [
    "# 保存\n",
    "df_id_test.set_index('个人编码').join(df_test[target]).to_csv('final_4.csv',header=None)"
   ]
  },
  {
   "cell_type": "markdown",
   "metadata": {},
   "source": [
    "# Drop Unimportant Features"
   ]
  },
  {
   "cell_type": "code",
   "execution_count": 38,
   "metadata": {
    "collapsed": false
   },
   "outputs": [
    {
     "data": {
      "text/plain": [
       "18"
      ]
     },
     "execution_count": 38,
     "metadata": {},
     "output_type": "execute_result"
    }
   ],
   "source": [
    "feat_imp['fee_fasheng_shenbao']"
   ]
  },
  {
   "cell_type": "code",
   "execution_count": 15,
   "metadata": {
    "collapsed": false,
    "scrolled": true
   },
   "outputs": [],
   "source": [
    "feat_droped = feat_imp[feat_imp<=2].reset_index()['index'].str.encode('utf-8')"
   ]
  },
  {
   "cell_type": "code",
   "execution_count": 16,
   "metadata": {
    "collapsed": false
   },
   "outputs": [],
   "source": [
    "df_train_test_new = df_train_test.drop(feat_droped,axis=1)"
   ]
  },
  {
   "cell_type": "code",
   "execution_count": 17,
   "metadata": {
    "collapsed": false
   },
   "outputs": [],
   "source": [
    "df_train_test_new.to_csv('df_data_feaure_dropped.csv')"
   ]
  }
 ],
 "metadata": {
  "kernelspec": {
   "display_name": "Python 2",
   "language": "python",
   "name": "python2"
  },
  "language_info": {
   "codemirror_mode": {
    "name": "ipython",
    "version": 2
   },
   "file_extension": ".py",
   "mimetype": "text/x-python",
   "name": "python",
   "nbconvert_exporter": "python",
   "pygments_lexer": "ipython2",
   "version": "2.7.13"
  },
  "toc": {
   "colors": {
    "hover_highlight": "#DAA520",
    "navigate_num": "#000000",
    "navigate_text": "#333333",
    "running_highlight": "#FF0000",
    "selected_highlight": "#FFD700",
    "sidebar_border": "#EEEEEE",
    "wrapper_background": "#FFFFFF"
   },
   "moveMenuLeft": true,
   "nav_menu": {
    "height": "191px",
    "width": "252px"
   },
   "navigate_menu": true,
   "number_sections": true,
   "sideBar": true,
   "threshold": 4,
   "toc_cell": false,
   "toc_position": {
    "height": "406px",
    "left": "0px",
    "right": "1099.46px",
    "top": "106px",
    "width": "139px"
   },
   "toc_section_display": "block",
   "toc_window_display": true,
   "widenNotebook": false
  }
 },
 "nbformat": 4,
 "nbformat_minor": 2
}
