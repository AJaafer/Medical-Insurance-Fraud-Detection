{
 "cells": [
  {
   "cell_type": "markdown",
   "metadata": {},
   "source": [
    "# Models\n",
    "- **（1）scale_pos_weight=1；新的未处理的特征数据（std==0未处理）[完成]**   \n",
    "    - **模型参数1**  - f1_score：0.567442  \n",
    "XGBClassifier(learning_rate =0.1, n_estimators=60, max_depth=7, min_child_weight=1,gamma=0,subsample=0.9, colsample_bytree=0.9, reg_alpha=0, objective= 'binary:logistic', nthread=4, scale_pos_weight=1, seed=27)  \n",
    "threhold = 0.16  \n",
    "\n",
    "    - **模型参数2**  \n",
    "    xgb1a = XGBClassifier(learning_rate =0.01, n_estimators=725, max_depth=7, min_child_weight=1,gamma=0,subsample=0.9, colsample_bytree=0.9, reg_alpha=0, objective= 'binary:logistic', nthread=4, scale_pos_weight=1, seed=27)  \n",
    "threhold = 0.15  \n",
    "\n",
    "- **（2）scale_pos_weight=1；特征数据清洗（std==0删除）[完成]** \n",
    "    - **模型参数1**  - f1_score：0.583756  \n",
    "    XGBClassifier(learning_rate =0.1, n_estimators=97, max_depth=8, min_child_weight=2, gamma=0.1, subsample=0.8, colsample_bytree=0.8, reg_alpha=0, objective= 'binary:logistic', nthread=4, scale_pos_weight=1, seed=27)  \n",
    "threhold = 0.17  \n",
    "\n",
    "    - **模型参数2**   -f1_score：0.584270；  调节threshold能达到0.5892  \n",
    "    xgb2a = XGBClassifier(learning_rate =0.01, n_estimators=872, max_depth=8, min_child_weight=2, gamma=0.1, subsample=0.8, colsample_bytree=0.8, reg_alpha=0, objective= 'binary:logistic', nthread=4, scale_pos_weight=1, seed=27)  \n",
    "threhold = 0.16   \n",
    "\n",
    "    xgb2b = XGBClassifier(learning_rate =0.005, n_estimators=1550, max_depth=8, min_child_weight=2, gamma=0.1, subsample=0.8, colsample_bytree=0.8, reg_alpha=0, objective= 'binary:logistic', nthread=4, scale_pos_weight=1, seed=27) \n",
    "threhold=0.21，f1_score=0.61  \n",
    "\n",
    "    - **（3）scale_pos_weight=1；特征数据清洗（std==0删除）+额外构造的fee特征**   f1_score=0.605  \n",
    "    xgb3 = XGBClassifier( learning_rate =0.1, n_estimators=64, max_depth=6, min_child_weight=2, gamma=0,subsample=0.8, colsample_bytree=0.9, reg_alpha=0.01, objective= 'binary:logistic', nthread=4, scale_pos_weight=1,seed=27)  \n",
    "threhold = 0.28  \n",
    "\n",
    "    xgb3a = XGBClassifier( learning_rate =0.01, n_estimators=832, max_depth=6, min_child_weight=2, gamma=0,subsample=0.8, colsample_bytree=0.9, reg_alpha=0.01, objective= 'binary:logistic', nthread=4, scale_pos_weight=1,seed=27)  \n",
    "threhold = 0.28 \n",
    "\n",
    "    xgb3b = XGBClassifier( learning_rate =0.005, n_estimators=1574, max_depth=6, min_child_weight=2, gamma=0,subsample=0.8, colsample_bytree=0.9, reg_alpha=0.01, objective= 'binary:logistic', nthread=4, scale_pos_weight=1,seed=27)  \n",
    "threshold = 0.198  f1-score:0.604651  \n",
    "\n",
    "    - **（4）scale_pos_weight=1；特征数据清洗（std==0删除）+额外构造的fee特征-最不重要的特征（出现一二次）**  \n",
    "    xgb4 = XGBClassifier( learning_rate =0.1, n_estimators=90, max_depth=8, min_child_weight=3, gamma=0, subsample=0.8, colsample_bytree=0.8, reg_alpha=0, objective= 'binary:logistic', nthread=4, scale_pos_weight=1, seed=27)    \n",
    "    xgb4a = XGBClassifier( learning_rate =0.01, n_estimators=667, max_depth=8, min_child_weight=3, gamma=0, subsample=0.8, colsample_bytree=0.8, reg_alpha=0, objective= 'binary:logistic', nthread=4, scale_pos_weight=1, seed=27)    \n",
    "    xgb4b = XGBClassifier( learning_rate =0.005, n_estimators=1535, max_depth=8, min_child_weight=3, gamma=0, subsample=0.8, colsample_bytree=0.8, reg_alpha=0, objective= 'binary:logistic', nthread=4, scale_pos_weight=1, seed=27)  \n",
    "\n",
    "    - **（5）scale_pos_weight=1；特征数据清洗（std==0删除）+额外构造的fee特征-最不重要的特征（出现一二次+平均出现不足5次）** \n",
    "\n",
    "    **第二大类**  \n",
    "    - **（6）scale_pos_weight=1；特征数据清洗（std==0删除）+额外构造的fee特征 + 稀疏特征 [完成]**  \n",
    "    xgb_5a = XGBClassifier( learning_rate =0.01, n_estimators=719, max_depth=8, min_child_weight=4, gamma=0.1, subsample=0.8, colsample_bytree=0.8, reg_alpha=0, objective= 'binary:logistic', nthread=4, scale_pos_weight=1, seed=27)  \n",
    "    \n",
    "    - **（7）scale_pos_weight=1；特征数据清洗（std==0删除）-额外构造的fee特征 + 稀疏特征 [明天]**   \n",
    "    xx?  \n",
    "    \n",
    "    \n",
    "    **可能最佳模型**  \n",
    "    所有特征数据+清洗，即模型（7）"
   ]
  },
  {
   "cell_type": "code",
   "execution_count": 1,
   "metadata": {
    "collapsed": false
   },
   "outputs": [
    {
     "name": "stderr",
     "output_type": "stream",
     "text": [
      "D:\\Program Files\\Anaconda\\lib\\site-packages\\sklearn\\cross_validation.py:44: DeprecationWarning: This module was deprecated in version 0.18 in favor of the model_selection module into which all the refactored classes and functions are moved. Also note that the interface of the new CV iterators are different from that of this module. This module will be removed in 0.20.\n",
      "  \"This module will be removed in 0.20.\", DeprecationWarning)\n",
      "D:\\Program Files\\Anaconda\\lib\\site-packages\\sklearn\\grid_search.py:43: DeprecationWarning: This module was deprecated in version 0.18 in favor of the model_selection module into which all the refactored classes and functions are moved. This module will be removed in 0.20.\n",
      "  DeprecationWarning)\n"
     ]
    }
   ],
   "source": [
    "# Import libraries:\n",
    "import pandas as pd\n",
    "import numpy as np\n",
    "import xgboost as xgb\n",
    "from xgboost.sklearn import XGBClassifier\n",
    "from sklearn import cross_validation, metrics\n",
    "from sklearn.grid_search import GridSearchCV\n",
    "\n",
    "import matplotlib.pyplot as plt\n",
    "%matplotlib inline\n",
    "from matplotlib.pylab import rcParams\n",
    "rcParams['figure.figsize'] = 12,4\n",
    "\n",
    "# 为显示中文\n",
    "from pylab import *  \n",
    "mpl.rcParams['font.sans-serif'] = ['SimHei']"
   ]
  },
  {
   "cell_type": "markdown",
   "metadata": {},
   "source": [
    "# Models - 1"
   ]
  },
  {
   "cell_type": "code",
   "execution_count": 2,
   "metadata": {
    "collapsed": true
   },
   "outputs": [],
   "source": [
    "df_train_test = pd.read_csv('df_data_train.csv',index_col='个人编码').fillna(0)"
   ]
  },
  {
   "cell_type": "code",
   "execution_count": 3,
   "metadata": {
    "collapsed": true
   },
   "outputs": [],
   "source": [
    "predictors = df_train_test.columns.difference(['target','first_time'])\n",
    "target = 'target'"
   ]
  },
  {
   "cell_type": "code",
   "execution_count": 4,
   "metadata": {
    "collapsed": false
   },
   "outputs": [
    {
     "name": "stdout",
     "output_type": "stream",
     "text": [
      "train:  16000\n",
      "test:  4000\n",
      "ratio 0.2\n"
     ]
    }
   ],
   "source": [
    "from sklearn.model_selection import StratifiedShuffleSplit\n",
    "ss = StratifiedShuffleSplit(n_splits=1,test_size=0.2,random_state=0)\n",
    "idx_train, idx_test = ss.split(df_train_test[predictors],df_train_test[target]).next()\n",
    "print 'train: ',len(idx_train)\n",
    "print 'test: ',len(idx_test)\n",
    "print 'ratio',float(len(idx_test))/(len(idx_train)+len(idx_test))"
   ]
  },
  {
   "cell_type": "code",
   "execution_count": 5,
   "metadata": {
    "collapsed": true
   },
   "outputs": [],
   "source": [
    "df_train = df_train_test.iloc[idx_train,:]\n",
    "df_test = df_train_test.iloc[idx_test,:]"
   ]
  },
  {
   "cell_type": "code",
   "execution_count": 6,
   "metadata": {
    "collapsed": false
   },
   "outputs": [
    {
     "data": {
      "text/plain": [
       "XGBClassifier(base_score=0.5, colsample_bylevel=1, colsample_bytree=0.9,\n",
       "       gamma=0, learning_rate=0.01, max_delta_step=0, max_depth=7,\n",
       "       min_child_weight=1, missing=None, n_estimators=725, nthread=4,\n",
       "       objective='binary:logistic', reg_alpha=0, reg_lambda=1,\n",
       "       scale_pos_weight=1, seed=27, silent=True, subsample=0.9)"
      ]
     },
     "execution_count": 6,
     "metadata": {},
     "output_type": "execute_result"
    }
   ],
   "source": [
    "xgb_1a = XGBClassifier(learning_rate =0.01, n_estimators=725, max_depth=7, min_child_weight=1,\\\n",
    "                      gamma=0,subsample=0.9, colsample_bytree=0.9, reg_alpha=0,\\\n",
    "                      objective= 'binary:logistic', nthread=4, scale_pos_weight=1, seed=27)\n",
    "xgb_1a.fit(df_train[predictors],df_train[target])"
   ]
  },
  {
   "cell_type": "code",
   "execution_count": 7,
   "metadata": {
    "collapsed": true
   },
   "outputs": [],
   "source": [
    "# predict on testing data:\n",
    "df_test_predictions_la = xgb_1a.predict(df_test[predictors])\n",
    "df_test_predprob_1a = xgb_1a.predict_proba(df_test[predictors])[:,1]\n",
    "feat_imp_1a = pd.Series(xgb_1a.booster().get_fscore()).sort_values(ascending=False)"
   ]
  },
  {
   "cell_type": "markdown",
   "metadata": {},
   "source": [
    "# Models - 2"
   ]
  },
  {
   "cell_type": "code",
   "execution_count": 8,
   "metadata": {
    "collapsed": true
   },
   "outputs": [],
   "source": [
    "predictors = df_train_test.columns.difference(['target'])\n",
    "predictors_std = df_train_test[predictors].std()\n",
    "# std 为0的特征（去除）\n",
    "zero_std_predictors = predictors_std[predictors_std == 0].index\n",
    "df_train_test = df_train_test.drop(zero_std_predictors,axis=1)\n",
    "predictors = df_train_test.columns.difference(['target','first_time'])\n",
    "target = 'target'"
   ]
  },
  {
   "cell_type": "code",
   "execution_count": 9,
   "metadata": {
    "collapsed": true
   },
   "outputs": [],
   "source": [
    "df_train = df_train_test.iloc[idx_train,:]\n",
    "df_test = df_train_test.iloc[idx_test,:]"
   ]
  },
  {
   "cell_type": "code",
   "execution_count": 10,
   "metadata": {
    "collapsed": true
   },
   "outputs": [],
   "source": [
    "xgb_2a = XGBClassifier(learning_rate =0.01, n_estimators=872, max_depth=8, min_child_weight=2,\\\n",
    "                      gamma=0.1, subsample=0.8, colsample_bytree=0.8, reg_alpha=0,\\\n",
    "                      objective= 'binary:logistic', nthread=4, scale_pos_weight=1, seed=27)\n",
    "xgb_2a.fit(df_train[predictors],df_train[target])\n",
    "# predict on testing data:\n",
    "df_test_predictions_2a = xgb_2a.predict(df_test[predictors])\n",
    "df_test_predprob_2a = xgb_2a.predict_proba(df_test[predictors])[:,1]\n",
    "feat_imp_2a = pd.Series(xgb_2a.booster().get_fscore()).sort_values(ascending=False)"
   ]
  },
  {
   "cell_type": "code",
   "execution_count": 11,
   "metadata": {
    "collapsed": true
   },
   "outputs": [],
   "source": [
    "xgb_2b = XGBClassifier(learning_rate =0.005, n_estimators=1550, max_depth=8, min_child_weight=2,\\\n",
    "                      gamma=0.1, subsample=0.8, colsample_bytree=0.8, reg_alpha=0,\\\n",
    "                      objective= 'binary:logistic', nthread=4, scale_pos_weight=1, seed=27)\n",
    "xgb_2b.fit(df_train[predictors],df_train[target])\n",
    "# predict on testing data:\n",
    "df_test_predictions_2b = xgb_2b.predict(df_test[predictors])\n",
    "df_test_predprob_2b = xgb_2b.predict_proba(df_test[predictors])[:,1]\n",
    "feat_imp_2b = pd.Series(xgb_2b.booster().get_fscore()).sort_values(ascending=False)"
   ]
  },
  {
   "cell_type": "markdown",
   "metadata": {},
   "source": [
    "# Models - 3"
   ]
  },
  {
   "cell_type": "code",
   "execution_count": 12,
   "metadata": {
    "collapsed": true
   },
   "outputs": [],
   "source": [
    "df_train_test = pd.read_csv('df_data_train_clean.csv',index_col='个人编码').fillna(0)"
   ]
  },
  {
   "cell_type": "code",
   "execution_count": 13,
   "metadata": {
    "collapsed": true
   },
   "outputs": [],
   "source": [
    "predictors = df_train_test.columns.difference(['target','first_time'])\n",
    "target = 'target'"
   ]
  },
  {
   "cell_type": "code",
   "execution_count": 14,
   "metadata": {
    "collapsed": true
   },
   "outputs": [],
   "source": [
    "# spliting was done in when modeling the fisrt xgb_1a\n",
    "df_train = df_train_test.iloc[idx_train,:]\n",
    "df_test = df_train_test.iloc[idx_test,:]"
   ]
  },
  {
   "cell_type": "code",
   "execution_count": 15,
   "metadata": {
    "collapsed": true
   },
   "outputs": [],
   "source": [
    "xgb_3 = XGBClassifier( learning_rate =0.1, n_estimators=64, max_depth=6, min_child_weight=2,\\\n",
    "                     gamma=0,subsample=0.8, colsample_bytree=0.9, reg_alpha=0.01,\\\n",
    "                     objective= 'binary:logistic', nthread=4, scale_pos_weight=1,seed=27)\n",
    "xgb_3.fit(df_train[predictors],df_train[target])\n",
    "# predict on testing data:\n",
    "df_test_predictions_3 = xgb_3.predict(df_test[predictors])\n",
    "df_test_predprob_3 = xgb_3.predict_proba(df_test[predictors])[:,1]\n",
    "feat_imp_3 = pd.Series(xgb_3.booster().get_fscore()).sort_values(ascending=False)"
   ]
  },
  {
   "cell_type": "code",
   "execution_count": 16,
   "metadata": {
    "collapsed": true
   },
   "outputs": [],
   "source": [
    "xgb_3a = XGBClassifier( learning_rate =0.01, n_estimators=832, max_depth=6, min_child_weight=2,\\\n",
    "                       gamma=0,subsample=0.8, colsample_bytree=0.9, reg_alpha=0.01,\\\n",
    "                       objective= 'binary:logistic', nthread=4, scale_pos_weight=1,seed=27)\n",
    "xgb_3a.fit(df_train[predictors],df_train[target])\n",
    "# predict on testing data:\n",
    "df_test_predictions_3a = xgb_3a.predict(df_test[predictors])\n",
    "df_test_predprob_3a = xgb_3a.predict_proba(df_test[predictors])[:,1]\n",
    "feat_imp_3a = pd.Series(xgb_3a.booster().get_fscore()).sort_values(ascending=False)"
   ]
  },
  {
   "cell_type": "code",
   "execution_count": 17,
   "metadata": {
    "collapsed": true
   },
   "outputs": [],
   "source": [
    "xgb_3b = XGBClassifier( learning_rate =0.005, n_estimators=1574, max_depth=6, min_child_weight=2,\\\n",
    "                       gamma=0,subsample=0.8, colsample_bytree=0.9, reg_alpha=0.01,\\\n",
    "                       objective= 'binary:logistic', nthread=4, scale_pos_weight=1,seed=27)\n",
    "xgb_3b.fit(df_train[predictors],df_train[target])\n",
    "# predict on testing data:\n",
    "df_test_predictions_3b = xgb_3b.predict(df_test[predictors])\n",
    "df_test_predprob_3b = xgb_3b.predict_proba(df_test[predictors])[:,1]\n",
    "feat_imp_3b = pd.Series(xgb_3b.booster().get_fscore()).sort_values(ascending=False)"
   ]
  },
  {
   "cell_type": "code",
   "execution_count": 35,
   "metadata": {
    "collapsed": true
   },
   "outputs": [],
   "source": [
    "from sklearn.ensemble import RandomForestClassifier\n",
    "rf = RandomForestClassifier(bootstrap=True, class_weight=None, criterion='gini',\n",
    "            max_depth=None, max_features='auto', max_leaf_nodes=None,\n",
    "            min_samples_leaf=1, min_samples_split=2,\n",
    "            min_weight_fraction_leaf=0.0, n_estimators=1000, n_jobs=1,\n",
    "            oob_score=False, random_state=None, verbose=0,\n",
    "            warm_start=False)\n",
    "rf.fit(df_train[predictors],df_train[target])\n",
    "# predict on testing data:\n",
    "df_test_predictions_rf = rf.predict(df_test[predictors])\n",
    "df_test_predprob_rf = rf.predict_proba(df_test[predictors])[:,1]\n",
    "feat_imp_rf = pd.Series(rf.feature_importances_,index=predictors).sort_values(ascending=False)"
   ]
  },
  {
   "cell_type": "markdown",
   "metadata": {},
   "source": [
    "# Models - 4"
   ]
  },
  {
   "cell_type": "code",
   "execution_count": 19,
   "metadata": {
    "collapsed": false
   },
   "outputs": [
    {
     "name": "stderr",
     "output_type": "stream",
     "text": [
      "D:\\Program Files\\Anaconda\\lib\\site-packages\\ipykernel\\__main__.py:2: UserWarning: Boolean Series key will be reindexed to match DataFrame index.\n",
      "  from ipykernel import kernelapp as app\n"
     ]
    }
   ],
   "source": [
    "feat_imp = pd.read_csv('feat_imp.csv',index_col=0)\n",
    "feat_clean = feat_imp[(feat_imp.isnull().sum(axis=1).sort_values(ascending=False) >= 2)].index\n",
    "predictors = df_train_test.columns.difference(['target','first_time']).difference(feat_clean)\n",
    "target = 'target'"
   ]
  },
  {
   "cell_type": "code",
   "execution_count": 20,
   "metadata": {
    "collapsed": true
   },
   "outputs": [],
   "source": [
    "# spliting was done in when modeling the fisrt xgb_1a\n",
    "df_train = df_train_test.iloc[idx_train,:]\n",
    "df_test = df_train_test.iloc[idx_test,:]"
   ]
  },
  {
   "cell_type": "code",
   "execution_count": 22,
   "metadata": {
    "collapsed": false
   },
   "outputs": [],
   "source": [
    "xgb_4 = XGBClassifier( learning_rate =0.1, n_estimators=90, max_depth=8, min_child_weight=3, gamma=0,\\\n",
    "                     subsample=0.8, colsample_bytree=0.8, reg_alpha=0, objective= 'binary:logistic',\\\n",
    "                     nthread=4, scale_pos_weight=1, seed=27)\n",
    "xgb_4.fit(df_train[predictors],df_train[target])\n",
    "# predict on testing data:\n",
    "df_test_predictions_4 = xgb_4.predict(df_test[predictors])\n",
    "df_test_predprob_4 = xgb_4.predict_proba(df_test[predictors])[:,1]\n",
    "feat_imp_4 = pd.Series(xgb_4.booster().get_fscore()).sort_values(ascending=False)"
   ]
  },
  {
   "cell_type": "code",
   "execution_count": 24,
   "metadata": {
    "collapsed": false
   },
   "outputs": [],
   "source": [
    "xgb_4a = XGBClassifier( learning_rate =0.01, n_estimators=667, max_depth=8, min_child_weight=3, gamma=0,\\\n",
    "                      subsample=0.8, colsample_bytree=0.8, reg_alpha=0, objective= 'binary:logistic',\\\n",
    "                      nthread=4, scale_pos_weight=1, seed=27)\n",
    "xgb_4a.fit(df_train[predictors],df_train[target])\n",
    "# predict on testing data:\n",
    "df_test_predictions_4a = xgb_4a.predict(df_test[predictors])\n",
    "df_test_predprob_4a = xgb_4a.predict_proba(df_test[predictors])[:,1]\n",
    "feat_imp_4a = pd.Series(xgb_4a.booster().get_fscore()).sort_values(ascending=False)"
   ]
  },
  {
   "cell_type": "code",
   "execution_count": 25,
   "metadata": {
    "collapsed": true
   },
   "outputs": [],
   "source": [
    "xgb_4b = XGBClassifier( learning_rate =0.005, n_estimators=1535, max_depth=8, min_child_weight=3, gamma=0, \\\n",
    "                      subsample=0.8, colsample_bytree=0.8, reg_alpha=0, objective= 'binary:logistic', \\\n",
    "                      nthread=4, scale_pos_weight=1, seed=27)\n",
    "xgb_4b.fit(df_train[predictors],df_train[target])\n",
    "# predict on testing data:\n",
    "df_test_predictions_4b = xgb_4b.predict(df_test[predictors])\n",
    "df_test_predprob_4b = xgb_4b.predict_proba(df_test[predictors])[:,1]\n",
    "feat_imp_4b = pd.Series(xgb_4b.booster().get_fscore()).sort_values(ascending=False)"
   ]
  },
  {
   "cell_type": "markdown",
   "metadata": {},
   "source": [
    "# Models - 5"
   ]
  },
  {
   "cell_type": "code",
   "execution_count": 43,
   "metadata": {
    "collapsed": true
   },
   "outputs": [],
   "source": [
    "df_train_test = pd.read_csv('df_data_train_clean_sparse.csv',index_col='个人编码').fillna(0)"
   ]
  },
  {
   "cell_type": "code",
   "execution_count": 44,
   "metadata": {
    "collapsed": false
   },
   "outputs": [
    {
     "data": {
      "text/plain": [
       "(20000, 798)"
      ]
     },
     "execution_count": 44,
     "metadata": {},
     "output_type": "execute_result"
    }
   ],
   "source": [
    "df_train_test.shape"
   ]
  },
  {
   "cell_type": "code",
   "execution_count": 45,
   "metadata": {
    "collapsed": true
   },
   "outputs": [],
   "source": [
    "predictors = df_train_test.columns.difference(['target'])\n",
    "predictors_std = df_train_test[predictors].std()\n",
    "# std 为0的特征（去除）\n",
    "zero_std_predictors = predictors_std[predictors_std == 0].index\n",
    "df_train_test = df_train_test.drop(zero_std_predictors,axis=1)\n",
    "\n",
    "predictors = df_train_test.columns.difference(['target','first_time'])\n",
    "target = 'target'"
   ]
  },
  {
   "cell_type": "code",
   "execution_count": 47,
   "metadata": {
    "collapsed": true
   },
   "outputs": [],
   "source": [
    "df_train = df_train_test.iloc[idx_train,:]\n",
    "df_test = df_train_test.iloc[idx_test,:]"
   ]
  },
  {
   "cell_type": "code",
   "execution_count": 49,
   "metadata": {
    "collapsed": false
   },
   "outputs": [],
   "source": [
    "xgb_5a = XGBClassifier( learning_rate =0.01, n_estimators=719, max_depth=8, min_child_weight=4,\\\n",
    "                       gamma=0.1, subsample=0.8, colsample_bytree=0.8, reg_alpha=0,\\\n",
    "                       objective= 'binary:logistic', nthread=4, scale_pos_weight=1, seed=27)\n",
    "xgb_5a.fit(df_train[predictors],df_train[target])\n",
    "\n",
    "# predict on testing data:\n",
    "df_test_predictions_5a = xgb_5a.predict(df_test[predictors])\n",
    "df_test_predprob_5a = xgb_5a.predict_proba(df_test[predictors])[:,1]\n",
    "feat_imp_5a = pd.Series(xgb_5a.booster().get_fscore()).sort_values(ascending=False)"
   ]
  },
  {
   "cell_type": "markdown",
   "metadata": {},
   "source": [
    "# ROC curve"
   ]
  },
  {
   "cell_type": "code",
   "execution_count": 50,
   "metadata": {
    "collapsed": false
   },
   "outputs": [
    {
     "data": {
      "text/plain": [
       "<matplotlib.legend.Legend at 0x250587b8>"
      ]
     },
     "execution_count": 50,
     "metadata": {},
     "output_type": "execute_result"
    },
    {
     "data": {
      "image/png": "[encoded data removed]",
      "text/plain": [
       "<matplotlib.figure.Figure at 0x25047f28>"
      ]
     },
     "metadata": {},
     "output_type": "display_data"
    }
   ],
   "source": [
    "from sklearn.metrics import roc_curve, auc\n",
    "rcParams['figure.figsize'] = 12,8\n",
    "\n",
    "df_test_predprob = [df_test_predprob_1a,\n",
    "                    df_test_predprob_2a,df_test_predprob_2b,\n",
    "                    df_test_predprob_3,df_test_predprob_3a,df_test_predprob_3b,\n",
    "                    df_test_predprob_4,df_test_predprob_4a,df_test_predprob_4b,\n",
    "                    df_test_predprob_5a,\n",
    "                    df_test_predprob_rf]\n",
    "model_names = [\"{}_{}\".format('xgb',col) for col in [\"1a\",\"2a\",\"2b\",\"3\",\"3a\",\"3b\",\"4\",\"4a\",\"4b\",\"5a\"]]+[\"rf\"]\n",
    "\n",
    "# Plot Precision-Recall curves\n",
    "for name,predprob in zip(model_names,df_test_predprob)[:]:\n",
    "    fpr, tpr, thresholds = roc_curve(df_test[target].values,predprob)\n",
    "    plt.plot(fpr, tpr, label=name)\n",
    "plt.xlabel('FPR')\n",
    "plt.ylabel('TPR-Recall')\n",
    "plt.ylim([0.0, 1.05])\n",
    "plt.xlim([0.0, 1.0])\n",
    "plt.title('ROC')\n",
    "plt.legend()"
   ]
  },
  {
   "cell_type": "markdown",
   "metadata": {},
   "source": [
    "# Precision-Recall curve"
   ]
  },
  {
   "cell_type": "code",
   "execution_count": 52,
   "metadata": {
    "collapsed": false
   },
   "outputs": [
    {
     "data": {
      "text/plain": [
       "<matplotlib.legend.Legend at 0x3a76ecf8>"
      ]
     },
     "execution_count": 52,
     "metadata": {},
     "output_type": "execute_result"
    },
    {
     "data": {
      "image/png": "[encoded data removed]",
      "text/plain": [
       "<matplotlib.figure.Figure at 0x25058ac8>"
      ]
     },
     "metadata": {},
     "output_type": "display_data"
    }
   ],
   "source": [
    "from sklearn.metrics import precision_recall_curve\n",
    "rcParams['figure.figsize'] = 12,8\n",
    "\n",
    "# Plot Precision-Recall curve\n",
    "for name,predprob in zip(model_names,df_test_predprob)[2:3]:\n",
    "    precision, recall, thresholds = precision_recall_curve(df_test[target].values,predprob)\n",
    "    plt.plot(recall, precision, label=name)\n",
    "for name,predprob in zip(model_names,df_test_predprob)[7:10]:\n",
    "    precision, recall, thresholds = precision_recall_curve(df_test[target].values,predprob)\n",
    "    plt.plot(recall, precision, label=name)\n",
    "plt.grid()\n",
    "plt.xlabel('Recall')\n",
    "plt.ylabel('Precision')\n",
    "plt.ylim([0.0, 1.05])\n",
    "plt.xlim([0.0, 1.0])\n",
    "plt.title('Precision-Recall example')\n",
    "plt.legend()"
   ]
  },
  {
   "cell_type": "markdown",
   "metadata": {},
   "source": [
    "**结论：**  \n",
    "    (1) 特征清洗后，未在原特征上构造共线性特征时要好一些，如2a，2b在pr曲线上的表现！  \n",
    "    (2) 加上稀疏特征（医院特征，交易特征）后，模型性能似乎又有些提升。是否去掉构建的fee_xx特征会更好？"
   ]
  },
  {
   "cell_type": "markdown",
   "metadata": {},
   "source": [
    "# Feature Importance"
   ]
  },
  {
   "cell_type": "code",
   "execution_count": 25,
   "metadata": {
    "collapsed": true
   },
   "outputs": [],
   "source": [
    "feat_imp = pd.concat([feat_imp_1a, feat_imp_2a, feat_imp_2b, feat_imp_3, feat_imp_3a, feat_imp_3b],axis=1)"
   ]
  },
  {
   "cell_type": "code",
   "execution_count": 26,
   "metadata": {
    "collapsed": true
   },
   "outputs": [],
   "source": [
    "feat_imp['total'] = feat_imp.sum(axis=1)"
   ]
  },
  {
   "cell_type": "code",
   "execution_count": 27,
   "metadata": {
    "collapsed": true
   },
   "outputs": [],
   "source": [
    "feat_imp = feat_imp.sort_values(by='total',ascending=False)"
   ]
  },
  {
   "cell_type": "code",
   "execution_count": 37,
   "metadata": {
    "collapsed": true
   },
   "outputs": [],
   "source": [
    "feat_imp.columns = [\"{}_{}\".format(\"model\",str(col)) for col in feat_imp.columns]"
   ]
  },
  {
   "cell_type": "code",
   "execution_count": 43,
   "metadata": {
    "collapsed": false
   },
   "outputs": [],
   "source": [
    "feat_imp.to_csv(\"feat_imp.csv\",encoding='utf-8')"
   ]
  },
  {
   "cell_type": "code",
   "execution_count": 50,
   "metadata": {
    "collapsed": false
   },
   "outputs": [],
   "source": [
    "feat_imp['mean'] = feat_imp[feat_imp.columns.difference(['model_total'])].mean(axis=1)\n",
    "feat_imp['std'] = feat_imp[feat_imp.columns.difference(['model_total'])].std(axis=1)"
   ]
  },
  {
   "cell_type": "code",
   "execution_count": 51,
   "metadata": {
    "collapsed": false
   },
   "outputs": [
    {
     "data": {
      "text/html": [
       "<div>\n",
       "<table border=\"1\" class=\"dataframe\">\n",
       "  <thead>\n",
       "    <tr style=\"text-align: right;\">\n",
       "      <th></th>\n",
       "      <th>model_0</th>\n",
       "      <th>model_1</th>\n",
       "      <th>model_2</th>\n",
       "      <th>model_3</th>\n",
       "      <th>model_4</th>\n",
       "      <th>model_5</th>\n",
       "      <th>model_total</th>\n",
       "      <th>mean</th>\n",
       "      <th>std</th>\n",
       "    </tr>\n",
       "  </thead>\n",
       "  <tbody>\n",
       "    <tr>\n",
       "      <th>其它发生金额_q3</th>\n",
       "      <td>11.0</td>\n",
       "      <td>10.0</td>\n",
       "      <td>18.0</td>\n",
       "      <td>NaN</td>\n",
       "      <td>2.0</td>\n",
       "      <td>14.0</td>\n",
       "      <td>55.0</td>\n",
       "      <td>10.048584</td>\n",
       "      <td>5.305739</td>\n",
       "    </tr>\n",
       "    <tr>\n",
       "      <th>every_period_20</th>\n",
       "      <td>18.0</td>\n",
       "      <td>7.0</td>\n",
       "      <td>19.0</td>\n",
       "      <td>NaN</td>\n",
       "      <td>5.0</td>\n",
       "      <td>4.0</td>\n",
       "      <td>53.0</td>\n",
       "      <td>9.921655</td>\n",
       "      <td>6.535801</td>\n",
       "    </tr>\n",
       "    <tr>\n",
       "      <th>医疗救助医院申请_sum</th>\n",
       "      <td>11.0</td>\n",
       "      <td>11.0</td>\n",
       "      <td>14.0</td>\n",
       "      <td>1.0</td>\n",
       "      <td>6.0</td>\n",
       "      <td>9.0</td>\n",
       "      <td>52.0</td>\n",
       "      <td>8.027134</td>\n",
       "      <td>4.196902</td>\n",
       "    </tr>\n",
       "    <tr>\n",
       "      <th>every_period_28</th>\n",
       "      <td>12.0</td>\n",
       "      <td>9.0</td>\n",
       "      <td>21.0</td>\n",
       "      <td>NaN</td>\n",
       "      <td>3.0</td>\n",
       "      <td>7.0</td>\n",
       "      <td>52.0</td>\n",
       "      <td>9.675516</td>\n",
       "      <td>6.060320</td>\n",
       "    </tr>\n",
       "    <tr>\n",
       "      <th>民政救助补助金额_max</th>\n",
       "      <td>8.0</td>\n",
       "      <td>11.0</td>\n",
       "      <td>19.0</td>\n",
       "      <td>NaN</td>\n",
       "      <td>6.0</td>\n",
       "      <td>7.0</td>\n",
       "      <td>51.0</td>\n",
       "      <td>9.284573</td>\n",
       "      <td>4.722252</td>\n",
       "    </tr>\n",
       "    <tr>\n",
       "      <th>医疗救助个人按比例负担金额_q3</th>\n",
       "      <td>13.0</td>\n",
       "      <td>5.0</td>\n",
       "      <td>15.0</td>\n",
       "      <td>1.0</td>\n",
       "      <td>4.0</td>\n",
       "      <td>10.0</td>\n",
       "      <td>48.0</td>\n",
       "      <td>7.576175</td>\n",
       "      <td>5.035771</td>\n",
       "    </tr>\n",
       "    <tr>\n",
       "      <th>贵重药品发生金额_q2</th>\n",
       "      <td>11.0</td>\n",
       "      <td>9.0</td>\n",
       "      <td>14.0</td>\n",
       "      <td>NaN</td>\n",
       "      <td>5.0</td>\n",
       "      <td>7.0</td>\n",
       "      <td>46.0</td>\n",
       "      <td>8.187350</td>\n",
       "      <td>3.151335</td>\n",
       "    </tr>\n",
       "    <tr>\n",
       "      <th>公务员医疗补助基金支付金额_q2</th>\n",
       "      <td>10.0</td>\n",
       "      <td>7.0</td>\n",
       "      <td>15.0</td>\n",
       "      <td>NaN</td>\n",
       "      <td>3.0</td>\n",
       "      <td>10.0</td>\n",
       "      <td>45.0</td>\n",
       "      <td>8.158281</td>\n",
       "      <td>3.964604</td>\n",
       "    </tr>\n",
       "    <tr>\n",
       "      <th>治疗费申报金额_q1</th>\n",
       "      <td>5.0</td>\n",
       "      <td>10.0</td>\n",
       "      <td>16.0</td>\n",
       "      <td>NaN</td>\n",
       "      <td>3.0</td>\n",
       "      <td>9.0</td>\n",
       "      <td>43.0</td>\n",
       "      <td>7.916481</td>\n",
       "      <td>4.507534</td>\n",
       "    </tr>\n",
       "    <tr>\n",
       "      <th>民政救助补助金额_q3</th>\n",
       "      <td>4.0</td>\n",
       "      <td>12.0</td>\n",
       "      <td>14.0</td>\n",
       "      <td>NaN</td>\n",
       "      <td>5.0</td>\n",
       "      <td>4.0</td>\n",
       "      <td>39.0</td>\n",
       "      <td>7.218022</td>\n",
       "      <td>4.314678</td>\n",
       "    </tr>\n",
       "    <tr>\n",
       "      <th>fee_shenbao_sum</th>\n",
       "      <td>NaN</td>\n",
       "      <td>NaN</td>\n",
       "      <td>NaN</td>\n",
       "      <td>NaN</td>\n",
       "      <td>12.0</td>\n",
       "      <td>27.0</td>\n",
       "      <td>39.0</td>\n",
       "      <td>15.500000</td>\n",
       "      <td>7.847505</td>\n",
       "    </tr>\n",
       "    <tr>\n",
       "      <th>公务员医疗补助基金支付金额_q3</th>\n",
       "      <td>10.0</td>\n",
       "      <td>6.0</td>\n",
       "      <td>8.0</td>\n",
       "      <td>1.0</td>\n",
       "      <td>5.0</td>\n",
       "      <td>7.0</td>\n",
       "      <td>37.0</td>\n",
       "      <td>5.684835</td>\n",
       "      <td>2.799772</td>\n",
       "    </tr>\n",
       "    <tr>\n",
       "      <th>药品费自费金额_q2</th>\n",
       "      <td>9.0</td>\n",
       "      <td>5.0</td>\n",
       "      <td>10.0</td>\n",
       "      <td>NaN</td>\n",
       "      <td>4.0</td>\n",
       "      <td>5.0</td>\n",
       "      <td>33.0</td>\n",
       "      <td>5.902768</td>\n",
       "      <td>2.433315</td>\n",
       "    </tr>\n",
       "    <tr>\n",
       "      <th>fee_zhifu_sum</th>\n",
       "      <td>NaN</td>\n",
       "      <td>NaN</td>\n",
       "      <td>NaN</td>\n",
       "      <td>1.0</td>\n",
       "      <td>11.0</td>\n",
       "      <td>20.0</td>\n",
       "      <td>32.0</td>\n",
       "      <td>9.940074</td>\n",
       "      <td>7.768797</td>\n",
       "    </tr>\n",
       "    <tr>\n",
       "      <th>检查费申报金额_q2</th>\n",
       "      <td>4.0</td>\n",
       "      <td>3.0</td>\n",
       "      <td>15.0</td>\n",
       "      <td>NaN</td>\n",
       "      <td>NaN</td>\n",
       "      <td>5.0</td>\n",
       "      <td>27.0</td>\n",
       "      <td>6.363068</td>\n",
       "      <td>4.818448</td>\n",
       "    </tr>\n",
       "    <tr>\n",
       "      <th>every_period_26</th>\n",
       "      <td>9.0</td>\n",
       "      <td>6.0</td>\n",
       "      <td>11.0</td>\n",
       "      <td>NaN</td>\n",
       "      <td>NaN</td>\n",
       "      <td>NaN</td>\n",
       "      <td>26.0</td>\n",
       "      <td>7.013701</td>\n",
       "      <td>2.214790</td>\n",
       "    </tr>\n",
       "    <tr>\n",
       "      <th>治疗费自费金额_q3</th>\n",
       "      <td>7.0</td>\n",
       "      <td>5.0</td>\n",
       "      <td>6.0</td>\n",
       "      <td>1.0</td>\n",
       "      <td>1.0</td>\n",
       "      <td>3.0</td>\n",
       "      <td>23.0</td>\n",
       "      <td>3.619897</td>\n",
       "      <td>2.340669</td>\n",
       "    </tr>\n",
       "    <tr>\n",
       "      <th>基本医疗保险个人账户支付金额_q1</th>\n",
       "      <td>5.0</td>\n",
       "      <td>2.0</td>\n",
       "      <td>7.0</td>\n",
       "      <td>1.0</td>\n",
       "      <td>2.0</td>\n",
       "      <td>5.0</td>\n",
       "      <td>22.0</td>\n",
       "      <td>3.447768</td>\n",
       "      <td>2.135978</td>\n",
       "    </tr>\n",
       "    <tr>\n",
       "      <th>中成药费发生金额_q1</th>\n",
       "      <td>4.0</td>\n",
       "      <td>4.0</td>\n",
       "      <td>4.0</td>\n",
       "      <td>1.0</td>\n",
       "      <td>3.0</td>\n",
       "      <td>4.0</td>\n",
       "      <td>20.0</td>\n",
       "      <td>3.015077</td>\n",
       "      <td>1.112066</td>\n",
       "    </tr>\n",
       "    <tr>\n",
       "      <th>一次性医用材料申报金额_q1</th>\n",
       "      <td>9.0</td>\n",
       "      <td>NaN</td>\n",
       "      <td>7.0</td>\n",
       "      <td>NaN</td>\n",
       "      <td>3.0</td>\n",
       "      <td>1.0</td>\n",
       "      <td>20.0</td>\n",
       "      <td>4.632456</td>\n",
       "      <td>3.166547</td>\n",
       "    </tr>\n",
       "    <tr>\n",
       "      <th>医疗救助医院申请_std</th>\n",
       "      <td>1.0</td>\n",
       "      <td>6.0</td>\n",
       "      <td>6.0</td>\n",
       "      <td>1.0</td>\n",
       "      <td>1.0</td>\n",
       "      <td>4.0</td>\n",
       "      <td>19.0</td>\n",
       "      <td>3.038130</td>\n",
       "      <td>2.267432</td>\n",
       "    </tr>\n",
       "    <tr>\n",
       "      <th>检查费自费金额_q3</th>\n",
       "      <td>8.0</td>\n",
       "      <td>4.0</td>\n",
       "      <td>6.0</td>\n",
       "      <td>NaN</td>\n",
       "      <td>NaN</td>\n",
       "      <td>1.0</td>\n",
       "      <td>19.0</td>\n",
       "      <td>4.317204</td>\n",
       "      <td>2.593253</td>\n",
       "    </tr>\n",
       "    <tr>\n",
       "      <th>三目统计项目_q1</th>\n",
       "      <td>7.0</td>\n",
       "      <td>2.0</td>\n",
       "      <td>8.0</td>\n",
       "      <td>1.0</td>\n",
       "      <td>1.0</td>\n",
       "      <td>NaN</td>\n",
       "      <td>19.0</td>\n",
       "      <td>3.676569</td>\n",
       "      <td>3.059827</td>\n",
       "    </tr>\n",
       "    <tr>\n",
       "      <th>医用材料发生金额_q1</th>\n",
       "      <td>4.0</td>\n",
       "      <td>3.0</td>\n",
       "      <td>5.0</td>\n",
       "      <td>NaN</td>\n",
       "      <td>3.0</td>\n",
       "      <td>3.0</td>\n",
       "      <td>18.0</td>\n",
       "      <td>3.133333</td>\n",
       "      <td>0.822372</td>\n",
       "    </tr>\n",
       "    <tr>\n",
       "      <th>医疗救助医院申请_mean</th>\n",
       "      <td>2.0</td>\n",
       "      <td>4.0</td>\n",
       "      <td>8.0</td>\n",
       "      <td>NaN</td>\n",
       "      <td>NaN</td>\n",
       "      <td>1.0</td>\n",
       "      <td>15.0</td>\n",
       "      <td>3.536190</td>\n",
       "      <td>2.682656</td>\n",
       "    </tr>\n",
       "    <tr>\n",
       "      <th>医疗救助医院申请_q3</th>\n",
       "      <td>2.0</td>\n",
       "      <td>4.0</td>\n",
       "      <td>7.0</td>\n",
       "      <td>1.0</td>\n",
       "      <td>1.0</td>\n",
       "      <td>NaN</td>\n",
       "      <td>15.0</td>\n",
       "      <td>2.880058</td>\n",
       "      <td>2.280877</td>\n",
       "    </tr>\n",
       "    <tr>\n",
       "      <th>床位费申报金额_q3</th>\n",
       "      <td>1.0</td>\n",
       "      <td>2.0</td>\n",
       "      <td>8.0</td>\n",
       "      <td>NaN</td>\n",
       "      <td>1.0</td>\n",
       "      <td>2.0</td>\n",
       "      <td>14.0</td>\n",
       "      <td>2.773030</td>\n",
       "      <td>2.638204</td>\n",
       "    </tr>\n",
       "    <tr>\n",
       "      <th>床位费申报金额_max</th>\n",
       "      <td>3.0</td>\n",
       "      <td>1.0</td>\n",
       "      <td>7.0</td>\n",
       "      <td>NaN</td>\n",
       "      <td>NaN</td>\n",
       "      <td>2.0</td>\n",
       "      <td>13.0</td>\n",
       "      <td>3.055522</td>\n",
       "      <td>2.279268</td>\n",
       "    </tr>\n",
       "    <tr>\n",
       "      <th>公务员医疗补助基金支付金额_std</th>\n",
       "      <td>2.0</td>\n",
       "      <td>1.0</td>\n",
       "      <td>7.0</td>\n",
       "      <td>NaN</td>\n",
       "      <td>1.0</td>\n",
       "      <td>1.0</td>\n",
       "      <td>12.0</td>\n",
       "      <td>2.388730</td>\n",
       "      <td>2.332385</td>\n",
       "    </tr>\n",
       "    <tr>\n",
       "      <th>公务员医疗补助基金支付金额_mean</th>\n",
       "      <td>3.0</td>\n",
       "      <td>1.0</td>\n",
       "      <td>5.0</td>\n",
       "      <td>NaN</td>\n",
       "      <td>1.0</td>\n",
       "      <td>1.0</td>\n",
       "      <td>11.0</td>\n",
       "      <td>2.100000</td>\n",
       "      <td>1.600521</td>\n",
       "    </tr>\n",
       "    <tr>\n",
       "      <th>fee_buzhu_sum</th>\n",
       "      <td>NaN</td>\n",
       "      <td>NaN</td>\n",
       "      <td>NaN</td>\n",
       "      <td>1.0</td>\n",
       "      <td>2.0</td>\n",
       "      <td>6.0</td>\n",
       "      <td>9.0</td>\n",
       "      <td>2.790062</td>\n",
       "      <td>2.162796</td>\n",
       "    </tr>\n",
       "    <tr>\n",
       "      <th>公务员医疗补助基金支付金额_sum</th>\n",
       "      <td>NaN</td>\n",
       "      <td>1.0</td>\n",
       "      <td>2.0</td>\n",
       "      <td>NaN</td>\n",
       "      <td>3.0</td>\n",
       "      <td>2.0</td>\n",
       "      <td>8.0</td>\n",
       "      <td>1.741421</td>\n",
       "      <td>0.716500</td>\n",
       "    </tr>\n",
       "    <tr>\n",
       "      <th>every_period_23</th>\n",
       "      <td>1.0</td>\n",
       "      <td>1.0</td>\n",
       "      <td>3.0</td>\n",
       "      <td>NaN</td>\n",
       "      <td>NaN</td>\n",
       "      <td>2.0</td>\n",
       "      <td>7.0</td>\n",
       "      <td>1.565831</td>\n",
       "      <td>0.833237</td>\n",
       "    </tr>\n",
       "    <tr>\n",
       "      <th>贵重检查费金额_q3</th>\n",
       "      <td>5.0</td>\n",
       "      <td>NaN</td>\n",
       "      <td>1.0</td>\n",
       "      <td>NaN</td>\n",
       "      <td>NaN</td>\n",
       "      <td>NaN</td>\n",
       "      <td>6.0</td>\n",
       "      <td>2.666667</td>\n",
       "      <td>2.009238</td>\n",
       "    </tr>\n",
       "    <tr>\n",
       "      <th>医疗救助个人按比例负担金额_q2</th>\n",
       "      <td>1.0</td>\n",
       "      <td>NaN</td>\n",
       "      <td>2.0</td>\n",
       "      <td>NaN</td>\n",
       "      <td>NaN</td>\n",
       "      <td>NaN</td>\n",
       "      <td>3.0</td>\n",
       "      <td>1.166667</td>\n",
       "      <td>0.535758</td>\n",
       "    </tr>\n",
       "    <tr>\n",
       "      <th>中草药费发生金额_q1</th>\n",
       "      <td>1.0</td>\n",
       "      <td>1.0</td>\n",
       "      <td>NaN</td>\n",
       "      <td>NaN</td>\n",
       "      <td>NaN</td>\n",
       "      <td>NaN</td>\n",
       "      <td>2.0</td>\n",
       "      <td>0.666667</td>\n",
       "      <td>0.192450</td>\n",
       "    </tr>\n",
       "    <tr>\n",
       "      <th>高价材料发生金额_sum</th>\n",
       "      <td>NaN</td>\n",
       "      <td>1.0</td>\n",
       "      <td>1.0</td>\n",
       "      <td>NaN</td>\n",
       "      <td>NaN</td>\n",
       "      <td>NaN</td>\n",
       "      <td>2.0</td>\n",
       "      <td>0.666667</td>\n",
       "      <td>0.192450</td>\n",
       "    </tr>\n",
       "    <tr>\n",
       "      <th>其它申报金额_mean</th>\n",
       "      <td>1.0</td>\n",
       "      <td>NaN</td>\n",
       "      <td>NaN</td>\n",
       "      <td>NaN</td>\n",
       "      <td>NaN</td>\n",
       "      <td>NaN</td>\n",
       "      <td>1.0</td>\n",
       "      <td>0.500000</td>\n",
       "      <td>0.353553</td>\n",
       "    </tr>\n",
       "    <tr>\n",
       "      <th>医疗救助医院申请_q2</th>\n",
       "      <td>NaN</td>\n",
       "      <td>1.0</td>\n",
       "      <td>NaN</td>\n",
       "      <td>NaN</td>\n",
       "      <td>NaN</td>\n",
       "      <td>NaN</td>\n",
       "      <td>1.0</td>\n",
       "      <td>0.500000</td>\n",
       "      <td>0.353553</td>\n",
       "    </tr>\n",
       "    <tr>\n",
       "      <th>高价材料发生金额_mean</th>\n",
       "      <td>NaN</td>\n",
       "      <td>NaN</td>\n",
       "      <td>NaN</td>\n",
       "      <td>NaN</td>\n",
       "      <td>1.0</td>\n",
       "      <td>NaN</td>\n",
       "      <td>1.0</td>\n",
       "      <td>0.500000</td>\n",
       "      <td>0.353553</td>\n",
       "    </tr>\n",
       "  </tbody>\n",
       "</table>\n",
       "</div>"
      ],
      "text/plain": [
       "                    model_0  model_1  model_2  model_3  model_4  model_5  \\\n",
       "其它发生金额_q3              11.0     10.0     18.0      NaN      2.0     14.0   \n",
       "every_period_20        18.0      7.0     19.0      NaN      5.0      4.0   \n",
       "医疗救助医院申请_sum           11.0     11.0     14.0      1.0      6.0      9.0   \n",
       "every_period_28        12.0      9.0     21.0      NaN      3.0      7.0   \n",
       "民政救助补助金额_max            8.0     11.0     19.0      NaN      6.0      7.0   \n",
       "医疗救助个人按比例负担金额_q3       13.0      5.0     15.0      1.0      4.0     10.0   \n",
       "贵重药品发生金额_q2            11.0      9.0     14.0      NaN      5.0      7.0   \n",
       "公务员医疗补助基金支付金额_q2       10.0      7.0     15.0      NaN      3.0     10.0   \n",
       "治疗费申报金额_q1              5.0     10.0     16.0      NaN      3.0      9.0   \n",
       "民政救助补助金额_q3             4.0     12.0     14.0      NaN      5.0      4.0   \n",
       "fee_shenbao_sum         NaN      NaN      NaN      NaN     12.0     27.0   \n",
       "公务员医疗补助基金支付金额_q3       10.0      6.0      8.0      1.0      5.0      7.0   \n",
       "药品费自费金额_q2              9.0      5.0     10.0      NaN      4.0      5.0   \n",
       "fee_zhifu_sum           NaN      NaN      NaN      1.0     11.0     20.0   \n",
       "检查费申报金额_q2              4.0      3.0     15.0      NaN      NaN      5.0   \n",
       "every_period_26         9.0      6.0     11.0      NaN      NaN      NaN   \n",
       "治疗费自费金额_q3              7.0      5.0      6.0      1.0      1.0      3.0   \n",
       "基本医疗保险个人账户支付金额_q1       5.0      2.0      7.0      1.0      2.0      5.0   \n",
       "中成药费发生金额_q1             4.0      4.0      4.0      1.0      3.0      4.0   \n",
       "一次性医用材料申报金额_q1          9.0      NaN      7.0      NaN      3.0      1.0   \n",
       "医疗救助医院申请_std            1.0      6.0      6.0      1.0      1.0      4.0   \n",
       "检查费自费金额_q3              8.0      4.0      6.0      NaN      NaN      1.0   \n",
       "三目统计项目_q1               7.0      2.0      8.0      1.0      1.0      NaN   \n",
       "医用材料发生金额_q1             4.0      3.0      5.0      NaN      3.0      3.0   \n",
       "医疗救助医院申请_mean           2.0      4.0      8.0      NaN      NaN      1.0   \n",
       "医疗救助医院申请_q3             2.0      4.0      7.0      1.0      1.0      NaN   \n",
       "床位费申报金额_q3              1.0      2.0      8.0      NaN      1.0      2.0   \n",
       "床位费申报金额_max             3.0      1.0      7.0      NaN      NaN      2.0   \n",
       "公务员医疗补助基金支付金额_std       2.0      1.0      7.0      NaN      1.0      1.0   \n",
       "公务员医疗补助基金支付金额_mean      3.0      1.0      5.0      NaN      1.0      1.0   \n",
       "fee_buzhu_sum           NaN      NaN      NaN      1.0      2.0      6.0   \n",
       "公务员医疗补助基金支付金额_sum       NaN      1.0      2.0      NaN      3.0      2.0   \n",
       "every_period_23         1.0      1.0      3.0      NaN      NaN      2.0   \n",
       "贵重检查费金额_q3              5.0      NaN      1.0      NaN      NaN      NaN   \n",
       "医疗救助个人按比例负担金额_q2        1.0      NaN      2.0      NaN      NaN      NaN   \n",
       "中草药费发生金额_q1             1.0      1.0      NaN      NaN      NaN      NaN   \n",
       "高价材料发生金额_sum            NaN      1.0      1.0      NaN      NaN      NaN   \n",
       "其它申报金额_mean             1.0      NaN      NaN      NaN      NaN      NaN   \n",
       "医疗救助医院申请_q2             NaN      1.0      NaN      NaN      NaN      NaN   \n",
       "高价材料发生金额_mean           NaN      NaN      NaN      NaN      1.0      NaN   \n",
       "\n",
       "                    model_total       mean       std  \n",
       "其它发生金额_q3                  55.0  10.048584  5.305739  \n",
       "every_period_20            53.0   9.921655  6.535801  \n",
       "医疗救助医院申请_sum               52.0   8.027134  4.196902  \n",
       "every_period_28            52.0   9.675516  6.060320  \n",
       "民政救助补助金额_max               51.0   9.284573  4.722252  \n",
       "医疗救助个人按比例负担金额_q3           48.0   7.576175  5.035771  \n",
       "贵重药品发生金额_q2                46.0   8.187350  3.151335  \n",
       "公务员医疗补助基金支付金额_q2           45.0   8.158281  3.964604  \n",
       "治疗费申报金额_q1                 43.0   7.916481  4.507534  \n",
       "民政救助补助金额_q3                39.0   7.218022  4.314678  \n",
       "fee_shenbao_sum            39.0  15.500000  7.847505  \n",
       "公务员医疗补助基金支付金额_q3           37.0   5.684835  2.799772  \n",
       "药品费自费金额_q2                 33.0   5.902768  2.433315  \n",
       "fee_zhifu_sum              32.0   9.940074  7.768797  \n",
       "检查费申报金额_q2                 27.0   6.363068  4.818448  \n",
       "every_period_26            26.0   7.013701  2.214790  \n",
       "治疗费自费金额_q3                 23.0   3.619897  2.340669  \n",
       "基本医疗保险个人账户支付金额_q1          22.0   3.447768  2.135978  \n",
       "中成药费发生金额_q1                20.0   3.015077  1.112066  \n",
       "一次性医用材料申报金额_q1             20.0   4.632456  3.166547  \n",
       "医疗救助医院申请_std               19.0   3.038130  2.267432  \n",
       "检查费自费金额_q3                 19.0   4.317204  2.593253  \n",
       "三目统计项目_q1                  19.0   3.676569  3.059827  \n",
       "医用材料发生金额_q1                18.0   3.133333  0.822372  \n",
       "医疗救助医院申请_mean              15.0   3.536190  2.682656  \n",
       "医疗救助医院申请_q3                15.0   2.880058  2.280877  \n",
       "床位费申报金额_q3                 14.0   2.773030  2.638204  \n",
       "床位费申报金额_max                13.0   3.055522  2.279268  \n",
       "公务员医疗补助基金支付金额_std          12.0   2.388730  2.332385  \n",
       "公务员医疗补助基金支付金额_mean         11.0   2.100000  1.600521  \n",
       "fee_buzhu_sum               9.0   2.790062  2.162796  \n",
       "公务员医疗补助基金支付金额_sum           8.0   1.741421  0.716500  \n",
       "every_period_23             7.0   1.565831  0.833237  \n",
       "贵重检查费金额_q3                  6.0   2.666667  2.009238  \n",
       "医疗救助个人按比例负担金额_q2            3.0   1.166667  0.535758  \n",
       "中草药费发生金额_q1                 2.0   0.666667  0.192450  \n",
       "高价材料发生金额_sum                2.0   0.666667  0.192450  \n",
       "其它申报金额_mean                 1.0   0.500000  0.353553  \n",
       "医疗救助医院申请_q2                 1.0   0.500000  0.353553  \n",
       "高价材料发生金额_mean               1.0   0.500000  0.353553  "
      ]
     },
     "execution_count": 51,
     "metadata": {},
     "output_type": "execute_result"
    }
   ],
   "source": [
    "feat_imp[-40:]"
   ]
  },
  {
   "cell_type": "code",
   "execution_count": 44,
   "metadata": {
    "collapsed": false
   },
   "outputs": [
    {
     "name": "stderr",
     "output_type": "stream",
     "text": [
      "D:\\Program Files\\Anaconda\\lib\\site-packages\\ipykernel\\__main__.py:1: UserWarning: Boolean Series key will be reindexed to match DataFrame index.\n",
      "  if __name__ == '__main__':\n"
     ]
    }
   ],
   "source": [
    "feat_clean = feat_imp[feat_imp.isnull().sum(axis=1).sort_values(ascending=False) >= 2].index"
   ]
  },
  {
   "cell_type": "code",
   "execution_count": 35,
   "metadata": {
    "collapsed": false
   },
   "outputs": [
    {
     "name": "stderr",
     "output_type": "stream",
     "text": [
      "D:\\Program Files\\Anaconda\\lib\\site-packages\\ipykernel\\__main__.py:1: UserWarning: Boolean Series key will be reindexed to match DataFrame index.\n",
      "  if __name__ == '__main__':\n"
     ]
    }
   ],
   "source": [
    "feat_clean = feat_imp[feat_imp.isnull().sum(axis=1).sort_values(ascending=False) >= 2].index"
   ]
  },
  {
   "cell_type": "code",
   "execution_count": 45,
   "metadata": {
    "collapsed": false
   },
   "outputs": [
    {
     "data": {
      "text/plain": [
       "Index([u'fee_zifei_mean', u'fee_fasheng_shenbao', u'fee_fasheng_mean',\n",
       "       u'fee_shenbao_mean', u'fee_zhifu_mean', u'fee_buzhu_mean',\n",
       "       u'fee_zifei_sum', u'fee_fasheng_sum', u'fee_shenbao_sum',\n",
       "       u'fee_zhifu_sum', u'检查费申报金额_q2', u'every_period_26', u'一次性医用材料申报金额_q1',\n",
       "       u'检查费自费金额_q3', u'医疗救助医院申请_mean', u'床位费申报金额_max', u'fee_buzhu_sum',\n",
       "       u'公务员医疗补助基金支付金额_sum', u'every_period_23', u'贵重检查费金额_q3',\n",
       "       u'医疗救助个人按比例负担金额_q2', u'中草药费发生金额_q1', u'高价材料发生金额_sum', u'其它申报金额_mean',\n",
       "       u'医疗救助医院申请_q2', u'高价材料发生金额_mean'],\n",
       "      dtype='object')"
      ]
     },
     "execution_count": 45,
     "metadata": {},
     "output_type": "execute_result"
    }
   ],
   "source": [
    "feat_clean"
   ]
  },
  {
   "cell_type": "markdown",
   "metadata": {},
   "source": [
    "# Model persistence"
   ]
  },
  {
   "cell_type": "code",
   "execution_count": null,
   "metadata": {
    "collapsed": true
   },
   "outputs": [],
   "source": [
    "# save model to file\n",
    "pickle.dump(xgb_2a, open(\"xgb_2a.pickle.dat\", \"wb\"))"
   ]
  },
  {
   "cell_type": "code",
   "execution_count": null,
   "metadata": {
    "collapsed": true
   },
   "outputs": [],
   "source": [
    "# load model from file\n",
    "loaded_model = pickle.load(open(\"xgb_2a.pickle.dat\", \"rb\"))"
   ]
  }
 ],
 "metadata": {
  "kernelspec": {
   "display_name": "Python 2",
   "language": "python",
   "name": "python2"
  },
  "language_info": {
   "codemirror_mode": {
    "name": "ipython",
    "version": 2
   },
   "file_extension": ".py",
   "mimetype": "text/x-python",
   "name": "python",
   "nbconvert_exporter": "python",
   "pygments_lexer": "ipython2",
   "version": "2.7.13"
  },
  "toc": {
   "colors": {
    "hover_highlight": "#DAA520",
    "navigate_num": "#000000",
    "navigate_text": "#333333",
    "running_highlight": "#FF0000",
    "selected_highlight": "#FFD700",
    "sidebar_border": "#EEEEEE",
    "wrapper_background": "#FFFFFF"
   },
   "moveMenuLeft": true,
   "nav_menu": {
    "height": "122px",
    "width": "252px"
   },
   "navigate_menu": true,
   "number_sections": true,
   "sideBar": true,
   "threshold": 4,
   "toc_cell": false,
   "toc_position": {
    "height": "406px",
    "left": "0px",
    "right": "921px",
    "top": "106px",
    "width": "126px"
   },
   "toc_section_display": "block",
   "toc_window_display": true,
   "widenNotebook": false
  }
 },
 "nbformat": 4,
 "nbformat_minor": 2
}
